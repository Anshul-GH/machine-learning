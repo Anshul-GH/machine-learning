{
 "cells": [
  {
   "cell_type": "markdown",
   "metadata": {},
   "source": [
    "# NLP Basics: What Is Natural Language Processing & The Natural Language Toolkit?"
   ]
  },
  {
   "cell_type": "markdown",
   "metadata": {},
   "source": [
    "### How To Install NLTK On Your Local Machine\n",
    "\n",
    "Both sets of instructions below assume you already have Python installed. These instructions are taken directly from [http://www.nltk.org/install.html](http://www.nltk.org/install.html).\n",
    "\n",
    "**Mac/Unix**\n",
    "\n",
    "From the terminal:\n",
    "1. Install NLTK: run `pip install -U nltk`\n",
    "2. Test installation: run `python` then type `import nltk`\n",
    "\n",
    "**Windows**\n",
    "\n",
    "1. Install NLTK: [http://pypi.python.org/pypi/nltk](http://pypi.python.org/pypi/nltk)\n",
    "2. Test installation: `Start>Python`, then type `import nltk`"
   ]
  },
  {
   "cell_type": "markdown",
   "metadata": {},
   "source": [
    "### Download NLTK Data"
   ]
  },
  {
   "cell_type": "code",
   "execution_count": 1,
   "metadata": {
    "tags": []
   },
   "outputs": [
    {
     "output_type": "stream",
     "name": "stdout",
     "text": "showing info https://raw.githubusercontent.com/nltk/nltk_data/gh-pages/index.xml\n"
    },
    {
     "output_type": "execute_result",
     "data": {
      "text/plain": "True"
     },
     "metadata": {},
     "execution_count": 1
    }
   ],
   "source": [
    "# Import the package and download the necessary data\n",
    "import nltk\n",
    "nltk.download()"
   ]
  },
  {
   "cell_type": "code",
   "execution_count": 2,
   "metadata": {},
   "outputs": [
    {
     "output_type": "execute_result",
     "data": {
      "text/plain": "[&#39;AbstractLazySequence&#39;,\n &#39;AffixTagger&#39;,\n &#39;AlignedSent&#39;,\n &#39;Alignment&#39;,\n &#39;AnnotationTask&#39;,\n &#39;ApplicationExpression&#39;,\n &#39;Assignment&#39;,\n &#39;BigramAssocMeasures&#39;,\n &#39;BigramCollocationFinder&#39;,\n &#39;BigramTagger&#39;,\n &#39;BinaryMaxentFeatureEncoding&#39;,\n &#39;BlanklineTokenizer&#39;,\n &#39;BllipParser&#39;,\n &#39;BottomUpChartParser&#39;,\n &#39;BottomUpLeftCornerChartParser&#39;,\n &#39;BottomUpProbabilisticChartParser&#39;,\n &#39;Boxer&#39;,\n &#39;BrillTagger&#39;,\n &#39;BrillTaggerTrainer&#39;,\n &#39;CFG&#39;,\n &#39;CRFTagger&#39;,\n &#39;CfgReadingCommand&#39;,\n &#39;ChartParser&#39;,\n &#39;ChunkParserI&#39;,\n &#39;ChunkScore&#39;,\n &#39;Cistem&#39;,\n &#39;ClassifierBasedPOSTagger&#39;,\n &#39;ClassifierBasedTagger&#39;,\n &#39;ClassifierI&#39;,\n &#39;ConcordanceIndex&#39;,\n &#39;ConditionalExponentialClassifier&#39;,\n &#39;ConditionalFreqDist&#39;,\n &#39;ConditionalProbDist&#39;,\n &#39;ConditionalProbDistI&#39;,\n &#39;ConfusionMatrix&#39;,\n &#39;ContextIndex&#39;,\n &#39;ContextTagger&#39;,\n &#39;ContingencyMeasures&#39;,\n &#39;CoreNLPDependencyParser&#39;,\n &#39;CoreNLPParser&#39;,\n &#39;Counter&#39;,\n &#39;CrossValidationProbDist&#39;,\n &#39;DRS&#39;,\n &#39;DecisionTreeClassifier&#39;,\n &#39;DefaultTagger&#39;,\n &#39;DependencyEvaluator&#39;,\n &#39;DependencyGrammar&#39;,\n &#39;DependencyGraph&#39;,\n &#39;DependencyProduction&#39;,\n &#39;DictionaryConditionalProbDist&#39;,\n &#39;DictionaryProbDist&#39;,\n &#39;DiscourseTester&#39;,\n &#39;DrtExpression&#39;,\n &#39;DrtGlueReadingCommand&#39;,\n &#39;ELEProbDist&#39;,\n &#39;EarleyChartParser&#39;,\n &#39;Expression&#39;,\n &#39;FStructure&#39;,\n &#39;FeatDict&#39;,\n &#39;FeatList&#39;,\n &#39;FeatStruct&#39;,\n &#39;FeatStructReader&#39;,\n &#39;Feature&#39;,\n &#39;FeatureBottomUpChartParser&#39;,\n &#39;FeatureBottomUpLeftCornerChartParser&#39;,\n &#39;FeatureChartParser&#39;,\n &#39;FeatureEarleyChartParser&#39;,\n &#39;FeatureIncrementalBottomUpChartParser&#39;,\n &#39;FeatureIncrementalBottomUpLeftCornerChartParser&#39;,\n &#39;FeatureIncrementalChartParser&#39;,\n &#39;FeatureIncrementalTopDownChartParser&#39;,\n &#39;FeatureTopDownChartParser&#39;,\n &#39;FreqDist&#39;,\n &#39;HTTPPasswordMgrWithDefaultRealm&#39;,\n &#39;HeldoutProbDist&#39;,\n &#39;HiddenMarkovModelTagger&#39;,\n &#39;HiddenMarkovModelTrainer&#39;,\n &#39;HunposTagger&#39;,\n &#39;IBMModel&#39;,\n &#39;IBMModel1&#39;,\n &#39;IBMModel2&#39;,\n &#39;IBMModel3&#39;,\n &#39;IBMModel4&#39;,\n &#39;IBMModel5&#39;,\n &#39;ISRIStemmer&#39;,\n &#39;ImmutableMultiParentedTree&#39;,\n &#39;ImmutableParentedTree&#39;,\n &#39;ImmutableProbabilisticMixIn&#39;,\n &#39;ImmutableProbabilisticTree&#39;,\n &#39;ImmutableTree&#39;,\n &#39;IncrementalBottomUpChartParser&#39;,\n &#39;IncrementalBottomUpLeftCornerChartParser&#39;,\n &#39;IncrementalChartParser&#39;,\n &#39;IncrementalLeftCornerChartParser&#39;,\n &#39;IncrementalTopDownChartParser&#39;,\n &#39;Index&#39;,\n &#39;InsideChartParser&#39;,\n &#39;JSONTaggedDecoder&#39;,\n &#39;JSONTaggedEncoder&#39;,\n &#39;KneserNeyProbDist&#39;,\n &#39;LancasterStemmer&#39;,\n &#39;LaplaceProbDist&#39;,\n &#39;LazyConcatenation&#39;,\n &#39;LazyEnumerate&#39;,\n &#39;LazyIteratorList&#39;,\n &#39;LazyMap&#39;,\n &#39;LazySubsequence&#39;,\n &#39;LazyZip&#39;,\n &#39;LeftCornerChartParser&#39;,\n &#39;LidstoneProbDist&#39;,\n &#39;LineTokenizer&#39;,\n &#39;LogicalExpressionException&#39;,\n &#39;LongestChartParser&#39;,\n &#39;MLEProbDist&#39;,\n &#39;MWETokenizer&#39;,\n &#39;Mace&#39;,\n &#39;MaceCommand&#39;,\n &#39;MaltParser&#39;,\n &#39;MaxentClassifier&#39;,\n &#39;Model&#39;,\n &#39;MultiClassifierI&#39;,\n &#39;MultiParentedTree&#39;,\n &#39;MutableProbDist&#39;,\n &#39;NaiveBayesClassifier&#39;,\n &#39;NaiveBayesDependencyScorer&#39;,\n &#39;NgramAssocMeasures&#39;,\n &#39;NgramTagger&#39;,\n &#39;NonprojectiveDependencyParser&#39;,\n &#39;Nonterminal&#39;,\n &#39;OrderedDict&#39;,\n &#39;PCFG&#39;,\n &#39;Paice&#39;,\n &#39;ParallelProverBuilder&#39;,\n &#39;ParallelProverBuilderCommand&#39;,\n &#39;ParentedTree&#39;,\n &#39;ParserI&#39;,\n &#39;PerceptronTagger&#39;,\n &#39;PhraseTable&#39;,\n &#39;PorterStemmer&#39;,\n &#39;PositiveNaiveBayesClassifier&#39;,\n &#39;ProbDistI&#39;,\n &#39;ProbabilisticDependencyGrammar&#39;,\n &#39;ProbabilisticMixIn&#39;,\n &#39;ProbabilisticNonprojectiveParser&#39;,\n &#39;ProbabilisticProduction&#39;,\n &#39;ProbabilisticProjectiveDependencyParser&#39;,\n &#39;ProbabilisticTree&#39;,\n &#39;Production&#39;,\n &#39;ProjectiveDependencyParser&#39;,\n &#39;Prover9&#39;,\n &#39;Prover9Command&#39;,\n &#39;ProxyBasicAuthHandler&#39;,\n &#39;ProxyDigestAuthHandler&#39;,\n &#39;ProxyHandler&#39;,\n &#39;PunktSentenceTokenizer&#39;,\n &#39;QuadgramAssocMeasures&#39;,\n &#39;QuadgramCollocationFinder&#39;,\n &#39;RSLPStemmer&#39;,\n &#39;RTEFeatureExtractor&#39;,\n &#39;RUS_PICKLE&#39;,\n &#39;RandomChartParser&#39;,\n &#39;RangeFeature&#39;,\n &#39;ReadingCommand&#39;,\n &#39;RecursiveDescentParser&#39;,\n &#39;RegexpChunkParser&#39;,\n &#39;RegexpParser&#39;,\n &#39;RegexpStemmer&#39;,\n &#39;RegexpTagger&#39;,\n &#39;RegexpTokenizer&#39;,\n &#39;ReppTokenizer&#39;,\n &#39;ResolutionProver&#39;,\n &#39;ResolutionProverCommand&#39;,\n &#39;SExprTokenizer&#39;,\n &#39;SLASH&#39;,\n &#39;Senna&#39;,\n &#39;SennaChunkTagger&#39;,\n &#39;SennaNERTagger&#39;,\n &#39;SennaTagger&#39;,\n &#39;SequentialBackoffTagger&#39;,\n &#39;ShiftReduceParser&#39;,\n &#39;SimpleGoodTuringProbDist&#39;,\n &#39;SklearnClassifier&#39;,\n &#39;SlashFeature&#39;,\n &#39;SnowballStemmer&#39;,\n &#39;SpaceTokenizer&#39;,\n &#39;StackDecoder&#39;,\n &#39;StanfordNERTagger&#39;,\n &#39;StanfordPOSTagger&#39;,\n &#39;StanfordSegmenter&#39;,\n &#39;StanfordTagger&#39;,\n &#39;StemmerI&#39;,\n &#39;SteppingChartParser&#39;,\n &#39;SteppingRecursiveDescentParser&#39;,\n &#39;SteppingShiftReduceParser&#39;,\n &#39;SyllableTokenizer&#39;,\n &#39;TYPE&#39;,\n &#39;TabTokenizer&#39;,\n &#39;TableauProver&#39;,\n &#39;TableauProverCommand&#39;,\n &#39;TaggerI&#39;,\n &#39;TestGrammar&#39;,\n &#39;Text&#39;,\n &#39;TextCat&#39;,\n &#39;TextCollection&#39;,\n &#39;TextTilingTokenizer&#39;,\n &#39;TnT&#39;,\n &#39;TokenSearcher&#39;,\n &#39;ToktokTokenizer&#39;,\n &#39;TopDownChartParser&#39;,\n &#39;TransitionParser&#39;,\n &#39;Tree&#39;,\n &#39;TreebankWordTokenizer&#39;,\n &#39;Trie&#39;,\n &#39;TrigramAssocMeasures&#39;,\n &#39;TrigramCollocationFinder&#39;,\n &#39;TrigramTagger&#39;,\n &#39;TweetTokenizer&#39;,\n &#39;TypedMaxentFeatureEncoding&#39;,\n &#39;Undefined&#39;,\n &#39;UniformProbDist&#39;,\n &#39;UnigramTagger&#39;,\n &#39;UnsortedChartParser&#39;,\n &#39;Valuation&#39;,\n &#39;Variable&#39;,\n &#39;ViterbiParser&#39;,\n &#39;WekaClassifier&#39;,\n &#39;WhitespaceTokenizer&#39;,\n &#39;WittenBellProbDist&#39;,\n &#39;WordNetLemmatizer&#39;,\n &#39;WordPunctTokenizer&#39;,\n &#39;__author__&#39;,\n &#39;__author_email__&#39;,\n &#39;__builtins__&#39;,\n &#39;__cached__&#39;,\n &#39;__classifiers__&#39;,\n &#39;__copyright__&#39;,\n &#39;__doc__&#39;,\n &#39;__file__&#39;,\n &#39;__keywords__&#39;,\n &#39;__license__&#39;,\n &#39;__loader__&#39;,\n &#39;__longdescr__&#39;,\n &#39;__maintainer__&#39;,\n &#39;__maintainer_email__&#39;,\n &#39;__name__&#39;,\n &#39;__package__&#39;,\n &#39;__path__&#39;,\n &#39;__spec__&#39;,\n &#39;__url__&#39;,\n &#39;__version__&#39;,\n &#39;absolute_import&#39;,\n &#39;accuracy&#39;,\n &#39;add_logs&#39;,\n &#39;agreement&#39;,\n &#39;align&#39;,\n &#39;alignment_error_rate&#39;,\n &#39;aline&#39;,\n &#39;api&#39;,\n &#39;app&#39;,\n &#39;apply_features&#39;,\n &#39;approxrand&#39;,\n &#39;arity&#39;,\n &#39;association&#39;,\n &#39;bigrams&#39;,\n &#39;binary_distance&#39;,\n &#39;binary_search_file&#39;,\n &#39;binding_ops&#39;,\n &#39;bisect&#39;,\n &#39;blankline_tokenize&#39;,\n &#39;bleu&#39;,\n &#39;bleu_score&#39;,\n &#39;bllip&#39;,\n &#39;boolean_ops&#39;,\n &#39;boxer&#39;,\n &#39;bracket_parse&#39;,\n &#39;breadth_first&#39;,\n &#39;brill&#39;,\n &#39;brill_trainer&#39;,\n &#39;build_opener&#39;,\n &#39;call_megam&#39;,\n &#39;casual&#39;,\n &#39;casual_tokenize&#39;,\n &#39;ccg&#39;,\n &#39;chain&#39;,\n &#39;chart&#39;,\n &#39;chat&#39;,\n &#39;choose&#39;,\n &#39;chunk&#39;,\n &#39;cistem&#39;,\n &#39;class_types&#39;,\n &#39;classify&#39;,\n &#39;clause&#39;,\n &#39;clean_html&#39;,\n &#39;clean_url&#39;,\n &#39;cluster&#39;,\n &#39;collections&#39;,\n &#39;collocations&#39;,\n &#39;combinations&#39;,\n &#39;compat&#39;,\n &#39;config_java&#39;,\n &#39;config_megam&#39;,\n &#39;config_weka&#39;,\n &#39;conflicts&#39;,\n &#39;confusionmatrix&#39;,\n &#39;conllstr2tree&#39;,\n &#39;conlltags2tree&#39;,\n &#39;corenlp&#39;,\n &#39;corpus&#39;,\n &#39;crf&#39;,\n &#39;custom_distance&#39;,\n &#39;data&#39;,\n &#39;decisiontree&#39;,\n &#39;decorator&#39;,\n &#39;decorators&#39;,\n &#39;defaultdict&#39;,\n &#39;demo&#39;,\n &#39;dependencygraph&#39;,\n &#39;deque&#39;,\n &#39;discourse&#39;,\n &#39;distance&#39;,\n &#39;download&#39;,\n &#39;download_gui&#39;,\n &#39;download_shell&#39;,\n &#39;downloader&#39;,\n &#39;draw&#39;,\n &#39;drt&#39;,\n &#39;earleychart&#39;,\n &#39;edit_distance&#39;,\n &#39;edit_distance_align&#39;,\n &#39;elementtree_indent&#39;,\n &#39;entropy&#39;,\n &#39;equality_preds&#39;,\n &#39;evaluate&#39;,\n &#39;evaluate_sents&#39;,\n &#39;everygrams&#39;,\n &#39;extract_rels&#39;,\n &#39;extract_test_sentences&#39;,\n &#39;f_measure&#39;,\n &#39;featstruct&#39;,\n &#39;featurechart&#39;,\n &#39;filestring&#39;,\n &#39;find&#39;,\n &#39;flatten&#39;,\n &#39;fractional_presence&#39;,\n &#39;getproxies&#39;,\n &#39;ghd&#39;,\n &#39;glue&#39;,\n &#39;grammar&#39;,\n &#39;guess_encoding&#39;,\n &#39;help&#39;,\n &#39;hmm&#39;,\n &#39;hunpos&#39;,\n &#39;ibm1&#39;,\n &#39;ibm2&#39;,\n &#39;ibm3&#39;,\n &#39;ibm4&#39;,\n &#39;ibm5&#39;,\n &#39;ibm_model&#39;,\n &#39;ieerstr2tree&#39;,\n &#39;improved_close_quote_regex&#39;,\n &#39;improved_open_quote_regex&#39;,\n &#39;improved_open_single_quote_regex&#39;,\n &#39;improved_punct_regex&#39;,\n &#39;in_idle&#39;,\n &#39;induce_pcfg&#39;,\n &#39;inference&#39;,\n &#39;infile&#39;,\n &#39;inspect&#39;,\n &#39;install_opener&#39;,\n &#39;internals&#39;,\n &#39;interpret_sents&#39;,\n &#39;interval_distance&#39;,\n &#39;invert_dict&#39;,\n &#39;invert_graph&#39;,\n &#39;is_rel&#39;,\n &#39;islice&#39;,\n &#39;isri&#39;,\n &#39;jaccard_distance&#39;,\n &#39;json_tags&#39;,\n &#39;jsontags&#39;,\n &#39;lancaster&#39;,\n &#39;lazyimport&#39;,\n &#39;lfg&#39;,\n &#39;line_tokenize&#39;,\n &#39;linearlogic&#39;,\n &#39;lm&#39;,\n &#39;load&#39;,\n &#39;load_parser&#39;,\n &#39;locale&#39;,\n &#39;log_likelihood&#39;,\n &#39;logic&#39;,\n &#39;mace&#39;,\n &#39;malt&#39;,\n &#39;map_tag&#39;,\n &#39;mapping&#39;,\n &#39;masi_distance&#39;,\n &#39;maxent&#39;,\n &#39;megam&#39;,\n &#39;memoize&#39;,\n &#39;meteor&#39;,\n &#39;meteor_score&#39;,\n &#39;metrics&#39;,\n &#39;misc&#39;,\n &#39;mwe&#39;,\n &#39;naivebayes&#39;,\n &#39;ne_chunk&#39;,\n &#39;ne_chunk_sents&#39;,\n &#39;ngrams&#39;,\n &#39;nonprojectivedependencyparser&#39;,\n &#39;nonterminals&#39;,\n &#39;numpy&#39;,\n &#39;os&#39;,\n &#39;pad_sequence&#39;,\n &#39;paice&#39;,\n &#39;parse&#39;,\n &#39;parse_sents&#39;,\n &#39;pchart&#39;,\n &#39;perceptron&#39;,\n &#39;pk&#39;,\n &#39;porter&#39;,\n &#39;pos_tag&#39;,\n &#39;pos_tag_sents&#39;,\n &#39;positivenaivebayes&#39;,\n &#39;pprint&#39;,\n &#39;pr&#39;,\n &#39;precision&#39;,\n &#39;presence&#39;,\n &#39;print_function&#39;,\n &#39;print_string&#39;,\n &#39;probability&#39;,\n &#39;projectivedependencyparser&#39;,\n &#39;prover9&#39;,\n &#39;punkt&#39;,\n &#39;py25&#39;,\n &#39;py26&#39;,\n &#39;py27&#39;,\n &#39;pydoc&#39;,\n &#39;python_2_unicode_compatible&#39;,\n &#39;raise_unorderable_types&#39;,\n &#39;ranks_from_scores&#39;,\n &#39;ranks_from_sequence&#39;,\n &#39;re&#39;,\n &#39;re_show&#39;,\n &#39;read_grammar&#39;,\n &#39;read_logic&#39;,\n &#39;read_valuation&#39;,\n &#39;recall&#39;,\n &#39;recursivedescent&#39;,\n &#39;regexp&#39;,\n &#39;regexp_span_tokenize&#39;,\n &#39;regexp_tokenize&#39;,\n &#39;register_tag&#39;,\n &#39;relextract&#39;,\n &#39;repp&#39;,\n &#39;resolution&#39;,\n &#39;ribes&#39;,\n &#39;ribes_score&#39;,\n &#39;root_semrep&#39;,\n &#39;rslp&#39;,\n &#39;rte_classifier&#39;,\n &#39;rte_classify&#39;,\n &#39;rte_features&#39;,\n &#39;rtuple&#39;,\n &#39;scikitlearn&#39;,\n &#39;scores&#39;,\n &#39;segmentation&#39;,\n &#39;sem&#39;,\n &#39;senna&#39;,\n &#39;sent_tokenize&#39;,\n &#39;sequential&#39;,\n &#39;set2rel&#39;,\n &#39;set_proxy&#39;,\n &#39;sexpr&#39;,\n &#39;sexpr_tokenize&#39;,\n &#39;shiftreduce&#39;,\n &#39;simple&#39;,\n &#39;sinica_parse&#39;,\n &#39;skipgrams&#39;,\n &#39;skolemize&#39;,\n &#39;slice_bounds&#39;,\n &#39;snowball&#39;,\n &#39;sonority_sequencing&#39;,\n &#39;spearman&#39;,\n &#39;spearman_correlation&#39;,\n &#39;stack_decoder&#39;,\n &#39;stanford&#39;,\n &#39;stanford_segmenter&#39;,\n &#39;stem&#39;,\n &#39;str2tuple&#39;,\n &#39;string_span_tokenize&#39;,\n &#39;string_types&#39;,\n &#39;subprocess&#39;,\n &#39;subsumes&#39;,\n &#39;sum_logs&#39;,\n &#39;sys&#39;,\n &#39;tableau&#39;,\n &#39;tadm&#39;,\n &#39;tag&#39;,\n &#39;tagset_mapping&#39;,\n &#39;tagstr2tree&#39;,\n &#39;tbl&#39;,\n &#39;text&#39;,\n &#39;text_type&#39;,\n &#39;textcat&#39;,\n &#39;texttiling&#39;,\n &#39;textwrap&#39;,\n &#39;tkinter&#39;,\n &#39;tnt&#39;,\n &#39;tokenize&#39;,\n &#39;tokenwrap&#39;,\n &#39;toktok&#39;,\n &#39;toolbox&#39;,\n &#39;total_ordering&#39;,\n &#39;transitionparser&#39;,\n &#39;transitive_closure&#39;,\n &#39;translate&#39;,\n &#39;tree&#39;,\n &#39;tree2conllstr&#39;,\n &#39;tree2conlltags&#39;,\n &#39;treebank&#39;,\n &#39;treetransforms&#39;,\n &#39;trigrams&#39;,\n &#39;tuple2str&#39;,\n &#39;types&#39;,\n &#39;unify&#39;,\n &#39;unique_list&#39;,\n &#39;untag&#39;,\n &#39;usage&#39;,\n &#39;util&#39;,\n &#39;version_file&#39;,\n &#39;version_info&#39;,\n &#39;viterbi&#39;,\n &#39;weka&#39;,\n &#39;windowdiff&#39;,\n &#39;word_tokenize&#39;,\n &#39;wordnet&#39;,\n &#39;wordpunct_tokenize&#39;,\n &#39;wsd&#39;]"
     },
     "metadata": {},
     "execution_count": 2
    }
   ],
   "source": [
    "# What methods and attributes are available in nltk?\n",
    "dir(nltk)"
   ]
  },
  {
   "cell_type": "markdown",
   "metadata": {},
   "source": [
    "### What Can You Do With NLTK?"
   ]
  },
  {
   "cell_type": "code",
   "execution_count": 3,
   "metadata": {},
   "outputs": [
    {
     "output_type": "execute_result",
     "data": {
      "text/plain": "[&#39;i&#39;, &#39;me&#39;, &#39;my&#39;, &#39;myself&#39;, &#39;we&#39;]"
     },
     "metadata": {},
     "execution_count": 3
    }
   ],
   "source": [
    "# Did it work?\n",
    "from nltk.corpus import stopwords\n",
    "\n",
    "stopwords.words('english')[0:5]"
   ]
  },
  {
   "cell_type": "code",
   "execution_count": 4,
   "metadata": {},
   "outputs": [
    {
     "output_type": "execute_result",
     "data": {
      "text/plain": "[&#39;i&#39;, &#39;herself&#39;, &#39;been&#39;, &#39;with&#39;, &#39;here&#39;, &#39;very&#39;, &#39;doesn&#39;, &#39;won&#39;]"
     },
     "metadata": {},
     "execution_count": 4
    }
   ],
   "source": [
    "# Let's look at additional words later in the list\n",
    "stopwords.words('english')[0:500:25]"
   ]
  },
  {
   "cell_type": "code",
   "execution_count": null,
   "metadata": {},
   "outputs": [],
   "source": []
  }
 ],
 "metadata": {
  "kernelspec": {
   "display_name": "Python 3",
   "language": "python",
   "name": "python3"
  },
  "language_info": {
   "codemirror_mode": {
    "name": "ipython",
    "version": 3
   },
   "file_extension": ".py",
   "mimetype": "text/x-python",
   "name": "python",
   "nbconvert_exporter": "python",
   "pygments_lexer": "ipython3",
   "version": "3.8.2-final"
  }
 },
 "nbformat": 4,
 "nbformat_minor": 1
}