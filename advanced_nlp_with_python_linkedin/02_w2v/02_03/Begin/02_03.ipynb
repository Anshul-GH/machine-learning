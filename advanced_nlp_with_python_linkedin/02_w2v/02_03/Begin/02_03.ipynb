{
 "cells": [
  {
   "cell_type": "markdown",
   "metadata": {},
   "source": [
    "# word2vec: How To Implement word2vec"
   ]
  },
  {
   "cell_type": "markdown",
   "metadata": {},
   "source": [
    "### Explore Pre-trained Embeddings\n",
    "\n",
    "Some other options:\n",
    "- `glove-twitter-{25/50/100/200}`\n",
    "- `glove-wiki-gigaword-{50/200/300}`\n",
    "- `word2vec-google-news-300`\n",
    "- `word2vec-ruscorpora-news-300`"
   ]
  },
  {
   "cell_type": "code",
   "execution_count": 1,
   "metadata": {
    "tags": []
   },
   "outputs": [
    {
     "output_type": "stream",
     "name": "stdout",
     "text": "Collecting gensim\n\u001b[?25l  Downloading https://files.pythonhosted.org/packages/5c/4e/afe2315e08a38967f8a3036bbe7e38b428e9b7a90e823a83d0d49df1adf5/gensim-3.8.3-cp37-cp37m-manylinux1_x86_64.whl (24.2MB)\n\u001b[K     |████████████████████████████████| 24.2MB 1.2MB/s \n\u001b[?25hRequirement already satisfied, skipping upgrade: numpy&gt;=1.11.3 in /home/anshul/anaconda3/lib/python3.7/site-packages (from gensim) (1.16.4)\nRequirement already satisfied, skipping upgrade: six&gt;=1.5.0 in /home/anshul/.local/lib/python3.7/site-packages (from gensim) (1.14.0)\nCollecting smart-open&gt;=1.8.1 (from gensim)\n\u001b[?25l  Downloading https://files.pythonhosted.org/packages/53/9c/2ee26604648f92251f26a00a79fd164079163693f53792a3ba99f6152349/smart_open-2.2.1.tar.gz (122kB)\n\u001b[K     |████████████████████████████████| 133kB 593kB/s \n\u001b[?25hRequirement already satisfied, skipping upgrade: scipy&gt;=0.18.1 in /home/anshul/anaconda3/lib/python3.7/site-packages (from gensim) (1.3.0)\nRequirement already satisfied, skipping upgrade: requests in /home/anshul/anaconda3/lib/python3.7/site-packages (from smart-open&gt;=1.8.1-&gt;gensim) (2.22.0)\nRequirement already satisfied, skipping upgrade: boto3 in /home/anshul/anaconda3/lib/python3.7/site-packages (from smart-open&gt;=1.8.1-&gt;gensim) (1.13.7)\nRequirement already satisfied, skipping upgrade: chardet&lt;3.1.0,&gt;=3.0.2 in /home/anshul/anaconda3/lib/python3.7/site-packages (from requests-&gt;smart-open&gt;=1.8.1-&gt;gensim) (3.0.4)\nRequirement already satisfied, skipping upgrade: idna&lt;2.9,&gt;=2.5 in /home/anshul/anaconda3/lib/python3.7/site-packages (from requests-&gt;smart-open&gt;=1.8.1-&gt;gensim) (2.8)\nRequirement already satisfied, skipping upgrade: urllib3!=1.25.0,!=1.25.1,&lt;1.26,&gt;=1.21.1 in /home/anshul/anaconda3/lib/python3.7/site-packages (from requests-&gt;smart-open&gt;=1.8.1-&gt;gensim) (1.24.2)\nRequirement already satisfied, skipping upgrade: certifi&gt;=2017.4.17 in /home/anshul/anaconda3/lib/python3.7/site-packages (from requests-&gt;smart-open&gt;=1.8.1-&gt;gensim) (2019.6.16)\nRequirement already satisfied, skipping upgrade: botocore&lt;1.17.0,&gt;=1.16.7 in /home/anshul/anaconda3/lib/python3.7/site-packages (from boto3-&gt;smart-open&gt;=1.8.1-&gt;gensim) (1.16.7)\nRequirement already satisfied, skipping upgrade: jmespath&lt;1.0.0,&gt;=0.7.1 in /home/anshul/anaconda3/lib/python3.7/site-packages (from boto3-&gt;smart-open&gt;=1.8.1-&gt;gensim) (0.9.5)\nRequirement already satisfied, skipping upgrade: s3transfer&lt;0.4.0,&gt;=0.3.0 in /home/anshul/anaconda3/lib/python3.7/site-packages (from boto3-&gt;smart-open&gt;=1.8.1-&gt;gensim) (0.3.3)\nRequirement already satisfied, skipping upgrade: python-dateutil&lt;3.0.0,&gt;=2.1 in /home/anshul/.local/lib/python3.7/site-packages (from botocore&lt;1.17.0,&gt;=1.16.7-&gt;boto3-&gt;smart-open&gt;=1.8.1-&gt;gensim) (2.8.1)\nRequirement already satisfied, skipping upgrade: docutils&lt;0.16,&gt;=0.10 in /home/anshul/anaconda3/lib/python3.7/site-packages (from botocore&lt;1.17.0,&gt;=1.16.7-&gt;boto3-&gt;smart-open&gt;=1.8.1-&gt;gensim) (0.14)\nBuilding wheels for collected packages: smart-open\n  Building wheel for smart-open (setup.py) ... \u001b[?25ldone\n\u001b[?25h  Stored in directory: /home/anshul/.cache/pip/wheels/6a/25/34/a5afefe4e3cad127e65c9bd1b6440c1916feb0bf2f744001e2\nSuccessfully built smart-open\nInstalling collected packages: smart-open, gensim\nSuccessfully installed gensim-3.8.3 smart-open-2.2.1\n"
    }
   ],
   "source": [
    "# Install gensim\n",
    "!pip install -U gensim"
   ]
  },
  {
   "cell_type": "code",
   "execution_count": 2,
   "metadata": {
    "tags": []
   },
   "outputs": [
    {
     "output_type": "stream",
     "name": "stdout",
     "text": "[==================================================] 100.0% 128.1/128.1MB downloaded\n"
    }
   ],
   "source": [
    "# Load pretrained word vectors using gensim\n",
    "import gensim.downloader as api\n",
    "\n",
    "wiki_embeddings = api.load('glove-wiki-gigaword-100')"
   ]
  },
  {
   "cell_type": "code",
   "execution_count": 3,
   "metadata": {
    "scrolled": true
   },
   "outputs": [
    {
     "output_type": "execute_result",
     "data": {
      "text/plain": "array([-0.32307 , -0.87616 ,  0.21977 ,  0.25268 ,  0.22976 ,  0.7388  ,\n       -0.37954 , -0.35307 , -0.84369 , -1.1113  , -0.30266 ,  0.33178 ,\n       -0.25113 ,  0.30448 , -0.077491, -0.89815 ,  0.092496, -1.1407  ,\n       -0.58324 ,  0.66869 , -0.23122 , -0.95855 ,  0.28262 , -0.078848,\n        0.75315 ,  0.26584 ,  0.3422  , -0.33949 ,  0.95608 ,  0.065641,\n        0.45747 ,  0.39835 ,  0.57965 ,  0.39267 , -0.21851 ,  0.58795 ,\n       -0.55999 ,  0.63368 , -0.043983, -0.68731 , -0.37841 ,  0.38026 ,\n        0.61641 , -0.88269 , -0.12346 , -0.37928 , -0.38318 ,  0.23868 ,\n        0.6685  , -0.43321 , -0.11065 ,  0.081723,  1.1569  ,  0.78958 ,\n       -0.21223 , -2.3211  , -0.67806 ,  0.44561 ,  0.65707 ,  0.1045  ,\n        0.46217 ,  0.19912 ,  0.25802 ,  0.057194,  0.53443 , -0.43133 ,\n       -0.34311 ,  0.59789 , -0.58417 ,  0.068995,  0.23944 , -0.85181 ,\n        0.30379 , -0.34177 , -0.25746 , -0.031101, -0.16285 ,  0.45169 ,\n       -0.91627 ,  0.64521 ,  0.73281 , -0.22752 ,  0.30226 ,  0.044801,\n       -0.83741 ,  0.55006 , -0.52506 , -1.7357  ,  0.4751  , -0.70487 ,\n        0.056939, -0.7132  ,  0.089623,  0.41394 , -1.3363  , -0.61915 ,\n       -0.33089 , -0.52881 ,  0.16483 , -0.98878 ], dtype=float32)"
     },
     "metadata": {},
     "execution_count": 3
    }
   ],
   "source": [
    "# Explore the word vector for \"king\"\n",
    "wiki_embeddings['king']"
   ]
  },
  {
   "cell_type": "code",
   "execution_count": 4,
   "metadata": {},
   "outputs": [
    {
     "output_type": "execute_result",
     "data": {
      "text/plain": "[(&#39;prince&#39;, 0.7682329416275024),\n (&#39;queen&#39;, 0.7507690787315369),\n (&#39;son&#39;, 0.7020887732505798),\n (&#39;brother&#39;, 0.6985775232315063),\n (&#39;monarch&#39;, 0.6977890729904175),\n (&#39;throne&#39;, 0.691999077796936),\n (&#39;kingdom&#39;, 0.6811410188674927),\n (&#39;father&#39;, 0.680202841758728),\n (&#39;emperor&#39;, 0.6712858080863953),\n (&#39;ii&#39;, 0.6676074266433716)]"
     },
     "metadata": {},
     "execution_count": 4
    }
   ],
   "source": [
    "# Find the words most similar to king based on the trained word vectors\n",
    "wiki_embeddings.most_similar(\"king\")"
   ]
  },
  {
   "cell_type": "markdown",
   "metadata": {},
   "source": [
    "### Train Our Own Model"
   ]
  },
  {
   "cell_type": "code",
   "execution_count": 5,
   "metadata": {},
   "outputs": [
    {
     "output_type": "execute_result",
     "data": {
      "text/plain": "  label  \\\n0   ham   \n1   ham   \n2  spam   \n3   ham   \n4   ham   \n\n                                                                                                  text  \n0  Go until jurong point, crazy.. Available only in bugis n great world la e buffet... Cine there g...  \n1                                                                        Ok lar... Joking wif u oni...  \n2  Free entry in 2 a wkly comp to win FA Cup final tkts 21st May 2005. Text FA to 87121 to receive ...  \n3                                                    U dun say so early hor... U c already then say...  \n4                                        Nah I don&#39;t think he goes to usf, he lives around here though  ",
      "text/html": "<div>\n<style scoped>\n    .dataframe tbody tr th:only-of-type {\n        vertical-align: middle;\n    }\n\n    .dataframe tbody tr th {\n        vertical-align: top;\n    }\n\n    .dataframe thead th {\n        text-align: right;\n    }\n</style>\n<table border=\"1\" class=\"dataframe\">\n  <thead>\n    <tr style=\"text-align: right;\">\n      <th></th>\n      <th>label</th>\n      <th>text</th>\n    </tr>\n  </thead>\n  <tbody>\n    <tr>\n      <th>0</th>\n      <td>ham</td>\n      <td>Go until jurong point, crazy.. Available only in bugis n great world la e buffet... Cine there g...</td>\n    </tr>\n    <tr>\n      <th>1</th>\n      <td>ham</td>\n      <td>Ok lar... Joking wif u oni...</td>\n    </tr>\n    <tr>\n      <th>2</th>\n      <td>spam</td>\n      <td>Free entry in 2 a wkly comp to win FA Cup final tkts 21st May 2005. Text FA to 87121 to receive ...</td>\n    </tr>\n    <tr>\n      <th>3</th>\n      <td>ham</td>\n      <td>U dun say so early hor... U c already then say...</td>\n    </tr>\n    <tr>\n      <th>4</th>\n      <td>ham</td>\n      <td>Nah I don't think he goes to usf, he lives around here though</td>\n    </tr>\n  </tbody>\n</table>\n</div>"
     },
     "metadata": {},
     "execution_count": 5
    }
   ],
   "source": [
    "# Read in the data and clean up column names\n",
    "import gensim\n",
    "import numpy as np\n",
    "import pandas as pd\n",
    "from sklearn.model_selection import train_test_split\n",
    "pd.set_option('display.max_colwidth', 100)\n",
    "\n",
    "messages = pd.read_csv('../../../data/spam.csv', encoding='latin-1')\n",
    "messages = messages.drop(labels = [\"Unnamed: 2\", \"Unnamed: 3\", \"Unnamed: 4\"], axis = 1)\n",
    "messages.columns = [\"label\", \"text\"]\n",
    "messages.head()"
   ]
  },
  {
   "cell_type": "code",
   "execution_count": 6,
   "metadata": {},
   "outputs": [
    {
     "output_type": "execute_result",
     "data": {
      "text/plain": "  label  \\\n0   ham   \n1   ham   \n2  spam   \n3   ham   \n4   ham   \n\n                                                                                                  text  \\\n0  Go until jurong point, crazy.. Available only in bugis n great world la e buffet... Cine there g...   \n1                                                                        Ok lar... Joking wif u oni...   \n2  Free entry in 2 a wkly comp to win FA Cup final tkts 21st May 2005. Text FA to 87121 to receive ...   \n3                                                    U dun say so early hor... U c already then say...   \n4                                        Nah I don&#39;t think he goes to usf, he lives around here though   \n\n                                                                                            text_clean  \n0  [go, until, jurong, point, crazy, available, only, in, bugis, great, world, la, buffet, cine, th...  \n1                                                                          [ok, lar, joking, wif, oni]  \n2  [free, entry, in, wkly, comp, to, win, fa, cup, final, tkts, st, may, text, fa, to, to, receive,...  \n3                                                       [dun, say, so, early, hor, already, then, say]  \n4                                [nah, don, think, he, goes, to, usf, he, lives, around, here, though]  ",
      "text/html": "<div>\n<style scoped>\n    .dataframe tbody tr th:only-of-type {\n        vertical-align: middle;\n    }\n\n    .dataframe tbody tr th {\n        vertical-align: top;\n    }\n\n    .dataframe thead th {\n        text-align: right;\n    }\n</style>\n<table border=\"1\" class=\"dataframe\">\n  <thead>\n    <tr style=\"text-align: right;\">\n      <th></th>\n      <th>label</th>\n      <th>text</th>\n      <th>text_clean</th>\n    </tr>\n  </thead>\n  <tbody>\n    <tr>\n      <th>0</th>\n      <td>ham</td>\n      <td>Go until jurong point, crazy.. Available only in bugis n great world la e buffet... Cine there g...</td>\n      <td>[go, until, jurong, point, crazy, available, only, in, bugis, great, world, la, buffet, cine, th...</td>\n    </tr>\n    <tr>\n      <th>1</th>\n      <td>ham</td>\n      <td>Ok lar... Joking wif u oni...</td>\n      <td>[ok, lar, joking, wif, oni]</td>\n    </tr>\n    <tr>\n      <th>2</th>\n      <td>spam</td>\n      <td>Free entry in 2 a wkly comp to win FA Cup final tkts 21st May 2005. Text FA to 87121 to receive ...</td>\n      <td>[free, entry, in, wkly, comp, to, win, fa, cup, final, tkts, st, may, text, fa, to, to, receive,...</td>\n    </tr>\n    <tr>\n      <th>3</th>\n      <td>ham</td>\n      <td>U dun say so early hor... U c already then say...</td>\n      <td>[dun, say, so, early, hor, already, then, say]</td>\n    </tr>\n    <tr>\n      <th>4</th>\n      <td>ham</td>\n      <td>Nah I don't think he goes to usf, he lives around here though</td>\n      <td>[nah, don, think, he, goes, to, usf, he, lives, around, here, though]</td>\n    </tr>\n  </tbody>\n</table>\n</div>"
     },
     "metadata": {},
     "execution_count": 6
    }
   ],
   "source": [
    "# Clean data using the built in cleaner in gensim\n",
    "messages['text_clean'] = messages['text'].apply(lambda x: gensim.utils.simple_preprocess(x))\n",
    "messages.head()"
   ]
  },
  {
   "cell_type": "code",
   "execution_count": 7,
   "metadata": {},
   "outputs": [],
   "source": [
    "# Split data into train and test sets\n",
    "X_train, X_test, y_train, y_test = train_test_split(messages['text_clean'], messages['label'], test_size=0.2)"
   ]
  },
  {
   "cell_type": "code",
   "execution_count": 8,
   "metadata": {},
   "outputs": [],
   "source": [
    "# Train the word2vec model\n",
    "w2v_model = gensim.models.Word2Vec(X_train, size=100, window=5, min_count=2)"
   ]
  },
  {
   "cell_type": "code",
   "execution_count": 9,
   "metadata": {},
   "outputs": [
    {
     "output_type": "execute_result",
     "data": {
      "text/plain": "array([-0.03781047,  0.0145539 , -0.03632586, -0.02183767,  0.01777887,\n       -0.00835703, -0.0272942 ,  0.03455959,  0.0530992 , -0.0036507 ,\n       -0.03838603, -0.00368304, -0.02005389, -0.02398076,  0.05907796,\n       -0.06484535,  0.08386756,  0.00384486,  0.11756564, -0.02352135,\n        0.03496149, -0.0353152 , -0.00679098,  0.088273  , -0.01122013,\n       -0.09493479, -0.09922081,  0.02414066, -0.01473035,  0.02284652,\n       -0.020798  , -0.0429832 ,  0.04817836,  0.02274809,  0.04857518,\n       -0.02405948,  0.03943033, -0.00262282, -0.01253747,  0.00672635,\n        0.08153729, -0.01959068,  0.04829797, -0.0354427 ,  0.02288593,\n        0.03009036, -0.04494644,  0.04158503,  0.01176413,  0.00184266,\n        0.03290795, -0.00377896, -0.02784754,  0.08658703,  0.03809892,\n        0.00862864,  0.08445028, -0.02104815,  0.06501176,  0.07554223,\n       -0.06267644,  0.07500016, -0.00433768,  0.0168327 , -0.05774008,\n        0.0454221 ,  0.11421556, -0.00725017,  0.0218204 ,  0.09248682,\n        0.01095712, -0.004972  , -0.01757121,  0.02387972, -0.09716896,\n        0.03181788, -0.08923464, -0.00224886,  0.05623342, -0.06221608,\n       -0.05694362, -0.01771965, -0.01424827, -0.0311524 , -0.01612066,\n        0.00981413, -0.07028192, -0.01879496, -0.07303508, -0.06544828,\n       -0.06619866, -0.02603319,  0.01251377, -0.05680086,  0.01175789,\n       -0.02153199, -0.03151313, -0.01355139,  0.00455676, -0.13193949],\n      dtype=float32)"
     },
     "metadata": {},
     "execution_count": 9
    }
   ],
   "source": [
    "# Explore the word vector for \"king\" base on our trained model\n",
    "w2v_model.wv['king']"
   ]
  },
  {
   "cell_type": "code",
   "execution_count": 11,
   "metadata": {},
   "outputs": [
    {
     "output_type": "execute_result",
     "data": {
      "text/plain": "[(&#39;everyone&#39;, 0.9985462427139282),\n (&#39;st&#39;, 0.9984534978866577),\n (&#39;ur&#39;, 0.9984291791915894),\n (&#39;win&#39;, 0.9984257221221924),\n (&#39;www&#39;, 0.9984194040298462),\n (&#39;music&#39;, 0.9984148144721985),\n (&#39;people&#39;, 0.9984117746353149),\n (&#39;more&#39;, 0.9984087347984314),\n (&#39;days&#39;, 0.9984058141708374),\n (&#39;from&#39;, 0.9984055161476135)]"
     },
     "metadata": {},
     "execution_count": 11
    }
   ],
   "source": [
    "# Find the most similar words to \"king\" based on word vectors from our trained model\n",
    "w2v_model.wv.most_similar('king')"
   ]
  },
  {
   "cell_type": "code",
   "execution_count": null,
   "metadata": {},
   "outputs": [],
   "source": []
  }
 ],
 "metadata": {
  "kernelspec": {
   "display_name": "Python 3",
   "language": "python",
   "name": "python3"
  },
  "language_info": {
   "codemirror_mode": {
    "name": "ipython",
    "version": 3
   },
   "file_extension": ".py",
   "mimetype": "text/x-python",
   "name": "python",
   "nbconvert_exporter": "python",
   "pygments_lexer": "ipython3",
   "version": "3.8.2-final"
  }
 },
 "nbformat": 4,
 "nbformat_minor": 1
}