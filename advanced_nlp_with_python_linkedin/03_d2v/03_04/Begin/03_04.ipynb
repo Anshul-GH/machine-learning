{
 "cells": [
  {
   "cell_type": "markdown",
   "metadata": {},
   "source": [
    "# doc2vec: How To Prep Document Vectors For Modeling"
   ]
  },
  {
   "cell_type": "markdown",
   "metadata": {},
   "source": [
    "### Train Our Own Model"
   ]
  },
  {
   "cell_type": "code",
   "execution_count": 1,
   "metadata": {},
   "outputs": [],
   "source": [
    "# Read in data, clean it, split it into train/test, and then train a doc2vec model\n",
    "import gensim\n",
    "import pandas as pd\n",
    "from sklearn.model_selection import train_test_split\n",
    "pd.set_option('display.max_colwidth', 100)\n",
    "\n",
    "messages = pd.read_csv('../../../data/spam.csv', encoding='latin-1')\n",
    "messages = messages.drop(labels = [\"Unnamed: 2\", \"Unnamed: 3\", \"Unnamed: 4\"], axis = 1)\n",
    "messages.columns = [\"label\", \"text\"]\n",
    "messages['text_clean'] = messages['text'].apply(lambda x: gensim.utils.simple_preprocess(x))\n",
    "\n",
    "X_train, X_test, y_train, y_test = train_test_split(messages['text_clean'],\n",
    "                                                    messages['label'], test_size=0.2)\n",
    "\n",
    "tagged_docs_tr = [gensim.models.doc2vec.TaggedDocument(v, [i]) for i, v in enumerate(X_train)]\n",
    "\n",
    "d2v_model = gensim.models.Doc2Vec(tagged_docs_tr,\n",
    "                                  vector_size=50,\n",
    "                                  window=2,\n",
    "                                  min_count=2)"
   ]
  },
  {
   "cell_type": "code",
   "execution_count": 2,
   "metadata": {},
   "outputs": [
    {
     "output_type": "execute_result",
     "data": {
      "text/plain": "array([ 0.00527109, -0.01324665, -0.0096915 ,  0.00193137, -0.00092878,\n        0.00680627,  0.01172902, -0.00583484, -0.00340428, -0.00950179,\n       -0.02687154, -0.00575173, -0.0096828 ,  0.01267449,  0.02080682,\n        0.00128518, -0.0040912 ,  0.00603617,  0.00493593, -0.01808688,\n       -0.02640009,  0.00496611,  0.00656763, -0.00777842, -0.0059013 ,\n        0.00717304, -0.00413813, -0.00381236,  0.01665859,  0.01520532,\n        0.0019713 , -0.00056722,  0.01056363, -0.01979274, -0.00897815,\n       -0.00242522,  0.00242939, -0.00712625, -0.00102019, -0.00054327,\n       -0.01101292,  0.01834851, -0.0149589 , -0.03397872, -0.00235777,\n        0.02958577, -0.00066346,  0.00220888,  0.01940633,  0.00222694],\n      dtype=float32)"
     },
     "metadata": {},
     "execution_count": 2
    }
   ],
   "source": [
    "# What does a document vector look like again?\n",
    "d2v_model.infer_vector(['convert', 'words', 'to', 'vectors'])"
   ]
  },
  {
   "cell_type": "code",
   "execution_count": 3,
   "metadata": {},
   "outputs": [],
   "source": [
    "# How do we prepare these vectors to be used in a machine learning model?\n",
    "vectors = [[d2v_model.infer_vector(words)] for words in X_test]"
   ]
  },
  {
   "cell_type": "code",
   "execution_count": 4,
   "metadata": {},
   "outputs": [
    {
     "output_type": "execute_result",
     "data": {
      "text/plain": "[array([ 0.00024286,  0.00290922, -0.0019285 ,  0.00167686, -0.0027719 ,\n        -0.00435879,  0.02320793, -0.00106661,  0.01115903, -0.02428407,\n        -0.01739795, -0.01271261, -0.01628193,  0.00321393,  0.01945039,\n         0.00528758, -0.01312716, -0.00535798, -0.00218258, -0.01229463,\n        -0.03317567, -0.00173265,  0.00933457, -0.0108058 , -0.00857016,\n         0.0089884 , -0.00120885, -0.00144213,  0.00501392,  0.01367759,\n         0.00675126,  0.005638  , -0.00581592, -0.01293811, -0.00633355,\n        -0.01342575,  0.00457624,  0.00598609, -0.0045976 ,  0.00517329,\n        -0.02318596,  0.02657969, -0.00663634, -0.02737018, -0.00637147,\n         0.0205109 , -0.00754566, -0.00627113,  0.00515462,  0.00373692],\n       dtype=float32)]"
     },
     "metadata": {},
     "execution_count": 4
    }
   ],
   "source": [
    "vectors[0]"
   ]
  },
  {
   "cell_type": "code",
   "execution_count": null,
   "metadata": {},
   "outputs": [],
   "source": []
  }
 ],
 "metadata": {
  "kernelspec": {
   "display_name": "Python 3",
   "language": "python",
   "name": "python3"
  },
  "language_info": {
   "codemirror_mode": {
    "name": "ipython",
    "version": 3
   },
   "file_extension": ".py",
   "mimetype": "text/x-python",
   "name": "python",
   "nbconvert_exporter": "python",
   "pygments_lexer": "ipython3",
   "version": "3.8.2-final"
  }
 },
 "nbformat": 4,
 "nbformat_minor": 1
}