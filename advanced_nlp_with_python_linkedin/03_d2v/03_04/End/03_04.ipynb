{
 "cells": [
  {
   "cell_type": "markdown",
   "metadata": {},
   "source": [
    "# doc2vec: How To Prep Document Vectors For Modeling"
   ]
  },
  {
   "cell_type": "markdown",
   "metadata": {},
   "source": [
    "### Train Our Own Model"
   ]
  },
  {
   "cell_type": "code",
   "execution_count": 1,
   "metadata": {},
   "outputs": [],
   "source": [
    "# Read in data, clean it, split it into train/test, and then train a doc2vec model\n",
    "import gensim\n",
    "import pandas as pd\n",
    "from sklearn.model_selection import train_test_split\n",
    "pd.set_option('display.max_colwidth', 100)\n",
    "\n",
    "messages = pd.read_csv('../../../data/spam.csv', encoding='latin-1')\n",
    "messages = messages.drop(labels = [\"Unnamed: 2\", \"Unnamed: 3\", \"Unnamed: 4\"], axis = 1)\n",
    "messages.columns = [\"label\", \"text\"]\n",
    "messages['text_clean'] = messages['text'].apply(lambda x: gensim.utils.simple_preprocess(x))\n",
    "\n",
    "X_train, X_test, y_train, y_test = train_test_split(messages['text_clean'],\n",
    "                                                    messages['label'], test_size=0.2)\n",
    "\n",
    "tagged_docs_tr = [gensim.models.doc2vec.TaggedDocument(v, [i]) for i, v in enumerate(X_train)]\n",
    "\n",
    "d2v_model = gensim.models.Doc2Vec(tagged_docs_tr,\n",
    "                                  vector_size=50,\n",
    "                                  window=2,\n",
    "                                  min_count=2)"
   ]
  },
  {
   "cell_type": "code",
   "execution_count": 2,
   "metadata": {},
   "outputs": [
    {
     "data": {
      "text/plain": [
       "array([-0.00464948, -0.0219891 , -0.00626216,  0.00327546,  0.02199462,\n",
       "       -0.01186735,  0.00647867,  0.01291336, -0.02014654, -0.00729347,\n",
       "        0.00106066, -0.01195863, -0.02927054,  0.00358322, -0.00260947,\n",
       "       -0.02357555,  0.00249103, -0.00319747,  0.00544032, -0.01198295,\n",
       "       -0.00729246,  0.00712914, -0.01505841, -0.01033055, -0.0107055 ,\n",
       "       -0.00205119, -0.00950109, -0.01157793, -0.00118025,  0.00630843,\n",
       "       -0.00530018,  0.01151353,  0.00732513,  0.01924007, -0.02418046,\n",
       "       -0.00922194, -0.00716187, -0.01725342, -0.00942223, -0.00626812,\n",
       "       -0.04166091, -0.01230682, -0.00620296, -0.00706459,  0.01683117,\n",
       "       -0.00219765,  0.0048534 ,  0.0211856 , -0.03203405, -0.0031929 ],\n",
       "      dtype=float32)"
      ]
     },
     "execution_count": 2,
     "metadata": {},
     "output_type": "execute_result"
    }
   ],
   "source": [
    "# What does a document vector look like again?\n",
    "d2v_model.infer_vector(['convert', 'words', 'to', 'vectors'])"
   ]
  },
  {
   "cell_type": "code",
   "execution_count": 3,
   "metadata": {},
   "outputs": [],
   "source": [
    "# How do we prepare these vectors to be used in a machine learning model?\n",
    "vectors = [[d2v_model.infer_vector(words)] for words in X_test]"
   ]
  },
  {
   "cell_type": "code",
   "execution_count": 4,
   "metadata": {},
   "outputs": [
    {
     "data": {
      "text/plain": [
       "[array([-0.01966103, -0.05595076,  0.00282994, -0.00233608,  0.06975448,\n",
       "        -0.03656393,  0.0213115 ,  0.02819064, -0.08934025, -0.02582703,\n",
       "        -0.020344  , -0.04680223, -0.07381724, -0.00585467, -0.0060955 ,\n",
       "        -0.04879982,  0.04401538, -0.01002595,  0.00766305, -0.06041573,\n",
       "        -0.00166076,  0.00586077, -0.07065456, -0.01389735, -0.04266352,\n",
       "         0.01487691,  0.00241179, -0.01855587, -0.01449505, -0.00476608,\n",
       "        -0.05354033,  0.06879082, -0.00255322,  0.0489867 , -0.09231926,\n",
       "        -0.00930831, -0.03519291, -0.02682027,  0.00948574, -0.04765084,\n",
       "        -0.11541642, -0.0277185 ,  0.0118827 , -0.02079365,  0.04950323,\n",
       "         0.02471211, -0.01525378,  0.03903551, -0.0882815 ,  0.02118529],\n",
       "       dtype=float32)]"
      ]
     },
     "execution_count": 4,
     "metadata": {},
     "output_type": "execute_result"
    }
   ],
   "source": [
    "vectors[0]"
   ]
  },
  {
   "cell_type": "code",
   "execution_count": null,
   "metadata": {},
   "outputs": [],
   "source": []
  }
 ],
 "metadata": {
  "kernelspec": {
   "display_name": "Python 3",
   "language": "python",
   "name": "python3"
  },
  "language_info": {
   "codemirror_mode": {
    "name": "ipython",
    "version": 3
   },
   "file_extension": ".py",
   "mimetype": "text/x-python",
   "name": "python",
   "nbconvert_exporter": "python",
   "pygments_lexer": "ipython3",
   "version": "3.6.2"
  }
 },
 "nbformat": 4,
 "nbformat_minor": 1
}
