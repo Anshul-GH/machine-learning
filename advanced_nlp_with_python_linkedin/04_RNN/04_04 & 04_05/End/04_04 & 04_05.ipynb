{
 "cells": [
  {
   "cell_type": "markdown",
   "metadata": {},
   "source": [
    "# RNNs: How To Implement A Basic RNN"
   ]
  },
  {
   "cell_type": "markdown",
   "metadata": {},
   "source": [
    "### Read In, Clean, And Split The Data"
   ]
  },
  {
   "cell_type": "code",
   "execution_count": 1,
   "metadata": {},
   "outputs": [],
   "source": [
    "# Read in data and split into training and test set\n",
    "# NOTE: we are NOT cleaning the data\n",
    "import numpy as np\n",
    "import pandas as pd\n",
    "from sklearn.model_selection import train_test_split\n",
    "pd.set_option('display.max_colwidth', 1000)\n",
    "\n",
    "messages = pd.read_csv('../../../data/spam.csv', encoding='latin-1')\n",
    "messages = messages.drop(labels = [\"Unnamed: 2\", \"Unnamed: 3\", \"Unnamed: 4\"], axis = 1)\n",
    "messages.columns = [\"label\", \"text\"]\n",
    "labels = np.where(messages['label']=='spam', 1, 0)\n",
    "\n",
    "X_train, X_test, y_train, y_test = train_test_split(messages['text'],\n",
    "                                                    labels, test_size=0.2)"
   ]
  },
  {
   "cell_type": "markdown",
   "metadata": {},
   "source": [
    "### Prep Data For Modeling"
   ]
  },
  {
   "cell_type": "code",
   "execution_count": 2,
   "metadata": {},
   "outputs": [
    {
     "name": "stdout",
     "output_type": "stream",
     "text": [
      "Requirement already up-to-date: keras in /Users/djedamski/.pyenv/versions/3.6.2/lib/python3.6/site-packages (2.4.0)\n",
      "Requirement already satisfied, skipping upgrade: h5py in /Users/djedamski/.pyenv/versions/3.6.2/lib/python3.6/site-packages (from keras) (2.9.0)\n",
      "Requirement already satisfied, skipping upgrade: scipy>=0.14 in /Users/djedamski/.pyenv/versions/3.6.2/lib/python3.6/site-packages (from keras) (1.4.1)\n",
      "Requirement already satisfied, skipping upgrade: pyyaml in /Users/djedamski/.pyenv/versions/3.6.2/lib/python3.6/site-packages (from keras) (3.12)\n",
      "Requirement already satisfied, skipping upgrade: tensorflow>=2.2.0 in /Users/djedamski/.pyenv/versions/3.6.2/lib/python3.6/site-packages (from keras) (2.2.0)\n",
      "Requirement already satisfied, skipping upgrade: numpy>=1.9.1 in /Users/djedamski/.pyenv/versions/3.6.2/lib/python3.6/site-packages (from keras) (1.18.1)\n",
      "Requirement already satisfied, skipping upgrade: six in /Users/djedamski/.pyenv/versions/3.6.2/lib/python3.6/site-packages (from h5py->keras) (1.11.0)\n",
      "Requirement already satisfied, skipping upgrade: astunparse==1.6.3 in /Users/djedamski/.pyenv/versions/3.6.2/lib/python3.6/site-packages (from tensorflow>=2.2.0->keras) (1.6.3)\n",
      "Requirement already satisfied, skipping upgrade: wrapt>=1.11.1 in /Users/djedamski/.pyenv/versions/3.6.2/lib/python3.6/site-packages (from tensorflow>=2.2.0->keras) (1.11.1)\n",
      "Requirement already satisfied, skipping upgrade: protobuf>=3.8.0 in /Users/djedamski/.pyenv/versions/3.6.2/lib/python3.6/site-packages (from tensorflow>=2.2.0->keras) (3.12.2)\n",
      "Requirement already satisfied, skipping upgrade: tensorflow-estimator<2.3.0,>=2.2.0 in /Users/djedamski/.pyenv/versions/3.6.2/lib/python3.6/site-packages (from tensorflow>=2.2.0->keras) (2.2.0)\n",
      "Requirement already satisfied, skipping upgrade: keras-preprocessing>=1.1.0 in /Users/djedamski/.pyenv/versions/3.6.2/lib/python3.6/site-packages (from tensorflow>=2.2.0->keras) (1.1.2)\n",
      "Requirement already satisfied, skipping upgrade: gast==0.3.3 in /Users/djedamski/.pyenv/versions/3.6.2/lib/python3.6/site-packages (from tensorflow>=2.2.0->keras) (0.3.3)\n",
      "Requirement already satisfied, skipping upgrade: termcolor>=1.1.0 in /Users/djedamski/.pyenv/versions/3.6.2/lib/python3.6/site-packages (from tensorflow>=2.2.0->keras) (1.1.0)\n",
      "Requirement already satisfied, skipping upgrade: opt-einsum>=2.3.2 in /Users/djedamski/.pyenv/versions/3.6.2/lib/python3.6/site-packages (from tensorflow>=2.2.0->keras) (3.2.1)\n",
      "Requirement already satisfied, skipping upgrade: google-pasta>=0.1.8 in /Users/djedamski/.pyenv/versions/3.6.2/lib/python3.6/site-packages (from tensorflow>=2.2.0->keras) (0.2.0)\n",
      "Requirement already satisfied, skipping upgrade: absl-py>=0.7.0 in /Users/djedamski/.pyenv/versions/3.6.2/lib/python3.6/site-packages (from tensorflow>=2.2.0->keras) (0.7.1)\n",
      "Requirement already satisfied, skipping upgrade: grpcio>=1.8.6 in /Users/djedamski/.pyenv/versions/3.6.2/lib/python3.6/site-packages (from tensorflow>=2.2.0->keras) (1.14.0)\n",
      "Requirement already satisfied, skipping upgrade: tensorboard<2.3.0,>=2.2.0 in /Users/djedamski/.pyenv/versions/3.6.2/lib/python3.6/site-packages (from tensorflow>=2.2.0->keras) (2.2.2)\n",
      "Requirement already satisfied, skipping upgrade: wheel>=0.26; python_version >= \"3\" in /Users/djedamski/.pyenv/versions/3.6.2/lib/python3.6/site-packages (from tensorflow>=2.2.0->keras) (0.33.1)\n",
      "Requirement already satisfied, skipping upgrade: setuptools in /Users/djedamski/.pyenv/versions/3.6.2/lib/python3.6/site-packages (from protobuf>=3.8.0->tensorflow>=2.2.0->keras) (39.0.1)\n",
      "Requirement already satisfied, skipping upgrade: google-auth-oauthlib<0.5,>=0.4.1 in /Users/djedamski/.pyenv/versions/3.6.2/lib/python3.6/site-packages (from tensorboard<2.3.0,>=2.2.0->tensorflow>=2.2.0->keras) (0.4.1)\n",
      "Requirement already satisfied, skipping upgrade: requests<3,>=2.21.0 in /Users/djedamski/.pyenv/versions/3.6.2/lib/python3.6/site-packages (from tensorboard<2.3.0,>=2.2.0->tensorflow>=2.2.0->keras) (2.24.0)\n",
      "Requirement already satisfied, skipping upgrade: google-auth<2,>=1.6.3 in /Users/djedamski/.pyenv/versions/3.6.2/lib/python3.6/site-packages (from tensorboard<2.3.0,>=2.2.0->tensorflow>=2.2.0->keras) (1.17.2)\n",
      "Requirement already satisfied, skipping upgrade: werkzeug>=0.11.15 in /Users/djedamski/.pyenv/versions/3.6.2/lib/python3.6/site-packages (from tensorboard<2.3.0,>=2.2.0->tensorflow>=2.2.0->keras) (0.14.1)\n",
      "Requirement already satisfied, skipping upgrade: markdown>=2.6.8 in /Users/djedamski/.pyenv/versions/3.6.2/lib/python3.6/site-packages (from tensorboard<2.3.0,>=2.2.0->tensorflow>=2.2.0->keras) (3.1)\n",
      "Requirement already satisfied, skipping upgrade: tensorboard-plugin-wit>=1.6.0 in /Users/djedamski/.pyenv/versions/3.6.2/lib/python3.6/site-packages (from tensorboard<2.3.0,>=2.2.0->tensorflow>=2.2.0->keras) (1.6.0.post3)\n",
      "Requirement already satisfied, skipping upgrade: requests-oauthlib>=0.7.0 in /Users/djedamski/.pyenv/versions/3.6.2/lib/python3.6/site-packages (from google-auth-oauthlib<0.5,>=0.4.1->tensorboard<2.3.0,>=2.2.0->tensorflow>=2.2.0->keras) (1.3.0)\n",
      "Requirement already satisfied, skipping upgrade: idna<3,>=2.5 in /Users/djedamski/.pyenv/versions/3.6.2/lib/python3.6/site-packages (from requests<3,>=2.21.0->tensorboard<2.3.0,>=2.2.0->tensorflow>=2.2.0->keras) (2.6)\n",
      "Requirement already satisfied, skipping upgrade: urllib3!=1.25.0,!=1.25.1,<1.26,>=1.21.1 in /Users/djedamski/.pyenv/versions/3.6.2/lib/python3.6/site-packages (from requests<3,>=2.21.0->tensorboard<2.3.0,>=2.2.0->tensorflow>=2.2.0->keras) (1.22)\n",
      "Requirement already satisfied, skipping upgrade: chardet<4,>=3.0.2 in /Users/djedamski/.pyenv/versions/3.6.2/lib/python3.6/site-packages (from requests<3,>=2.21.0->tensorboard<2.3.0,>=2.2.0->tensorflow>=2.2.0->keras) (3.0.4)\n",
      "Requirement already satisfied, skipping upgrade: certifi>=2017.4.17 in /Users/djedamski/.pyenv/versions/3.6.2/lib/python3.6/site-packages (from requests<3,>=2.21.0->tensorboard<2.3.0,>=2.2.0->tensorflow>=2.2.0->keras) (2018.1.18)\n",
      "Requirement already satisfied, skipping upgrade: pyasn1-modules>=0.2.1 in /Users/djedamski/.pyenv/versions/3.6.2/lib/python3.6/site-packages (from google-auth<2,>=1.6.3->tensorboard<2.3.0,>=2.2.0->tensorflow>=2.2.0->keras) (0.2.8)\n",
      "Requirement already satisfied, skipping upgrade: cachetools<5.0,>=2.0.0 in /Users/djedamski/.pyenv/versions/3.6.2/lib/python3.6/site-packages (from google-auth<2,>=1.6.3->tensorboard<2.3.0,>=2.2.0->tensorflow>=2.2.0->keras) (4.1.0)\n",
      "Requirement already satisfied, skipping upgrade: rsa<5,>=3.1.4; python_version >= \"3\" in /Users/djedamski/.pyenv/versions/3.6.2/lib/python3.6/site-packages (from google-auth<2,>=1.6.3->tensorboard<2.3.0,>=2.2.0->tensorflow>=2.2.0->keras) (3.4.2)\n",
      "Requirement already satisfied, skipping upgrade: oauthlib>=3.0.0 in /Users/djedamski/.pyenv/versions/3.6.2/lib/python3.6/site-packages (from requests-oauthlib>=0.7.0->google-auth-oauthlib<0.5,>=0.4.1->tensorboard<2.3.0,>=2.2.0->tensorflow>=2.2.0->keras) (3.1.0)\n",
      "Requirement already satisfied, skipping upgrade: pyasn1<0.5.0,>=0.4.6 in /Users/djedamski/.pyenv/versions/3.6.2/lib/python3.6/site-packages (from pyasn1-modules>=0.2.1->google-auth<2,>=1.6.3->tensorboard<2.3.0,>=2.2.0->tensorflow>=2.2.0->keras) (0.4.8)\n"
     ]
    }
   ],
   "source": [
    "# Install keras\n",
    "!pip install -U keras"
   ]
  },
  {
   "cell_type": "code",
   "execution_count": 3,
   "metadata": {},
   "outputs": [
    {
     "name": "stderr",
     "output_type": "stream",
     "text": [
      "Using TensorFlow backend.\n"
     ]
    }
   ],
   "source": [
    "# Import the tools we will need from keras\n",
    "from keras.preprocessing.text import Tokenizer\n",
    "from keras.preprocessing.sequence import pad_sequences"
   ]
  },
  {
   "cell_type": "code",
   "execution_count": 4,
   "metadata": {},
   "outputs": [],
   "source": [
    "# Initialize and fit the tokenizer\n",
    "tokenizer = Tokenizer()\n",
    "tokenizer.fit_on_texts(X_train)"
   ]
  },
  {
   "cell_type": "code",
   "execution_count": 5,
   "metadata": {},
   "outputs": [],
   "source": [
    "# Use that tokenizer to transform the text messages in the training and test sets\n",
    "X_train_seq = tokenizer.texts_to_sequences(X_train)\n",
    "X_test_seq = tokenizer.texts_to_sequences(X_test)"
   ]
  },
  {
   "cell_type": "code",
   "execution_count": 6,
   "metadata": {},
   "outputs": [
    {
     "data": {
      "text/plain": [
       "[544,\n",
       " 279,\n",
       " 1246,\n",
       " 16,\n",
       " 22,\n",
       " 3830,\n",
       " 34,\n",
       " 1095,\n",
       " 203,\n",
       " 213,\n",
       " 1096,\n",
       " 627,\n",
       " 405,\n",
       " 353,\n",
       " 1247,\n",
       " 1248,\n",
       " 1249,\n",
       " 1250,\n",
       " 1097,\n",
       " 9,\n",
       " 4,\n",
       " 545,\n",
       " 374,\n",
       " 16]"
      ]
     },
     "execution_count": 6,
     "metadata": {},
     "output_type": "execute_result"
    }
   ],
   "source": [
    "# What do these sequences look like?\n",
    "X_train_seq[0]"
   ]
  },
  {
   "cell_type": "code",
   "execution_count": 7,
   "metadata": {},
   "outputs": [],
   "source": [
    "# Pad the sequences so each sequence is the same length\n",
    "X_train_seq_padded = pad_sequences(X_train_seq, 50)\n",
    "X_test_seq_padded = pad_sequences(X_test_seq, 50)"
   ]
  },
  {
   "cell_type": "code",
   "execution_count": 8,
   "metadata": {},
   "outputs": [
    {
     "data": {
      "text/plain": [
       "array([   0,    0,    0,    0,    0,    0,    0,    0,    0,    0,    0,\n",
       "          0,    0,    0,    0,    0,    0,    0,    0,    0,    0,    0,\n",
       "          0,    0,    0,    0,  544,  279, 1246,   16,   22, 3830,   34,\n",
       "       1095,  203,  213, 1096,  627,  405,  353, 1247, 1248, 1249, 1250,\n",
       "       1097,    9,    4,  545,  374,   16], dtype=int32)"
      ]
     },
     "execution_count": 8,
     "metadata": {},
     "output_type": "execute_result"
    }
   ],
   "source": [
    "# What do these padded sequences look like?\n",
    "X_train_seq_padded[0]"
   ]
  },
  {
   "cell_type": "markdown",
   "metadata": {},
   "source": [
    "### Build Model"
   ]
  },
  {
   "cell_type": "code",
   "execution_count": 12,
   "metadata": {},
   "outputs": [],
   "source": [
    "# Import the tools needed from keras and define functions to calculate recall and precision\n",
    "import keras.backend as K\n",
    "from keras.layers import Dense, Embedding, LSTM\n",
    "from keras.models import Sequential\n",
    "\n",
    "def recall_m(y_true, y_pred):\n",
    "        true_positives = K.sum(K.round(K.clip(y_true * y_pred, 0, 1)))\n",
    "        possible_positives = K.sum(K.round(K.clip(y_true, 0, 1)))\n",
    "        recall = true_positives / (possible_positives + K.epsilon())\n",
    "        return recall\n",
    "\n",
    "def precision_m(y_true, y_pred):\n",
    "        true_positives = K.sum(K.round(K.clip(y_true * y_pred, 0, 1)))\n",
    "        predicted_positives = K.sum(K.round(K.clip(y_pred, 0, 1)))\n",
    "        precision = true_positives / (predicted_positives + K.epsilon())\n",
    "        return precision"
   ]
  },
  {
   "cell_type": "code",
   "execution_count": 13,
   "metadata": {},
   "outputs": [
    {
     "name": "stdout",
     "output_type": "stream",
     "text": [
      "Model: \"sequential_1\"\n",
      "_________________________________________________________________\n",
      "Layer (type)                 Output Shape              Param #   \n",
      "=================================================================\n",
      "embedding (Embedding)        (None, None, 32)          253024    \n",
      "_________________________________________________________________\n",
      "lstm (LSTM)                  (None, 32)                8320      \n",
      "_________________________________________________________________\n",
      "dense (Dense)                (None, 32)                1056      \n",
      "_________________________________________________________________\n",
      "dense_1 (Dense)              (None, 1)                 33        \n",
      "=================================================================\n",
      "Total params: 262,433\n",
      "Trainable params: 262,433\n",
      "Non-trainable params: 0\n",
      "_________________________________________________________________\n"
     ]
    }
   ],
   "source": [
    "# Construct a simple RNN model\n",
    "model = Sequential()\n",
    "\n",
    "model.add(Embedding(len(tokenizer.index_word)+1, 32))\n",
    "model.add(LSTM(32, dropout=0, recurrent_dropout=0))\n",
    "model.add(Dense(32, activation='relu'))\n",
    "model.add(Dense(1, activation='sigmoid'))\n",
    "model.summary()"
   ]
  },
  {
   "cell_type": "code",
   "execution_count": 14,
   "metadata": {},
   "outputs": [],
   "source": [
    "# Compile the model\n",
    "model.compile(optimizer='adam',\n",
    "              loss='binary_crossentropy',\n",
    "              metrics=['accuracy', precision_m, recall_m])"
   ]
  },
  {
   "cell_type": "code",
   "execution_count": 15,
   "metadata": {},
   "outputs": [
    {
     "name": "stdout",
     "output_type": "stream",
     "text": [
      "Epoch 1/10\n",
      "140/140 [==============================] - 3s 21ms/step - loss: 0.2506 - accuracy: 0.9201 - precision_m: 0.5476 - recall_m: 0.4451 - val_loss: 0.0714 - val_accuracy: 0.9821 - val_precision_m: 0.9750 - val_recall_m: 0.9032\n",
      "Epoch 2/10\n",
      "140/140 [==============================] - 3s 19ms/step - loss: 0.0367 - accuracy: 0.9888 - precision_m: 0.9611 - recall_m: 0.9328 - val_loss: 0.0899 - val_accuracy: 0.9731 - val_precision_m: 0.9714 - val_recall_m: 0.7879\n",
      "Epoch 3/10\n",
      "140/140 [==============================] - 3s 20ms/step - loss: 0.0139 - accuracy: 0.9969 - precision_m: 0.9829 - recall_m: 0.9679 - val_loss: 0.0627 - val_accuracy: 0.9848 - val_precision_m: 1.0000 - val_recall_m: 0.8779\n",
      "Epoch 4/10\n",
      "140/140 [==============================] - 3s 19ms/step - loss: 0.0057 - accuracy: 0.9984 - precision_m: 0.9921 - recall_m: 0.9852 - val_loss: 0.0543 - val_accuracy: 0.9857 - val_precision_m: 0.9791 - val_recall_m: 0.9227\n",
      "Epoch 5/10\n",
      "140/140 [==============================] - 3s 20ms/step - loss: 0.0024 - accuracy: 0.9991 - precision_m: 0.9905 - recall_m: 0.9892 - val_loss: 0.0603 - val_accuracy: 0.9865 - val_precision_m: 0.9791 - val_recall_m: 0.9263\n",
      "Epoch 6/10\n",
      "140/140 [==============================] - 3s 19ms/step - loss: 8.7388e-04 - accuracy: 1.0000 - precision_m: 0.9929 - recall_m: 0.9929 - val_loss: 0.0856 - val_accuracy: 0.9848 - val_precision_m: 0.9968 - val_recall_m: 0.8851\n",
      "Epoch 7/10\n",
      "140/140 [==============================] - 3s 21ms/step - loss: 4.4476e-04 - accuracy: 0.9998 - precision_m: 0.9857 - recall_m: 0.9839 - val_loss: 0.0746 - val_accuracy: 0.9839 - val_precision_m: 0.9911 - val_recall_m: 0.8851\n",
      "Epoch 8/10\n",
      "140/140 [==============================] - 3s 21ms/step - loss: 2.0694e-04 - accuracy: 1.0000 - precision_m: 0.9714 - recall_m: 0.9714 - val_loss: 0.0815 - val_accuracy: 0.9848 - val_precision_m: 0.9968 - val_recall_m: 0.8851\n",
      "Epoch 9/10\n",
      "140/140 [==============================] - 3s 19ms/step - loss: 1.1576e-04 - accuracy: 1.0000 - precision_m: 0.9857 - recall_m: 0.9857 - val_loss: 0.0888 - val_accuracy: 0.9848 - val_precision_m: 0.9968 - val_recall_m: 0.8851\n",
      "Epoch 10/10\n",
      "140/140 [==============================] - 3s 19ms/step - loss: 7.3810e-05 - accuracy: 1.0000 - precision_m: 0.9786 - recall_m: 0.9786 - val_loss: 0.0941 - val_accuracy: 0.9839 - val_precision_m: 0.9968 - val_recall_m: 0.8803\n"
     ]
    }
   ],
   "source": [
    "# Fit the RNN model\n",
    "history = model.fit(X_train_seq_padded, y_train, \n",
    "                    batch_size=32, epochs=10,\n",
    "                    validation_data=(X_test_seq_padded, y_test))"
   ]
  },
  {
   "cell_type": "code",
   "execution_count": 18,
   "metadata": {},
   "outputs": [
    {
     "data": {
      "image/png": "[encoded data removed]",
      "text/plain": [
       "<Figure size 432x288 with 1 Axes>"
      ]
     },
     "metadata": {},
     "output_type": "display_data"
    },
    {
     "data": {
      "image/png": "[encoded data removed]",
      "text/plain": [
       "<Figure size 432x288 with 1 Axes>"
      ]
     },
     "metadata": {},
     "output_type": "display_data"
    },
    {
     "data": {
      "image/png": "[encoded data removed]",
      "text/plain": [
       "<Figure size 432x288 with 1 Axes>"
      ]
     },
     "metadata": {},
     "output_type": "display_data"
    }
   ],
   "source": [
    "# Plot the evaluation metrics by each epoch for the model to see if we are over or underfitting\n",
    "import matplotlib.pyplot as plt\n",
    "\n",
    "for i in ['accuracy', 'precision_m', 'recall_m']:\n",
    "    acc = history.history[i]\n",
    "    val_acc = history.history['val_{}'.format(i)]\n",
    "    epochs = range(1, len(acc) + 1)\n",
    "\n",
    "    plt.figure()\n",
    "    plt.plot(epochs, acc, label='Training Accuracy')\n",
    "    plt.plot(epochs, val_acc, label='Validation Accuracy')\n",
    "    plt.title('Results for {}'.format(i))\n",
    "    plt.legend()\n",
    "    plt.show()"
   ]
  },
  {
   "cell_type": "code",
   "execution_count": null,
   "metadata": {},
   "outputs": [],
   "source": []
  }
 ],
 "metadata": {
  "kernelspec": {
   "display_name": "Python 3",
   "language": "python",
   "name": "python3"
  },
  "language_info": {
   "codemirror_mode": {
    "name": "ipython",
    "version": 3
   },
   "file_extension": ".py",
   "mimetype": "text/x-python",
   "name": "python",
   "nbconvert_exporter": "python",
   "pygments_lexer": "ipython3",
   "version": "3.6.2"
  }
 },
 "nbformat": 4,
 "nbformat_minor": 2
}
