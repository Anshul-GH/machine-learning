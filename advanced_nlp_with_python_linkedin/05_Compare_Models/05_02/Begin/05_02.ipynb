{
 "cells": [
  {
   "cell_type": "markdown",
   "metadata": {},
   "source": [
    "# Compare NLP Techniques: Build Model On TF-IDF Vectors"
   ]
  },
  {
   "cell_type": "markdown",
   "metadata": {},
   "source": [
    "### Read In Cleaned Text"
   ]
  },
  {
   "cell_type": "code",
   "execution_count": 1,
   "metadata": {},
   "outputs": [
    {
     "output_type": "execute_result",
     "data": {
      "text/plain": "                                          clean_text\n0                           [&#39;cool&#39;, &#39;text&#39;, &#39;head&#39;]\n1  [&#39;aiyo&#39;, &#39;u&#39;, &#39;always&#39;, &#39;c&#39;, &#39;ex&#39;, &#39;one&#39;, &#39;dun...\n2                [&#39;ya&#39;, &#39;nice&#39;, &#39;ready&#39;, &#39;thursday&#39;]\n3                          [&#39;think&#39;, &#39;still&#39;, &#39;car&#39;]\n4  [&#39;every&#39;, &#39;mondaynxt&#39;, &#39;week&#39;, &#39;vl&#39;, &#39;completi...",
      "text/html": "<div>\n<style scoped>\n    .dataframe tbody tr th:only-of-type {\n        vertical-align: middle;\n    }\n\n    .dataframe tbody tr th {\n        vertical-align: top;\n    }\n\n    .dataframe thead th {\n        text-align: right;\n    }\n</style>\n<table border=\"1\" class=\"dataframe\">\n  <thead>\n    <tr style=\"text-align: right;\">\n      <th></th>\n      <th>clean_text</th>\n    </tr>\n  </thead>\n  <tbody>\n    <tr>\n      <th>0</th>\n      <td>['cool', 'text', 'head']</td>\n    </tr>\n    <tr>\n      <th>1</th>\n      <td>['aiyo', 'u', 'always', 'c', 'ex', 'one', 'dun...</td>\n    </tr>\n    <tr>\n      <th>2</th>\n      <td>['ya', 'nice', 'ready', 'thursday']</td>\n    </tr>\n    <tr>\n      <th>3</th>\n      <td>['think', 'still', 'car']</td>\n    </tr>\n    <tr>\n      <th>4</th>\n      <td>['every', 'mondaynxt', 'week', 'vl', 'completi...</td>\n    </tr>\n  </tbody>\n</table>\n</div>"
     },
     "metadata": {},
     "execution_count": 1
    }
   ],
   "source": [
    "# Load the cleaned training and test sets\n",
    "import pandas as pd\n",
    "from sklearn.feature_extraction.text import TfidfVectorizer\n",
    "\n",
    "X_train = pd.read_csv('../../../data/X_train.csv')\n",
    "X_test = pd.read_csv('../../../data/X_test.csv')\n",
    "y_train = pd.read_csv('../../../data/y_train.csv')\n",
    "y_test = pd.read_csv('../../../data/y_test.csv')\n",
    "\n",
    "X_train.head()"
   ]
  },
  {
   "cell_type": "markdown",
   "metadata": {},
   "source": [
    "### Create TF-IDF Vectors"
   ]
  },
  {
   "cell_type": "code",
   "execution_count": 2,
   "metadata": {},
   "outputs": [],
   "source": [
    "# Instantiate and fit a TFIDF vectorizer and then use that trained vectorizer\n",
    "# to transform the messages in the training and test sets\n",
    "tfidf_vect = TfidfVectorizer()\n",
    "tfidf_vect.fit(X_train['clean_text'])\n",
    "X_train_vect = tfidf_vect.transform(X_train['clean_text'])\n",
    "X_test_vect = tfidf_vect.transform(X_test['clean_text'])"
   ]
  },
  {
   "cell_type": "code",
   "execution_count": 3,
   "metadata": {},
   "outputs": [
    {
     "output_type": "execute_result",
     "data": {
      "text/plain": "{&#39;cool&#39;: 2129,\n &#39;text&#39;: 7191,\n &#39;head&#39;: 3542,\n &#39;aiyo&#39;: 970,\n &#39;always&#39;: 1021,\n &#39;ex&#39;: 2844,\n &#39;one&#39;: 5256,\n &#39;dunno&#39;: 2643,\n &#39;abt&#39;: 836,\n &#39;mei&#39;: 4686,\n &#39;reply&#39;: 6050,\n &#39;first&#39;: 3031,\n &#39;time&#39;: 7312,\n &#39;fast&#39;: 2936,\n &#39;lucky&#39;: 4513,\n &#39;workin&#39;: 8024,\n &#39;huh&#39;: 3755,\n &#39;got&#39;: 3374,\n &#39;bao&#39;: 1322,\n &#39;ur&#39;: 7622,\n &#39;sugardad&#39;: 6978,\n &#39;ahgee&#39;: 949,\n &#39;ya&#39;: 8152,\n &#39;nice&#39;: 5048,\n &#39;ready&#39;: 5931,\n &#39;thursday&#39;: 7296,\n &#39;think&#39;: 7253,\n &#39;still&#39;: 6866,\n &#39;car&#39;: 1760,\n &#39;every&#39;: 2818,\n &#39;mondaynxt&#39;: 4842,\n &#39;week&#39;: 7863,\n &#39;vl&#39;: 7740,\n &#39;completing&#39;: 2056,\n &#39;ok&#39;: 5231,\n &#39;knackered&#39;: 4189,\n &#39;came&#39;: 1734,\n &#39;home&#39;: 3668,\n &#39;went&#39;: 7886,\n &#39;sleep&#39;: 6576,\n &#39;good&#39;: 3353,\n &#39;full&#39;: 3203,\n &#39;work&#39;: 8021,\n &#39;lark&#39;: 4263,\n &#39;rhythm&#39;: 6114,\n &#39;person&#39;: 5478,\n &#39;establish&#39;: 2798,\n &#39;body&#39;: 1511,\n &#39;learn&#39;: 4299,\n &#39;use&#39;: 7637,\n &#39;want&#39;: 7805,\n &#39;know&#39;: 4194,\n &#39;cant&#39;: 1751,\n &#39;pick&#39;: 5517,\n &#39;phone&#39;: 5504,\n &#39;right&#39;: 6120,\n &#39;pls&#39;: 5572,\n &#39;send&#39;: 6352,\n &#39;message&#39;: 4718,\n &#39;aiyar&#39;: 969,\n &#39;hard&#39;: 3519,\n &#39;type&#39;: 7531,\n &#39;later&#39;: 4273,\n &#39;free&#39;: 3140,\n &#39;tell&#39;: 7159,\n &#39;call&#39;: 1707,\n &#39;scold&#39;: 6288,\n &#39;yep&#39;: 8176,\n &#39;great&#39;: 3409,\n &#39;loxahatchee&#39;: 4495,\n &#39;xmas&#39;: 8135,\n &#39;tree&#39;: 7461,\n &#39;burning&#39;: 1666,\n &#39;ltgt&#39;: 4508,\n &#39;starts&#39;: 6831,\n &#39;hour&#39;: 3712,\n &#39;partys&#39;: 5416,\n &#39;place&#39;: 5545,\n &#39;usf&#39;: 7642,\n &#39;charge&#39;: 1847,\n &#39;contribute&#39;: 2114,\n &#39;way&#39;: 7836,\n &#39;greatly&#39;: 3412,\n &#39;appreciated&#39;: 1120,\n &#39;yeah&#39;: 8166,\n &#39;room&#39;: 6159,\n &#39;sorry&#39;: 6693,\n &#39;ill&#39;: 3822,\n &#39;meeting&#39;: 4681,\n &#39;moji&#39;: 4832,\n &#39;love&#39;: 4478,\n &#39;words&#39;: 8018,\n &#39;rich&#39;: 6116,\n &#39;day&#39;: 2317,\n &#39;guaranteed&#39;: 3444,\n &#39;1000&#39;: 252,\n &#39;cash&#39;: 1788,\n &#39;2000&#39;: 376,\n &#39;prize&#39;: 5748,\n &#39;claim&#39;: 1950,\n &#39;yr&#39;: 8233,\n &#39;customer&#39;: 2252,\n &#39;service&#39;: 6375,\n &#39;representative&#39;: 6055,\n &#39;08714712394&#39;: 108,\n &#39;10am7pm&#39;: 265,\n &#39;uh&#39;: 7541,\n &#39;heads&#39;: 3546,\n &#39;dont&#39;: 2561,\n &#39;much&#39;: 4911,\n &#39;left&#39;: 4310,\n &#39;let&#39;: 4331,\n &#39;kicks&#39;: 4147,\n &#39;around&#39;: 1157,\n &#39;oh&#39;: 5224,\n &#39;den&#39;: 2392,\n &#39;muz&#39;: 4943,\n &#39;change&#39;: 1837,\n &#39;plan&#39;: 5550,\n &#39;liao&#39;: 4338,\n &#39;go&#39;: 3326,\n &#39;back&#39;: 1293,\n &#39;yan&#39;: 8158,\n &#39;jiu&#39;: 4042,\n &#39;lol&#39;: 4434,\n &#39;snatch&#39;: 6632,\n &#39;purse&#39;: 5829,\n &#39;going&#39;: 3342,\n &#39;hope&#39;: 3687,\n &#39;meet&#39;: 4678,\n &#39;regret&#39;: 6000,\n &#39;inform&#39;: 3880,\n &#39;nhs&#39;: 5044,\n &#39;made&#39;: 4561,\n &#39;mistakeu&#39;: 4793,\n &#39;never&#39;: 5030,\n &#39;actually&#39;: 878,\n &#39;bornplease&#39;: 1539,\n &#39;report&#39;: 6053,\n &#39;yor&#39;: 8207,\n &#39;local&#39;: 4419,\n &#39;hospital&#39;: 3702,\n &#39;2b&#39;: 423,\n &#39;terminatedwe&#39;: 7177,\n &#39;inconvenience&#39;: 3861,\n &#39;forget&#39;: 3104,\n &#39;owns&#39;: 5354,\n &#39;whos&#39;: 7929,\n &#39;private&#39;: 5745,\n &#39;property&#39;: 5792,\n &#39;boy&#39;: 1570,\n &#39;passionate&#39;: 5423,\n &#39;kiss&#39;: 4166,\n &#39;also&#39;: 1017,\n &#39;sir&#39;: 6536,\n &#39;sent&#39;: 6362,\n &#39;email&#39;: 2726,\n &#39;log&#39;: 4425,\n &#39;usc&#39;: 7636,\n &#39;payment&#39;: 5442,\n &#39;portal&#39;: 5633,\n &#39;another&#39;: 1067,\n &#39;explain&#39;: 2875,\n &#39;things&#39;: 7252,\n &#39;weekend&#39;: 7865,\n &#39;ahhh&#39;: 950,\n &#39;vaguely&#39;: 7664,\n &#39;remember&#39;: 6019,\n &#39;feel&#39;: 2964,\n &#39;like&#39;: 4358,\n &#39;im&#39;: 3825,\n &#39;buy&#39;: 1680,\n &#39;mums&#39;: 4926,\n &#39;present&#39;: 5713,\n &#39;ar&#39;: 1133,\n &#39;total&#39;: 7416,\n &#39;video&#39;: 7709,\n &#39;converter&#39;: 2119,\n &#39;download&#39;: 2582,\n &#39;google&#39;: 3368,\n &#39;search&#39;: 6310,\n &#39;smith&#39;: 6616,\n &#39;waste&#39;: 7820,\n &#39;dai&#39;: 2279,\n &#39;wanna&#39;: 7803,\n &#39;gayle&#39;: 3251,\n &#39;many&#39;: 4603,\n &#39;dependents&#39;: 2401,\n &#39;god&#39;: 3331,\n &#39;created&#39;: 2197,\n &#39;gap&#39;: 3236,\n &#39;fingers&#39;: 3017,\n &#39;comes&#39;: 2029,\n &#39;amp&#39;: 1037,\n &#39;fills&#39;: 3000,\n &#39;gaps&#39;: 3237,\n &#39;holding&#39;: 3661,\n &#39;hand&#39;: 3497,\n &#39;masters&#39;: 4628,\n &#39;bb&#39;: 1351,\n &#39;cos&#39;: 2145,\n &#39;sale&#39;: 6228,\n &#39;hows&#39;: 3724,\n &#39;bf&#39;: 1435,\n &#39;friendship&#39;: 3172,\n &#39;game&#39;: 3231,\n &#39;play&#39;: 5558,\n &#39;word&#39;: 8016,\n &#39;say&#39;: 6272,\n &#39;doesnt&#39;: 2537,\n &#39;start&#39;: 6826,\n &#39;march&#39;: 4608,\n &#39;ends&#39;: 2743,\n &#39;may&#39;: 4653,\n &#39;tomorrow&#39;: 7378,\n &#39;yesterday&#39;: 8193,\n &#39;today&#39;: 7352,\n &#39;knw&#39;: 4202,\n &#39;givits&#39;: 3314,\n &#39;thanks&#39;: 7210,\n &#39;kanoanyway&#39;: 4110,\n &#39;enjoy&#39;: 2754,\n &#39;wit&#39;: 7974,\n &#39;family&#39;: 2921,\n &#39;1st&#39;: 363,\n &#39;salary&#39;: 6227,\n &#39;willing&#39;: 7948,\n &#39;apps&#39;: 1126,\n &#39;class&#39;: 1957,\n &#39;would&#39;: 8046,\n &#39;mom&#39;: 4836,\n &#39;fit&#39;: 3034,\n &#39;whole&#39;: 7927,\n &#39;crazy&#39;: 2194,\n &#39;terrible&#39;: 7180,\n &#39;whatsup&#39;: 7907,\n &#39;please&#39;: 5566,\n &#39;auntys&#39;: 1238,\n &#39;number&#39;: 5160,\n &#39;ive&#39;: 3988,\n &#39;reached&#39;: 5923,\n &#39;already&#39;: 1011,\n &#39;creep&#39;: 2204,\n &#39;sexy&#39;: 6391,\n &#39;cum&#39;: 2238,\n &#39;wet&#39;: 7900,\n &#39;warm&#39;: 7812,\n &#39;porn&#39;: 5632,\n &#39;fun&#39;: 3206,\n &#39;msg&#39;: 4894,\n &#39;recd&#39;: 5952,\n &#39;msgs&#39;: 4897,\n &#39;150p&#39;: 310,\n &#39;inc&#39;: 3851,\n &#39;vat&#39;: 7683,\n &#39;cancel&#39;: 1743,\n &#39;stop&#39;: 6879,\n &#39;kbut&#39;: 4121,\n &#39;big&#39;: 1441,\n &#39;hitteranyway&#39;: 3632,\n &#39;joys&#39;: 4071,\n &#39;father&#39;: 2942,\n &#39;john&#39;: 4050,\n &#39;name&#39;: 4962,\n &#39;mandan&#39;: 4596,\n &#39;ambrithmaduraimet&#39;: 1026,\n &#39;arun&#39;: 1173,\n &#39;dha&#39;: 2438,\n &#39;marrgeremembr&#39;: 4616,\n &#39;late&#39;: 4268,\n &#39;fr&#39;: 3128,\n &#39;dinner&#39;: 2484,\n &#39;yup&#39;: 8242,\n &#39;anything&#39;: 1088,\n &#39;lor&#39;: 4455,\n &#39;dun&#39;: 2641,\n &#39;wan&#39;: 7800,\n &#39;ugh&#39;: 7539,\n &#39;gotta&#39;: 3379,\n &#39;drive&#39;: 2609,\n &#39;sd&#39;: 6306,\n &#39;la&#39;: 4228,\n &#39;butt&#39;: 1677,\n &#39;sore&#39;: 6690,\n &#39;hey&#39;: 3606,\n &#39;iouri&#39;: 3938,\n &#39;gave&#39;: 3249,\n &#39;wylie&#39;: 8125,\n &#39;ryans&#39;: 6207,\n &#39;friend&#39;: 3168,\n &#39;well&#39;: 7880,\n &#39;done&#39;: 2559,\n &#39;england&#39;: 2752,\n &#39;get&#39;: 3281,\n &#39;official&#39;: 5215,\n &#39;poly&#39;: 5611,\n &#39;ringtone&#39;: 6128,\n &#39;colour&#39;: 2017,\n &#39;flag&#39;: 3042,\n &#39;yer&#39;: 8177,\n &#39;mobile&#39;: 4816,\n &#39;tone&#39;: 7382,\n &#39;84199&#39;: 741,\n &#39;optout&#39;: 5295,\n &#39;txt&#39;: 7520,\n &#39;eng&#39;: 2747,\n &#39;box39822&#39;: 1562,\n &#39;w111wx&#39;: 7762,\n &#39;150&#39;: 305,\n &#39;painful&#39;: 5372,\n &#39;personal&#39;: 5480,\n &#39;thought&#39;: 7273,\n &#39;try&#39;: 7481,\n &#39;keep&#39;: 4124,\n &#39;everybody&#39;: 2820,\n &#39;happy&#39;: 3518,\n &#39;nobody&#39;: 5082,\n &#39;recognises&#39;: 5968,\n &#39;alone&#39;: 1008,\n &#39;really&#39;: 5940,\n &#39;perform&#39;: 5467,\n &#39;write&#39;: 8055,\n &#39;paper&#39;: 5386,\n &#39;movie&#39;: 4882,\n &#39;midnight&#39;: 4742,\n &#39;guess&#39;: 3451,\n &#39;thats&#39;: 7225,\n &#39;worried&#39;: 8035,\n &#39;must&#39;: 4938,\n &#39;theres&#39;: 7244,\n &#39;repairs&#39;: 6042,\n &#39;quite&#39;: 5863,\n &#39;sure&#39;: 7018,\n &#39;shouldnt&#39;: 6474,\n &#39;worry&#39;: 8037,\n &#39;take&#39;: 7086,\n &#39;slow&#39;: 6599,\n &#39;tests&#39;: 7187,\n &#39;guide&#39;: 3457,\n &#39;ovulation&#39;: 5348,\n &#39;relax&#39;: 6008,\n &#39;nothing&#39;: 5126,\n &#39;youve&#39;: 8226,\n &#39;said&#39;: 6224,\n &#39;reason&#39;: 5944,\n &#39;followin&#39;: 3083,\n &#39;sppok&#39;: 6784,\n &#39;mob&#39;: 4814,\n &#39;halloween&#39;: 3493,\n &#39;collection&#39;: 2013,\n &#39;nokia&#39;: 5094,\n &#39;logopic&#39;: 4430,\n &#39;plus&#39;: 5578,\n &#39;eerie&#39;: 2689,\n &#39;card&#39;: 1761,\n &#39;spook&#39;: 6775,\n &#39;8007&#39;: 700,\n &#39;gwr&#39;: 3468,\n &#39;come&#39;: 2025,\n &#39;immediately&#39;: 3835,\n &#39;aft&#39;: 926,\n &#39;lesson&#39;: 4329,\n &#39;ah&#39;: 946,\n &#39;wat&#39;: 7823,\n &#39;eating&#39;: 2675,\n &#39;saw&#39;: 6271,\n &#39;ron&#39;: 6157,\n &#39;burgundy&#39;: 1663,\n &#39;captaining&#39;: 1759,\n &#39;party&#39;: 5415,\n &#39;boat&#39;: 1508,\n &#39;guy&#39;: 3464,\n &#39;kadeem&#39;: 4095,\n &#39;hasnt&#39;: 3528,\n &#39;selling&#39;: 6345,\n &#39;since&#39;: 6524,\n &#39;break&#39;: 1589,\n &#39;hes&#39;: 3601,\n &#39;paranoid&#39;: 5392,\n &#39;fuck&#39;: 3193,\n &#39;without&#39;: 7977,\n &#39;til&#39;: 7309,\n &#39;tonight&#39;: 7388,\n &#39;kkapo&#39;: 4174,\n &#39;kgood&#39;: 4140,\n &#39;means&#39;: 4664,\n &#39;could&#39;: 2156,\n &#39;see&#39;: 6324,\n &#39;film&#39;: 3001,\n &#39;gam&#39;: 3230,\n &#39;gone&#39;: 3350,\n &#39;outstanding&#39;: 5338,\n &#39;innings&#39;: 3893,\n &#39;honey&#39;: 3677,\n &#39;find&#39;: 3010,\n &#39;sell&#39;: 6344,\n &#39;predicte&#39;: 5697,\n &#39;nigeria&#39;: 5051,\n &#39;times&#39;: 7315,\n &#39;used&#39;: 7638,\n &#39;important&#39;: 3839,\n &#39;monday&#39;: 4841,\n &#39;uncles&#39;: 7560,\n &#39;atlanta&#39;: 1209,\n &#39;wish&#39;: 7968,\n &#39;guys&#39;: 3465,\n &#39;semester&#39;: 6348,\n &#39;lord&#39;: 4456,\n &#39;ringsreturn&#39;: 6127,\n &#39;king&#39;: 4161,\n &#39;store&#39;: 6888,\n &#39;nowreply&#39;: 5143,\n &#39;lotr&#39;: 4467,\n &#39;june&#39;: 4084,\n &#39;chance&#39;: 1835,\n &#39;win&#39;: 7949,\n &#39;soundtrack&#39;: 6710,\n &#39;cds&#39;: 1813,\n &#39;stdtxtrate&#39;: 6846,\n &#39;end&#39;: 2739,\n &#39;txts&#39;: 7527,\n &#39;tkts&#39;: 7336,\n &#39;euro2004&#39;: 2805,\n &#39;cup&#39;: 2241,\n &#39;final&#39;: 3006,\n &#39;800&#39;: 697,\n &#39;collect&#39;: 2010,\n &#39;09058099801&#39;: 181,\n &#39;b4190604&#39;: 1276,\n &#39;pobox&#39;: 5585,\n &#39;7876150ppm&#39;: 684,\n &#39;wrkin&#39;: 8059,\n &#39;appointment&#39;: 1117,\n &#39;heard&#39;: 3552,\n &#39;u4&#39;: 7533,\n &#39;night&#39;: 5053,\n &#39;knickers&#39;: 4192,\n &#39;make&#39;: 4583,\n &#39;beg&#39;: 1396,\n &#39;last&#39;: 4265,\n &#39;01223585236&#39;: 3,\n &#39;xx&#39;: 8140,\n &#39;luv&#39;: 4525,\n &#39;nikiyu4net&#39;: 5061,\n &#39;knows&#39;: 4198,\n &#39;aint&#39;: 962,\n &#39;smokin&#39;: 6621,\n &#39;yet&#39;: 8194,\n &#39;waliking&#39;: 7788,\n &#39;ard&#39;: 1137,\n &#39;house&#39;: 3714,\n &#39;giggle&#39;: 3298,\n &#39;possibly&#39;: 5647,\n &#39;person2die&#39;: 5479,\n &#39;nvq&#39;: 5174,\n &#39;people&#39;: 5462,\n &#39;mall&#39;: 4589,\n &#39;kaila&#39;: 4098,\n &#39;stupid&#39;: 6940,\n &#39;auto&#39;: 1242,\n &#39;correct&#39;: 2141,\n &#39;realize&#39;: 5937,\n &#39;40&#39;: 527,\n &#39;years&#39;: 8169,\n &#39;thousands&#39;: 7276,\n &#39;old&#39;: 5248,\n &#39;ladies&#39;: 4237,\n &#39;running&#39;: 6201,\n &#39;tattoos&#39;: 7118,\n &#39;need&#39;: 5004,\n &#39;outsider&#39;: 5337,\n &#39;isnt&#39;: 3961,\n &#39;decision&#39;: 2357,\n &#39;feeling&#39;: 2966,\n &#39;decide&#39;: 2354,\n &#39;life&#39;: 4346,\n &#39;simpler&#39;: 6520,\n &#39;less&#39;: 4327,\n &#39;magical&#39;: 4570,\n &#39;company&#39;: 2044,\n &#39;goodenvironment&#39;: 3355,\n &#39;terrific&#39;: 7181,\n &#39;food&#39;: 3090,\n &#39;chic&#39;: 1894,\n &#39;common&#39;: 2039,\n &#39;declare&#39;: 2361,\n &#39;thanx&#39;: 7215,\n &#39;list&#39;: 4390,\n &#39;joanna&#39;: 4044,\n &#39;anti&#39;: 1078,\n &#39;social&#39;: 6647,\n &#39;hahahause&#39;: 3480,\n &#39;brain&#39;: 1578,\n &#39;dear&#39;: 2339,\n &#39;tallent&#39;: 7103,\n &#39;wasting&#39;: 7822,\n &#39;true&#39;: 7474,\n &#39;part&#39;: 5407,\n &#39;nottingham&#39;: 5131,\n &#39;hrs&#39;: 3732,\n &#39;63miles&#39;: 640,\n &#39;thing&#39;: 7251,\n &#39;man&#39;: 4591,\n &#39;40mph&#39;: 534,\n &#39;ho&#39;: 3652,\n &#39;meant&#39;: 4665,\n &#39;calculation&#39;: 1703,\n &#39;units&#39;: 7583,\n &#39;school&#39;: 6285,\n &#39;expensive&#39;: 2869,\n &#39;started&#39;: 6827,\n &#39;practicing&#39;: 5681,\n &#39;accent&#39;: 843,\n &#39;decided&#39;: 2355,\n &#39;4years&#39;: 590,\n &#39;dental&#39;: 2395,\n &#39;youll&#39;: 8216,\n &#39;nmde&#39;: 5074,\n &#39;exam&#39;: 2847,\n &#39;looking&#39;: 4448,\n &#39;ìï&#39;: 8262,\n &#39;takin&#39;: 7091,\n &#39;linear&#39;: 4372,\n &#39;algebra&#39;: 990,\n &#39;slowly&#39;: 6602,\n &#39;godi&#39;: 3332,\n &#39;youclean&#39;: 8210,\n &#39;heart&#39;: 3555,\n &#39;bloodsend&#39;: 1494,\n &#39;ten&#39;: 7170,\n &#39;special&#39;: 6731,\n &#39;miracle&#39;: 4774,\n &#39;itplspls&#39;: 3979,\n &#39;didnt&#39;: 2454,\n &#39;online&#39;: 5261,\n &#39;09095350301&#39;: 241,\n &#39;girls&#39;: 3307,\n &#39;erotic&#39;: 2782,\n &#39;ecstacy&#39;: 2678,\n &#39;60pmin&#39;: 632,\n &#39;texts&#39;: 7202,\n &#39;08712460324&#39;: 100,\n &#39;nat&#39;: 4976,\n &#39;rate&#39;: 5903,\n &#39;stand&#39;: 6816,\n &#39;close&#39;: 1975,\n &#39;tho&#39;: 7268,\n &#39;catch&#39;: 1800,\n &#39;something&#39;: 6664,\n &#39;dad&#39;: 2272,\n &#39;oredi&#39;: 5306,\n &#39;blakes&#39;: 1474,\n &#39;address&#39;: 887,\n &#39;carlos&#39;: 1777,\n &#39;wanted&#39;: 7807,\n &#39;lost&#39;: 4464,\n &#39;answering&#39;: 1073,\n &#39;addie&#39;: 885,\n &#39;art&#39;: 1168,\n &#39;25p&#39;: 408,\n &#39;alfie&#39;: 988,\n &#39;moons&#39;: 4859,\n &#39;children&#39;: 1912,\n &#39;song&#39;: 6676,\n &#39;m8s&#39;: 4544,\n &#39;charity&#39;: 1851,\n &#39;nokias&#39;: 5098,\n &#39;polys&#39;: 5617,\n &#39;zed&#39;: 8248,\n &#39;08701417012&#39;: 67,\n &#39;profit&#39;: 5773,\n &#39;babe&#39;: 1283,\n &#39;lets&#39;: 4332,\n &#39;4get&#39;: 569,\n &#39;itboth&#39;: 3966,\n &#39;cheer&#39;: 1877,\n &#39;upnot&#39;: 7611,\n &#39;soo&#39;: 6681,\n &#39;muchxxlove&#39;: 4914,\n &#39;locaxx&#39;: 4422,\n &#39;tirupur&#39;: 7327,\n &#39;da&#39;: 2268,\n &#39;rajipls&#39;: 5887,\n &#39;favour&#39;: 2953,\n &#39;convey&#39;: 2120,\n &#39;birthday&#39;: 1462,\n &#39;wishes&#39;: 7970,\n &#39;nimya&#39;: 5063,\n &#39;world&#39;: 8029,\n &#39;famamus&#39;: 2919,\n &#39;dawhats&#39;: 2315,\n &#39;sweet&#39;: 7044,\n &#39;4u&#39;: 586,\n &#39;gauge&#39;: 3247,\n &#39;pattys&#39;: 5434,\n &#39;interest&#39;: 3916,\n &#39;annoying&#39;: 1065,\n &#39;becomes&#39;: 1382,\n &#39;habit&#39;: 3475,\n &#39;finally&#39;: 3008,\n &#39;follow&#39;: 3081,\n &#39;morning&#39;: 4865,\n &#39;hello&#39;: 3573,\n &#39;orange&#39;: 5299,\n &#39;months&#39;: 4856,\n &#39;access&#39;: 845,\n &#39;games&#39;: 3232,\n &#39;news&#39;: 5039,\n &#39;sport&#39;: 6778,\n &#39;10&#39;: 250,\n &#39;20&#39;: 374,\n &#39;photo&#39;: 5509,\n &#39;messages&#39;: 4724,\n &#39;yes&#39;: 8178,\n &#39;terms&#39;: 7178,\n &#39;apply&#39;: 1113,\n &#39;wwworangecoukow&#39;: 8102,\n &#39;size&#39;: 6554,\n &#39;elephant&#39;: 2718,\n &#39;tablets&#39;: 7073,\n &#39;shove&#39;: 6477,\n &#39;um&#39;: 7552,\n &#39;ass&#39;: 1192,\n &#39;bucks&#39;: 1643,\n &#39;getting&#39;: 3289,\n &#39;connection&#39;: 2092,\n &#39;bw&#39;: 1685,\n &#39;howz&#39;: 3726,\n &#39;painit&#39;: 5375,\n &#39;todaydo&#39;: 7354,\n &#39;ystrdayice&#39;: 8235,\n &#39;medicine&#39;: 4674,\n &#39;waiting&#39;: 7782,\n &#39;letter&#39;: 4333,\n &#39;possession&#39;: 5641,\n &#39;especially&#39;: 2793,\n &#39;offense&#39;: 5204,\n &#39;arrived&#39;: 1165,\n &#39;couple&#39;: 2166,\n &#39;days&#39;: 2321,\n &#39;lt3&#39;: 4502,\n &#39;shes&#39;: 6430,\n &#39;surprise&#39;: 7023,\n &#39;chikku&#39;: 1900,\n &#39;cell&#39;: 1819,\n &#39;problem&#39;: 5755,\n &#39;thts&#39;: 7293,\n &#39;nt&#39;: 5152,\n &#39;able&#39;: 831,\n &#39;tones&#39;: 7383,\n &#39;rply&#39;: 6177,\n &#39;title&#39;: 7330,\n &#39;eg&#39;: 2695,\n &#39;dracula&#39;: 2589,\n &#39;titles&#39;: 7331,\n &#39;ghost&#39;: 3293,\n &#39;addamsfa&#39;: 882,\n &#39;munsters&#39;: 4930,\n &#39;exorcist&#39;: 2864,\n &#39;twilight&#39;: 7516,\n &#39;wwwgetzedcouk&#39;: 8094,\n &#39;pobox36504w45wq&#39;: 5591,\n &#39;ph&#39;: 5494,\n &#39;boo&#39;: 1522,\n &#39;hoping&#39;: 3694,\n &#39;laugh&#39;: 4276,\n &#39;unless&#39;: 7587,\n &#39;situation&#39;: 6549,\n &#39;gurl&#39;: 3462,\n &#39;appropriate&#39;: 1123,\n &#39;remains&#39;: 6017,\n &#39;bro&#39;: 1616,\n &#39;amongst&#39;: 1034,\n &#39;bros&#39;: 1622,\n &#39;omw&#39;: 5252,\n &#39;tampa&#39;: 7105,\n &#39;west&#39;: 7895,\n &#39;palm&#39;: 5378,\n &#39;hear&#39;: 3551,\n &#39;happened&#39;: 3511,\n &#39;thank&#39;: 7209,\n &#39;princess&#39;: 5736,\n &#39;hi&#39;: 3611,\n &#39;chachi&#39;: 1828,\n &#39;tried&#39;: 7464,\n &#39;calling&#39;: 1724,\n &#39;unable&#39;: 7557,\n &#39;reach&#39;: 5921,\n &#39;pl&#39;: 5544,\n &#39;give&#39;: 3310,\n &#39;missed&#39;: 4783,\n &#39;cal&#39;: 1702,\n &#39;tiz&#39;: 7335,\n &#39;kanagu&#39;: 4106,\n &#39;wats&#39;: 7833,\n &#39;bluetooth&#39;: 1503,\n &#39;headset&#39;: 3547,\n &#39;simply&#39;: 6521,\n &#39;adp&#39;: 901,\n &#39;roommates&#39;: 6162,\n &#39;took&#39;: 7394,\n &#39;forever&#39;: 3102,\n &#39;maybe&#39;: 4655,\n &#39;book&#39;: 1524,\n &#39;tomo&#39;: 7375,\n &#39;return&#39;: 6100,\n &#39;ideas&#39;: 3806,\n &#39;wil&#39;: 7945,\n &#39;picked&#39;: 5518,\n &#39;flower&#39;: 3065,\n &#39;dippeditinadew&#39;: 2487,\n &#39;lovingly&#39;: 4490,\n &#39;touched&#39;: 7419,\n &#39;itwhichturnedinto&#39;: 3983,\n &#39;gifted&#39;: 3297,\n &#39;tomeandsaidthis&#39;: 7374,\n &#39;regards&#39;: 5996,\n &#39;sun&#39;: 6991,\n &#39;thk&#39;: 7262,\n &#39;mayb&#39;: 4654,\n &#39;anythin&#39;: 1087,\n &#39;pilates&#39;: 5532,\n &#39;orchard&#39;: 5302,\n &#39;mrt&#39;: 4891,\n &#39;noe&#39;: 5085,\n &#39;hor&#39;: 3695,\n &#39;forgot&#39;: 3108,\n &#39;ask&#39;: 1184,\n &#39;smth&#39;: 6628,\n &#39;lei&#39;: 4318,\n &#39;sign&#39;: 6506,\n &#39;2003&#39;: 378,\n &#39;account&#39;: 855,\n &#39;statement&#39;: 6837,\n &#39;shows&#39;: 6486,\n &#39;unredeemed&#39;: 7594,\n &#39;sim&#39;: 6517,\n &#39;points&#39;: 5603,\n &#39;08718738001&#39;: 144,\n &#39;identifier&#39;: 3807,\n &#39;code&#39;: 1996,\n &#39;49557&#39;: 564,\n &#39;expires&#39;: 2873,\n &#39;261104&#39;: 411,\n &#39;mean&#39;: 4661,\n &#39;post&#39;: 5648,\n &#39;wrote&#39;: 8067,\n &#39;ritten&#39;: 6139,\n &#39;stuff&#39;: 6933,\n &#39;sit&#39;: 6543,\n &#39;angry&#39;: 1054,\n &#39;hit&#39;: 3628,\n &#39;wasnt&#39;: 7818,\n &#39;checked&#39;: 1873,\n &#39;bored&#39;: 1535,\n &#39;wouldnt&#39;: 8048,\n &#39;clean&#39;: 1962,\n &#39;fold&#39;: 3078,\n &#39;laundry&#39;: 4280,\n &#39;etc&#39;: 2800,\n &#39;least&#39;: 4301,\n &#39;bed&#39;: 1385,\n &#39;wonder&#39;: 8006,\n &#39;battery&#39;: 1348,\n &#39;dead&#39;: 2330,\n &#39;rofl&#39;: 6151,\n &#39;faster&#39;: 2937,\n &#39;sis&#39;: 6541,\n &#39;pressies&#39;: 5718,\n &#39;surfing&#39;: 7021,\n &#39;offers&#39;: 5207,\n &#39;knowthis&#39;: 4199,\n &#39;tirunelvai&#39;: 7325,\n &#39;short&#39;: 6467,\n &#39;cute&#39;: 2257,\n &#39;abj&#39;: 830,\n &#39;serving&#39;: 6377,\n &#39;staying&#39;: 6843,\n &#39;pa&#39;: 5360,\n &#39;case&#39;: 1787,\n &#39;campus&#39;: 1738,\n &#39;lodge&#39;: 4424,\n &#39;olol&#39;: 5250,\n &#39;printed&#39;: 5738,\n &#39;forum&#39;: 3117,\n &#39;exact&#39;: 2845,\n &#39;prob&#39;: 5753,\n &#39;fixed&#39;: 3039,\n &#39;gpu&#39;: 3385,\n &#39;replacement&#39;: 6047,\n &#39;hopefully&#39;: 3691,\n &#39;ignore&#39;: 3816,\n &#39;calls&#39;: 1727,\n &#39;afternoon&#39;: 928,\n &#39;onwords&#39;: 5270,\n &#39;mtnl&#39;: 4909,\n &#39;south&#39;: 6714,\n &#39;mumbai&#39;: 4922,\n &#39;cannt&#39;: 1750,\n &#39;listen&#39;: 4392,\n &#39;2004&#39;: 379,\n &#39;0784987&#39;: 38,\n &#39;786&#39;: 683,\n &#39;bonus&#39;: 1521,\n &#39;08719180219&#39;: 146,\n &#39;45239&#39;: 556,\n &#39;060505&#39;: 18,\n &#39;08715203685&#39;: 116,\n &#39;code4xx26&#39;: 1997,\n &#39;131004&#39;: 296,\n &#39;earlier&#39;: 2657,\n &#39;putting&#39;: 5837,\n &#39;firesare&#39;: 3029,\n &#39;talk&#39;: 7095,\n &#39;voucher&#39;: 7753,\n &#39;holder&#39;: 3660,\n &#39;weeks&#39;: 7868,\n &#39;offer&#39;: 5205,\n &#39;pc&#39;: 5445,\n &#39;httpwwwetlpcoukexpressoffer&#39;: 3741,\n &#39;tscs&#39;: 7486,\n &#39;apply2&#39;: 1114,\n &#39;80062&#39;: 699,\n &#39;empty&#39;: 2736,\n &#39;handed&#39;: 3498,\n &#39;picking&#39;: 5519,\n &#39;various&#39;: 7679,\n &#39;yeovil&#39;: 8175,\n &#39;motor&#39;: 4874,\n &#39;project&#39;: 5777,\n &#39;hours&#39;: 3713,\n &#39;12&#39;: 280,\n &#39;530&#39;: 604,\n &#39;max&#39;: 4648,\n &#39;easy&#39;: 2671,\n &#39;mate&#39;: 4632,\n &#39;haunt&#39;: 3534,\n &#39;sorted&#39;: 6698,\n &#39;sound&#39;: 6707,\n &#39;anyway&#39;: 1092,\n &#39;promoting&#39;: 5785,\n &#39;hex&#39;: 3605,\n &#39;joke&#39;: 4056,\n &#39;wondar&#39;: 8005,\n &#39;flim&#39;: 3055,\n &#39;ikea&#39;: 3819,\n &#39;str&#39;: 6893,\n &#39;dat&#39;: 2304,\n &#39;summers&#39;: 6987,\n &#39;fancy&#39;: 2926,\n &#39;chat&#39;: 1860,\n &#39;flirt&#39;: 3058,\n &#39;singles&#39;: 6531,\n &#39;area&#39;: 1139,\n &#39;matched&#39;: 4630,\n &#39;summer&#39;: 6986,\n &#39;join&#39;: 4052,\n &#39;help08714742804&#39;: 3581,\n &#39;freemsg&#39;: 3148,\n &#39;date&#39;: 2306,\n &#39;uks&#39;: 7547,\n &#39;fastest&#39;: 2938,\n &#39;growing&#39;: 3431,\n &#39;dating&#39;: 2309,\n &#39;rcvd&#39;: 5918,\n &#39;83021&#39;: 723,\n &#39;small&#39;: 6604,\n &#39;kid&#39;: 4148,\n &#39;boost&#39;: 1531,\n &#39;secret&#39;: 6318,\n &#39;energy&#39;: 2746,\n &#39;studies&#39;: 6928,\n &#39;anyones&#39;: 1084,\n &#39;help&#39;: 3577,\n &#39;study&#39;: 6930,\n &#39;darlin&#39;: 2297,\n &#39;london&#39;: 4438,\n &#39;smashed&#39;: 6608,\n &#39;driver&#39;: 2610,\n &#39;dent&#39;: 2394,\n &#39;missing&#39;: 4785,\n &#39;xxx&#39;: 8143,\n &#39;hot&#39;: 3707,\n &#39;air&#39;: 963,\n &#39;balloon&#39;: 1309,\n &#39;plane&#39;: 5551,\n &#39;month&#39;: 4853,\n &#39;lunch&#39;: 4520,\n &#39;menu&#39;: 4707,\n &#39;min&#39;: 4753,\n &#39;set&#39;: 6379,\n &#39;mind&#39;: 4756,\n &#39;easily&#39;: 2667,\n &#39;forgets&#39;: 3105,\n &#39;valentines&#39;: 7668,\n &#39;thinkin&#39;: 7255,\n &#39;goin&#39;: 3340,\n &#39;32000&#39;: 482,\n &#39;award&#39;: 1263,\n &#39;even&#39;: 2812,\n &#39;0800&#39;: 43,\n &#39;18&#39;: 340,\n &#39;legitimat&#39;: 4314,\n &#39;efreefone&#39;: 2694,\n &#39;wait&#39;: 7778,\n &#39;till&#39;: 7310,\n &#39;bus&#39;: 1670,\n &#39;admirer&#39;: 895,\n &#39;contact&#39;: 2103,\n &#39;ufind&#39;: 7537,\n &#39;rreveal&#39;: 6179,\n &#39;thinks&#39;: 7257,\n &#39;specialcall&#39;: 6732,\n &#39;09058094565&#39;: 173,\n &#39;whats&#39;: 7906,\n &#39;pin&#39;: 5537,\n &#39;long&#39;: 4441,\n &#39;drink&#39;: 2604,\n &#39;shijutta&#39;: 6435,\n &#39;successful&#39;: 6964,\n &#39;welcome&#39;: 7879,\n &#39;age&#39;: 935,\n &#39;gender&#39;: 3268,\n &#39;begin&#39;: 1399,\n &#39;24m&#39;: 402,\n &#39;depressed&#39;: 2405,\n &#39;sittin&#39;: 6547,\n &#39;waitin&#39;: 7781,\n &#39;ring&#39;: 6125,\n &#39;wind&#39;: 7950,\n &#39;drops&#39;: 2617,\n &#39;though&#39;: 7272,\n &#39;scary&#39;: 6280,\n &#39;glo&#39;: 3317,\n &#39;bitching&#39;: 1466,\n &#39;acted&#39;: 868,\n &#39;id&#39;: 3801,\n &#39;interested&#39;: 3917,\n &#39;buying&#39;: 1682,\n &#39;else&#39;: 2722,\n &#39;next&#39;: 5042,\n &#39;us&#39;: 7634,\n &#39;lift&#39;: 4353,\n &#39;kinda&#39;: 4159,\n &#39;jokethet&#39;: 4059,\n &#39;skinny&#39;: 6563,\n &#39;white&#39;: 7925,\n &#39;lineyou&#39;: 4376,\n &#39;camera&#39;: 1735,\n &#39;theyre&#39;: 7247,\n &#39;casting&#39;: 1796,\n &#39;look&#39;: 4444,\n &#39;lyricalladie21f&#39;: 4536,\n &#39;inviting&#39;: 3933,\n &#39;yes910&#39;: 8183,\n &#39;no910&#39;: 5081,\n &#39;wwwsmsacuhmmross&#39;: 8111,\n &#39;frnd&#39;: 3177,\n &#39;62468&#39;: 637,\n &#39;happens&#39;: 3514,\n &#39;vegas&#39;: 7688,\n &#39;stays&#39;: 6844,\n &#39;happen&#39;: 3509,\n &#39;swimming&#39;: 7050,\n &#39;pool&#39;: 5622,\n &#39;jacuzzi&#39;: 3999,\n &#39;favourite&#39;: 2954,\n &#39;couldnt&#39;: 2158,\n &#39;nite&#39;: 5069,\n &#39;nearly&#39;: 4996,\n &#39;rang&#39;: 5898,\n &#39;430&#39;: 542,\n &#39;bloomberg&#39;: 1496,\n &#39;center&#39;: 1821,\n &#39;447797706009&#39;: 546,\n &#39;future&#39;: 3215,\n &#39;httpcareers&#39;: 3735,\n &#39;bloombergcom&#39;: 1497,\n &#39;safe&#39;: 6220,\n &#39;miss&#39;: 4781,\n &#39;envy&#39;: 2776,\n &#39;everyone&#39;: 2824,\n &#39;sees&#39;: 6333,\n &#39;real&#39;: 5932,\n &#39;xy&#39;: 8151,\n &#39;suggest&#39;: 6979,\n &#39;rain&#39;: 5880,\n &#39;leh&#39;: 4316,\n &#39;gd&#39;: 3260,\n &#39;truro&#39;: 7477,\n &#39;ext&#39;: 2883,\n &#39;side&#39;: 6501,\n &#39;congratulations&#39;: 2089,\n &#39;08712103738&#39;: 89,\n &#39;10p&#39;: 268,\n &#39;per&#39;: 5463,\n &#39;minute&#39;: 4771,\n &#39;btnationalrate&#39;: 1639,\n &#39;sad&#39;: 6217,\n &#39;story&#39;: 6892,\n ...}"
     },
     "metadata": {},
     "execution_count": 3
    }
   ],
   "source": [
    "# What words did the vectorizer learn?\n",
    "tfidf_vect.vocabulary_"
   ]
  },
  {
   "cell_type": "code",
   "execution_count": 4,
   "metadata": {},
   "outputs": [
    {
     "output_type": "execute_result",
     "data": {
      "text/plain": "&lt;1x8270 sparse matrix of type &#39;&lt;class &#39;numpy.float64&#39;&gt;&#39;\n\twith 5 stored elements in Compressed Sparse Row format&gt;"
     },
     "metadata": {},
     "execution_count": 4
    }
   ],
   "source": [
    "# How are these vectors stored?\n",
    "X_test_vect[0]"
   ]
  },
  {
   "cell_type": "code",
   "execution_count": 5,
   "metadata": {},
   "outputs": [
    {
     "output_type": "execute_result",
     "data": {
      "text/plain": "array([[0., 0., 0., ..., 0., 0., 0.]])"
     },
     "metadata": {},
     "execution_count": 5
    }
   ],
   "source": [
    "# Can we convert the vectors to arrays?\n",
    "X_test_vect[0].toarray()"
   ]
  },
  {
   "cell_type": "markdown",
   "metadata": {},
   "source": [
    "### Fit RandomForestClassifier On Top Of Vectors"
   ]
  },
  {
   "cell_type": "code",
   "execution_count": 6,
   "metadata": {},
   "outputs": [],
   "source": [
    "# Fit a basic Random Forest model on these vectors\n",
    "from sklearn.ensemble import RandomForestClassifier\n",
    "\n",
    "rf = RandomForestClassifier()\n",
    "rf_model = rf.fit(X_train_vect, y_train.values.ravel())"
   ]
  },
  {
   "cell_type": "code",
   "execution_count": 7,
   "metadata": {},
   "outputs": [],
   "source": [
    "# Use the trained model to make predictions on the test data\n",
    "y_pred = rf_model.predict(X_test_vect)"
   ]
  },
  {
   "cell_type": "code",
   "execution_count": 8,
   "metadata": {
    "tags": []
   },
   "outputs": [
    {
     "output_type": "stream",
     "name": "stdout",
     "text": "Precision: 0.991 / Recall: 0.741 / Accuracy: 0.965\n"
    }
   ],
   "source": [
    "# Evaluate the predictions of the model on the holdout test set\n",
    "from sklearn.metrics import precision_score, recall_score\n",
    "\n",
    "precision = precision_score(y_test, y_pred)\n",
    "recall = recall_score(y_test, y_pred)\n",
    "print('Precision: {} / Recall: {} / Accuracy: {}'.format(\n",
    "    round(precision, 3), round(recall, 3), round((y_pred==y_test['label']).sum()/len(y_pred), 3)))"
   ]
  },
  {
   "cell_type": "code",
   "execution_count": null,
   "metadata": {},
   "outputs": [],
   "source": []
  }
 ],
 "metadata": {
  "kernelspec": {
   "display_name": "Python 3",
   "language": "python",
   "name": "python3"
  },
  "language_info": {
   "codemirror_mode": {
    "name": "ipython",
    "version": 3
   },
   "file_extension": ".py",
   "mimetype": "text/x-python",
   "name": "python",
   "nbconvert_exporter": "python",
   "pygments_lexer": "ipython3",
   "version": "3.8.2-final"
  }
 },
 "nbformat": 4,
 "nbformat_minor": 2
}