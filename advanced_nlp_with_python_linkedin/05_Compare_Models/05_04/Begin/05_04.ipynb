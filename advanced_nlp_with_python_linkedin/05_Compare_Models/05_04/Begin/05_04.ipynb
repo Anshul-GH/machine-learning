{
 "cells": [
  {
   "cell_type": "markdown",
   "metadata": {},
   "source": [
    "# Compare NLP Techniques: Build Model On doc2vec Vectors"
   ]
  },
  {
   "cell_type": "markdown",
   "metadata": {},
   "source": [
    "### Read In Cleaned Text"
   ]
  },
  {
   "cell_type": "code",
   "execution_count": 1,
   "metadata": {},
   "outputs": [],
   "source": [
    "# Load the cleaned training and test sets\n",
    "import gensim\n",
    "import numpy as np\n",
    "import pandas as pd\n",
    "\n",
    "X_train = pd.read_csv('../../../data/X_train.csv')\n",
    "X_test = pd.read_csv('../../../data/X_test.csv')\n",
    "y_train = pd.read_csv('../../../data/y_train.csv')\n",
    "y_test = pd.read_csv('../../../data/y_test.csv')"
   ]
  },
  {
   "cell_type": "markdown",
   "metadata": {},
   "source": [
    "### Create doc2vec Vectors"
   ]
  },
  {
   "cell_type": "code",
   "execution_count": 2,
   "metadata": {},
   "outputs": [],
   "source": [
    "# Created TaggedDocument vectors for each text message in the training and test sets\n",
    "tagged_docs_train = [gensim.models.doc2vec.TaggedDocument(v, [i])\n",
    "                     for i, v in enumerate(X_train['clean_text'])]\n",
    "tagged_docs_test = [gensim.models.doc2vec.TaggedDocument(v, [i])\n",
    "                    for i, v in enumerate(X_test['clean_text'])]"
   ]
  },
  {
   "cell_type": "code",
   "execution_count": 3,
   "metadata": {},
   "outputs": [
    {
     "output_type": "execute_result",
     "data": {
      "text/plain": "[TaggedDocument(words=&quot;[&#39;cool&#39;, &#39;text&#39;, &#39;head&#39;]&quot;, tags=[0]),\n TaggedDocument(words=&quot;[&#39;aiyo&#39;, &#39;u&#39;, &#39;always&#39;, &#39;c&#39;, &#39;ex&#39;, &#39;one&#39;, &#39;dunno&#39;, &#39;abt&#39;, &#39;mei&#39;, &#39;reply&#39;, &#39;first&#39;, &#39;time&#39;, &#39;u&#39;, &#39;reply&#39;, &#39;fast&#39;, &#39;lucky&#39;, &#39;workin&#39;, &#39;huh&#39;, &#39;got&#39;, &#39;bao&#39;, &#39;ur&#39;, &#39;sugardad&#39;, &#39;ahgee&#39;, &#39;&#39;]&quot;, tags=[1]),\n TaggedDocument(words=&quot;[&#39;ya&#39;, &#39;nice&#39;, &#39;ready&#39;, &#39;thursday&#39;]&quot;, tags=[2]),\n TaggedDocument(words=&quot;[&#39;think&#39;, &#39;still&#39;, &#39;car&#39;]&quot;, tags=[3]),\n TaggedDocument(words=&quot;[&#39;every&#39;, &#39;mondaynxt&#39;, &#39;week&#39;, &#39;vl&#39;, &#39;completing&#39;]&quot;, tags=[4]),\n TaggedDocument(words=&quot;[&#39;ok&#39;, &#39;knackered&#39;, &#39;came&#39;, &#39;home&#39;, &#39;went&#39;, &#39;sleep&#39;, &#39;good&#39;, &#39;full&#39;, &#39;time&#39;, &#39;work&#39;, &#39;lark&#39;]&quot;, tags=[5]),\n TaggedDocument(words=&quot;[&#39;good&#39;, &#39;sleep&#39;, &#39;rhythm&#39;, &#39;person&#39;, &#39;establish&#39;, &#39;rhythm&#39;, &#39;body&#39;, &#39;learn&#39;, &#39;use&#39;, &#39;want&#39;, &#39;know&#39;, &#39;&#39;]&quot;, tags=[6]),\n TaggedDocument(words=&quot;[&#39;cant&#39;, &#39;pick&#39;, &#39;phone&#39;, &#39;right&#39;, &#39;pls&#39;, &#39;send&#39;, &#39;message&#39;]&quot;, tags=[7]),\n TaggedDocument(words=&quot;[&#39;aiyar&#39;, &#39;hard&#39;, &#39;2&#39;, &#39;type&#39;, &#39;u&#39;, &#39;later&#39;, &#39;free&#39;, &#39;tell&#39;, &#39;call&#39;, &#39;n&#39;, &#39;scold&#39;, &#39;n&#39;, &#39;tell&#39;, &#39;u&#39;]&quot;, tags=[8]),\n TaggedDocument(words=&quot;[&#39;yep&#39;, &#39;great&#39;, &#39;loxahatchee&#39;, &#39;xmas&#39;, &#39;tree&#39;, &#39;burning&#39;, &#39;ltgt&#39;, &#39;starts&#39;, &#39;hour&#39;]&quot;, tags=[9])]"
     },
     "metadata": {},
     "execution_count": 3
    }
   ],
   "source": [
    "# What do these TaggedDocument objects look like?\n",
    "tagged_docs_train[:10]"
   ]
  },
  {
   "cell_type": "code",
   "execution_count": 4,
   "metadata": {},
   "outputs": [],
   "source": [
    "# Train a basic doc2vec model\n",
    "d2v_model = gensim.models.Doc2Vec(tagged_docs_train, vector_size=100, window=5, min_count=2)"
   ]
  },
  {
   "cell_type": "code",
   "execution_count": 5,
   "metadata": {},
   "outputs": [],
   "source": [
    "# Infer the vectors to be used in training and testing\n",
    "train_vectors = [d2v_model.infer_vector(eval(v.words)) for v in tagged_docs_train]\n",
    "test_vectors = [d2v_model.infer_vector(eval(v.words)) for v in tagged_docs_test]"
   ]
  },
  {
   "cell_type": "markdown",
   "metadata": {},
   "source": [
    "### Fit RandomForestClassifier On Top Of Document Vectors"
   ]
  },
  {
   "cell_type": "code",
   "execution_count": 6,
   "metadata": {
    "tags": []
   },
   "outputs": [
    {
     "output_type": "stream",
     "name": "stdout",
     "text": "Precision: 0.594 / Recall: 0.279 / Accuracy: 0.88\n"
    }
   ],
   "source": [
    "# Fit a basic model, make predictions on the holdout test set, and the generate the evaluation metrics\n",
    "from sklearn.ensemble import RandomForestClassifier\n",
    "from sklearn.metrics import precision_score, recall_score\n",
    "\n",
    "rf = RandomForestClassifier()\n",
    "rf_model = rf.fit(train_vectors, y_train.values.ravel())\n",
    "\n",
    "y_pred = rf_model.predict(test_vectors)\n",
    "\n",
    "precision = precision_score(y_test, y_pred)\n",
    "recall = recall_score(y_test, y_pred)\n",
    "print('Precision: {} / Recall: {} / Accuracy: {}'.format(\n",
    "    round(precision, 3), round(recall, 3), round((y_pred==y_test['label']).sum()/len(y_pred), 3)))"
   ]
  },
  {
   "cell_type": "code",
   "execution_count": null,
   "metadata": {},
   "outputs": [],
   "source": []
  }
 ],
 "metadata": {
  "kernelspec": {
   "display_name": "Python 3",
   "language": "python",
   "name": "python3"
  },
  "language_info": {
   "codemirror_mode": {
    "name": "ipython",
    "version": 3
   },
   "file_extension": ".py",
   "mimetype": "text/x-python",
   "name": "python",
   "nbconvert_exporter": "python",
   "pygments_lexer": "ipython3",
   "version": "3.8.2-final"
  }
 },
 "nbformat": 4,
 "nbformat_minor": 2
}