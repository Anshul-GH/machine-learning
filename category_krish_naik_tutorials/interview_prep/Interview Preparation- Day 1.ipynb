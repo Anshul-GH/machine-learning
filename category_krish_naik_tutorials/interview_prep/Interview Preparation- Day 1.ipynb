{
 "cells": [
  {
   "cell_type": "markdown",
   "source": [
    "### How To Learn Machine Learning Algorithms For Interviews\r\n",
    "\r\n",
    "#### Naive Bayes Classifier\r\n",
    "\r\n",
    "Theoretical Understanding:\r\n",
    "\r\n",
    "1. Tutorial 48th : https://www.youtube.com/watch?v=jS1CKhALUBQ\r\n",
    "2. Tutorial 49th:  https://www.youtube.com/watch?v=temQ8mHpe3k"
   ],
   "metadata": {}
  },
  {
   "cell_type": "markdown",
   "source": [
    "##### 1. What Are the Basic Assumption?\n",
    "Features Are Independent"
   ],
   "metadata": {}
  },
  {
   "cell_type": "markdown",
   "source": [
    "#####  2. Advantages\n",
    "1. Work Very well with many number of features\n",
    "2. Works Well with Large training Dataset\n",
    "3. It converges faster when we are training the model\n",
    "4. It also performs well with categorical features"
   ],
   "metadata": {}
  },
  {
   "cell_type": "markdown",
   "source": [
    "##### 3. Disadvantages\n",
    "1. Correlated features affects performance"
   ],
   "metadata": {}
  },
  {
   "cell_type": "markdown",
   "source": [
    "##### 4. Whether Feature Scaling is required?\n",
    "No\n",
    "##### 5. Impact of Missing Values?\n",
    "Naive Bayes can handle missing data. Attributes are handled separately by the algorithm at both model construction time and prediction time. As such, if a data instance has a missing value for an attribute, it can be ignored while preparing the model, and ignored when a probability is calculated for a class value\n",
    "tutorial :https://www.youtube.com/watch?v=EqjyLfpv5oA\n",
    "##### 6. Impact of outliers?\n",
    "It is usually robust to outliers"
   ],
   "metadata": {}
  },
  {
   "cell_type": "markdown",
   "source": [
    "##### Different Problem statement you can solve using Naive Baye's\n",
    "1. Sentiment Analysis\n",
    "2. Spam classification\n",
    "3. twitter sentiment analysis\n",
    "4. document categorization"
   ],
   "metadata": {}
  }
 ],
 "metadata": {
  "kernelspec": {
   "display_name": "Python 3",
   "language": "python",
   "name": "python3"
  },
  "language_info": {
   "codemirror_mode": {
    "name": "ipython",
    "version": 3
   },
   "file_extension": ".py",
   "mimetype": "text/x-python",
   "name": "python",
   "nbconvert_exporter": "python",
   "pygments_lexer": "ipython3",
   "version": "3.7.9"
  }
 },
 "nbformat": 4,
 "nbformat_minor": 4
}