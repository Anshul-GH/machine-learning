{
 "cells": [
  {
   "cell_type": "markdown",
   "metadata": {},
   "source": [
    "### How To Learn Machine Learning Algorithms For Interviews\n",
    "\n",
    "#### Decision Tree Classifier And Regressor\n",
    "Interview Questions:\n",
    "1. Decision Tree \n",
    "2. Entropy, Information Gain, Gini Impurity\n",
    "3. Decision Tree Working For Categorical and Numerical Features\n",
    "4. What are the scenarios where Decision Tree works well\n",
    "5. Decision Tree Low Bias And High Variance- Overfitting\n",
    "6. Hyperparameter Techniques\n",
    "7. Library used for constructing decision tree\n",
    "8. Impact of Outliers Of Decision Tree\n",
    "9. Impact of mising values on Decision Tree\n",
    "10. Does Decision Tree require Feature Scaling\n",
    "\n",
    "##### Random Forest Classifier And Regresor\n",
    "\n",
    "11. Ensemble Techniques(Boosting And Bagging)\n",
    "12. Working of Random Forest Classifier\n",
    "13. Working of Random Forest Regresor\n",
    "14. Hyperparameter Tuning(Grid Search And RandomSearch)\n",
    " \n",
    "\n",
    "Theoretical Understanding:\n",
    "\n",
    "1. Tutorial 37:Entropy In Decision Tree https://www.youtube.com/watch?v=1IQOtJ4NI_0\n",
    "2. Tutorial 38:Information Gain https://www.youtube.com/watch?v=FuTRucXB9rA\n",
    "3. Tutorial 39:Gini Impurity https://www.youtube.com/watch?v=5aIFgrrTqOw\n",
    "4. Tutorial 40: Decision Tree For Numerical Features: https://www.youtube.com/watch?v=5O8HvA9pMew \n",
    "5. How To Visualize DT: https://www.youtube.com/watch?v=ot75kOmpYjI\n",
    "\n",
    "Theoretical Understanding:\n",
    "1. Ensemble technique(Bagging): https://www.youtube.com/watch?v=KIOeZ5cFZ50\n",
    "2. Random forest Classifier And Regressor\n",
    "https://www.youtube.com/watch?v=nxFG5xdpDto\n",
    "3.  Construct Decision Tree And working in Random Forest: https://www.youtube.com/watch?v=WQ0iJSbnnZA&t=406s"
   ]
  },
  {
   "cell_type": "markdown",
   "metadata": {},
   "source": [
    "#### Important properties of Random Forest Classifiers \n",
    "\n",
    "1. Decision Tree---Low Bias And High Variance\n",
    "    \n",
    "2. Ensemble Bagging(Random Forest Classifier)--Low Bias And Low Variance\n",
    "    "
   ]
  },
  {
   "cell_type": "markdown",
   "metadata": {},
   "source": [
    "##### 1. What Are the Basic Assumption?\n",
    "There are no such assumptions"
   ]
  },
  {
   "cell_type": "markdown",
   "metadata": {},
   "source": [
    "#####  2. Advantages\n",
    "Advantages of Random Forest\n",
    "\n",
    "1. <b>Doesn't Overfit<b>\n",
    "\n",
    "2. Favourite algorithm for Kaggle competition\n",
    "\n",
    "3. Less Parameter Tuning required\n",
    "\n",
    "4. Decision Tree can handle both continuous and categorical variables.\n",
    "\n",
    "5. No feature scaling required: No feature scaling (standardization and normalization) required in case of Random Forest as it uses DEcision Tree internally\n",
    "\n",
    "6. Suitable for any kind of ML problems\n",
    "    "
   ]
  },
  {
   "cell_type": "markdown",
   "metadata": {},
   "source": [
    "##### 3. Disadvantages\n",
    "Disadvantages of Random Forest\n",
    "\n",
    "1.<b>Biased With features having many categories\n",
    "\n",
    "2. Biased in multiclass classification problems towards more frequent classes."
   ]
  },
  {
   "cell_type": "markdown",
   "metadata": {},
   "source": [
    "##### 4. Whether Feature Scaling is required?\n",
    "No\n",
    "\n",
    "##### 6. Impact of outliers?\n",
    "Robust to Outliers"
   ]
  },
  {
   "cell_type": "markdown",
   "metadata": {},
   "source": [
    "##### Types of Problems it can solve(Supervised)\n",
    "1. Classification\n",
    "2. Regression"
   ]
  },
  {
   "cell_type": "markdown",
   "metadata": {},
   "source": [
    "\n"
   ]
  },
  {
   "cell_type": "markdown",
   "metadata": {},
   "source": [
    "#### Practical Implementation\n",
    "1. https://scikit-learn.org/stable/modules/generated/sklearn.tree.DecisionTreeClassifier.html\n",
    "2. https://scikit-learn.org/stable/modules/generated/sklearn.tree.DecisionTreeRegressor.html\n",
    "\n",
    "1. https://scikit-learn.org/stable/modules/generated/sklearn.ensemble.RandomForestClassifier.html\n",
    "2. https://scikit-learn.org/stable/modules/generated/sklearn.ensemble.RandomForestRegressor.html"
   ]
  },
  {
   "cell_type": "markdown",
   "metadata": {},
   "source": [
    "##### Performance Metrics"
   ]
  },
  {
   "cell_type": "markdown",
   "metadata": {},
   "source": [
    "##### Classification\n",
    "1. Confusion Matrix \n",
    "2. Precision,Recall, F1 score\n",
    "\n",
    "##### Regression\n",
    "1. R2,Adjusted R2\n",
    "2. MSE,RMSE,MAE"
   ]
  },
  {
   "cell_type": "code",
   "execution_count": null,
   "metadata": {},
   "outputs": [],
   "source": []
  }
 ],
 "metadata": {
  "kernelspec": {
   "display_name": "Python 3",
   "language": "python",
   "name": "python3"
  },
  "language_info": {
   "codemirror_mode": {
    "name": "ipython",
    "version": 3
   },
   "file_extension": ".py",
   "mimetype": "text/x-python",
   "name": "python",
   "nbconvert_exporter": "python",
   "pygments_lexer": "ipython3",
   "version": "3.7.7"
  }
 },
 "nbformat": 4,
 "nbformat_minor": 4
}
