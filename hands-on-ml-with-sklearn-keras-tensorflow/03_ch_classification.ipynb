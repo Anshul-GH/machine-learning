{
 "metadata": {
  "language_info": {
   "codemirror_mode": {
    "name": "ipython",
    "version": 3
   },
   "file_extension": ".py",
   "mimetype": "text/x-python",
   "name": "python",
   "nbconvert_exporter": "python",
   "pygments_lexer": "ipython3",
   "version": "3.8.2-final"
  },
  "orig_nbformat": 2,
  "kernelspec": {
   "name": "python38264bitpy38conda74b30bb8bfed4d658f77b9f4e62a4da3",
   "display_name": "Python 3.8.2 64-bit ('py38': conda)"
  }
 },
 "nbformat": 4,
 "nbformat_minor": 2,
 "cells": [
  {
   "cell_type": "code",
   "execution_count": 1,
   "metadata": {},
   "outputs": [],
   "source": [
    "import numpy as np\n",
    "import os"
   ]
  },
  {
   "cell_type": "code",
   "execution_count": 2,
   "metadata": {},
   "outputs": [],
   "source": [
    "# to make the output of the notebook stable across runs\n",
    "np.random.seed(42)"
   ]
  },
  {
   "cell_type": "code",
   "execution_count": 3,
   "metadata": {},
   "outputs": [],
   "source": [
    "# to plot pretty figures\n",
    "%matplotlib inline\n",
    "import matplotlib as mpl\n",
    "import matplotlib.pyplot as plt\n",
    "mpl.rc('axes', labelsize=14)\n",
    "mpl.rc('xtick', labelsize=12)\n",
    "mpl.rc('ytick', labelsize=12)"
   ]
  },
  {
   "cell_type": "code",
   "execution_count": 4,
   "metadata": {},
   "outputs": [],
   "source": [
    "# where to save the figures\n",
    "PROJECT_ROOT_DIR = '.'\n",
    "CHAPTER_ID = 'classification'\n",
    "IMAGES_PATH = os.path.join(PROJECT_ROOT_DIR, 'images', CHAPTER_ID)\n",
    "os.makedirs(IMAGES_PATH, exist_ok=True)"
   ]
  },
  {
   "cell_type": "code",
   "execution_count": 5,
   "metadata": {},
   "outputs": [],
   "source": [
    "def save_fig(fig_id, tight_layout=True, fig_extension='png', resolution=300):\n",
    "    path = os.path.join(IMAGES_PATH, fig_id + '.' + fig_extension)\n",
    "    print('Saving figure: ', fig_id)\n",
    "    if tight_layout:\n",
    "        plt.tight_layout()\n",
    "    plt.savefig(path, format=fig_extension, dpi=resolution)"
   ]
  },
  {
   "cell_type": "markdown",
   "metadata": {},
   "source": [
    "## Reading MNIST Dataset"
   ]
  },
  {
   "cell_type": "code",
   "execution_count": 6,
   "metadata": {},
   "outputs": [
    {
     "output_type": "execute_result",
     "data": {
      "text/plain": "dict_keys(['data', 'target', 'frame', 'categories', 'feature_names', 'target_names', 'DESCR', 'details', 'url'])"
     },
     "metadata": {},
     "execution_count": 6
    }
   ],
   "source": [
    "from sklearn.datasets import fetch_openml\n",
    "mnist = fetch_openml('mnist_784', version=1)\n",
    "mnist.keys()"
   ]
  },
  {
   "cell_type": "code",
   "execution_count": 7,
   "metadata": {},
   "outputs": [
    {
     "output_type": "execute_result",
     "data": {
      "text/plain": "(70000, 784)"
     },
     "metadata": {},
     "execution_count": 7
    }
   ],
   "source": [
    "X, y = mnist['data'], mnist['target']\n",
    "X.shape"
   ]
  },
  {
   "cell_type": "code",
   "execution_count": 8,
   "metadata": {},
   "outputs": [
    {
     "output_type": "execute_result",
     "data": {
      "text/plain": "(70000,)"
     },
     "metadata": {},
     "execution_count": 8
    }
   ],
   "source": [
    "y.shape"
   ]
  },
  {
   "cell_type": "code",
   "execution_count": 9,
   "metadata": {
    "tags": []
   },
   "outputs": [
    {
     "output_type": "stream",
     "name": "stdout",
     "text": "Saving figure:  some_digit_plot\n"
    },
    {
     "output_type": "display_data",
     "data": {
      "text/plain": "<Figure size 432x288 with 1 Axes>",
      "image/svg+xml": "<?xml version=\"1.0\" encoding=\"utf-8\" standalone=\"no\"?>\n<!DOCTYPE svg PUBLIC \"-//W3C//DTD SVG 1.1//EN\"\n  \"http://www.w3.org/Graphics/SVG/1.1/DTD/svg11.dtd\">\n<!-- Created with matplotlib (https://matplotlib.org/) -->\n<svg height=\"280.8pt\" version=\"1.1\" viewBox=\"0 0 280.8 280.8\" width=\"280.8pt\" xmlns=\"http://www.w3.org/2000/svg\" xmlns:xlink=\"http://www.w3.org/1999/xlink\">\n <metadata>\n  <rdf:RDF xmlns:cc=\"http://creativecommons.org/ns#\" xmlns:dc=\"http://purl.org/dc/elements/1.1/\" xmlns:rdf=\"http://www.w3.org/1999/02/22-rdf-syntax-ns#\">\n   <cc:Work>\n    <dc:type rdf:resource=\"http://purl.org/dc/dcmitype/StillImage\"/>\n    <dc:date>2020-08-26T11:38:21.982122</dc:date>\n    <dc:format>image/svg+xml</dc:format>\n    <dc:creator>\n     <cc:Agent>\n      <dc:title>Matplotlib v3.3.0, https://matplotlib.org/</dc:title>\n     </cc:Agent>\n    </dc:creator>\n   </cc:Work>\n  </rdf:RDF>\n </metadata>\n <defs>\n  <style type=\"text/css\">*{stroke-linecap:butt;stroke-linejoin:round;}</style>\n </defs>\n <g id=\"figure_1\">\n  <g id=\"patch_1\">\n   <path d=\"M 0 280.8 \nL 280.8 280.8 \nL 280.8 0 \nL 0 0 \nz\n\" style=\"fill:none;\"/>\n  </g>\n  <g id=\"axes_1\">\n   <g clip-path=\"url(#p6f88e26623)\">\n    <image height=\"267\" id=\"imageebfe63ac53\" transform=\"scale(1 -1)translate(0 -267)\" width=\"267\" x=\"7.2\" xlink:href=\"data:image/png;base64,\niVBORw0KGgoAAAANSUhEUgAAAQsAAAELCAYAAADOVaNSAAAG4UlEQVR4nO3d32vOfRzH8XszP0fNIeVYORmadqB0qcUR/gOliKKdbGm1A8qBcsicOFUcWKZWSimK1FpKfpQdXIUcUFozccD0vc/8CH1e7mv3dZk9Hsev3r637p6+B9+2tqqqqn8ACtpb/QDAwiAWQEQsgIhYABGxACJiAUTEAoiIBRARCyAiFkBELICIWAARsQAiYgFExAKIiAUQEQsgIhZARCyAiFgAEbEAImIBRMQCiIgFEBELICIWQEQsgIhYAJGOVj/ArwwNDUW7M2fO/M9P8r1NmzZFuz179hQ3S5YsiW4NDg4WN11dXdEt+K+8WQARsQAiYgFExAKIiAUQEQsgIhZARCyASFtVVVWrH+JnJiYmol3yUdbk5GR06+XLl9Gu2VatWlXc9Pf3R7eGh4eLm87OzugWi4s3CyAiFkBELICIWAARsQAiYgFExAKIiAUQEQsg8sd+wTmfpqeno93hw4eLmwcPHkS36vV6tGu27du3FzcDAwPRrd27d0e7lStXRjv+bN4sgIhYABGxACJiAUTEAoiIBRARCyAiFkBkUXyUNZ9ev34d7Z48eVLcHDt2LLr19OnTaNdsvb290e748ePFzb59+6Jb7e3+fWsVf/NARCyAiFgAEbEAImIBRMQCiIgFEBELICIWQMQXnC306tWraHfp0qXiZmRkJLr17NmzaNds27Zti3bJL3beu3dvo4/DT3izACJiAUTEAoiIBRARCyAiFkBELICIWAARH2X9JaampqLduXPnipurV69Gt9KPyuZTR0dHcdPX1xfdun79eqOPs6h4swAiYgFExAKIiAUQEQsgIhZARCyAiFgAEbEAIr7g5AcPHz6MdqOjo9FucnKyuLlx40Z0K9Hd3R3t7t+/X9z4Rcxf+ZsAImIBRMQCiIgFEBELICIWQEQsgIhYABEfZfFHWL58ebT79OlTcbN06dLoVvIhWK1Wi24tBt4sgIhYABGxACJiAUTEAoiIBRARCyAiFkBELIBI+bfMwi/MzMxEu/Hx8eJmbm6uwaf5aseOHdHO15m/x5sFEBELICIWQEQsgIhYABGxACJiAUTEAoj4KIsfPHr0KNoNDAxEu5s3bzbyON85cuRIcTM8PDxvfx5febMAImIBRMQCiIgFEBELICIWQEQsgIhYABGxACK+4FxkxsbGipsDBw5Et2ZnZxt9nC9Onz4d7fbv31/crFu3rtHH4Se8WQARsQAiYgFExAKIiAUQEQsgIhZARCyAiFgAkbaqqqpWPwSNq9fr0W7r1q3FTVdXV3Rr586d0a6np6e4OXr0aHSrra0t2jH/vFkAEbEAImIBRMQCiIgFEBELICIWQEQsgIgfq7cAvH//vrg5dOhQdOvdu3fFzZUrV6Jbu3btinb8HbxZABGxACJiAUTEAoiIBRARCyAiFkBELICIWAARX3AuACdPnixubt++Hd2q1WrFTV9fX3SLxcWbBRARCyAiFkBELICIWAARsQAiYgFExAKI+CjrfzI7O1vcrFmzJrr19u3bRh/ni4MHDxY37e3+DeFH/q8AImIBRMQCiIgFEBELICIWQEQsgIhYABGxACJtVVVVrX6IheTatWvRbnx8vLjZsmVLdKu/vz/aJTZv3lzc3LlzJ7rV2dkZ7R4/flzcnD17Nrp14cKFaMf882YBRMQCiIgFEBELICIWQEQsgIhYABGxACI+yvrG9PR0cdPb2xvdqtfrjT5Oy6T/jWvXro12t27dKm6WLVsW3ZrPHzHI7/FmAUTEAoiIBRARCyAiFkBELICIWAARsQAiYgFE/GLkbzx//ry4efPmTROepLUmJiaa/mfOzc1Fu4sXLxY36Y/7S6xfvz7aJV+zbty4sdHHaSlvFkBELICIWAARsQAiYgFExAKIiAUQEQsg4sfq/aYXL15Eu48fPxY39+7di27dvXu3uJmZmYlujY6ORrs/1YYNG4qbnp6e6NbY2Fhxs3r16uhWd3d3cXPq1KnoVq1Wi3bN5s0CiIgFEBELICIWQEQsgIhYABGxACJiAUTEAoj4gvMv8fnz52jXil8sPDIyUtx8+PAhujU1NVXcnD9/Pro1ODhY3Fy+fDm6tWLFiuJmaGgounXixIlo12zeLICIWAARsQAiYgFExAKIiAUQEQsgIhZAxEdZQMSbBRARCyAiFkBELICIWAARsQAiYgFExAKIiAUQEQsgIhZARCyAiFgAEbEAImIBRMQCiIgFEBELICIWQEQsgIhYABGxACJiAUTEAoiIBRARCyAiFkBELICIWAARsQAiYgFExAKIiAUQEQsgIhZARCyAiFgAEbEAImIBRMQCiIgFEBELICIWQEQsgIhYABGxACJiAUT+BSBXF7RsnjpIAAAAAElFTkSuQmCC\" y=\"-6.6\"/>\n   </g>\n  </g>\n </g>\n <defs>\n  <clipPath id=\"p6f88e26623\">\n   <rect height=\"266.4\" width=\"266.4\" x=\"7.2\" y=\"7.2\"/>\n  </clipPath>\n </defs>\n</svg>\n",
      "image/png": "[encoded data removed]"
     },
     "metadata": {
      "needs_background": "light"
     }
    }
   ],
   "source": [
    "%matplotlib inline\n",
    "some_digit = X[0]\n",
    "some_digit_image = some_digit.reshape(28,28)\n",
    "plt.imshow(some_digit_image, cmap=mpl.cm.binary)\n",
    "plt.axis('off')\n",
    "\n",
    "save_fig('some_digit_plot')\n",
    "plt.show()"
   ]
  },
  {
   "cell_type": "code",
   "execution_count": 10,
   "metadata": {},
   "outputs": [
    {
     "output_type": "execute_result",
     "data": {
      "text/plain": "'5'"
     },
     "metadata": {},
     "execution_count": 10
    }
   ],
   "source": [
    "y[0]"
   ]
  },
  {
   "cell_type": "code",
   "execution_count": 11,
   "metadata": {},
   "outputs": [],
   "source": [
    "y = y.astype(np.uint8)"
   ]
  },
  {
   "cell_type": "code",
   "execution_count": 12,
   "metadata": {},
   "outputs": [],
   "source": [
    "def plot_digit(data):\n",
    "    image = data.reshape(28,28)\n",
    "    plt.imshow(image, cmap=mpl.cm.binary, interpolation='nearest')\n",
    "    plt.axis('off')"
   ]
  },
  {
   "cell_type": "code",
   "execution_count": 13,
   "metadata": {},
   "outputs": [],
   "source": [
    "def plot_digits(instances, images_per_row=10, **options):\n",
    "    size = 28\n",
    "    images_per_row = min(len(instances), images_per_row)\n",
    "    images = [instance.reshape(size, size) for instance in instances]\n",
    "    n_rows = (len(instances) - 1) // images_per_row + 1\n",
    "    row_images = []\n",
    "\n",
    "    n_empty = n_rows * images_per_row - len(instances)\n",
    "    images.append(np.zeros((size, size * n_empty)))\n",
    "\n",
    "    for row in range(n_rows):\n",
    "        rimages = images[row * images_per_row:(row + 1) * images_per_row]\n",
    "        row_images.append(np.concatenate(rimages, axis=1))\n",
    "    \n",
    "    image = np.concatenate(row_images, axis=1)\n",
    "    plt.imshow(image, cmap=mpl.cm.binary, **options)\n",
    "\n",
    "    plt.axis('off')"
   ]
  },
  {
   "cell_type": "code",
   "execution_count": 14,
   "metadata": {},
   "outputs": [
    {
     "output_type": "error",
     "ename": "TypeError",
     "evalue": "data type not understood",
     "traceback": [
      "\u001b[0;31m---------------------------------------------------------------------------\u001b[0m",
      "\u001b[0;31mTypeError\u001b[0m                                 Traceback (most recent call last)",
      "\u001b[0;32m<ipython-input-14-d347c0dab96b>\u001b[0m in \u001b[0;36m<module>\u001b[0;34m\u001b[0m\n\u001b[1;32m      2\u001b[0m \u001b[0mexample_images\u001b[0m \u001b[0;34m=\u001b[0m \u001b[0mX\u001b[0m\u001b[0;34m[\u001b[0m\u001b[0;34m:\u001b[0m\u001b[0;36m100\u001b[0m\u001b[0;34m]\u001b[0m\u001b[0;34m\u001b[0m\u001b[0;34m\u001b[0m\u001b[0m\n\u001b[1;32m      3\u001b[0m \u001b[0;34m\u001b[0m\u001b[0m\n\u001b[0;32m----> 4\u001b[0;31m \u001b[0mplot_digits\u001b[0m\u001b[0;34m(\u001b[0m\u001b[0mexample_images\u001b[0m\u001b[0;34m,\u001b[0m \u001b[0mimages_per_row\u001b[0m\u001b[0;34m=\u001b[0m\u001b[0;36m10\u001b[0m\u001b[0;34m)\u001b[0m\u001b[0;34m\u001b[0m\u001b[0;34m\u001b[0m\u001b[0m\n\u001b[0m\u001b[1;32m      5\u001b[0m \u001b[0msave_fig\u001b[0m\u001b[0;34m(\u001b[0m\u001b[0;34m'more_digit_plot'\u001b[0m\u001b[0;34m)\u001b[0m\u001b[0;34m\u001b[0m\u001b[0;34m\u001b[0m\u001b[0m\n\u001b[1;32m      6\u001b[0m \u001b[0mplt\u001b[0m\u001b[0;34m.\u001b[0m\u001b[0mshow\u001b[0m\u001b[0;34m(\u001b[0m\u001b[0;34m)\u001b[0m\u001b[0;34m\u001b[0m\u001b[0;34m\u001b[0m\u001b[0m\n",
      "\u001b[0;32m<ipython-input-13-002fa37a1652>\u001b[0m in \u001b[0;36mplot_digits\u001b[0;34m(instances, images_per_row, **options)\u001b[0m\n\u001b[1;32m      7\u001b[0m \u001b[0;34m\u001b[0m\u001b[0m\n\u001b[1;32m      8\u001b[0m     \u001b[0mn_empty\u001b[0m \u001b[0;34m=\u001b[0m \u001b[0mn_rows\u001b[0m \u001b[0;34m*\u001b[0m \u001b[0mimages_per_row\u001b[0m \u001b[0;34m-\u001b[0m \u001b[0mlen\u001b[0m\u001b[0;34m(\u001b[0m\u001b[0minstances\u001b[0m\u001b[0;34m)\u001b[0m\u001b[0;34m\u001b[0m\u001b[0;34m\u001b[0m\u001b[0m\n\u001b[0;32m----> 9\u001b[0;31m     \u001b[0mimages\u001b[0m\u001b[0;34m.\u001b[0m\u001b[0mappend\u001b[0m\u001b[0;34m(\u001b[0m\u001b[0mnp\u001b[0m\u001b[0;34m.\u001b[0m\u001b[0mzeros\u001b[0m\u001b[0;34m(\u001b[0m\u001b[0msize\u001b[0m\u001b[0;34m,\u001b[0m \u001b[0msize\u001b[0m \u001b[0;34m*\u001b[0m \u001b[0mn_empty\u001b[0m\u001b[0;34m)\u001b[0m\u001b[0;34m)\u001b[0m\u001b[0;34m\u001b[0m\u001b[0;34m\u001b[0m\u001b[0m\n\u001b[0m\u001b[1;32m     10\u001b[0m \u001b[0;34m\u001b[0m\u001b[0m\n\u001b[1;32m     11\u001b[0m     \u001b[0;32mfor\u001b[0m \u001b[0mrow\u001b[0m \u001b[0;32min\u001b[0m \u001b[0mrange\u001b[0m\u001b[0;34m(\u001b[0m\u001b[0mn_rows\u001b[0m\u001b[0;34m)\u001b[0m\u001b[0;34m:\u001b[0m\u001b[0;34m\u001b[0m\u001b[0;34m\u001b[0m\u001b[0m\n",
      "\u001b[0;31mTypeError\u001b[0m: data type not understood"
     ]
    }
   ],
   "source": [
    "plt.figure(figsize=(9,9))\n",
    "example_images = X[:100]\n",
    "\n",
    "plot_digits(example_images, images_per_row=10)\n",
    "save_fig('more_digit_plot')\n",
    "plt.show()"
   ]
  },
  {
   "cell_type": "code",
   "execution_count": null,
   "metadata": {},
   "outputs": [],
   "source": []
  }
 ]
}