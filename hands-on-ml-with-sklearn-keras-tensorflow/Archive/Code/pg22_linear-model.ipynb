{
 "metadata": {
  "language_info": {
   "codemirror_mode": {
    "name": "ipython",
    "version": 3
   },
   "file_extension": ".py",
   "mimetype": "text/x-python",
   "name": "python",
   "nbconvert_exporter": "python",
   "pygments_lexer": "ipython3",
   "version": "3.8.2-final"
  },
  "orig_nbformat": 2,
  "kernelspec": {
   "name": "python38264bitpy38conda74b30bb8bfed4d658f77b9f4e62a4da3",
   "display_name": "Python 3.8.2 64-bit ('py38': conda)"
  }
 },
 "nbformat": 4,
 "nbformat_minor": 2,
 "cells": [
  {
   "cell_type": "code",
   "execution_count": 1,
   "metadata": {},
   "outputs": [],
   "source": [
    "import matplotlib.pyplot as plt\n",
    "import numpy as np\n",
    "import pandas as pd\n",
    "import sklearn.linear_model"
   ]
  },
  {
   "cell_type": "code",
   "execution_count": 2,
   "metadata": {},
   "outputs": [],
   "source": [
    "# load the data\n",
    "oecd_bli = pd.read_csv(\"../Data/BLI_09082020134141350.csv\", thousands=',')"
   ]
  },
  {
   "cell_type": "code",
   "execution_count": 5,
   "metadata": {},
   "outputs": [],
   "source": [
    "# gdp_per_capita = pd.read_excel(\"../Data/WEO_Data.xls\", thousands=',', na_values=\"n/a\")\n",
    "gdp_per_capita = pd.read_csv(\"../Data/WEO_Data.xls\", thousands=',', na_values=\"n/a\", delimiter=\"\\t\", encoding='latin1')"
   ]
  },
  {
   "cell_type": "code",
   "execution_count": 22,
   "metadata": {},
   "outputs": [],
   "source": [
    "def prepare_country_stats(bli_data, gdp_data):\n",
    "    # merged = bli_data.join(gdp_data, on=['Country'], how='left')\n",
    "    merged = pd.concat([bli_data, gdp_data], keys=['Country'], join='inner')\n",
    "    return merged"
   ]
  },
  {
   "cell_type": "code",
   "execution_count": 23,
   "metadata": {},
   "outputs": [],
   "source": [
    "country_stats = prepare_country_stats(oecd_bli, gdp_per_capita)"
   ]
  },
  {
   "cell_type": "code",
   "execution_count": 21,
   "metadata": {},
   "outputs": [
    {
     "output_type": "execute_result",
     "data": {
      "text/plain": "     LOCATION         Country INDICATOR                          Indicator  \\\n0         AUS       Australia   JE_LMIS           Labour market insecurity   \n1         AUT         Austria   JE_LMIS           Labour market insecurity   \n2         BEL         Belgium   JE_LMIS           Labour market insecurity   \n3         CAN          Canada   JE_LMIS           Labour market insecurity   \n4         CZE  Czech Republic   JE_LMIS           Labour market insecurity   \n...       ...             ...       ...                                ...   \n2364      LTU       Lithuania   WL_EWLH  Employees working very long hours   \n2365      COL        Colombia   WL_EWLH  Employees working very long hours   \n2366      LTU       Lithuania   WL_EWLH  Employees working very long hours   \n2367      COL        Colombia   WL_EWLH  Employees working very long hours   \n2368      LTU       Lithuania   WL_EWLH  Employees working very long hours   \n\n     MEASURE Measure INEQUALITY Inequality Unit Code        Unit  \\\n0          L   Value        TOT      Total        PC  Percentage   \n1          L   Value        TOT      Total        PC  Percentage   \n2          L   Value        TOT      Total        PC  Percentage   \n3          L   Value        TOT      Total        PC  Percentage   \n4          L   Value        TOT      Total        PC  Percentage   \n...      ...     ...        ...        ...       ...         ...   \n2364       L   Value        TOT      Total        PC  Percentage   \n2365       L   Value         MN        Men        PC  Percentage   \n2366       L   Value         MN        Men        PC  Percentage   \n2367       L   Value        WMN      Women        PC  Percentage   \n2368       L   Value        WMN      Women        PC  Percentage   \n\n      PowerCode Code PowerCode  Reference Period Code  Reference Period  \\\n0                  0     Units                    NaN               NaN   \n1                  0     Units                    NaN               NaN   \n2                  0     Units                    NaN               NaN   \n3                  0     Units                    NaN               NaN   \n4                  0     Units                    NaN               NaN   \n...              ...       ...                    ...               ...   \n2364               0     Units                    NaN               NaN   \n2365               0     Units                    NaN               NaN   \n2366               0     Units                    NaN               NaN   \n2367               0     Units                    NaN               NaN   \n2368               0     Units                    NaN               NaN   \n\n      Value  Flag Codes  Flags  \n0      5.40         NaN    NaN  \n1      3.50         NaN    NaN  \n2      3.70         NaN    NaN  \n3      6.00         NaN    NaN  \n4      3.10         NaN    NaN  \n...     ...         ...    ...  \n2364   0.54         NaN    NaN  \n2365  32.09         NaN    NaN  \n2366   0.67         NaN    NaN  \n2367  19.37         NaN    NaN  \n2368   0.43         NaN    NaN  \n\n[2369 rows x 17 columns]",
      "text/html": "<div>\n<style scoped>\n    .dataframe tbody tr th:only-of-type {\n        vertical-align: middle;\n    }\n\n    .dataframe tbody tr th {\n        vertical-align: top;\n    }\n\n    .dataframe thead th {\n        text-align: right;\n    }\n</style>\n<table border=\"1\" class=\"dataframe\">\n  <thead>\n    <tr style=\"text-align: right;\">\n      <th></th>\n      <th>LOCATION</th>\n      <th>Country</th>\n      <th>INDICATOR</th>\n      <th>Indicator</th>\n      <th>MEASURE</th>\n      <th>Measure</th>\n      <th>INEQUALITY</th>\n      <th>Inequality</th>\n      <th>Unit Code</th>\n      <th>Unit</th>\n      <th>PowerCode Code</th>\n      <th>PowerCode</th>\n      <th>Reference Period Code</th>\n      <th>Reference Period</th>\n      <th>Value</th>\n      <th>Flag Codes</th>\n      <th>Flags</th>\n    </tr>\n  </thead>\n  <tbody>\n    <tr>\n      <th>0</th>\n      <td>AUS</td>\n      <td>Australia</td>\n      <td>JE_LMIS</td>\n      <td>Labour market insecurity</td>\n      <td>L</td>\n      <td>Value</td>\n      <td>TOT</td>\n      <td>Total</td>\n      <td>PC</td>\n      <td>Percentage</td>\n      <td>0</td>\n      <td>Units</td>\n      <td>NaN</td>\n      <td>NaN</td>\n      <td>5.40</td>\n      <td>NaN</td>\n      <td>NaN</td>\n    </tr>\n    <tr>\n      <th>1</th>\n      <td>AUT</td>\n      <td>Austria</td>\n      <td>JE_LMIS</td>\n      <td>Labour market insecurity</td>\n      <td>L</td>\n      <td>Value</td>\n      <td>TOT</td>\n      <td>Total</td>\n      <td>PC</td>\n      <td>Percentage</td>\n      <td>0</td>\n      <td>Units</td>\n      <td>NaN</td>\n      <td>NaN</td>\n      <td>3.50</td>\n      <td>NaN</td>\n      <td>NaN</td>\n    </tr>\n    <tr>\n      <th>2</th>\n      <td>BEL</td>\n      <td>Belgium</td>\n      <td>JE_LMIS</td>\n      <td>Labour market insecurity</td>\n      <td>L</td>\n      <td>Value</td>\n      <td>TOT</td>\n      <td>Total</td>\n      <td>PC</td>\n      <td>Percentage</td>\n      <td>0</td>\n      <td>Units</td>\n      <td>NaN</td>\n      <td>NaN</td>\n      <td>3.70</td>\n      <td>NaN</td>\n      <td>NaN</td>\n    </tr>\n    <tr>\n      <th>3</th>\n      <td>CAN</td>\n      <td>Canada</td>\n      <td>JE_LMIS</td>\n      <td>Labour market insecurity</td>\n      <td>L</td>\n      <td>Value</td>\n      <td>TOT</td>\n      <td>Total</td>\n      <td>PC</td>\n      <td>Percentage</td>\n      <td>0</td>\n      <td>Units</td>\n      <td>NaN</td>\n      <td>NaN</td>\n      <td>6.00</td>\n      <td>NaN</td>\n      <td>NaN</td>\n    </tr>\n    <tr>\n      <th>4</th>\n      <td>CZE</td>\n      <td>Czech Republic</td>\n      <td>JE_LMIS</td>\n      <td>Labour market insecurity</td>\n      <td>L</td>\n      <td>Value</td>\n      <td>TOT</td>\n      <td>Total</td>\n      <td>PC</td>\n      <td>Percentage</td>\n      <td>0</td>\n      <td>Units</td>\n      <td>NaN</td>\n      <td>NaN</td>\n      <td>3.10</td>\n      <td>NaN</td>\n      <td>NaN</td>\n    </tr>\n    <tr>\n      <th>...</th>\n      <td>...</td>\n      <td>...</td>\n      <td>...</td>\n      <td>...</td>\n      <td>...</td>\n      <td>...</td>\n      <td>...</td>\n      <td>...</td>\n      <td>...</td>\n      <td>...</td>\n      <td>...</td>\n      <td>...</td>\n      <td>...</td>\n      <td>...</td>\n      <td>...</td>\n      <td>...</td>\n      <td>...</td>\n    </tr>\n    <tr>\n      <th>2364</th>\n      <td>LTU</td>\n      <td>Lithuania</td>\n      <td>WL_EWLH</td>\n      <td>Employees working very long hours</td>\n      <td>L</td>\n      <td>Value</td>\n      <td>TOT</td>\n      <td>Total</td>\n      <td>PC</td>\n      <td>Percentage</td>\n      <td>0</td>\n      <td>Units</td>\n      <td>NaN</td>\n      <td>NaN</td>\n      <td>0.54</td>\n      <td>NaN</td>\n      <td>NaN</td>\n    </tr>\n    <tr>\n      <th>2365</th>\n      <td>COL</td>\n      <td>Colombia</td>\n      <td>WL_EWLH</td>\n      <td>Employees working very long hours</td>\n      <td>L</td>\n      <td>Value</td>\n      <td>MN</td>\n      <td>Men</td>\n      <td>PC</td>\n      <td>Percentage</td>\n      <td>0</td>\n      <td>Units</td>\n      <td>NaN</td>\n      <td>NaN</td>\n      <td>32.09</td>\n      <td>NaN</td>\n      <td>NaN</td>\n    </tr>\n    <tr>\n      <th>2366</th>\n      <td>LTU</td>\n      <td>Lithuania</td>\n      <td>WL_EWLH</td>\n      <td>Employees working very long hours</td>\n      <td>L</td>\n      <td>Value</td>\n      <td>MN</td>\n      <td>Men</td>\n      <td>PC</td>\n      <td>Percentage</td>\n      <td>0</td>\n      <td>Units</td>\n      <td>NaN</td>\n      <td>NaN</td>\n      <td>0.67</td>\n      <td>NaN</td>\n      <td>NaN</td>\n    </tr>\n    <tr>\n      <th>2367</th>\n      <td>COL</td>\n      <td>Colombia</td>\n      <td>WL_EWLH</td>\n      <td>Employees working very long hours</td>\n      <td>L</td>\n      <td>Value</td>\n      <td>WMN</td>\n      <td>Women</td>\n      <td>PC</td>\n      <td>Percentage</td>\n      <td>0</td>\n      <td>Units</td>\n      <td>NaN</td>\n      <td>NaN</td>\n      <td>19.37</td>\n      <td>NaN</td>\n      <td>NaN</td>\n    </tr>\n    <tr>\n      <th>2368</th>\n      <td>LTU</td>\n      <td>Lithuania</td>\n      <td>WL_EWLH</td>\n      <td>Employees working very long hours</td>\n      <td>L</td>\n      <td>Value</td>\n      <td>WMN</td>\n      <td>Women</td>\n      <td>PC</td>\n      <td>Percentage</td>\n      <td>0</td>\n      <td>Units</td>\n      <td>NaN</td>\n      <td>NaN</td>\n      <td>0.43</td>\n      <td>NaN</td>\n      <td>NaN</td>\n    </tr>\n  </tbody>\n</table>\n<p>2369 rows × 17 columns</p>\n</div>"
     },
     "metadata": {},
     "execution_count": 21
    }
   ],
   "source": [
    "oecd_bli"
   ]
  },
  {
   "cell_type": "code",
   "execution_count": 18,
   "metadata": {},
   "outputs": [
    {
     "output_type": "execute_result",
     "data": {
      "text/plain": "                                               Country  \\\n0                                          Afghanistan   \n1                                              Albania   \n2                                              Algeria   \n3                                               Angola   \n4                                  Antigua and Barbuda   \n..                                                 ...   \n185                                            Vietnam   \n186                                              Yemen   \n187                                             Zambia   \n188                                           Zimbabwe   \n189  International Monetary Fund, World Economic Ou...   \n\n                                    Subject Descriptor         Units  Scale  \\\n0    Gross domestic product per capita, current prices  U.S. dollars  Units   \n1    Gross domestic product per capita, current prices  U.S. dollars  Units   \n2    Gross domestic product per capita, current prices  U.S. dollars  Units   \n3    Gross domestic product per capita, current prices  U.S. dollars  Units   \n4    Gross domestic product per capita, current prices  U.S. dollars  Units   \n..                                                 ...           ...    ...   \n185  Gross domestic product per capita, current prices  U.S. dollars  Units   \n186  Gross domestic product per capita, current prices  U.S. dollars  Units   \n187  Gross domestic product per capita, current prices  U.S. dollars  Units   \n188  Gross domestic product per capita, current prices  U.S. dollars  Units   \n189                                                NaN           NaN    NaN   \n\n                         Country/Series-specific Notes       2015  \\\n0    See notes for:  Gross domestic product, curren...    599.994   \n1    See notes for:  Gross domestic product, curren...   3995.383   \n2    See notes for:  Gross domestic product, curren...   4318.135   \n3    See notes for:  Gross domestic product, curren...   4100.315   \n4    See notes for:  Gross domestic product, curren...  14414.302   \n..                                                 ...        ...   \n185  See notes for:  Gross domestic product, curren...   2088.344   \n186  See notes for:  Gross domestic product, curren...   1302.940   \n187  See notes for:  Gross domestic product, curren...   1350.151   \n188  See notes for:  Gross domestic product, curren...   1064.350   \n189                                                NaN        NaN   \n\n     Estimates Start After  \n0                   2013.0  \n1                   2010.0  \n2                   2014.0  \n3                   2014.0  \n4                   2011.0  \n..                     ...  \n185                 2012.0  \n186                 2008.0  \n187                 2010.0  \n188                 2012.0  \n189                    NaN  \n\n[190 rows x 7 columns]",
      "text/html": "<div>\n<style scoped>\n    .dataframe tbody tr th:only-of-type {\n        vertical-align: middle;\n    }\n\n    .dataframe tbody tr th {\n        vertical-align: top;\n    }\n\n    .dataframe thead th {\n        text-align: right;\n    }\n</style>\n<table border=\"1\" class=\"dataframe\">\n  <thead>\n    <tr style=\"text-align: right;\">\n      <th></th>\n      <th>Country</th>\n      <th>Subject Descriptor</th>\n      <th>Units</th>\n      <th>Scale</th>\n      <th>Country/Series-specific Notes</th>\n      <th>2015</th>\n      <th>Estimates Start After</th>\n    </tr>\n  </thead>\n  <tbody>\n    <tr>\n      <th>0</th>\n      <td>Afghanistan</td>\n      <td>Gross domestic product per capita, current prices</td>\n      <td>U.S. dollars</td>\n      <td>Units</td>\n      <td>See notes for:  Gross domestic product, curren...</td>\n      <td>599.994</td>\n      <td>2013.0</td>\n    </tr>\n    <tr>\n      <th>1</th>\n      <td>Albania</td>\n      <td>Gross domestic product per capita, current prices</td>\n      <td>U.S. dollars</td>\n      <td>Units</td>\n      <td>See notes for:  Gross domestic product, curren...</td>\n      <td>3995.383</td>\n      <td>2010.0</td>\n    </tr>\n    <tr>\n      <th>2</th>\n      <td>Algeria</td>\n      <td>Gross domestic product per capita, current prices</td>\n      <td>U.S. dollars</td>\n      <td>Units</td>\n      <td>See notes for:  Gross domestic product, curren...</td>\n      <td>4318.135</td>\n      <td>2014.0</td>\n    </tr>\n    <tr>\n      <th>3</th>\n      <td>Angola</td>\n      <td>Gross domestic product per capita, current prices</td>\n      <td>U.S. dollars</td>\n      <td>Units</td>\n      <td>See notes for:  Gross domestic product, curren...</td>\n      <td>4100.315</td>\n      <td>2014.0</td>\n    </tr>\n    <tr>\n      <th>4</th>\n      <td>Antigua and Barbuda</td>\n      <td>Gross domestic product per capita, current prices</td>\n      <td>U.S. dollars</td>\n      <td>Units</td>\n      <td>See notes for:  Gross domestic product, curren...</td>\n      <td>14414.302</td>\n      <td>2011.0</td>\n    </tr>\n    <tr>\n      <th>...</th>\n      <td>...</td>\n      <td>...</td>\n      <td>...</td>\n      <td>...</td>\n      <td>...</td>\n      <td>...</td>\n      <td>...</td>\n    </tr>\n    <tr>\n      <th>185</th>\n      <td>Vietnam</td>\n      <td>Gross domestic product per capita, current prices</td>\n      <td>U.S. dollars</td>\n      <td>Units</td>\n      <td>See notes for:  Gross domestic product, curren...</td>\n      <td>2088.344</td>\n      <td>2012.0</td>\n    </tr>\n    <tr>\n      <th>186</th>\n      <td>Yemen</td>\n      <td>Gross domestic product per capita, current prices</td>\n      <td>U.S. dollars</td>\n      <td>Units</td>\n      <td>See notes for:  Gross domestic product, curren...</td>\n      <td>1302.940</td>\n      <td>2008.0</td>\n    </tr>\n    <tr>\n      <th>187</th>\n      <td>Zambia</td>\n      <td>Gross domestic product per capita, current prices</td>\n      <td>U.S. dollars</td>\n      <td>Units</td>\n      <td>See notes for:  Gross domestic product, curren...</td>\n      <td>1350.151</td>\n      <td>2010.0</td>\n    </tr>\n    <tr>\n      <th>188</th>\n      <td>Zimbabwe</td>\n      <td>Gross domestic product per capita, current prices</td>\n      <td>U.S. dollars</td>\n      <td>Units</td>\n      <td>See notes for:  Gross domestic product, curren...</td>\n      <td>1064.350</td>\n      <td>2012.0</td>\n    </tr>\n    <tr>\n      <th>189</th>\n      <td>International Monetary Fund, World Economic Ou...</td>\n      <td>NaN</td>\n      <td>NaN</td>\n      <td>NaN</td>\n      <td>NaN</td>\n      <td>NaN</td>\n      <td>NaN</td>\n    </tr>\n  </tbody>\n</table>\n<p>190 rows × 7 columns</p>\n</div>"
     },
     "metadata": {},
     "execution_count": 18
    }
   ],
   "source": [
    "gdp_per_capita"
   ]
  },
  {
   "cell_type": "code",
   "execution_count": 24,
   "metadata": {},
   "outputs": [
    {
     "output_type": "execute_result",
     "data": {
      "text/plain": "             LOCATION         Country INDICATOR  \\\nCountry 0         AUS       Australia   JE_LMIS   \n        1         AUT         Austria   JE_LMIS   \n        2         BEL         Belgium   JE_LMIS   \n        3         CAN          Canada   JE_LMIS   \n        4         CZE  Czech Republic   JE_LMIS   \n...               ...             ...       ...   \n        2364      LTU       Lithuania   WL_EWLH   \n        2365      COL        Colombia   WL_EWLH   \n        2366      LTU       Lithuania   WL_EWLH   \n        2367      COL        Colombia   WL_EWLH   \n        2368      LTU       Lithuania   WL_EWLH   \n\n                                      Indicator MEASURE Measure INEQUALITY  \\\nCountry 0              Labour market insecurity       L   Value        TOT   \n        1              Labour market insecurity       L   Value        TOT   \n        2              Labour market insecurity       L   Value        TOT   \n        3              Labour market insecurity       L   Value        TOT   \n        4              Labour market insecurity       L   Value        TOT   \n...                                         ...     ...     ...        ...   \n        2364  Employees working very long hours       L   Value        TOT   \n        2365  Employees working very long hours       L   Value         MN   \n        2366  Employees working very long hours       L   Value         MN   \n        2367  Employees working very long hours       L   Value        WMN   \n        2368  Employees working very long hours       L   Value        WMN   \n\n             Inequality Unit Code        Unit  PowerCode Code PowerCode  \\\nCountry 0         Total        PC  Percentage               0     Units   \n        1         Total        PC  Percentage               0     Units   \n        2         Total        PC  Percentage               0     Units   \n        3         Total        PC  Percentage               0     Units   \n        4         Total        PC  Percentage               0     Units   \n...                 ...       ...         ...             ...       ...   \n        2364      Total        PC  Percentage               0     Units   \n        2365        Men        PC  Percentage               0     Units   \n        2366        Men        PC  Percentage               0     Units   \n        2367      Women        PC  Percentage               0     Units   \n        2368      Women        PC  Percentage               0     Units   \n\n              Reference Period Code  Reference Period  Value  Flag Codes  \\\nCountry 0                       NaN               NaN   5.40         NaN   \n        1                       NaN               NaN   3.50         NaN   \n        2                       NaN               NaN   3.70         NaN   \n        3                       NaN               NaN   6.00         NaN   \n        4                       NaN               NaN   3.10         NaN   \n...                             ...               ...    ...         ...   \n        2364                    NaN               NaN   0.54         NaN   \n        2365                    NaN               NaN  32.09         NaN   \n        2366                    NaN               NaN   0.67         NaN   \n        2367                    NaN               NaN  19.37         NaN   \n        2368                    NaN               NaN   0.43         NaN   \n\n              Flags  \nCountry 0       NaN  \n        1       NaN  \n        2       NaN  \n        3       NaN  \n        4       NaN  \n...             ...  \n        2364    NaN  \n        2365    NaN  \n        2366    NaN  \n        2367    NaN  \n        2368    NaN  \n\n[2369 rows x 17 columns]",
      "text/html": "<div>\n<style scoped>\n    .dataframe tbody tr th:only-of-type {\n        vertical-align: middle;\n    }\n\n    .dataframe tbody tr th {\n        vertical-align: top;\n    }\n\n    .dataframe thead th {\n        text-align: right;\n    }\n</style>\n<table border=\"1\" class=\"dataframe\">\n  <thead>\n    <tr style=\"text-align: right;\">\n      <th></th>\n      <th></th>\n      <th>LOCATION</th>\n      <th>Country</th>\n      <th>INDICATOR</th>\n      <th>Indicator</th>\n      <th>MEASURE</th>\n      <th>Measure</th>\n      <th>INEQUALITY</th>\n      <th>Inequality</th>\n      <th>Unit Code</th>\n      <th>Unit</th>\n      <th>PowerCode Code</th>\n      <th>PowerCode</th>\n      <th>Reference Period Code</th>\n      <th>Reference Period</th>\n      <th>Value</th>\n      <th>Flag Codes</th>\n      <th>Flags</th>\n    </tr>\n  </thead>\n  <tbody>\n    <tr>\n      <th rowspan=\"11\" valign=\"top\">Country</th>\n      <th>0</th>\n      <td>AUS</td>\n      <td>Australia</td>\n      <td>JE_LMIS</td>\n      <td>Labour market insecurity</td>\n      <td>L</td>\n      <td>Value</td>\n      <td>TOT</td>\n      <td>Total</td>\n      <td>PC</td>\n      <td>Percentage</td>\n      <td>0</td>\n      <td>Units</td>\n      <td>NaN</td>\n      <td>NaN</td>\n      <td>5.40</td>\n      <td>NaN</td>\n      <td>NaN</td>\n    </tr>\n    <tr>\n      <th>1</th>\n      <td>AUT</td>\n      <td>Austria</td>\n      <td>JE_LMIS</td>\n      <td>Labour market insecurity</td>\n      <td>L</td>\n      <td>Value</td>\n      <td>TOT</td>\n      <td>Total</td>\n      <td>PC</td>\n      <td>Percentage</td>\n      <td>0</td>\n      <td>Units</td>\n      <td>NaN</td>\n      <td>NaN</td>\n      <td>3.50</td>\n      <td>NaN</td>\n      <td>NaN</td>\n    </tr>\n    <tr>\n      <th>2</th>\n      <td>BEL</td>\n      <td>Belgium</td>\n      <td>JE_LMIS</td>\n      <td>Labour market insecurity</td>\n      <td>L</td>\n      <td>Value</td>\n      <td>TOT</td>\n      <td>Total</td>\n      <td>PC</td>\n      <td>Percentage</td>\n      <td>0</td>\n      <td>Units</td>\n      <td>NaN</td>\n      <td>NaN</td>\n      <td>3.70</td>\n      <td>NaN</td>\n      <td>NaN</td>\n    </tr>\n    <tr>\n      <th>3</th>\n      <td>CAN</td>\n      <td>Canada</td>\n      <td>JE_LMIS</td>\n      <td>Labour market insecurity</td>\n      <td>L</td>\n      <td>Value</td>\n      <td>TOT</td>\n      <td>Total</td>\n      <td>PC</td>\n      <td>Percentage</td>\n      <td>0</td>\n      <td>Units</td>\n      <td>NaN</td>\n      <td>NaN</td>\n      <td>6.00</td>\n      <td>NaN</td>\n      <td>NaN</td>\n    </tr>\n    <tr>\n      <th>4</th>\n      <td>CZE</td>\n      <td>Czech Republic</td>\n      <td>JE_LMIS</td>\n      <td>Labour market insecurity</td>\n      <td>L</td>\n      <td>Value</td>\n      <td>TOT</td>\n      <td>Total</td>\n      <td>PC</td>\n      <td>Percentage</td>\n      <td>0</td>\n      <td>Units</td>\n      <td>NaN</td>\n      <td>NaN</td>\n      <td>3.10</td>\n      <td>NaN</td>\n      <td>NaN</td>\n    </tr>\n    <tr>\n      <th>...</th>\n      <td>...</td>\n      <td>...</td>\n      <td>...</td>\n      <td>...</td>\n      <td>...</td>\n      <td>...</td>\n      <td>...</td>\n      <td>...</td>\n      <td>...</td>\n      <td>...</td>\n      <td>...</td>\n      <td>...</td>\n      <td>...</td>\n      <td>...</td>\n      <td>...</td>\n      <td>...</td>\n      <td>...</td>\n    </tr>\n    <tr>\n      <th>2364</th>\n      <td>LTU</td>\n      <td>Lithuania</td>\n      <td>WL_EWLH</td>\n      <td>Employees working very long hours</td>\n      <td>L</td>\n      <td>Value</td>\n      <td>TOT</td>\n      <td>Total</td>\n      <td>PC</td>\n      <td>Percentage</td>\n      <td>0</td>\n      <td>Units</td>\n      <td>NaN</td>\n      <td>NaN</td>\n      <td>0.54</td>\n      <td>NaN</td>\n      <td>NaN</td>\n    </tr>\n    <tr>\n      <th>2365</th>\n      <td>COL</td>\n      <td>Colombia</td>\n      <td>WL_EWLH</td>\n      <td>Employees working very long hours</td>\n      <td>L</td>\n      <td>Value</td>\n      <td>MN</td>\n      <td>Men</td>\n      <td>PC</td>\n      <td>Percentage</td>\n      <td>0</td>\n      <td>Units</td>\n      <td>NaN</td>\n      <td>NaN</td>\n      <td>32.09</td>\n      <td>NaN</td>\n      <td>NaN</td>\n    </tr>\n    <tr>\n      <th>2366</th>\n      <td>LTU</td>\n      <td>Lithuania</td>\n      <td>WL_EWLH</td>\n      <td>Employees working very long hours</td>\n      <td>L</td>\n      <td>Value</td>\n      <td>MN</td>\n      <td>Men</td>\n      <td>PC</td>\n      <td>Percentage</td>\n      <td>0</td>\n      <td>Units</td>\n      <td>NaN</td>\n      <td>NaN</td>\n      <td>0.67</td>\n      <td>NaN</td>\n      <td>NaN</td>\n    </tr>\n    <tr>\n      <th>2367</th>\n      <td>COL</td>\n      <td>Colombia</td>\n      <td>WL_EWLH</td>\n      <td>Employees working very long hours</td>\n      <td>L</td>\n      <td>Value</td>\n      <td>WMN</td>\n      <td>Women</td>\n      <td>PC</td>\n      <td>Percentage</td>\n      <td>0</td>\n      <td>Units</td>\n      <td>NaN</td>\n      <td>NaN</td>\n      <td>19.37</td>\n      <td>NaN</td>\n      <td>NaN</td>\n    </tr>\n    <tr>\n      <th>2368</th>\n      <td>LTU</td>\n      <td>Lithuania</td>\n      <td>WL_EWLH</td>\n      <td>Employees working very long hours</td>\n      <td>L</td>\n      <td>Value</td>\n      <td>WMN</td>\n      <td>Women</td>\n      <td>PC</td>\n      <td>Percentage</td>\n      <td>0</td>\n      <td>Units</td>\n      <td>NaN</td>\n      <td>NaN</td>\n      <td>0.43</td>\n      <td>NaN</td>\n      <td>NaN</td>\n    </tr>\n  </tbody>\n</table>\n<p>2369 rows × 17 columns</p>\n</div>"
     },
     "metadata": {},
     "execution_count": 24
    }
   ],
   "source": [
    "country_stats"
   ]
  },
  {
   "cell_type": "code",
   "execution_count": null,
   "metadata": {},
   "outputs": [],
   "source": []
  }
 ]
}