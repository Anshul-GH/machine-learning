{
 "metadata": {
  "language_info": {
   "codemirror_mode": {
    "name": "ipython",
    "version": 3
   },
   "file_extension": ".py",
   "mimetype": "text/x-python",
   "name": "python",
   "nbconvert_exporter": "python",
   "pygments_lexer": "ipython3",
   "version": "3.8.5"
  },
  "orig_nbformat": 2,
  "kernelspec": {
   "name": "python385jvsc74a57bd027c864c23e117f40a7a4f2f1a3201837d7329c7e3e4f87e64f2d40e2cb9d4f12",
   "display_name": "Python 3.8.5 64-bit ('base': conda)"
  },
  "metadata": {
   "interpreter": {
    "hash": "27c864c23e117f40a7a4f2f1a3201837d7329c7e3e4f87e64f2d40e2cb9d4f12"
   }
  }
 },
 "nbformat": 4,
 "nbformat_minor": 2,
 "cells": [
  {
   "cell_type": "code",
   "execution_count": 1,
   "metadata": {},
   "outputs": [],
   "source": [
    "from tensorflow.keras.preprocessing.text import Tokenizer"
   ]
  },
  {
   "cell_type": "code",
   "execution_count": 2,
   "metadata": {},
   "outputs": [],
   "source": [
    "# define list if sentences\n",
    "train_sentences = [\n",
    "    'It is a sunny day',\n",
    "    'It is a rainy day',\n",
    "    'Will it actually rain today?',\n",
    "]"
   ]
  },
  {
   "cell_type": "code",
   "execution_count": 3,
   "metadata": {},
   "outputs": [],
   "source": [
    "# initialize the tokenizer object\n",
    "tokenizer = Tokenizer(num_words=50)"
   ]
  },
  {
   "cell_type": "code",
   "execution_count": 4,
   "metadata": {},
   "outputs": [],
   "source": [
    "# train the tokenizer on the training sentences\n",
    "tokenizer.fit_on_texts(train_sentences)"
   ]
  },
  {
   "cell_type": "code",
   "execution_count": 5,
   "metadata": {},
   "outputs": [],
   "source": [
    "# store the wor indexes for the words in the sentence\n",
    "word_index = tokenizer.word_index"
   ]
  },
  {
   "cell_type": "code",
   "execution_count": 6,
   "metadata": {},
   "outputs": [],
   "source": [
    "# create sequences\n",
    "sequences = tokenizer.texts_to_sequences(train_sentences)"
   ]
  },
  {
   "cell_type": "code",
   "execution_count": 8,
   "metadata": {},
   "outputs": [
    {
     "output_type": "stream",
     "name": "stdout",
     "text": [
      "Word Index: {'it': 1, 'is': 2, 'a': 3, 'day': 4, 'sunny': 5, 'rainy': 6, 'will': 7, 'actually': 8, 'rain': 9, 'today': 10}\nSentences: ['It is a sunny day', 'It is a rainy day', 'Will it actually rain today?']\nSequences: [[1, 2, 3, 5, 4], [1, 2, 3, 6, 4], [7, 1, 8, 9, 10]]\n"
     ]
    }
   ],
   "source": [
    "# print the word index and sequences\n",
    "print(f\"Word Index: {word_index}\")\n",
    "print(f\"Sentences: {train_sentences}\")\n",
    "print(f\"Sequences: {sequences}\")"
   ]
  },
  {
   "cell_type": "code",
   "execution_count": 9,
   "metadata": {},
   "outputs": [],
   "source": [
    "new_sentences = [\n",
    "    \"Does not look like it will rain today\",\n",
    "    \"It is a pleasant day.\"\n",
    "]"
   ]
  },
  {
   "cell_type": "code",
   "execution_count": 10,
   "metadata": {},
   "outputs": [],
   "source": [
    "new_sequences = tokenizer.texts_to_sequences(new_sentences)"
   ]
  },
  {
   "cell_type": "code",
   "execution_count": 11,
   "metadata": {},
   "outputs": [
    {
     "output_type": "stream",
     "name": "stdout",
     "text": [
      "New Sentences: ['Does not look like it will rain today', 'It is a pleasant day.']\nNew Sequences: [[1, 7, 9, 10], [1, 2, 3, 4]]\n"
     ]
    }
   ],
   "source": [
    "print(f\"New Sentences: {new_sentences}\")\n",
    "print(f\"New Sequences: {new_sequences}\")"
   ]
  },
  {
   "cell_type": "code",
   "execution_count": 12,
   "metadata": {},
   "outputs": [],
   "source": [
    "# set up the tokenizer again with oov_token\n",
    "tokenizer = Tokenizer(num_words=50, oov_token='<oov>')"
   ]
  },
  {
   "cell_type": "code",
   "execution_count": 13,
   "metadata": {},
   "outputs": [],
   "source": [
    "# train the tokenizer on the training sentences\n",
    "tokenizer.fit_on_texts(train_sentences)"
   ]
  },
  {
   "cell_type": "code",
   "execution_count": 14,
   "metadata": {},
   "outputs": [],
   "source": [
    "# store the wor indexes for the words in the sentence\n",
    "word_index = tokenizer.word_index"
   ]
  },
  {
   "cell_type": "code",
   "execution_count": 15,
   "metadata": {},
   "outputs": [
    {
     "output_type": "stream",
     "name": "stdout",
     "text": [
      "Word Index: {'<oov>': 1, 'it': 2, 'is': 3, 'a': 4, 'day': 5, 'sunny': 6, 'rainy': 7, 'will': 8, 'actually': 9, 'rain': 10, 'today': 11}\nSentences: ['It is a sunny day', 'It is a rainy day', 'Will it actually rain today?']\nSequences: [[1, 2, 3, 5, 4], [1, 2, 3, 6, 4], [7, 1, 8, 9, 10]]\n"
     ]
    }
   ],
   "source": [
    "# print the word index and sequences\n",
    "print(f\"Word Index: {word_index}\")\n",
    "print(f\"Sentences: {train_sentences}\")\n",
    "print(f\"Sequences: {sequences}\")"
   ]
  },
  {
   "cell_type": "code",
   "execution_count": 16,
   "metadata": {},
   "outputs": [],
   "source": [
    "new_sequences = tokenizer.texts_to_sequences(new_sentences)"
   ]
  },
  {
   "cell_type": "code",
   "execution_count": 17,
   "metadata": {},
   "outputs": [
    {
     "output_type": "stream",
     "name": "stdout",
     "text": [
      "New Sentences: ['Does not look like it will rain today', 'It is a pleasant day.']\nNew Sequences: [[1, 1, 1, 1, 2, 8, 10, 11], [2, 3, 4, 1, 5]]\n"
     ]
    }
   ],
   "source": [
    "print(f\"New Sentences: {new_sentences}\")\n",
    "print(f\"New Sequences: {new_sequences}\")"
   ]
  },
  {
   "cell_type": "code",
   "execution_count": null,
   "metadata": {},
   "outputs": [],
   "source": []
  }
 ]
}