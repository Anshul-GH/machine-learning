{
 "metadata": {
  "language_info": {
   "codemirror_mode": {
    "name": "ipython",
    "version": 3
   },
   "file_extension": ".py",
   "mimetype": "text/x-python",
   "name": "python",
   "nbconvert_exporter": "python",
   "pygments_lexer": "ipython3",
   "version": "3.8.5"
  },
  "orig_nbformat": 2,
  "kernelspec": {
   "name": "python385jvsc74a57bd027c864c23e117f40a7a4f2f1a3201837d7329c7e3e4f87e64f2d40e2cb9d4f12",
   "display_name": "Python 3.8.5 64-bit ('base': conda)"
  },
  "metadata": {
   "interpreter": {
    "hash": "27c864c23e117f40a7a4f2f1a3201837d7329c7e3e4f87e64f2d40e2cb9d4f12"
   }
  }
 },
 "nbformat": 4,
 "nbformat_minor": 2,
 "cells": [
  {
   "cell_type": "code",
   "execution_count": 1,
   "metadata": {},
   "outputs": [],
   "source": [
    "from tensorflow.keras.preprocessing.text import Tokenizer\n",
    "from tensorflow.keras.preprocessing.sequence import pad_sequences"
   ]
  },
  {
   "cell_type": "code",
   "execution_count": 2,
   "metadata": {},
   "outputs": [],
   "source": [
    "train_sentences = [\n",
    "    'It will rain',\n",
    "    'The weather is cloudy!',\n",
    "    'Will it be raining today?',\n",
    "    'It is a super hot day!'\n",
    "]"
   ]
  },
  {
   "cell_type": "code",
   "execution_count": 3,
   "metadata": {},
   "outputs": [],
   "source": [
    "# tokenizer object\n",
    "tokenizer = Tokenizer(num_words=50, oov_token='<oov>')"
   ]
  },
  {
   "cell_type": "code",
   "execution_count": 4,
   "metadata": {},
   "outputs": [],
   "source": [
    "# train the tokenizer on training sentences\n",
    "tokenizer.fit_on_texts(train_sentences)"
   ]
  },
  {
   "cell_type": "code",
   "execution_count": 5,
   "metadata": {},
   "outputs": [],
   "source": [
    "# store word index for words in the sentences\n",
    "word_index = tokenizer.word_index"
   ]
  },
  {
   "cell_type": "code",
   "execution_count": 6,
   "metadata": {},
   "outputs": [],
   "source": [
    "# create sequences\n",
    "sequences = tokenizer.texts_to_sequences(train_sentences)"
   ]
  },
  {
   "cell_type": "code",
   "execution_count": 7,
   "metadata": {},
   "outputs": [
    {
     "output_type": "stream",
     "name": "stdout",
     "text": [
      "Word Indexes: {'<oov>': 1, 'it': 2, 'will': 3, 'is': 4, 'rain': 5, 'the': 6, 'weather': 7, 'cloudy': 8, 'be': 9, 'raining': 10, 'today': 11, 'a': 12, 'super': 13, 'hot': 14, 'day': 15}\nSentences: ['It will rain', 'The weather is cloudy!', 'Will it be raining today?', 'It is a super hot day!']\nSequences: [[2, 3, 5], [6, 7, 4, 8], [3, 2, 9, 10, 11], [2, 4, 12, 13, 14, 15]]\n"
     ]
    }
   ],
   "source": [
    "# print the values\n",
    "print(f\"Word Indexes: {word_index}\")\n",
    "print(f\"Sentences: {train_sentences}\")\n",
    "print(f\"Sequences: {sequences}\")"
   ]
  },
  {
   "cell_type": "code",
   "execution_count": 8,
   "metadata": {},
   "outputs": [],
   "source": [
    "# pad_sequences\n",
    "padded_sequences = pad_sequences(sequences)"
   ]
  },
  {
   "cell_type": "code",
   "execution_count": 11,
   "metadata": {},
   "outputs": [
    {
     "output_type": "stream",
     "name": "stdout",
     "text": [
      "Sequences: [[2, 3, 5], [6, 7, 4, 8], [3, 2, 9, 10, 11], [2, 4, 12, 13, 14, 15]]\nPadded Sequences: [[ 0  0  0  2  3  5]\n [ 0  0  6  7  4  8]\n [ 0  3  2  9 10 11]\n [ 2  4 12 13 14 15]]\n"
     ]
    }
   ],
   "source": [
    "# print the values\n",
    "# print(f\"Word Indexes: {word_index}\")\n",
    "# print(f\"Sentences: {train_sentences}\")\n",
    "print(f\"Sequences: {sequences}\")\n",
    "print(f\"Padded Sequences: {padded_sequences}\")"
   ]
  },
  {
   "cell_type": "code",
   "execution_count": 12,
   "metadata": {},
   "outputs": [],
   "source": [
    "# pad_sequences with padding type, max length and truncating attributes\n",
    "padded_sequences_mod = pad_sequences(sequences, padding='post', maxlen=5, truncating='post')"
   ]
  },
  {
   "cell_type": "code",
   "execution_count": 13,
   "metadata": {},
   "outputs": [
    {
     "output_type": "stream",
     "name": "stdout",
     "text": [
      "Padded Sequences: [[ 0  0  0  2  3  5]\n [ 0  0  6  7  4  8]\n [ 0  3  2  9 10 11]\n [ 2  4 12 13 14 15]]\nPadded Sequences Mod: [[ 2  3  5  0  0]\n [ 6  7  4  8  0]\n [ 3  2  9 10 11]\n [ 2  4 12 13 14]]\n"
     ]
    }
   ],
   "source": [
    "print(f\"Padded Sequences: {padded_sequences}\")\n",
    "print(f\"Padded Sequences Mod: {padded_sequences_mod}\")"
   ]
  },
  {
   "cell_type": "code",
   "execution_count": null,
   "metadata": {},
   "outputs": [],
   "source": []
  }
 ]
}