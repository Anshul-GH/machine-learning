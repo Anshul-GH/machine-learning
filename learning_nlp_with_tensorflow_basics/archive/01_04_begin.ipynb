{
  "nbformat": 4,
  "nbformat_minor": 0,
  "metadata": {
    "colab": {
      "name": "01_04_begin.ipynb",
      "private_outputs": true,
      "provenance": [],
      "collapsed_sections": [],
      "authorship_tag": "ABX9TyP1MD+pFrLmVbvD/AvVkBm8",
      "include_colab_link": true
    },
    "kernelspec": {
      "name": "python3",
      "display_name": "Python 3"
    },
    "accelerator": "GPU"
  },
  "cells": [
    {
      "cell_type": "markdown",
      "metadata": {
        "id": "view-in-github",
        "colab_type": "text"
      },
      "source": [
        "<a href=\"https://colab.research.google.com/github/dswh/lil_nlp_with_tensorflow/blob/main/01_04_begin.ipynb\" target=\"_parent\"><img src=\"https://colab.research.google.com/assets/colab-badge.svg\" alt=\"Open In Colab\"/></a>"
      ]
    },
    {
      "cell_type": "markdown",
      "metadata": {
        "id": "zTCd7X5YjAYb"
      },
      "source": [
        "# Padding the sequences\n",
        "\n",
        "The notebook explains how to manipulate sequences to make them of equal length using padding."
      ]
    },
    {
      "cell_type": "markdown",
      "metadata": {
        "id": "HI9wpHVHuTzj"
      },
      "source": [
        "## Import the APIs"
      ]
    },
    {
      "cell_type": "code",
      "metadata": {
        "id": "9xsD71YoglK0"
      },
      "source": [
        "##import the required APIs\n",
        "from tensorflow.keras.preprocessing.text import Tokenizer\n",
        "from tensorflow.keras.preprocessing.sequence import ____"
      ],
      "execution_count": null,
      "outputs": []
    },
    {
      "cell_type": "markdown",
      "metadata": {
        "id": "pjONQirSuWaE"
      },
      "source": [
        "## Define the training sentences"
      ]
    },
    {
      "cell_type": "code",
      "metadata": {
        "id": "gXAr5EwonA0g"
      },
      "source": [
        "train_sentences = [\n",
        "             'It will rain',\n",
        "             'The weather is cloudy!',\n",
        "             'Will it be raining today?',\n",
        "             'It is a super hot day!',\n",
        "]"
      ],
      "execution_count": null,
      "outputs": []
    },
    {
      "cell_type": "markdown",
      "metadata": {
        "id": "phR4wbP3uZZk"
      },
      "source": [
        "## Train the tokenizer"
      ]
    },
    {
      "cell_type": "code",
      "metadata": {
        "id": "YFvLTHDGnVGp"
      },
      "source": [
        "##set up the tokenizer again with oov_token\n",
        "tokenizer = Tokenizer(num_words=100, ____='____')\n",
        "\n",
        "##train the tokenizer on training sentences\n",
        "tokenizer.fit_on_texts(train_sentences)\n",
        "\n",
        "##store word index for the words in the sentence\n",
        "word_index = tokenizer.word_index"
      ],
      "execution_count": null,
      "outputs": []
    },
    {
      "cell_type": "markdown",
      "metadata": {
        "id": "PQKzo3zzudPa"
      },
      "source": [
        "## Create Sequences"
      ]
    },
    {
      "cell_type": "code",
      "metadata": {
        "id": "CDziYxaznZcV"
      },
      "source": [
        "##create sequences\n",
        "sequences = tokenizer.texts_to_sequences(train_sentences)"
      ],
      "execution_count": null,
      "outputs": []
    },
    {
      "cell_type": "markdown",
      "metadata": {
        "id": "ZPIULnArugjI"
      },
      "source": [
        "## Pad Sequences"
      ]
    },
    {
      "cell_type": "code",
      "metadata": {
        "id": "ZBDcWz0qnghV"
      },
      "source": [
        "##pad sequences\n",
        "padded_seqs = ____(____)"
      ],
      "execution_count": null,
      "outputs": []
    },
    {
      "cell_type": "code",
      "metadata": {
        "id": "URkBDxQqno5b"
      },
      "source": [
        "print(____)\n",
        "print(____)\n",
        "print(____)\n",
        "print(____)"
      ],
      "execution_count": null,
      "outputs": []
    },
    {
      "cell_type": "markdown",
      "metadata": {
        "id": "NUU6B50VqZaf"
      },
      "source": [
        "## Customising your padded sequence with parameters"
      ]
    },
    {
      "cell_type": "code",
      "metadata": {
        "id": "8y4tTtBqnz6S"
      },
      "source": [
        "##pad sequences with padding type, max length and truncating parameters\n",
        "padded_seqs = pad_sequences(sequences,\n",
        "                            padding=____,\n",
        "                            maxlen=__,\n",
        "                            truncating=____,\n",
        "                            )"
      ],
      "execution_count": null,
      "outputs": []
    },
    {
      "cell_type": "code",
      "metadata": {
        "id": "1pMq96a0Vgxc"
      },
      "source": [
        "print(padded_seqs)"
      ],
      "execution_count": null,
      "outputs": []
    },
    {
      "cell_type": "code",
      "metadata": {
        "id": "LyN5htMt5Avt"
      },
      "source": [
        ""
      ],
      "execution_count": null,
      "outputs": []
    }
  ]
}