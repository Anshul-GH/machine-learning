{
  "nbformat": 4,
  "nbformat_minor": 0,
  "metadata": {
    "colab": {
      "name": "02_04_begin.ipynb",
      "provenance": [],
      "collapsed_sections": [],
      "authorship_tag": "ABX9TyOYR2yZs0Rx9yTo0sqTk22G",
      "include_colab_link": true
    },
    "kernelspec": {
      "name": "python3",
      "display_name": "Python 3"
    }
  },
  "cells": [
    {
      "cell_type": "markdown",
      "metadata": {
        "id": "view-in-github",
        "colab_type": "text"
      },
      "source": [
        "<a href=\"https://colab.research.google.com/github/dswh/lil_nlp_with_tensorflow/blob/main/02_04_begin.ipynb\" target=\"_parent\"><img src=\"https://colab.research.google.com/assets/colab-badge.svg\" alt=\"Open In Colab\"/></a>"
      ]
    },
    {
      "cell_type": "markdown",
      "metadata": {
        "id": "lTguFckTEDWd"
      },
      "source": [
        "# Classifying News Headlines\n",
        "\n",
        "This notebook explains the classification of news headlines as sarcastic and non-sarcastic. We are using the same headlines data as used before.\n"
      ]
    },
    {
      "cell_type": "code",
      "metadata": {
        "id": "9mW3Mt2q5kL2",
        "colab": {
          "base_uri": "https://localhost:8080/"
        },
        "outputId": "02bc5f8e-871c-4aa0-ce66-5dc580bca0c9"
      },
      "source": [
        "##import the required libraries and APIs\n",
        "import numpy as np\n",
        "import tensorflow as tf\n",
        "from tensorflow.keras.preprocessing.text import Tokenizer\n",
        "from tensorflow.keras.preprocessing.sequence import pad_sequences\n",
        "\n",
        "print(tf.__version__)"
      ],
      "execution_count": null,
      "outputs": [
        {
          "output_type": "stream",
          "text": [
            "2.4.1\n"
          ],
          "name": "stdout"
        }
      ]
    },
    {
      "cell_type": "markdown",
      "metadata": {
        "id": "2rhw0j_s5UZ2"
      },
      "source": [
        "## Downloading the News Headlines data"
      ]
    },
    {
      "cell_type": "code",
      "metadata": {
        "id": "XlPflpsyyp5a"
      },
      "source": [
        "!wget --no-check-certificate \\\n",
        "    https://storage.googleapis.com/wdd-2-node.appspot.com/x1.json \\\n",
        "    -o /tmp/headlines.json"
      ],
      "execution_count": null,
      "outputs": []
    },
    {
      "cell_type": "code",
      "metadata": {
        "colab": {
          "base_uri": "https://localhost:8080/",
          "height": 202
        },
        "id": "qfu_3u4yWjJy",
        "outputId": "3fcbca4c-d249-4a36-c447-6a964a9443f4"
      },
      "source": [
        "##read the the json file using pandas\n",
        "import pandas as pd\n",
        "\n",
        "data = pd.read_json(\"./x1.json\")\n",
        "data.head()"
      ],
      "execution_count": null,
      "outputs": [
        {
          "output_type": "execute_result",
          "data": {
            "text/html": [
              "<div>\n",
              "<style scoped>\n",
              "    .dataframe tbody tr th:only-of-type {\n",
              "        vertical-align: middle;\n",
              "    }\n",
              "\n",
              "    .dataframe tbody tr th {\n",
              "        vertical-align: top;\n",
              "    }\n",
              "\n",
              "    .dataframe thead th {\n",
              "        text-align: right;\n",
              "    }\n",
              "</style>\n",
              "<table border=\"1\" class=\"dataframe\">\n",
              "  <thead>\n",
              "    <tr style=\"text-align: right;\">\n",
              "      <th></th>\n",
              "      <th>is_sarcastic</th>\n",
              "      <th>headline</th>\n",
              "      <th>article_link</th>\n",
              "    </tr>\n",
              "  </thead>\n",
              "  <tbody>\n",
              "    <tr>\n",
              "      <th>0</th>\n",
              "      <td>1</td>\n",
              "      <td>thirtysomething scientists unveil doomsday clo...</td>\n",
              "      <td>https://www.theonion.com/thirtysomething-scien...</td>\n",
              "    </tr>\n",
              "    <tr>\n",
              "      <th>1</th>\n",
              "      <td>0</td>\n",
              "      <td>dem rep. totally nails why congress is falling...</td>\n",
              "      <td>https://www.huffingtonpost.com/entry/donna-edw...</td>\n",
              "    </tr>\n",
              "    <tr>\n",
              "      <th>2</th>\n",
              "      <td>0</td>\n",
              "      <td>eat your veggies: 9 deliciously different recipes</td>\n",
              "      <td>https://www.huffingtonpost.com/entry/eat-your-...</td>\n",
              "    </tr>\n",
              "    <tr>\n",
              "      <th>3</th>\n",
              "      <td>1</td>\n",
              "      <td>inclement weather prevents liar from getting t...</td>\n",
              "      <td>https://local.theonion.com/inclement-weather-p...</td>\n",
              "    </tr>\n",
              "    <tr>\n",
              "      <th>4</th>\n",
              "      <td>1</td>\n",
              "      <td>mother comes pretty close to using word 'strea...</td>\n",
              "      <td>https://www.theonion.com/mother-comes-pretty-c...</td>\n",
              "    </tr>\n",
              "  </tbody>\n",
              "</table>\n",
              "</div>"
            ],
            "text/plain": [
              "   is_sarcastic  ...                                       article_link\n",
              "0             1  ...  https://www.theonion.com/thirtysomething-scien...\n",
              "1             0  ...  https://www.huffingtonpost.com/entry/donna-edw...\n",
              "2             0  ...  https://www.huffingtonpost.com/entry/eat-your-...\n",
              "3             1  ...  https://local.theonion.com/inclement-weather-p...\n",
              "4             1  ...  https://www.theonion.com/mother-comes-pretty-c...\n",
              "\n",
              "[5 rows x 3 columns]"
            ]
          },
          "metadata": {
            "tags": []
          },
          "execution_count": 3
        }
      ]
    },
    {
      "cell_type": "code",
      "metadata": {
        "id": "2Q5KWU5sarBZ"
      },
      "source": [
        "##store headlines and labels in respective lists\n",
        "headlines = list(data['headline'])\n",
        "labels = list(data['is_sarcastic'])"
      ],
      "execution_count": null,
      "outputs": []
    },
    {
      "cell_type": "markdown",
      "metadata": {
        "id": "XrePJ_GANUzv"
      },
      "source": [
        "## Set the parameters"
      ]
    },
    {
      "cell_type": "code",
      "metadata": {
        "id": "SaOVx5_QWZJw"
      },
      "source": [
        "##define tokenizing and padding parameters\n",
        "vocab_size = ____\n",
        "max_length = ____\n",
        "embedding_dim = __\n",
        "trunc_type='post'\n",
        "padding_type='post'\n",
        "oov_tok = \"<OOV>\"\n",
        "training_size = ____"
      ],
      "execution_count": null,
      "outputs": []
    },
    {
      "cell_type": "markdown",
      "metadata": {
        "id": "TOa0z54JHTtq"
      },
      "source": [
        "## Splitting the training and testing set"
      ]
    },
    {
      "cell_type": "code",
      "metadata": {
        "id": "iPCBLuAYWg-m"
      },
      "source": [
        "##sentences\n",
        "training_sentences = headlines[0:training_size]\n",
        "testing_sentences = headlines[training_size:]\n",
        "\n",
        "##labels\n",
        "training_labels = labels[0:training_size]\n",
        "testing_labels = labels[training_size:]"
      ],
      "execution_count": null,
      "outputs": []
    },
    {
      "cell_type": "markdown",
      "metadata": {
        "id": "2YPzEKN-NnTx"
      },
      "source": [
        "## Preprocess sentences\n"
      ]
    },
    {
      "cell_type": "code",
      "metadata": {
        "id": "N4k_tDKJYSCL"
      },
      "source": [
        "tokenizer = Tokenizer(num_words=vocab_size, oov_token=oov_tok)\n",
        "tokenizer.fit_on_texts(training_sentences)\n",
        "\n",
        "word_index = tokenizer.word_index\n",
        "\n",
        "training_sequences = tokenizer.texts_to_sequences(training_sentences)\n",
        "training_padded = pad_sequences(training_sequences, maxlen=max_length, padding=padding_type, truncating=trunc_type)\n",
        "\n",
        "testing_sequences = tokenizer.texts_to_sequences(testing_sentences)\n",
        "testing_padded = pad_sequences(testing_sequences, maxlen=max_length, padding=padding_type, truncating=trunc_type)"
      ],
      "execution_count": null,
      "outputs": []
    },
    {
      "cell_type": "code",
      "metadata": {
        "id": "hFZGH6WXeZAZ"
      },
      "source": [
        "# convert lists into numpy arrays to make it work with TensorFlow 2.x\n",
        "training_padded = np.array(training_padded)\n",
        "training_labels = np.array(training_labels)\n",
        "testing_padded = np.array(testing_padded)\n",
        "testing_labels = np.array(testing_labels)"
      ],
      "execution_count": null,
      "outputs": []
    },
    {
      "cell_type": "markdown",
      "metadata": {
        "id": "ZpBlIwAz7InY"
      },
      "source": [
        "## Define the neural network model with the following layers:\n",
        "1. Embedding layer\n",
        "2. Global Average pooling layer(1D)\n",
        "3. Dense layer with 24 nodes\n",
        "4. Output Dense layer with `sigmoid` activation "
      ]
    },
    {
      "cell_type": "code",
      "metadata": {
        "id": "JdDjMIDFebsD"
      },
      "source": [
        "model = tf.keras.Sequential([\n",
        "    tf.keras.layers.____(vocab_size, embedding_dim, input_length=max_length),\n",
        "    tf.keras.layers.____(),\n",
        "    tf.keras.layers.____(24, activation='relu'),\n",
        "    tf.keras.layers.____(1, activation='sigmoid')\n",
        "])\n",
        "\n",
        "##compile the model\n",
        "model.compile(loss='binary_crossentropy',optimizer='adam',metrics=['accuracy'])"
      ],
      "execution_count": null,
      "outputs": []
    },
    {
      "cell_type": "code",
      "metadata": {
        "colab": {
          "base_uri": "https://localhost:8080/"
        },
        "id": "si5PeFv4ed5J",
        "outputId": "4958ca25-5108-4c9a-fd71-3f848c0f4c10"
      },
      "source": [
        "model.summary()"
      ],
      "execution_count": null,
      "outputs": [
        {
          "output_type": "stream",
          "text": [
            "Model: \"sequential\"\n",
            "_________________________________________________________________\n",
            "Layer (type)                 Output Shape              Param #   \n",
            "=================================================================\n",
            "embedding (Embedding)        (None, 120, 16)           160000    \n",
            "_________________________________________________________________\n",
            "global_average_pooling1d (Gl (None, 16)                0         \n",
            "_________________________________________________________________\n",
            "dense (Dense)                (None, 24)                408       \n",
            "_________________________________________________________________\n",
            "dense_1 (Dense)              (None, 1)                 25        \n",
            "=================================================================\n",
            "Total params: 160,433\n",
            "Trainable params: 160,433\n",
            "Non-trainable params: 0\n",
            "_________________________________________________________________\n"
          ],
          "name": "stdout"
        }
      ]
    },
    {
      "cell_type": "markdown",
      "metadata": {
        "id": "q4Sk9WRYHbRh"
      },
      "source": [
        "## Train the model\n",
        "\n",
        "Save it into history"
      ]
    },
    {
      "cell_type": "code",
      "metadata": {
        "colab": {
          "base_uri": "https://localhost:8080/"
        },
        "id": "uuejoPk0efeb",
        "outputId": "fb476f42-56b6-4d74-d1bb-693dd6a588ad"
      },
      "source": [
        "num_epochs = 30\n",
        "history = model.fit(training_padded, \n",
        "                    training_labels, \n",
        "                    epochs=num_epochs, \n",
        "                    validation_data=(testing_padded, testing_labels), \n",
        "                    verbose=2)"
      ],
      "execution_count": null,
      "outputs": [
        {
          "output_type": "stream",
          "text": [
            "Epoch 1/30\n",
            "625/625 - 3s - loss: 0.6657 - accuracy: 0.5863 - val_loss: 0.5507 - val_accuracy: 0.7859\n",
            "Epoch 2/30\n",
            "625/625 - 2s - loss: 0.4210 - accuracy: 0.8312 - val_loss: 0.3821 - val_accuracy: 0.8313\n",
            "Epoch 3/30\n",
            "625/625 - 2s - loss: 0.3142 - accuracy: 0.8723 - val_loss: 0.3395 - val_accuracy: 0.8545\n",
            "Epoch 4/30\n",
            "625/625 - 2s - loss: 0.2634 - accuracy: 0.8959 - val_loss: 0.3324 - val_accuracy: 0.8550\n",
            "Epoch 5/30\n",
            "625/625 - 3s - loss: 0.2267 - accuracy: 0.9133 - val_loss: 0.3315 - val_accuracy: 0.8579\n",
            "Epoch 6/30\n",
            "625/625 - 3s - loss: 0.1994 - accuracy: 0.9241 - val_loss: 0.3407 - val_accuracy: 0.8522\n",
            "Epoch 7/30\n",
            "625/625 - 2s - loss: 0.1769 - accuracy: 0.9339 - val_loss: 0.3504 - val_accuracy: 0.8521\n",
            "Epoch 8/30\n",
            "625/625 - 2s - loss: 0.1605 - accuracy: 0.9412 - val_loss: 0.3638 - val_accuracy: 0.8501\n",
            "Epoch 9/30\n",
            "625/625 - 2s - loss: 0.1442 - accuracy: 0.9469 - val_loss: 0.3871 - val_accuracy: 0.8446\n",
            "Epoch 10/30\n",
            "625/625 - 2s - loss: 0.1341 - accuracy: 0.9504 - val_loss: 0.4070 - val_accuracy: 0.8423\n",
            "Epoch 11/30\n",
            "625/625 - 2s - loss: 0.1192 - accuracy: 0.9582 - val_loss: 0.4388 - val_accuracy: 0.8362\n",
            "Epoch 12/30\n",
            "625/625 - 2s - loss: 0.1089 - accuracy: 0.9623 - val_loss: 0.4575 - val_accuracy: 0.8327\n",
            "Epoch 13/30\n",
            "625/625 - 2s - loss: 0.0998 - accuracy: 0.9650 - val_loss: 0.4812 - val_accuracy: 0.8318\n",
            "Epoch 14/30\n",
            "625/625 - 2s - loss: 0.0924 - accuracy: 0.9680 - val_loss: 0.5153 - val_accuracy: 0.8278\n",
            "Epoch 15/30\n",
            "625/625 - 2s - loss: 0.0853 - accuracy: 0.9712 - val_loss: 0.5473 - val_accuracy: 0.8268\n",
            "Epoch 16/30\n",
            "625/625 - 2s - loss: 0.0765 - accuracy: 0.9744 - val_loss: 0.5705 - val_accuracy: 0.8271\n",
            "Epoch 17/30\n",
            "625/625 - 2s - loss: 0.0702 - accuracy: 0.9772 - val_loss: 0.6058 - val_accuracy: 0.8260\n",
            "Epoch 18/30\n",
            "625/625 - 2s - loss: 0.0649 - accuracy: 0.9786 - val_loss: 0.6414 - val_accuracy: 0.8250\n",
            "Epoch 19/30\n",
            "625/625 - 2s - loss: 0.0591 - accuracy: 0.9821 - val_loss: 0.7275 - val_accuracy: 0.8174\n",
            "Epoch 20/30\n",
            "625/625 - 2s - loss: 0.0552 - accuracy: 0.9825 - val_loss: 0.7259 - val_accuracy: 0.8190\n",
            "Epoch 21/30\n",
            "625/625 - 2s - loss: 0.0506 - accuracy: 0.9838 - val_loss: 0.7729 - val_accuracy: 0.8169\n",
            "Epoch 22/30\n",
            "625/625 - 2s - loss: 0.0458 - accuracy: 0.9869 - val_loss: 0.7917 - val_accuracy: 0.8158\n",
            "Epoch 23/30\n",
            "625/625 - 2s - loss: 0.0417 - accuracy: 0.9876 - val_loss: 0.8296 - val_accuracy: 0.8159\n",
            "Epoch 24/30\n",
            "625/625 - 2s - loss: 0.0393 - accuracy: 0.9894 - val_loss: 0.9635 - val_accuracy: 0.8072\n",
            "Epoch 25/30\n",
            "625/625 - 2s - loss: 0.0334 - accuracy: 0.9912 - val_loss: 0.9172 - val_accuracy: 0.8124\n",
            "Epoch 26/30\n",
            "625/625 - 2s - loss: 0.0332 - accuracy: 0.9905 - val_loss: 0.9414 - val_accuracy: 0.8129\n",
            "Epoch 27/30\n",
            "625/625 - 2s - loss: 0.0335 - accuracy: 0.9896 - val_loss: 0.9999 - val_accuracy: 0.8080\n",
            "Epoch 28/30\n",
            "625/625 - 4s - loss: 0.0298 - accuracy: 0.9907 - val_loss: 1.0110 - val_accuracy: 0.8098\n",
            "Epoch 29/30\n",
            "625/625 - 4s - loss: 0.0272 - accuracy: 0.9922 - val_loss: 1.0583 - val_accuracy: 0.8072\n",
            "Epoch 30/30\n",
            "625/625 - 5s - loss: 0.0254 - accuracy: 0.9925 - val_loss: 1.0717 - val_accuracy: 0.8067\n"
          ],
          "name": "stdout"
        }
      ]
    },
    {
      "cell_type": "markdown",
      "metadata": {
        "id": "35BigeicGmRo"
      },
      "source": [
        "## Visualise the train & validation accuracy and loss"
      ]
    },
    {
      "cell_type": "code",
      "metadata": {
        "colab": {
          "base_uri": "https://localhost:8080/",
          "height": 541
        },
        "id": "iMQAQr-uehOD",
        "outputId": "676645b4-66fe-4770-ba7c-c15a51bbfb94"
      },
      "source": [
        "import matplotlib.pyplot as plt\n",
        "\n",
        "##plot the scores from history\n",
        "def plot_graphs(history, string):\n",
        "  plt.plot(history.history[string])\n",
        "  plt.plot(history.history['val_'+string])\n",
        "  plt.legend([string, 'val_'+string])\n",
        "  plt.xlabel(\"Epochs\")\n",
        "  plt.ylabel(string)\n",
        "  plt.show()\n",
        "  \n",
        "plot_graphs(history, \"accuracy\")\n",
        "plot_graphs(history, \"loss\")"
      ],
      "execution_count": null,
      "outputs": [
        {
          "output_type": "display_data",
          "data": {
            "image/png": "[encoded data removed]",
            "text/plain": [
              "<Figure size 432x288 with 1 Axes>"
            ]
          },
          "metadata": {
            "tags": [],
            "needs_background": "light"
          }
        },
        {
          "output_type": "display_data",
          "data": {
            "image/png": "[encoded data removed]",
            "text/plain": [
              "<Figure size 432x288 with 1 Axes>"
            ]
          },
          "metadata": {
            "tags": [],
            "needs_background": "light"
          }
        }
      ]
    },
    {
      "cell_type": "markdown",
      "metadata": {
        "id": "FLuGAkBaGzaP"
      },
      "source": [
        "## Classifying a new sentence"
      ]
    },
    {
      "cell_type": "code",
      "metadata": {
        "colab": {
          "base_uri": "https://localhost:8080/"
        },
        "id": "2cVc8w-tejyj",
        "outputId": "c632b8e8-4d7f-4668-adb1-def7ce500716"
      },
      "source": [
        "sentence = [\"the baby boy fears spiders in the garden might be real\", \"game of thrones season finale showing this sunday night\"]\n",
        "\n",
        "##prepare the sequences of the sentences in question\n",
        "sequences = tokenizer.____(____)\n",
        "padded_seqs = ____(____, maxlen=max_length, padding=padding_type, truncating=trunc_type)\n",
        "\n",
        "print(model.predict(padded_seqs))"
      ],
      "execution_count": null,
      "outputs": [
        {
          "output_type": "stream",
          "text": [
            "[[5.3103111e-05]\n",
            " [1.4162402e-05]]\n"
          ],
          "name": "stdout"
        }
      ]
    },
    {
      "cell_type": "code",
      "metadata": {
        "id": "CwT0yxfRgZY_"
      },
      "source": [
        ""
      ],
      "execution_count": null,
      "outputs": []
    }
  ]
}