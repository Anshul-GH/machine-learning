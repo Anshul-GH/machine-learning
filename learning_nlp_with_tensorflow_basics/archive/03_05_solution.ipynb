{
  "nbformat": 4,
  "nbformat_minor": 0,
  "metadata": {
    "colab": {
      "name": "03_04_solution.ipynb",
      "provenance": [],
      "collapsed_sections": [],
      "authorship_tag": "ABX9TyP5DdGdiuFd/twKLj10G4S3",
      "include_colab_link": true
    },
    "kernelspec": {
      "name": "python3",
      "display_name": "Python 3"
    },
    "accelerator": "GPU"
  },
  "cells": [
    {
      "cell_type": "markdown",
      "metadata": {
        "id": "view-in-github",
        "colab_type": "text"
      },
      "source": [
        "<a href=\"https://colab.research.google.com/github/dswh/lil_nlp_with_tensorflow/blob/main/03_04_solution.ipynb\" target=\"_parent\"><img src=\"https://colab.research.google.com/assets/colab-badge.svg\" alt=\"Open In Colab\"/></a>"
      ]
    },
    {
      "cell_type": "markdown",
      "metadata": {
        "id": "lTguFckTEDWd"
      },
      "source": [
        "# Yelp Review Classifier\n",
        "This notebook serves as a challenge to implement and explore LSTM and Convolution model over the new Yelp review dataset. You have to fill up all the blanks with the hyperparameters that helps you get the best accuracy and loss."
      ]
    },
    {
      "cell_type": "code",
      "metadata": {
        "id": "9mW3Mt2q5kL2",
        "colab": {
          "base_uri": "https://localhost:8080/"
        },
        "outputId": "1f717156-f8a5-4109-e235-39cad15eb4bf"
      },
      "source": [
        "##import the required libraries and APIs\n",
        "import numpy as np\n",
        "import tensorflow as tf\n",
        "import tensorflow_datasets as tfds\n",
        "from tensorflow.keras.preprocessing.text import Tokenizer\n",
        "from tensorflow.keras.preprocessing.sequence import pad_sequences\n",
        "\n",
        "print(tf.__version__)"
      ],
      "execution_count": null,
      "outputs": [
        {
          "output_type": "stream",
          "text": [
            "2.4.1\n"
          ],
          "name": "stdout"
        }
      ]
    },
    {
      "cell_type": "markdown",
      "metadata": {
        "id": "2rhw0j_s5UZ2"
      },
      "source": [
        "## Downloading the TensorFlow `yelp_popularity_review` dataset\n",
        "\n",
        "> Make sure tensorflow_datasets is installed"
      ]
    },
    {
      "cell_type": "code",
      "metadata": {
        "id": "XlPflpsyyp5a"
      },
      "source": [
        "##load the yelp reviews dataset\n",
        "data, info = tfds.load(\"yelp_polarity_reviews\", with_info=True, as_supervised=True)"
      ],
      "execution_count": null,
      "outputs": []
    },
    {
      "cell_type": "code",
      "metadata": {
        "id": "qfu_3u4yWjJy"
      },
      "source": [
        "train_data, test_data = data['train'], data['test']\n",
        "\n",
        "train_sentences = []\n",
        "test_sentences = []\n",
        "\n",
        "train_labels = []\n",
        "test_labels = []"
      ],
      "execution_count": null,
      "outputs": []
    },
    {
      "cell_type": "code",
      "metadata": {
        "id": "2Q5KWU5sarBZ"
      },
      "source": [
        "for sent, label in train_data:\n",
        "    train_sentences.append(str(sent.numpy().decode('utf8')))\n",
        "    train_labels.append(label.numpy())\n",
        "\n",
        "for sent, label in test_data:\n",
        "    test_sentences.append(str(sent.numpy().decode('utf8')))\n",
        "    test_labels.append(label.numpy())\n",
        "\n",
        "\n",
        "train_labels = np.array(train_labels)\n",
        "test_labels = np.array(test_labels)"
      ],
      "execution_count": null,
      "outputs": []
    },
    {
      "cell_type": "code",
      "metadata": {
        "id": "SaOVx5_QWZJw"
      },
      "source": [
        "##define the parameters for tokenizing and padding\n",
        "vocab_size = 10000\n",
        "embedding_dim = 32\n",
        "max_length = 120\n",
        "padding_type = 'post'\n",
        "trunc_type='post'\n",
        "oov_tok = \"<OOV>\""
      ],
      "execution_count": null,
      "outputs": []
    },
    {
      "cell_type": "code",
      "metadata": {
        "id": "iPCBLuAYWg-m"
      },
      "source": [
        "tokenizer = Tokenizer(num_words = vocab_size, oov_token=oov_tok)\n",
        "tokenizer.fit_on_texts(train_sentences)\n",
        "word_index = tokenizer.word_index\n",
        "\n",
        "##training sequences and labels\n",
        "train_seqs = tokenizer.texts_to_sequences(train_sentences)\n",
        "train_padded = pad_sequences(train_seqs,maxlen=max_length, truncating=trunc_type)\n",
        "\n",
        "##testing sequences and labels\n",
        "test_seqs = tokenizer.texts_to_sequences(test_sentences)\n",
        "test_padded = pad_sequences(test_seqs,maxlen=max_length)"
      ],
      "execution_count": null,
      "outputs": []
    },
    {
      "cell_type": "markdown",
      "metadata": {
        "id": "ZpBlIwAz7InY"
      },
      "source": [
        "## Explore the LSTM & CNN model with the following layers:\n",
        "1. Embedding layer\n",
        "2. Try two bidirectional LSTM layers or a Conv1D layer or both.\n",
        "3. Dense layer with 24 nodes\n",
        "4. Output Dense layer with `sigmoid` activation "
      ]
    },
    {
      "cell_type": "code",
      "metadata": {
        "id": "JdDjMIDFebsD"
      },
      "source": [
        "model = tf.keras.Sequential([\n",
        "    tf.keras.layers.Embedding(vocab_size, embedding_dim, input_length=max_length),\n",
        "    tf.keras.layers.Bidirectional(tf.keras.layers.LSTM(128, return_sequences=True)),\n",
        "    tf.keras.layers.Bidirectional(tf.keras.layers.LSTM(64)),\n",
        "    tf.keras.layers.Dense(32, activation='relu'),\n",
        "    tf.keras.layers.Dense(1, activation='sigmoid')\n",
        "])\n",
        "model.compile(loss='binary_crossentropy',optimizer='adam',metrics=['accuracy'])"
      ],
      "execution_count": null,
      "outputs": []
    },
    {
      "cell_type": "code",
      "metadata": {
        "colab": {
          "base_uri": "https://localhost:8080/"
        },
        "id": "si5PeFv4ed5J",
        "outputId": "0bac4edf-5c5a-495d-95e1-e12136b276b8"
      },
      "source": [
        "model.summary()"
      ],
      "execution_count": null,
      "outputs": [
        {
          "output_type": "stream",
          "text": [
            "Model: \"sequential_1\"\n",
            "_________________________________________________________________\n",
            "Layer (type)                 Output Shape              Param #   \n",
            "=================================================================\n",
            "embedding_1 (Embedding)      (None, 120, 32)           320000    \n",
            "_________________________________________________________________\n",
            "bidirectional_2 (Bidirection (None, 120, 256)          164864    \n",
            "_________________________________________________________________\n",
            "bidirectional_3 (Bidirection (None, 128)               164352    \n",
            "_________________________________________________________________\n",
            "dense_2 (Dense)              (None, 32)                4128      \n",
            "_________________________________________________________________\n",
            "dense_3 (Dense)              (None, 1)                 33        \n",
            "=================================================================\n",
            "Total params: 653,377\n",
            "Trainable params: 653,377\n",
            "Non-trainable params: 0\n",
            "_________________________________________________________________\n"
          ],
          "name": "stdout"
        }
      ]
    },
    {
      "cell_type": "code",
      "metadata": {
        "id": "hFZGH6WXeZAZ",
        "colab": {
          "base_uri": "https://localhost:8080/"
        },
        "outputId": "dcf95096-9007-47dd-ec87-97d990636976"
      },
      "source": [
        "num_epochs = 10\n",
        "history = model.fit(\n",
        "    train_padded, \n",
        "    train_labels, \n",
        "    epochs=num_epochs, \n",
        "    validation_data=(test_padded, test_labels)\n",
        "    )"
      ],
      "execution_count": null,
      "outputs": [
        {
          "output_type": "stream",
          "text": [
            "Epoch 1/10\n",
            "17500/17500 [==============================] - 428s 24ms/step - loss: 0.0315 - accuracy: 0.9892 - val_loss: 0.2357 - val_accuracy: 0.9419\n",
            "Epoch 2/10\n",
            "17500/17500 [==============================] - 427s 24ms/step - loss: 0.0277 - accuracy: 0.9903 - val_loss: 0.2541 - val_accuracy: 0.9415\n",
            "Epoch 3/10\n",
            "17500/17500 [==============================] - 415s 24ms/step - loss: 0.0252 - accuracy: 0.9914 - val_loss: 0.2749 - val_accuracy: 0.9383\n",
            "Epoch 4/10\n",
            "17500/17500 [==============================] - 411s 23ms/step - loss: 0.0236 - accuracy: 0.9917 - val_loss: 0.2664 - val_accuracy: 0.9387\n",
            "Epoch 5/10\n",
            "17500/17500 [==============================] - 442s 25ms/step - loss: 0.0221 - accuracy: 0.9924 - val_loss: 0.2918 - val_accuracy: 0.9378\n",
            "Epoch 6/10\n",
            "17500/17500 [==============================] - 429s 25ms/step - loss: 0.0206 - accuracy: 0.9926 - val_loss: 0.2862 - val_accuracy: 0.9400\n",
            "Epoch 7/10\n",
            "17500/17500 [==============================] - 428s 24ms/step - loss: 0.0195 - accuracy: 0.9932 - val_loss: 0.3002 - val_accuracy: 0.9403\n",
            "Epoch 8/10\n",
            "17500/17500 [==============================] - 411s 23ms/step - loss: 0.0188 - accuracy: 0.9934 - val_loss: 0.3143 - val_accuracy: 0.9381\n",
            "Epoch 9/10\n",
            "17500/17500 [==============================] - 410s 23ms/step - loss: 0.0178 - accuracy: 0.9937 - val_loss: 0.3093 - val_accuracy: 0.9398\n",
            "Epoch 10/10\n",
            "17500/17500 [==============================] - 408s 23ms/step - loss: 0.0173 - accuracy: 0.9939 - val_loss: 0.3051 - val_accuracy: 0.9406\n"
          ],
          "name": "stdout"
        }
      ]
    },
    {
      "cell_type": "markdown",
      "metadata": {
        "id": "8wSIt3eGJkH2"
      },
      "source": [
        "## Visualise the accuracy and loss"
      ]
    },
    {
      "cell_type": "code",
      "metadata": {
        "id": "bwDNKN5ZEZw4",
        "colab": {
          "base_uri": "https://localhost:8080/",
          "height": 541
        },
        "outputId": "4511de88-88ae-4950-8c7f-ac4224de13ca"
      },
      "source": [
        "import matplotlib.pyplot as plt\n",
        "\n",
        "\n",
        "def plot_metrics(history, metric):\n",
        "  plt.plot(history.history[metric])\n",
        "  plt.plot(history.history['val_'+metric])\n",
        "  plt.xlabel(\"Epochs\")\n",
        "  plt.ylabel(metric)\n",
        "  plt.legend([metric, 'val_'+metric])\n",
        "  plt.show()\n",
        "  \n",
        "plot_metrics(history, \"accuracy\")\n",
        "plot_metrics(history, \"loss\")"
      ],
      "execution_count": null,
      "outputs": [
        {
          "output_type": "display_data",
          "data": {
            "image/png": "[encoded data removed]",
            "text/plain": [
              "<Figure size 432x288 with 1 Axes>"
            ]
          },
          "metadata": {
            "tags": [],
            "needs_background": "light"
          }
        },
        {
          "output_type": "display_data",
          "data": {
            "image/png": "[encoded data removed]",
            "text/plain": [
              "<Figure size 432x288 with 1 Axes>"
            ]
          },
          "metadata": {
            "tags": [],
            "needs_background": "light"
          }
        }
      ]
    },
    {
      "cell_type": "markdown",
      "metadata": {
        "id": "L5FtFOrRJmqF"
      },
      "source": [
        "## Classify new reviews"
      ]
    },
    {
      "cell_type": "code",
      "metadata": {
        "colab": {
          "base_uri": "https://localhost:8080/"
        },
        "id": "2cVc8w-tejyj",
        "outputId": "d40c081e-65ba-40f5-b009-4f258184348f"
      },
      "source": [
        "sentence = [\"the restaurant served a delicious pasta\", \"the restaurant didn't have a decent ambience\"]\n",
        "sequences = tokenizer.texts_to_sequences(sentence)\n",
        "padded = pad_sequences(sequences, maxlen=max_length, padding=padding_type, truncating=trunc_type)\n",
        "print(model.predict(padded))"
      ],
      "execution_count": null,
      "outputs": [
        {
          "output_type": "stream",
          "text": [
            "[[0.64638937]\n",
            " [0.57805914]]\n"
          ],
          "name": "stdout"
        }
      ]
    },
    {
      "cell_type": "code",
      "metadata": {
        "id": "CwT0yxfRgZY_"
      },
      "source": [
        ""
      ],
      "execution_count": null,
      "outputs": []
    }
  ]
}