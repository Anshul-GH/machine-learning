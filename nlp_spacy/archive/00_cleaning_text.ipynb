{
 "cells": [
  {
   "cell_type": "code",
   "execution_count": 2,
   "metadata": {},
   "outputs": [
    {
     "name": "stdout",
     "output_type": "stream",
     "text": [
      "Alice's Adventures in Wonderland\n",
      "\n",
      "                ALICE'S ADVENTURES IN WONDERLAND\n",
      "\n",
      "                          Lewis Carroll\n",
      "\n",
      "               THE MILLENNIUM FULCRUM EDITION 3.0\n",
      "\n",
      "\n",
      "\n",
      "\n",
      "                            CHAPTER I\n",
      "\n",
      "                      Down the Rabbit-Hole\n",
      "\n",
      "\n",
      "  Alice was beginning to get very tired of sitting by her sister\n",
      "on the bank, and of having nothing to do:  once or twice she had\n",
      "peeped into the book her sister was reading, but it had no\n",
      "pictures or conversations in it, `and what is the use of a book,'\n",
      "thought Alice `without pictures or conversation?'\n",
      "\n",
      "  So she was considering in her own mind (as well as she could,\n",
      "for the hot day made her feel very sleepy and stupid), whether\n",
      "the pleasure of making a daisy-chain would be worth the trouble\n",
      "of getting up and picking the daisies, when suddenly a White\n",
      "Rabbit with pink eyes ran close by her.\n",
      "\n",
      "  There was nothing so VERY remarkable in that; nor did Alice\n",
      "think it so VERY much out of the way to hear the Rabbit say to\n",
      "itself, `Oh d\n"
     ]
    }
   ],
   "source": [
    "with open (\"data/alice_unclean.txt\", \"r\") as f:\n",
    "    text = f.read()\n",
    "print (text[:1000])"
   ]
  },
  {
   "cell_type": "code",
   "execution_count": 3,
   "metadata": {},
   "outputs": [
    {
     "name": "stdout",
     "output_type": "stream",
     "text": [
      " I\n",
      "\n",
      "                      Down the Rabbit-Hole\n",
      "\n",
      "\n",
      "  Alice was beginning to get very tired of sitting by her sister\n",
      "on the bank, and of having nothing to do:  once or twice she had\n",
      "peeped into the book her sister was reading, but it had no\n",
      "pictures or conversations in it, `and what is the use of a book,'\n",
      "thought Alice `without pictures or conversation?'\n",
      "\n",
      "  So she was considering in her own mind (as well as she could,\n",
      "for the hot day made her feel very sleepy and stupid), whether\n",
      "the pleasure of making a daisy-chain would be worth the trouble\n",
      "of getting up and picking the daisies, when suddenly a White\n",
      "Rabbit with pink eyes ran close by her.\n",
      "\n",
      "  There was nothing so VERY remarkable in that; nor did Alice\n",
      "think it so VERY much out of the way to hear the Rabbit say to\n",
      "itself, `Oh dear!  Oh dear!  I shall be late!'  (when she thought\n",
      "it over afterwards, it occurred to her that she ought to have\n",
      "wondered at this, but at the time it all seemed quite natural);\n",
      "but when the Rabbit actually TOOK A\n"
     ]
    }
   ],
   "source": [
    "chapters = text.split(\"CHAPTER\")[1:]\n",
    "print (chapters[0][0:1000])"
   ]
  },
  {
   "cell_type": "code",
   "execution_count": 20,
   "metadata": {},
   "outputs": [
    {
     "name": "stdout",
     "output_type": "stream",
     "text": [
      "CHAPTER I\n",
      "Down the Rabbit-Hole\n",
      "CHAPTER II\n",
      "The Pool of Tears\n",
      "CHAPTER III\n",
      "A Caucus-Race and a Long Tale\n",
      "CHAPTER IV\n",
      "The Rabbit Sends in a Little Bill\n",
      "CHAPTER V\n",
      "Advice from a Caterpillar\n",
      "CHAPTER VI\n",
      "Pig and Pepper\n",
      "CHAPTER VII\n",
      "A Mad Tea-Party\n",
      "CHAPTER VIII\n",
      "The Queen's Croquet-Ground\n",
      "CHAPTER IX\n",
      "The Mock Turtle's Story\n",
      "CHAPTER X\n",
      "The Lobster Quadrille\n",
      "CHAPTER XI\n",
      "Who Stole the Tarts?\n",
      "CHAPTER XII\n",
      "Alice's Evidence\n"
     ]
    }
   ],
   "source": [
    "complete_text = []\n",
    "for chapter in chapters:\n",
    "    chapter = \"CHAPTER\"+chapter\n",
    "    chapter = chapter.split(\"*       *       *       *       *       *       *\")[0]\n",
    "    paras = chapter.split(\"\\n\\n\")\n",
    "    chapter_num = paras[0]\n",
    "    print (chapter_num)\n",
    "    chapter_title = paras[1].strip()\n",
    "    print (chapter_title)\n",
    "    chapter_text = paras[2:]\n",
    "    final_paragraphs = []\n",
    "    for para in chapter_text:\n",
    "        para = para.strip().replace(\"\\n-\", \"\").replace(\"\\n\", \" \")\n",
    "        while \"  \" in para:\n",
    "            para = para.replace(\"  \",\" \")\n",
    "        if len(para) > 1:\n",
    "            final_paragraphs.append(para)\n",
    "    complete_text.append((chapter_num, chapter_title, final_paragraphs))"
   ]
  },
  {
   "cell_type": "code",
   "execution_count": 22,
   "metadata": {},
   "outputs": [],
   "source": [
    "import json\n",
    "with open (\"data/alice.json\", \"w\") as f:\n",
    "    json.dump(complete_text, f, indent=4)"
   ]
  },
  {
   "cell_type": "code",
   "execution_count": null,
   "metadata": {},
   "outputs": [],
   "source": []
  }
 ],
 "metadata": {
  "kernelspec": {
   "display_name": "Python 3",
   "language": "python",
   "name": "python3"
  },
  "language_info": {
   "codemirror_mode": {
    "name": "ipython",
    "version": 3
   },
   "file_extension": ".py",
   "mimetype": "text/x-python",
   "name": "python",
   "nbconvert_exporter": "python",
   "pygments_lexer": "ipython3",
   "version": "3.8.3"
  }
 },
 "nbformat": 4,
 "nbformat_minor": 4
}
