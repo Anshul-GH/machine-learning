{
 "metadata": {
  "language_info": {
   "codemirror_mode": {
    "name": "ipython",
    "version": 3
   },
   "file_extension": ".py",
   "mimetype": "text/x-python",
   "name": "python",
   "nbconvert_exporter": "python",
   "pygments_lexer": "ipython3",
   "version": "3.8.2-final"
  },
  "orig_nbformat": 2,
  "kernelspec": {
   "name": "python38264bitpy38conda74b30bb8bfed4d658f77b9f4e62a4da3",
   "display_name": "Python 3.8.2 64-bit ('py38': conda)"
  }
 },
 "nbformat": 4,
 "nbformat_minor": 2,
 "cells": [
  {
   "cell_type": "code",
   "execution_count": 1,
   "metadata": {},
   "outputs": [
    {
     "output_type": "stream",
     "name": "stdout",
     "text": [
      "Collecting keras-retinanet\n",
      "  Downloading keras-retinanet-1.0.0.tar.gz (71 kB)\n",
      "\u001b[K     |████████████████████████████████| 71 kB 840 kB/s \n",
      "\u001b[?25hCollecting keras-resnet==0.2.0\n",
      "  Downloading keras-resnet-0.2.0.tar.gz (9.3 kB)\n",
      "Requirement already satisfied: six in /home/anshul/anaconda3/envs/py38/lib/python3.8/site-packages (from keras-retinanet) (1.15.0)\n",
      "Requirement already satisfied: scipy in /home/anshul/anaconda3/envs/py38/lib/python3.8/site-packages (from keras-retinanet) (1.4.1)\n",
      "Collecting cython\n",
      "  Using cached Cython-0.29.21-cp38-cp38-manylinux1_x86_64.whl (1.9 MB)\n",
      "Requirement already satisfied: Pillow in /home/anshul/anaconda3/envs/py38/lib/python3.8/site-packages (from keras-retinanet) (7.2.0)\n",
      "Collecting opencv-python\n",
      "  Downloading opencv_python-4.4.0.44-cp38-cp38-manylinux2014_x86_64.whl (49.5 MB)\n",
      "\u001b[K     |████████████████████████████████| 49.5 MB 12.1 MB/s \n",
      "\u001b[?25hCollecting progressbar2\n",
      "  Downloading progressbar2-3.53.1-py2.py3-none-any.whl (25 kB)\n",
      "Requirement already satisfied: keras>=2.2.4 in /home/anshul/anaconda3/envs/py38/lib/python3.8/site-packages (from keras-resnet==0.2.0->keras-retinanet) (2.4.3)\n",
      "Requirement already satisfied: numpy>=1.13.3 in /home/anshul/anaconda3/envs/py38/lib/python3.8/site-packages (from scipy->keras-retinanet) (1.18.4)\n",
      "Collecting python-utils>=2.3.0\n",
      "  Downloading python_utils-2.4.0-py2.py3-none-any.whl (12 kB)\n",
      "Requirement already satisfied: h5py in /home/anshul/anaconda3/envs/py38/lib/python3.8/site-packages (from keras>=2.2.4->keras-resnet==0.2.0->keras-retinanet) (2.10.0)\n",
      "Requirement already satisfied: pyyaml in /home/anshul/anaconda3/envs/py38/lib/python3.8/site-packages (from keras>=2.2.4->keras-resnet==0.2.0->keras-retinanet) (5.3.1)\n",
      "Building wheels for collected packages: keras-retinanet, keras-resnet\n",
      "  Building wheel for keras-retinanet (setup.py) ... \u001b[?25ldone\n",
      "\u001b[?25h  Created wheel for keras-retinanet: filename=keras_retinanet-1.0.0-cp38-cp38-linux_x86_64.whl size=180919 sha256=58857c7a1de695cfde6cdab3fb7515d554b25dc114c7d1904c49bf1c13b0d68a\n",
      "  Stored in directory: /home/anshul/.cache/pip/wheels/e8/a6/33/9e9e502568a3ab55cefc947f6b0bc98e0de1b4ec80295fedec\n",
      "  Building wheel for keras-resnet (setup.py) ... \u001b[?25ldone\n",
      "\u001b[?25h  Created wheel for keras-resnet: filename=keras_resnet-0.2.0-py2.py3-none-any.whl size=20487 sha256=8c4b4500f70b1da0e6a020118d97e02003eb0c8213f0e68112d09b416615992f\n",
      "  Stored in directory: /home/anshul/.cache/pip/wheels/be/90/98/9d455f04a7ca277366b36c660c89d171ff5abb7bdd8a8b8e75\n",
      "Successfully built keras-retinanet keras-resnet\n",
      "Installing collected packages: keras-resnet, cython, opencv-python, python-utils, progressbar2, keras-retinanet\n",
      "Successfully installed cython-0.29.21 keras-resnet-0.2.0 keras-retinanet-1.0.0 opencv-python-4.4.0.44 progressbar2-3.53.1 python-utils-2.4.0\n"
     ]
    }
   ],
   "source": [
    "!pip install keras-retinanet"
   ]
  },
  {
   "cell_type": "code",
   "execution_count": 2,
   "metadata": {},
   "outputs": [
    {
     "output_type": "stream",
     "name": "stdout",
     "text": [
      "Collecting pdf2image\n",
      "  Downloading pdf2image-1.14.0-py3-none-any.whl (10 kB)\n",
      "Requirement already satisfied: pillow in /home/anshul/anaconda3/envs/py38/lib/python3.8/site-packages (from pdf2image) (7.2.0)\n",
      "Installing collected packages: pdf2image\n",
      "Successfully installed pdf2image-1.14.0\n"
     ]
    }
   ],
   "source": [
    "!pip install pdf2image"
   ]
  },
  {
   "cell_type": "code",
   "execution_count": null,
   "metadata": {},
   "outputs": [],
   "source": [
    "!sudo apt-get install -y poppler-utils -p Poco@123"
   ]
  },
  {
   "cell_type": "code",
   "execution_count": null,
   "metadata": {},
   "outputs": [],
   "source": []
  }
 ]
}