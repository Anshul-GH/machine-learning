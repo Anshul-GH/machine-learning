{
 "metadata": {
  "language_info": {
   "codemirror_mode": {
    "name": "ipython",
    "version": 3
   },
   "file_extension": ".py",
   "mimetype": "text/x-python",
   "name": "python",
   "nbconvert_exporter": "python",
   "pygments_lexer": "ipython3",
   "version": "3.8.5"
  },
  "orig_nbformat": 4,
  "kernelspec": {
   "name": "python3",
   "display_name": "Python 3.8.5 64-bit ('base': conda)"
  },
  "interpreter": {
   "hash": "27c864c23e117f40a7a4f2f1a3201837d7329c7e3e4f87e64f2d40e2cb9d4f12"
  }
 },
 "nbformat": 4,
 "nbformat_minor": 2,
 "cells": [
  {
   "cell_type": "code",
   "execution_count": 4,
   "metadata": {},
   "outputs": [],
   "source": [
    "# load the data from the csv source file\n",
    "src_data = '../data/norway_new_car_sales_by_make.csv'"
   ]
  },
  {
   "cell_type": "code",
   "execution_count": 2,
   "metadata": {},
   "outputs": [],
   "source": [
    "import pandas as pd"
   ]
  },
  {
   "cell_type": "code",
   "execution_count": 5,
   "metadata": {},
   "outputs": [],
   "source": [
    "df_data = pd.read_csv(src_data)"
   ]
  },
  {
   "cell_type": "code",
   "execution_count": 6,
   "metadata": {},
   "outputs": [
    {
     "output_type": "execute_result",
     "data": {
      "text/plain": [
       "      Year  Month        Make  Quantity   Pct\n",
       "0     2007      1      Toyota      2884  22.7\n",
       "1     2007      1  Volkswagen      2521  19.9\n",
       "2     2007      1     Peugeot      1029   8.1\n",
       "3     2007      1        Ford       870   6.9\n",
       "4     2007      1       Volvo       693   5.5\n",
       "...    ...    ...         ...       ...   ...\n",
       "4372  2017      1     Nilsson         3   0.0\n",
       "4373  2017      1    Maserati         2   0.0\n",
       "4374  2017      1     Ferrari         1   0.0\n",
       "4375  2017      1       Smart         1   0.0\n",
       "4376  2017      1   Ssangyong         1   0.0\n",
       "\n",
       "[4377 rows x 5 columns]"
      ],
      "text/html": "<div>\n<style scoped>\n    .dataframe tbody tr th:only-of-type {\n        vertical-align: middle;\n    }\n\n    .dataframe tbody tr th {\n        vertical-align: top;\n    }\n\n    .dataframe thead th {\n        text-align: right;\n    }\n</style>\n<table border=\"1\" class=\"dataframe\">\n  <thead>\n    <tr style=\"text-align: right;\">\n      <th></th>\n      <th>Year</th>\n      <th>Month</th>\n      <th>Make</th>\n      <th>Quantity</th>\n      <th>Pct</th>\n    </tr>\n  </thead>\n  <tbody>\n    <tr>\n      <th>0</th>\n      <td>2007</td>\n      <td>1</td>\n      <td>Toyota</td>\n      <td>2884</td>\n      <td>22.7</td>\n    </tr>\n    <tr>\n      <th>1</th>\n      <td>2007</td>\n      <td>1</td>\n      <td>Volkswagen</td>\n      <td>2521</td>\n      <td>19.9</td>\n    </tr>\n    <tr>\n      <th>2</th>\n      <td>2007</td>\n      <td>1</td>\n      <td>Peugeot</td>\n      <td>1029</td>\n      <td>8.1</td>\n    </tr>\n    <tr>\n      <th>3</th>\n      <td>2007</td>\n      <td>1</td>\n      <td>Ford</td>\n      <td>870</td>\n      <td>6.9</td>\n    </tr>\n    <tr>\n      <th>4</th>\n      <td>2007</td>\n      <td>1</td>\n      <td>Volvo</td>\n      <td>693</td>\n      <td>5.5</td>\n    </tr>\n    <tr>\n      <th>...</th>\n      <td>...</td>\n      <td>...</td>\n      <td>...</td>\n      <td>...</td>\n      <td>...</td>\n    </tr>\n    <tr>\n      <th>4372</th>\n      <td>2017</td>\n      <td>1</td>\n      <td>Nilsson</td>\n      <td>3</td>\n      <td>0.0</td>\n    </tr>\n    <tr>\n      <th>4373</th>\n      <td>2017</td>\n      <td>1</td>\n      <td>Maserati</td>\n      <td>2</td>\n      <td>0.0</td>\n    </tr>\n    <tr>\n      <th>4374</th>\n      <td>2017</td>\n      <td>1</td>\n      <td>Ferrari</td>\n      <td>1</td>\n      <td>0.0</td>\n    </tr>\n    <tr>\n      <th>4375</th>\n      <td>2017</td>\n      <td>1</td>\n      <td>Smart</td>\n      <td>1</td>\n      <td>0.0</td>\n    </tr>\n    <tr>\n      <th>4376</th>\n      <td>2017</td>\n      <td>1</td>\n      <td>Ssangyong</td>\n      <td>1</td>\n      <td>0.0</td>\n    </tr>\n  </tbody>\n</table>\n<p>4377 rows × 5 columns</p>\n</div>"
     },
     "metadata": {},
     "execution_count": 6
    }
   ],
   "source": [
    "df_data"
   ]
  },
  {
   "cell_type": "code",
   "execution_count": 7,
   "metadata": {},
   "outputs": [],
   "source": [
    "# create a column 'Period' with both year and month data\n",
    "df_data['Period'] = df_data['Year'].astype(str) + '-' + df_data['Month'].astype(str)"
   ]
  },
  {
   "cell_type": "code",
   "execution_count": 8,
   "metadata": {},
   "outputs": [
    {
     "output_type": "execute_result",
     "data": {
      "text/plain": [
       "      Year  Month        Make  Quantity   Pct  Period\n",
       "0     2007      1      Toyota      2884  22.7  2007-1\n",
       "1     2007      1  Volkswagen      2521  19.9  2007-1\n",
       "2     2007      1     Peugeot      1029   8.1  2007-1\n",
       "3     2007      1        Ford       870   6.9  2007-1\n",
       "4     2007      1       Volvo       693   5.5  2007-1\n",
       "...    ...    ...         ...       ...   ...     ...\n",
       "4372  2017      1     Nilsson         3   0.0  2017-1\n",
       "4373  2017      1    Maserati         2   0.0  2017-1\n",
       "4374  2017      1     Ferrari         1   0.0  2017-1\n",
       "4375  2017      1       Smart         1   0.0  2017-1\n",
       "4376  2017      1   Ssangyong         1   0.0  2017-1\n",
       "\n",
       "[4377 rows x 6 columns]"
      ],
      "text/html": "<div>\n<style scoped>\n    .dataframe tbody tr th:only-of-type {\n        vertical-align: middle;\n    }\n\n    .dataframe tbody tr th {\n        vertical-align: top;\n    }\n\n    .dataframe thead th {\n        text-align: right;\n    }\n</style>\n<table border=\"1\" class=\"dataframe\">\n  <thead>\n    <tr style=\"text-align: right;\">\n      <th></th>\n      <th>Year</th>\n      <th>Month</th>\n      <th>Make</th>\n      <th>Quantity</th>\n      <th>Pct</th>\n      <th>Period</th>\n    </tr>\n  </thead>\n  <tbody>\n    <tr>\n      <th>0</th>\n      <td>2007</td>\n      <td>1</td>\n      <td>Toyota</td>\n      <td>2884</td>\n      <td>22.7</td>\n      <td>2007-1</td>\n    </tr>\n    <tr>\n      <th>1</th>\n      <td>2007</td>\n      <td>1</td>\n      <td>Volkswagen</td>\n      <td>2521</td>\n      <td>19.9</td>\n      <td>2007-1</td>\n    </tr>\n    <tr>\n      <th>2</th>\n      <td>2007</td>\n      <td>1</td>\n      <td>Peugeot</td>\n      <td>1029</td>\n      <td>8.1</td>\n      <td>2007-1</td>\n    </tr>\n    <tr>\n      <th>3</th>\n      <td>2007</td>\n      <td>1</td>\n      <td>Ford</td>\n      <td>870</td>\n      <td>6.9</td>\n      <td>2007-1</td>\n    </tr>\n    <tr>\n      <th>4</th>\n      <td>2007</td>\n      <td>1</td>\n      <td>Volvo</td>\n      <td>693</td>\n      <td>5.5</td>\n      <td>2007-1</td>\n    </tr>\n    <tr>\n      <th>...</th>\n      <td>...</td>\n      <td>...</td>\n      <td>...</td>\n      <td>...</td>\n      <td>...</td>\n      <td>...</td>\n    </tr>\n    <tr>\n      <th>4372</th>\n      <td>2017</td>\n      <td>1</td>\n      <td>Nilsson</td>\n      <td>3</td>\n      <td>0.0</td>\n      <td>2017-1</td>\n    </tr>\n    <tr>\n      <th>4373</th>\n      <td>2017</td>\n      <td>1</td>\n      <td>Maserati</td>\n      <td>2</td>\n      <td>0.0</td>\n      <td>2017-1</td>\n    </tr>\n    <tr>\n      <th>4374</th>\n      <td>2017</td>\n      <td>1</td>\n      <td>Ferrari</td>\n      <td>1</td>\n      <td>0.0</td>\n      <td>2017-1</td>\n    </tr>\n    <tr>\n      <th>4375</th>\n      <td>2017</td>\n      <td>1</td>\n      <td>Smart</td>\n      <td>1</td>\n      <td>0.0</td>\n      <td>2017-1</td>\n    </tr>\n    <tr>\n      <th>4376</th>\n      <td>2017</td>\n      <td>1</td>\n      <td>Ssangyong</td>\n      <td>1</td>\n      <td>0.0</td>\n      <td>2017-1</td>\n    </tr>\n  </tbody>\n</table>\n<p>4377 rows × 6 columns</p>\n</div>"
     },
     "metadata": {},
     "execution_count": 8
    }
   ],
   "source": [
    "df_data"
   ]
  },
  {
   "cell_type": "code",
   "execution_count": 9,
   "metadata": {},
   "outputs": [],
   "source": [
    "# convert Period from a string type data to datetime\n",
    "df_data['Period'] = pd.to_datetime(df_data['Period']).dt.strftime('%Y-%m')"
   ]
  },
  {
   "cell_type": "code",
   "execution_count": 10,
   "metadata": {},
   "outputs": [
    {
     "output_type": "execute_result",
     "data": {
      "text/plain": [
       "      Year  Month        Make  Quantity   Pct   Period\n",
       "0     2007      1      Toyota      2884  22.7  2007-01\n",
       "1     2007      1  Volkswagen      2521  19.9  2007-01\n",
       "2     2007      1     Peugeot      1029   8.1  2007-01\n",
       "3     2007      1        Ford       870   6.9  2007-01\n",
       "4     2007      1       Volvo       693   5.5  2007-01\n",
       "...    ...    ...         ...       ...   ...      ...\n",
       "4372  2017      1     Nilsson         3   0.0  2017-01\n",
       "4373  2017      1    Maserati         2   0.0  2017-01\n",
       "4374  2017      1     Ferrari         1   0.0  2017-01\n",
       "4375  2017      1       Smart         1   0.0  2017-01\n",
       "4376  2017      1   Ssangyong         1   0.0  2017-01\n",
       "\n",
       "[4377 rows x 6 columns]"
      ],
      "text/html": "<div>\n<style scoped>\n    .dataframe tbody tr th:only-of-type {\n        vertical-align: middle;\n    }\n\n    .dataframe tbody tr th {\n        vertical-align: top;\n    }\n\n    .dataframe thead th {\n        text-align: right;\n    }\n</style>\n<table border=\"1\" class=\"dataframe\">\n  <thead>\n    <tr style=\"text-align: right;\">\n      <th></th>\n      <th>Year</th>\n      <th>Month</th>\n      <th>Make</th>\n      <th>Quantity</th>\n      <th>Pct</th>\n      <th>Period</th>\n    </tr>\n  </thead>\n  <tbody>\n    <tr>\n      <th>0</th>\n      <td>2007</td>\n      <td>1</td>\n      <td>Toyota</td>\n      <td>2884</td>\n      <td>22.7</td>\n      <td>2007-01</td>\n    </tr>\n    <tr>\n      <th>1</th>\n      <td>2007</td>\n      <td>1</td>\n      <td>Volkswagen</td>\n      <td>2521</td>\n      <td>19.9</td>\n      <td>2007-01</td>\n    </tr>\n    <tr>\n      <th>2</th>\n      <td>2007</td>\n      <td>1</td>\n      <td>Peugeot</td>\n      <td>1029</td>\n      <td>8.1</td>\n      <td>2007-01</td>\n    </tr>\n    <tr>\n      <th>3</th>\n      <td>2007</td>\n      <td>1</td>\n      <td>Ford</td>\n      <td>870</td>\n      <td>6.9</td>\n      <td>2007-01</td>\n    </tr>\n    <tr>\n      <th>4</th>\n      <td>2007</td>\n      <td>1</td>\n      <td>Volvo</td>\n      <td>693</td>\n      <td>5.5</td>\n      <td>2007-01</td>\n    </tr>\n    <tr>\n      <th>...</th>\n      <td>...</td>\n      <td>...</td>\n      <td>...</td>\n      <td>...</td>\n      <td>...</td>\n      <td>...</td>\n    </tr>\n    <tr>\n      <th>4372</th>\n      <td>2017</td>\n      <td>1</td>\n      <td>Nilsson</td>\n      <td>3</td>\n      <td>0.0</td>\n      <td>2017-01</td>\n    </tr>\n    <tr>\n      <th>4373</th>\n      <td>2017</td>\n      <td>1</td>\n      <td>Maserati</td>\n      <td>2</td>\n      <td>0.0</td>\n      <td>2017-01</td>\n    </tr>\n    <tr>\n      <th>4374</th>\n      <td>2017</td>\n      <td>1</td>\n      <td>Ferrari</td>\n      <td>1</td>\n      <td>0.0</td>\n      <td>2017-01</td>\n    </tr>\n    <tr>\n      <th>4375</th>\n      <td>2017</td>\n      <td>1</td>\n      <td>Smart</td>\n      <td>1</td>\n      <td>0.0</td>\n      <td>2017-01</td>\n    </tr>\n    <tr>\n      <th>4376</th>\n      <td>2017</td>\n      <td>1</td>\n      <td>Ssangyong</td>\n      <td>1</td>\n      <td>0.0</td>\n      <td>2017-01</td>\n    </tr>\n  </tbody>\n</table>\n<p>4377 rows × 6 columns</p>\n</div>"
     },
     "metadata": {},
     "execution_count": 10
    }
   ],
   "source": [
    "df_data"
   ]
  },
  {
   "cell_type": "code",
   "execution_count": 11,
   "metadata": {},
   "outputs": [],
   "source": [
    "# create a pivot of the data to show the periods\n",
    "# on columns and the car makers on the row\n",
    "df_cleaned = pd.pivot_table(data=df_data, values=\"Quantity\", index=\"Make\", columns=\"Period\", aggfunc=\"sum\", fill_value=0)"
   ]
  },
  {
   "cell_type": "code",
   "execution_count": 12,
   "metadata": {},
   "outputs": [
    {
     "output_type": "execute_result",
     "data": {
      "text/plain": [
       "Period        2007-01  2007-02  2007-03  2007-04  2007-05  2007-06  2007-07  \\\n",
       "Make                                                                          \n",
       "Alfa Romeo         16        9       21       20       17       21       14   \n",
       "Aston Martin        0        0        1        0        4        3        3   \n",
       "Audi              599      498      682      556      630      498      562   \n",
       "BMW               352      335      365      360      431      477      403   \n",
       "Bentley             0        0        0        0        0        1        0   \n",
       "...               ...      ...      ...      ...      ...      ...      ...   \n",
       "Think               2        0        0        1        0        0        0   \n",
       "Toyota           2884     1885     1833     1300     1866     1620     1901   \n",
       "Volkswagen       2521     1517     1428     1257     1934     1531     1777   \n",
       "Volvo             693      570      656      587      805      662     1064   \n",
       "Westfield           0        0        0        0        0        0        0   \n",
       "\n",
       "Period        2007-08  2007-09  2007-10  ...  2016-04  2016-05  2016-06  \\\n",
       "Make                                     ...                              \n",
       "Alfa Romeo         12       15       10  ...        3        1        2   \n",
       "Aston Martin        0        0        0  ...        0        0        1   \n",
       "Audi              590      393      554  ...      685      540      551   \n",
       "BMW               348      271      562  ...     1052      832      808   \n",
       "Bentley             0        0        0  ...        0        0        1   \n",
       "...               ...      ...      ...  ...      ...      ...      ...   \n",
       "Think               1        0        0  ...        0        0        0   \n",
       "Toyota           1783     1303     1648  ...     1432     1687     1603   \n",
       "Volkswagen       1665     1373     1941  ...     3017     2222     2287   \n",
       "Volvo             498      662     1014  ...      748      619      766   \n",
       "Westfield           0        0        0  ...        0        0        0   \n",
       "\n",
       "Period        2016-07  2016-08  2016-09  2016-10  2016-11  2016-12  2017-01  \n",
       "Make                                                                         \n",
       "Alfa Romeo          1        6       15        3        4        3        6  \n",
       "Aston Martin        0        0        0        0        0        0        0  \n",
       "Audi              687      794      688      603      645      827      565  \n",
       "BMW               636     1031     1193     1096     1663      866     1540  \n",
       "Bentley             1        1        0        0        0        0        0  \n",
       "...               ...      ...      ...      ...      ...      ...      ...  \n",
       "Think               0        0        0        0        0        0        0  \n",
       "Toyota           1127     1824     1823     1327     1375     1238     1526  \n",
       "Volkswagen       2076     2359     2084     2161     2106     2239     1688  \n",
       "Volvo             635      463      763      732      754     1235     1158  \n",
       "Westfield           0        0        0        0        0        0        0  \n",
       "\n",
       "[65 rows x 121 columns]"
      ],
      "text/html": "<div>\n<style scoped>\n    .dataframe tbody tr th:only-of-type {\n        vertical-align: middle;\n    }\n\n    .dataframe tbody tr th {\n        vertical-align: top;\n    }\n\n    .dataframe thead th {\n        text-align: right;\n    }\n</style>\n<table border=\"1\" class=\"dataframe\">\n  <thead>\n    <tr style=\"text-align: right;\">\n      <th>Period</th>\n      <th>2007-01</th>\n      <th>2007-02</th>\n      <th>2007-03</th>\n      <th>2007-04</th>\n      <th>2007-05</th>\n      <th>2007-06</th>\n      <th>2007-07</th>\n      <th>2007-08</th>\n      <th>2007-09</th>\n      <th>2007-10</th>\n      <th>...</th>\n      <th>2016-04</th>\n      <th>2016-05</th>\n      <th>2016-06</th>\n      <th>2016-07</th>\n      <th>2016-08</th>\n      <th>2016-09</th>\n      <th>2016-10</th>\n      <th>2016-11</th>\n      <th>2016-12</th>\n      <th>2017-01</th>\n    </tr>\n    <tr>\n      <th>Make</th>\n      <th></th>\n      <th></th>\n      <th></th>\n      <th></th>\n      <th></th>\n      <th></th>\n      <th></th>\n      <th></th>\n      <th></th>\n      <th></th>\n      <th></th>\n      <th></th>\n      <th></th>\n      <th></th>\n      <th></th>\n      <th></th>\n      <th></th>\n      <th></th>\n      <th></th>\n      <th></th>\n      <th></th>\n    </tr>\n  </thead>\n  <tbody>\n    <tr>\n      <th>Alfa Romeo</th>\n      <td>16</td>\n      <td>9</td>\n      <td>21</td>\n      <td>20</td>\n      <td>17</td>\n      <td>21</td>\n      <td>14</td>\n      <td>12</td>\n      <td>15</td>\n      <td>10</td>\n      <td>...</td>\n      <td>3</td>\n      <td>1</td>\n      <td>2</td>\n      <td>1</td>\n      <td>6</td>\n      <td>15</td>\n      <td>3</td>\n      <td>4</td>\n      <td>3</td>\n      <td>6</td>\n    </tr>\n    <tr>\n      <th>Aston Martin</th>\n      <td>0</td>\n      <td>0</td>\n      <td>1</td>\n      <td>0</td>\n      <td>4</td>\n      <td>3</td>\n      <td>3</td>\n      <td>0</td>\n      <td>0</td>\n      <td>0</td>\n      <td>...</td>\n      <td>0</td>\n      <td>0</td>\n      <td>1</td>\n      <td>0</td>\n      <td>0</td>\n      <td>0</td>\n      <td>0</td>\n      <td>0</td>\n      <td>0</td>\n      <td>0</td>\n    </tr>\n    <tr>\n      <th>Audi</th>\n      <td>599</td>\n      <td>498</td>\n      <td>682</td>\n      <td>556</td>\n      <td>630</td>\n      <td>498</td>\n      <td>562</td>\n      <td>590</td>\n      <td>393</td>\n      <td>554</td>\n      <td>...</td>\n      <td>685</td>\n      <td>540</td>\n      <td>551</td>\n      <td>687</td>\n      <td>794</td>\n      <td>688</td>\n      <td>603</td>\n      <td>645</td>\n      <td>827</td>\n      <td>565</td>\n    </tr>\n    <tr>\n      <th>BMW</th>\n      <td>352</td>\n      <td>335</td>\n      <td>365</td>\n      <td>360</td>\n      <td>431</td>\n      <td>477</td>\n      <td>403</td>\n      <td>348</td>\n      <td>271</td>\n      <td>562</td>\n      <td>...</td>\n      <td>1052</td>\n      <td>832</td>\n      <td>808</td>\n      <td>636</td>\n      <td>1031</td>\n      <td>1193</td>\n      <td>1096</td>\n      <td>1663</td>\n      <td>866</td>\n      <td>1540</td>\n    </tr>\n    <tr>\n      <th>Bentley</th>\n      <td>0</td>\n      <td>0</td>\n      <td>0</td>\n      <td>0</td>\n      <td>0</td>\n      <td>1</td>\n      <td>0</td>\n      <td>0</td>\n      <td>0</td>\n      <td>0</td>\n      <td>...</td>\n      <td>0</td>\n      <td>0</td>\n      <td>1</td>\n      <td>1</td>\n      <td>1</td>\n      <td>0</td>\n      <td>0</td>\n      <td>0</td>\n      <td>0</td>\n      <td>0</td>\n    </tr>\n    <tr>\n      <th>...</th>\n      <td>...</td>\n      <td>...</td>\n      <td>...</td>\n      <td>...</td>\n      <td>...</td>\n      <td>...</td>\n      <td>...</td>\n      <td>...</td>\n      <td>...</td>\n      <td>...</td>\n      <td>...</td>\n      <td>...</td>\n      <td>...</td>\n      <td>...</td>\n      <td>...</td>\n      <td>...</td>\n      <td>...</td>\n      <td>...</td>\n      <td>...</td>\n      <td>...</td>\n      <td>...</td>\n    </tr>\n    <tr>\n      <th>Think</th>\n      <td>2</td>\n      <td>0</td>\n      <td>0</td>\n      <td>1</td>\n      <td>0</td>\n      <td>0</td>\n      <td>0</td>\n      <td>1</td>\n      <td>0</td>\n      <td>0</td>\n      <td>...</td>\n      <td>0</td>\n      <td>0</td>\n      <td>0</td>\n      <td>0</td>\n      <td>0</td>\n      <td>0</td>\n      <td>0</td>\n      <td>0</td>\n      <td>0</td>\n      <td>0</td>\n    </tr>\n    <tr>\n      <th>Toyota</th>\n      <td>2884</td>\n      <td>1885</td>\n      <td>1833</td>\n      <td>1300</td>\n      <td>1866</td>\n      <td>1620</td>\n      <td>1901</td>\n      <td>1783</td>\n      <td>1303</td>\n      <td>1648</td>\n      <td>...</td>\n      <td>1432</td>\n      <td>1687</td>\n      <td>1603</td>\n      <td>1127</td>\n      <td>1824</td>\n      <td>1823</td>\n      <td>1327</td>\n      <td>1375</td>\n      <td>1238</td>\n      <td>1526</td>\n    </tr>\n    <tr>\n      <th>Volkswagen</th>\n      <td>2521</td>\n      <td>1517</td>\n      <td>1428</td>\n      <td>1257</td>\n      <td>1934</td>\n      <td>1531</td>\n      <td>1777</td>\n      <td>1665</td>\n      <td>1373</td>\n      <td>1941</td>\n      <td>...</td>\n      <td>3017</td>\n      <td>2222</td>\n      <td>2287</td>\n      <td>2076</td>\n      <td>2359</td>\n      <td>2084</td>\n      <td>2161</td>\n      <td>2106</td>\n      <td>2239</td>\n      <td>1688</td>\n    </tr>\n    <tr>\n      <th>Volvo</th>\n      <td>693</td>\n      <td>570</td>\n      <td>656</td>\n      <td>587</td>\n      <td>805</td>\n      <td>662</td>\n      <td>1064</td>\n      <td>498</td>\n      <td>662</td>\n      <td>1014</td>\n      <td>...</td>\n      <td>748</td>\n      <td>619</td>\n      <td>766</td>\n      <td>635</td>\n      <td>463</td>\n      <td>763</td>\n      <td>732</td>\n      <td>754</td>\n      <td>1235</td>\n      <td>1158</td>\n    </tr>\n    <tr>\n      <th>Westfield</th>\n      <td>0</td>\n      <td>0</td>\n      <td>0</td>\n      <td>0</td>\n      <td>0</td>\n      <td>0</td>\n      <td>0</td>\n      <td>0</td>\n      <td>0</td>\n      <td>0</td>\n      <td>...</td>\n      <td>0</td>\n      <td>0</td>\n      <td>0</td>\n      <td>0</td>\n      <td>0</td>\n      <td>0</td>\n      <td>0</td>\n      <td>0</td>\n      <td>0</td>\n      <td>0</td>\n    </tr>\n  </tbody>\n</table>\n<p>65 rows × 121 columns</p>\n</div>"
     },
     "metadata": {},
     "execution_count": 12
    }
   ],
   "source": [
    "df_cleaned"
   ]
  },
  {
   "cell_type": "code",
   "execution_count": 13,
   "metadata": {},
   "outputs": [],
   "source": [
    "out_file = '../data/cleaned_data.csv'\n",
    "df_cleaned.to_csv(out_file)"
   ]
  },
  {
   "cell_type": "code",
   "execution_count": null,
   "metadata": {},
   "outputs": [],
   "source": [
    "# function to process the data for training and test sets\n",
    "def get_datasets(df, x_len=12, y_len=1, y_test_len=12):\n",
    "    # fetch all the data in a 2D array\n",
    "    data = df.values\n",
    "    periods = data.shape[1]\n",
    "\n",
    "    # training set creation\n",
    "    loops = periods + 1 - x_len - y_len - y_test_len\n",
    "    "
   ]
  },
  {
   "cell_type": "code",
   "execution_count": 14,
   "metadata": {},
   "outputs": [
    {
     "output_type": "execute_result",
     "data": {
      "text/plain": [
       "array([[  16,    9,   21, ...,    4,    3,    6],\n",
       "       [   0,    0,    1, ...,    0,    0,    0],\n",
       "       [ 599,  498,  682, ...,  645,  827,  565],\n",
       "       ...,\n",
       "       [2521, 1517, 1428, ..., 2106, 2239, 1688],\n",
       "       [ 693,  570,  656, ...,  754, 1235, 1158],\n",
       "       [   0,    0,    0, ...,    0,    0,    0]])"
      ]
     },
     "metadata": {},
     "execution_count": 14
    }
   ],
   "source": []
  },
  {
   "cell_type": "code",
   "execution_count": null,
   "metadata": {},
   "outputs": [],
   "source": []
  }
 ]
}