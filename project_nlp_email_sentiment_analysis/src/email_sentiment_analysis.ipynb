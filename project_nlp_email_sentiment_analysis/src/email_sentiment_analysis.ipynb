{
 "metadata": {
  "language_info": {
   "codemirror_mode": {
    "name": "ipython",
    "version": 3
   },
   "file_extension": ".py",
   "mimetype": "text/x-python",
   "name": "python",
   "nbconvert_exporter": "python",
   "pygments_lexer": "ipython3",
   "version": "3.8.5"
  },
  "orig_nbformat": 2,
  "kernelspec": {
   "name": "python385jvsc74a57bd027c864c23e117f40a7a4f2f1a3201837d7329c7e3e4f87e64f2d40e2cb9d4f12",
   "display_name": "Python 3.8.5 64-bit ('base': conda)"
  },
  "metadata": {
   "interpreter": {
    "hash": "27c864c23e117f40a7a4f2f1a3201837d7329c7e3e4f87e64f2d40e2cb9d4f12"
   }
  }
 },
 "nbformat": 4,
 "nbformat_minor": 2,
 "cells": [
  {
   "source": [
    "## Sentiment Analysis"
   ],
   "cell_type": "markdown",
   "metadata": {}
  },
  {
   "source": [
    "Sentiment analysis is similar to a classification problem.\n",
    "\n",
    "The text in question in the emails can reflect - positive, neutral or negative sentiment"
   ],
   "cell_type": "markdown",
   "metadata": {}
  },
  {
   "source": [
    "TextBlob: build on top of NLTK, it provides tools for classification, part-of-speech tagging, noun phrase extraction, sentiment analysis etc."
   ],
   "cell_type": "markdown",
   "metadata": {}
  },
  {
   "cell_type": "code",
   "execution_count": 7,
   "metadata": {},
   "outputs": [],
   "source": [
    "import pandas as pd\n",
    "from textblob import TextBlob"
   ]
  },
  {
   "cell_type": "code",
   "execution_count": 2,
   "metadata": {},
   "outputs": [],
   "source": [
    "# !pip3 install textblob"
   ]
  },
  {
   "cell_type": "code",
   "execution_count": 3,
   "metadata": {},
   "outputs": [],
   "source": [
    "# read the cleaned data from csv file\n",
    "source_csv = '../data/cleaned_emails.csv'"
   ]
  },
  {
   "cell_type": "code",
   "execution_count": 6,
   "metadata": {},
   "outputs": [],
   "source": [
    "df = pd.read_csv(source_csv)"
   ]
  },
  {
   "cell_type": "code",
   "execution_count": 8,
   "metadata": {},
   "outputs": [],
   "source": [
    "# create a textblob from the cleaned email texts\n",
    "text_blob = [TextBlob(txt) for txt in df['clean_text']]"
   ]
  },
  {
   "cell_type": "code",
   "execution_count": 9,
   "metadata": {},
   "outputs": [],
   "source": [
    "# add the sentiment metrics to the dataframe - polarity and subjectivity\n",
    "df['blob_polarity'] = [blob.sentiment.polarity for blob in text_blob]\n",
    "df['blob_subjectivity'] = [blob.sentiment.subjectivity for blob in text_blob]"
   ]
  },
  {
   "cell_type": "code",
   "execution_count": 10,
   "metadata": {},
   "outputs": [
    {
     "output_type": "execute_result",
     "data": {
      "text/plain": [
       "                                          clean_text  spam  blob_polarity  \\\n",
       "0  subject naturally irresistible your corporate ...     1       0.296607   \n",
       "1  subject the stock trading gunslinger fanny is ...     1       0.160317   \n",
       "2  subject unbelievable new homes made easy im wa...     1       0.040229   \n",
       "3  subject color printing special request additio...     1       0.163492   \n",
       "4  subject do not have money get software cds fro...     1       0.433333   \n",
       "\n",
       "   blob_subjectivity  \n",
       "0           0.546905  \n",
       "1           0.562698  \n",
       "2           0.480581  \n",
       "3           0.468254  \n",
       "4           0.395833  "
      ],
      "text/html": "<div>\n<style scoped>\n    .dataframe tbody tr th:only-of-type {\n        vertical-align: middle;\n    }\n\n    .dataframe tbody tr th {\n        vertical-align: top;\n    }\n\n    .dataframe thead th {\n        text-align: right;\n    }\n</style>\n<table border=\"1\" class=\"dataframe\">\n  <thead>\n    <tr style=\"text-align: right;\">\n      <th></th>\n      <th>clean_text</th>\n      <th>spam</th>\n      <th>blob_polarity</th>\n      <th>blob_subjectivity</th>\n    </tr>\n  </thead>\n  <tbody>\n    <tr>\n      <th>0</th>\n      <td>subject naturally irresistible your corporate ...</td>\n      <td>1</td>\n      <td>0.296607</td>\n      <td>0.546905</td>\n    </tr>\n    <tr>\n      <th>1</th>\n      <td>subject the stock trading gunslinger fanny is ...</td>\n      <td>1</td>\n      <td>0.160317</td>\n      <td>0.562698</td>\n    </tr>\n    <tr>\n      <th>2</th>\n      <td>subject unbelievable new homes made easy im wa...</td>\n      <td>1</td>\n      <td>0.040229</td>\n      <td>0.480581</td>\n    </tr>\n    <tr>\n      <th>3</th>\n      <td>subject color printing special request additio...</td>\n      <td>1</td>\n      <td>0.163492</td>\n      <td>0.468254</td>\n    </tr>\n    <tr>\n      <th>4</th>\n      <td>subject do not have money get software cds fro...</td>\n      <td>1</td>\n      <td>0.433333</td>\n      <td>0.395833</td>\n    </tr>\n  </tbody>\n</table>\n</div>"
     },
     "metadata": {},
     "execution_count": 10
    }
   ],
   "source": [
    "df.head()"
   ]
  },
  {
   "cell_type": "code",
   "execution_count": 11,
   "metadata": {},
   "outputs": [
    {
     "output_type": "execute_result",
     "data": {
      "text/plain": [
       "              spam  blob_polarity  blob_subjectivity\n",
       "count  5695.000000    5695.000000        5695.000000\n",
       "mean      0.240211       0.103157           0.408442\n",
       "std       0.427249       0.132474           0.108309\n",
       "min       0.000000      -0.388889           0.055556\n",
       "25%       0.000000       0.022515           0.333333\n",
       "50%       0.000000       0.108333           0.408034\n",
       "75%       0.000000       0.187788           0.473409\n",
       "max       1.000000       0.646667           0.826667"
      ],
      "text/html": "<div>\n<style scoped>\n    .dataframe tbody tr th:only-of-type {\n        vertical-align: middle;\n    }\n\n    .dataframe tbody tr th {\n        vertical-align: top;\n    }\n\n    .dataframe thead th {\n        text-align: right;\n    }\n</style>\n<table border=\"1\" class=\"dataframe\">\n  <thead>\n    <tr style=\"text-align: right;\">\n      <th></th>\n      <th>spam</th>\n      <th>blob_polarity</th>\n      <th>blob_subjectivity</th>\n    </tr>\n  </thead>\n  <tbody>\n    <tr>\n      <th>count</th>\n      <td>5695.000000</td>\n      <td>5695.000000</td>\n      <td>5695.000000</td>\n    </tr>\n    <tr>\n      <th>mean</th>\n      <td>0.240211</td>\n      <td>0.103157</td>\n      <td>0.408442</td>\n    </tr>\n    <tr>\n      <th>std</th>\n      <td>0.427249</td>\n      <td>0.132474</td>\n      <td>0.108309</td>\n    </tr>\n    <tr>\n      <th>min</th>\n      <td>0.000000</td>\n      <td>-0.388889</td>\n      <td>0.055556</td>\n    </tr>\n    <tr>\n      <th>25%</th>\n      <td>0.000000</td>\n      <td>0.022515</td>\n      <td>0.333333</td>\n    </tr>\n    <tr>\n      <th>50%</th>\n      <td>0.000000</td>\n      <td>0.108333</td>\n      <td>0.408034</td>\n    </tr>\n    <tr>\n      <th>75%</th>\n      <td>0.000000</td>\n      <td>0.187788</td>\n      <td>0.473409</td>\n    </tr>\n    <tr>\n      <th>max</th>\n      <td>1.000000</td>\n      <td>0.646667</td>\n      <td>0.826667</td>\n    </tr>\n  </tbody>\n</table>\n</div>"
     },
     "metadata": {},
     "execution_count": 11
    }
   ],
   "source": [
    "df.describe()"
   ]
  },
  {
   "source": [
    "Polarity is float which lies in the range of (-1,1) where 1 means positive statement and -1 means a negative statement. Subjective sentences generally refer to personal opinion, emotion or judgment whereas objective refers to factual information. Subjectivity is also a float which lies in the range of (0,1)."
   ],
   "cell_type": "markdown",
   "metadata": {}
  },
  {
   "cell_type": "code",
   "execution_count": null,
   "metadata": {},
   "outputs": [],
   "source": []
  }
 ]
}