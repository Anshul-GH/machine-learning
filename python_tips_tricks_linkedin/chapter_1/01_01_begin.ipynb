{
 "cells": [
  {
   "cell_type": "markdown",
   "metadata": {},
   "source": [
    "## Accessing methods and documentation\n",
    "\n",
    "The notebook walks you through different methods of accessing documentations of functions and objects. As a Data Scientist you're often struggling with accessing the right piece of information.\n",
    "\n",
    "Here are 4 things I'll show you in this video:\n",
    "\n",
    "1. How to use a particular function (i.e. arguments, returns, etc.).\n",
    "2. How to view classes and methods in a package.\n",
    "3. How to view method attributes.\n",
    "4. How to learn more about the source code of a function."
   ]
  },
  {
   "cell_type": "markdown",
   "metadata": {},
   "source": [
    "### help() \n",
    "\n",
    "A built-in function in Python that can access the docstrings(reference documentation) of the functions and objects defined in Python or any of the imported packages."
   ]
  },
  {
   "cell_type": "code",
   "execution_count": null,
   "metadata": {},
   "outputs": [],
   "source": [
    "##For example: we can use the help function to learn about the sum function in python.\n",
    "\n"
   ]
  },
  {
   "cell_type": "code",
   "execution_count": null,
   "metadata": {},
   "outputs": [],
   "source": [
    "##Similarly, using it to learn about the `read_csv` function of the pandas package.\n",
    "\n"
   ]
  },
  {
   "cell_type": "code",
   "execution_count": null,
   "metadata": {},
   "outputs": [],
   "source": [
    "#Adding a question mark at the end of the function or object will display the documentation of that function for you.\n",
    "\n",
    "sum?"
   ]
  },
  {
   "cell_type": "code",
   "execution_count": null,
   "metadata": {},
   "outputs": [],
   "source": [
    "#Let's create a list to use \"?\" with a list class object.\n",
    "\n"
   ]
  },
  {
   "cell_type": "markdown",
   "metadata": {},
   "source": [
    "### TAB to Autocomplete"
   ]
  },
  {
   "cell_type": "code",
   "execution_count": null,
   "metadata": {},
   "outputs": [],
   "source": [
    "#You can hit the TAB key on your keyboard to list down all the methods of an object.\n",
    "\n"
   ]
  },
  {
   "cell_type": "code",
   "execution_count": null,
   "metadata": {},
   "outputs": [],
   "source": [
    "#Find documentation of a particular method of the object using the \"?\". For example, the `append` function of the list object.\n",
    "\n"
   ]
  },
  {
   "cell_type": "code",
   "execution_count": null,
   "metadata": {},
   "outputs": [],
   "source": [
    "#TAB completion while importing a particular module or function from a package\n",
    "\n"
   ]
  },
  {
   "cell_type": "markdown",
   "metadata": {},
   "source": [
    "### Defining a function with a docstring "
   ]
  },
  {
   "cell_type": "code",
   "execution_count": null,
   "metadata": {},
   "outputs": [],
   "source": [
    "#We can use these operators with our own defined functions. Let's define a function `list_of_squares` as follows:\n",
    "def list_of_squares(alist):\n",
    "    \"\"\"\n",
    "    The function returns a new list containing\n",
    "    squares of all the elements in the list\n",
    "    passed to the function.\n",
    "    \"\"\"\n",
    "    sq_list = []\n",
    "    for i in range(len(alist)):\n",
    "        sq_list.append(alist[i]**2)\n",
    "    return sq_list"
   ]
  },
  {
   "cell_type": "code",
   "execution_count": null,
   "metadata": {},
   "outputs": [],
   "source": [
    "#Checking the documentation:\n"
   ]
  },
  {
   "cell_type": "markdown",
   "metadata": {},
   "source": [
    "### Access source code with \"??\""
   ]
  },
  {
   "cell_type": "code",
   "execution_count": null,
   "metadata": {},
   "outputs": [],
   "source": [
    "#Access the source code of an object or method using double question marks.\n"
   ]
  },
  {
   "cell_type": "code",
   "execution_count": null,
   "metadata": {},
   "outputs": [],
   "source": [
    "#The only limitation of \"??\" is that it doesn't work on functions that are not defined in Python.\n",
    "\n"
   ]
  },
  {
   "cell_type": "code",
   "execution_count": null,
   "metadata": {},
   "outputs": [],
   "source": []
  }
 ],
 "metadata": {
  "kernelspec": {
   "display_name": "Python 3",
   "language": "python",
   "name": "python3"
  },
  "language_info": {
   "codemirror_mode": {
    "name": "ipython",
    "version": 3
   },
   "file_extension": ".py",
   "mimetype": "text/x-python",
   "name": "python",
   "nbconvert_exporter": "python",
   "pygments_lexer": "ipython3",
   "version": "3.7.4"
  }
 },
 "nbformat": 4,
 "nbformat_minor": 4
}
