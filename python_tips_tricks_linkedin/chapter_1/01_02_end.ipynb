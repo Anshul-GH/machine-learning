{
 "cells": [
  {
   "cell_type": "markdown",
   "metadata": {},
   "source": [
    "### Magic Commands\n",
    "\n",
    "These are the commands that help us solve various common problems in data science. These are enhancements that Jupyter notebooks provide in addition to the normal Python syntax.\n",
    "\n",
    "Each command is prefixed with the % character. \n",
    "These are of 2 types:\n",
    "1. Line magics - denoted by `%`\n",
    "2. Cell magics - denoted by `%%`"
   ]
  },
  {
   "cell_type": "markdown",
   "metadata": {},
   "source": [
    "### Running a python script in your notebook using %run"
   ]
  },
  {
   "cell_type": "code",
   "execution_count": null,
   "metadata": {},
   "outputs": [],
   "source": [
    "#Trying to run the `example.py` script in the directory.\n",
    "%run example.py"
   ]
  },
  {
   "cell_type": "code",
   "execution_count": null,
   "metadata": {},
   "outputs": [],
   "source": [
    "#We don't have variables `a` & `b` defined in this notebook but we still have access to them because we have run the script.\n",
    "print(a)\n",
    "print(b)\n",
    "print(divide(a, b))"
   ]
  },
  {
   "cell_type": "markdown",
   "metadata": {},
   "source": [
    "### Using %load to load a script"
   ]
  },
  {
   "cell_type": "code",
   "execution_count": null,
   "metadata": {},
   "outputs": [],
   "source": [
    "# %load example.py\n",
    "a = 5\n",
    "b = 5\n",
    "\n",
    "def sum(a,b):\n",
    "    return a + b\n",
    "\n",
    "\n",
    "def product(a,b):\n",
    "    return a*b\n",
    "\n",
    "def divide(a,b):\n",
    "    if b!=0:\n",
    "        return a/b\n",
    "    return \"Divide by zero error!\"\n",
    "\n",
    "def subtract(a,b):\n",
    "    return a - b\n",
    "\n"
   ]
  },
  {
   "cell_type": "markdown",
   "metadata": {},
   "source": [
    "### %magic and %lsmagic"
   ]
  },
  {
   "cell_type": "code",
   "execution_count": null,
   "metadata": {},
   "outputs": [],
   "source": [
    "%magic"
   ]
  },
  {
   "cell_type": "code",
   "execution_count": null,
   "metadata": {},
   "outputs": [],
   "source": [
    "%lsmagic"
   ]
  },
  {
   "cell_type": "markdown",
   "metadata": {},
   "source": [
    "### Error reporting in Notebooks\n",
    "\n",
    "Whenever you get an error, the traceback always provides the information on where the problem is. We can control the way this information is presented to us using **%xmode** magic command.\n",
    "\n",
    "1. The first function returns the result of division of 2 numbers.\n",
    "2. The second function initializes 2 variables based on a simple rule."
   ]
  },
  {
   "cell_type": "code",
   "execution_count": null,
   "metadata": {},
   "outputs": [],
   "source": [
    "def divide(a,b):\n",
    "    return a/b\n",
    "\n",
    "def initialize(x):\n",
    "    a = x\n",
    "    b = x-2\n",
    "    return divide(a,b)"
   ]
  },
  {
   "cell_type": "markdown",
   "metadata": {},
   "source": []
  },
  {
   "cell_type": "code",
   "execution_count": null,
   "metadata": {},
   "outputs": [],
   "source": [
    "#calling the initialize function with x = 2\n",
    "initialize(2)"
   ]
  },
  {
   "cell_type": "markdown",
   "metadata": {},
   "source": [
    "**%xmode** lets us control what we want to see in the traceback with 3 modes available to use:\n",
    "\n",
    "1. Plain - it's more compact and gives you less information.\n",
    "2. Context - this is the default option as displayed above. HARSHIT - WHAT ARE YOU SAYING HERE? I DON'T QUITE UNDERSTAND.\n",
    "3. Verbose - gives you detailed information.\n",
    "\n",
    "We have to specify the mode ahead of the command."
   ]
  },
  {
   "cell_type": "code",
   "execution_count": null,
   "metadata": {},
   "outputs": [],
   "source": [
    "%xmode Plain"
   ]
  },
  {
   "cell_type": "code",
   "execution_count": null,
   "metadata": {},
   "outputs": [],
   "source": [
    "initialize(2)"
   ]
  },
  {
   "cell_type": "code",
   "execution_count": null,
   "metadata": {},
   "outputs": [],
   "source": [
    "%xmode Verbose "
   ]
  },
  {
   "cell_type": "code",
   "execution_count": null,
   "metadata": {},
   "outputs": [],
   "source": [
    "initialize(2)"
   ]
  },
  {
   "cell_type": "markdown",
   "metadata": {},
   "source": [
    "### Interactive Debugging with %debug"
   ]
  },
  {
   "cell_type": "code",
   "execution_count": null,
   "metadata": {},
   "outputs": [],
   "source": [
    "#%debug magic provides a convenient interactive interface to debug the errors. Call it after hitting an exception.\n",
    "initialize(2)"
   ]
  },
  {
   "cell_type": "code",
   "execution_count": null,
   "metadata": {},
   "outputs": [],
   "source": [
    "%debug"
   ]
  },
  {
   "cell_type": "code",
   "execution_count": null,
   "metadata": {},
   "outputs": [],
   "source": [
    "#If we want the debugger to launch everytime we hit an exception, we can set the **%pdb on**.\n",
    "%xmode Verbose\n",
    "%pdb on\n",
    "initialize(2)"
   ]
  }
 ],
 "metadata": {
  "kernelspec": {
   "display_name": "Python 3",
   "language": "python",
   "name": "python3"
  },
  "language_info": {
   "codemirror_mode": {
    "name": "ipython",
    "version": 3
   },
   "file_extension": ".py",
   "mimetype": "text/x-python",
   "name": "python",
   "nbconvert_exporter": "python",
   "pygments_lexer": "ipython3",
   "version": "3.7.4"
  }
 },
 "nbformat": 4,
 "nbformat_minor": 4
}
