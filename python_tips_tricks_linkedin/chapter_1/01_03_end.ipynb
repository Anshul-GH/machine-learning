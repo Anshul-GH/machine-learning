{
 "cells": [
  {
   "cell_type": "markdown",
   "metadata": {},
   "source": [
    "## Code Profiling and Timing\n",
    "\n",
    "The notebook will give walk you through the array of functionalities that ipython offers to profile and time your code.\n",
    "\n",
    "Motivation: Once you have your code working it's always a good practice to dig into its efficiency. To do that, you should check for the execution time of your operations and determine where the bottleneck is."
   ]
  },
  {
   "cell_type": "markdown",
   "metadata": {},
   "source": [
    "### Time the execution of code using %time"
   ]
  },
  {
   "cell_type": "code",
   "execution_count": null,
   "metadata": {},
   "outputs": [],
   "source": [
    "import pandas as pd\n",
    "%time pd.read_csv(\"../data/advertising.csv\")\n"
   ]
  },
  {
   "cell_type": "markdown",
   "metadata": {},
   "source": [
    "### Learn about time of execution using %timeit\n",
    "\n",
    "%timeit is used to learn about the time it took for repeated execution of a single line of code. This is a more accurate measure as it runs multiple times and returns the average time.\n",
    "\n",
    "It automatically decides the number of repetitions based on the execution time of the statement of code."
   ]
  },
  {
   "cell_type": "code",
   "execution_count": 46,
   "metadata": {},
   "outputs": [
    {
     "name": "stdout",
     "output_type": "stream",
     "text": [
      "1.94 µs ± 102 ns per loop (mean ± std. dev. of 7 runs, 1000000 loops each)\n"
     ]
    }
   ],
   "source": [
    "%timeit sum(range(100))"
   ]
  },
  {
   "cell_type": "code",
   "execution_count": 50,
   "metadata": {},
   "outputs": [
    {
     "name": "stdout",
     "output_type": "stream",
     "text": [
      "4.61 µs ± 349 ns per loop (mean ± std. dev. of 7 runs, 100000 loops each)\n"
     ]
    }
   ],
   "source": [
    "a_list = [random.random() for i in range(1000)]\n",
    "%timeit a_list.sort()"
   ]
  },
  {
   "cell_type": "markdown",
   "metadata": {},
   "source": [
    "Repeating an operation is not always the best option. Sorting an unsorted list is different from sorting a sorted list and thus you may have skewed results because of the repetitions.\n",
    "\n",
    "Whenever you have a slow performing command or when system delays may not have a dire effect on the results, it's better to use **%time** magic command\n",
    "\n",
    "The better choice for the sorting example:   HARSHIT THIS IS TOO MANY WORDS. I'D TAKE ALL OF THIS OUT OF THE FILE -- YOU CAN STILL SAY IT, JUST LEAVE IT OUT OF THE FILE"
   ]
  },
  {
   "cell_type": "code",
   "execution_count": 51,
   "metadata": {},
   "outputs": [
    {
     "name": "stdout",
     "output_type": "stream",
     "text": [
      "CPU times: user 225 µs, sys: 270 µs, total: 495 µs\n",
      "Wall time: 292 µs\n"
     ]
    }
   ],
   "source": [
    "#Use %time for slow performing commands\n",
    "a_list = [random.random() for i in range(1000)]\n",
    "%time a_list.sort()"
   ]
  },
  {
   "cell_type": "code",
   "execution_count": 52,
   "metadata": {},
   "outputs": [
    {
     "name": "stdout",
     "output_type": "stream",
     "text": [
      "1.34 s ± 129 ms per loop (mean ± std. dev. of 7 runs, 1 loop each)\n"
     ]
    }
   ],
   "source": [
    "#%%timeit handles more than one line of code\n",
    "result = 0\n",
    "for i in range(1000):\n",
    "    for j in range(1000):\n",
    "        result += i * (2) ** j"
   ]
  },
  {
   "cell_type": "markdown",
   "metadata": {},
   "source": [
    "### Run code with a profiler using %prun\n",
    "\n",
    "The commands runs the code with a profiler giving us all the details of the total number of function calls, time it took to complete each function call along with the cummulative time as well.\n",
    "\n",
    "We have defined a simple function that is creating a square(equal number of rows and cols) 2D list."
   ]
  },
  {
   "cell_type": "code",
   "execution_count": 43,
   "metadata": {},
   "outputs": [],
   "source": [
    "#function that creates a square 2D list\n",
    "import random\n",
    "import math\n",
    "def create_sq_matrices(n_rows):\n",
    "    out_arr = []\n",
    "    for i in range(n_rows):\n",
    "        out_arr.append([math.ceil(random.random()*n_rows) for k in range(n_rows)])\n",
    "    return out_arr"
   ]
  },
  {
   "cell_type": "markdown",
   "metadata": {},
   "source": []
  },
  {
   "cell_type": "code",
   "execution_count": 44,
   "metadata": {},
   "outputs": [
    {
     "name": "stdout",
     "output_type": "stream",
     "text": [
      " "
     ]
    }
   ],
   "source": [
    "#Profile the defined function for 1000 rows using %prun.\n",
    "%prun create_sq_matrices(1000)"
   ]
  },
  {
   "cell_type": "code",
   "execution_count": 2,
   "metadata": {},
   "outputs": [
    {
     "data": {
      "text/plain": [
       "4950"
      ]
     },
     "execution_count": 2,
     "metadata": {},
     "output_type": "execute_result"
    }
   ],
   "source": [
    "sum(range(100))"
   ]
  },
  {
   "cell_type": "code",
   "execution_count": null,
   "metadata": {},
   "outputs": [],
   "source": []
  }
 ],
 "metadata": {
  "kernelspec": {
   "display_name": "Python 3",
   "language": "python",
   "name": "python3"
  },
  "language_info": {
   "codemirror_mode": {
    "name": "ipython",
    "version": 3
   },
   "file_extension": ".py",
   "mimetype": "text/x-python",
   "name": "python",
   "nbconvert_exporter": "python",
   "pygments_lexer": "ipython3",
   "version": "3.7.4"
  }
 },
 "nbformat": 4,
 "nbformat_minor": 4
}
