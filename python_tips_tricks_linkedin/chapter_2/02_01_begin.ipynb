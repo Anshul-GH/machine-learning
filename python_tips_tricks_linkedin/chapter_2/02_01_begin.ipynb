{
 "cells": [
  {
   "cell_type": "markdown",
   "metadata": {},
   "source": [
    "## NumPy Arrays Essential\n",
    "\n",
    "In this notebook, we'll cover the following fundamental concepts of NumPy."
   ]
  },
  {
   "cell_type": "code",
   "execution_count": null,
   "metadata": {},
   "outputs": [],
   "source": [
    "import numpy as np"
   ]
  },
  {
   "cell_type": "markdown",
   "metadata": {},
   "source": [
    "### Creating NumPy arrays"
   ]
  },
  {
   "cell_type": "code",
   "execution_count": null,
   "metadata": {},
   "outputs": [],
   "source": [
    "# creating an array using Python lists\n",
    "\n"
   ]
  },
  {
   "cell_type": "code",
   "execution_count": null,
   "metadata": {},
   "outputs": [],
   "source": [
    "# creating array of linearly-spaced elements\n",
    "# starting with 0, ending at 30 stepping by 3\n",
    "\n"
   ]
  },
  {
   "cell_type": "code",
   "execution_count": null,
   "metadata": {},
   "outputs": [],
   "source": [
    "# creating an array by dividing a range into a number of parts\n",
    "# starting with 0 and ending at 10 divided into 5 elements\n",
    "\n"
   ]
  },
  {
   "cell_type": "code",
   "execution_count": null,
   "metadata": {},
   "outputs": [],
   "source": [
    "# creating a 2D array with normally distributed random values\n",
    "# mean at 0 and standard deviation 1\n",
    "\n"
   ]
  },
  {
   "cell_type": "markdown",
   "metadata": {},
   "source": [
    "### Useful array attributes"
   ]
  },
  {
   "cell_type": "code",
   "execution_count": null,
   "metadata": {},
   "outputs": [],
   "source": [
    "## set a seed value to generate same random values on every run\n",
    "np.random.seed(0)\n",
    "\n",
    "# create 3 arrays(1D, 2D & 3D)\n",
    "arr1 = np.random.randint(10, size=6)\n",
    "arr2 = np.random.randint(10, size=(3,4))\n",
    "arr3 = np.random.randint(10, size =(3,4,5))"
   ]
  },
  {
   "cell_type": "code",
   "execution_count": null,
   "metadata": {},
   "outputs": [],
   "source": [
    "## printing the dimension, shape, size and bytes of an array\n",
    "print(\"Arr3 ndim: \", arr3.)\n",
    "print(\"Arr3 shape: \", arr3.)\n",
    "print(\"Arr3 size: \", arr3.)\n",
    "print(\"Arr3 bytes: \", arr3., \"bytes\")"
   ]
  },
  {
   "cell_type": "markdown",
   "metadata": {},
   "source": [
    "### How to access elements of an array (i.e. indexing and slicing)?"
   ]
  },
  {
   "cell_type": "code",
   "execution_count": null,
   "metadata": {},
   "outputs": [],
   "source": [
    "print(\"1D Array: \\n\", )\n",
    "\n",
    "print(\"First element: \\n\", )\n",
    "\n",
    "print(\"Last element: \\n\", )\n",
    "\n",
    "print(\"First 3 elements of the array: \\n\", )\n",
    "\n",
    "print(\"Elements after the 4th index \\n\", )\n",
    "\n",
    "print(\"Subarray from 3rd index to 7th: \\n\", )\n",
    "\n",
    "print(\"Alternate elements: \\n\", )\n",
    "\n",
    "print(\"Reversed array: \\n\", )"
   ]
  },
  {
   "cell_type": "code",
   "execution_count": null,
   "metadata": {},
   "outputs": [],
   "source": [
    "print(\"2D Array: \\n\", )\n",
    "\n",
    "print(\"2nd Element of the 3rd row: \\n\", )\n",
    "\n",
    "print(\"Slicing the array to get 2nd and 3rd rows: \\n\", )\n",
    "\n",
    "print(\"Alternate columns: \\n\", )"
   ]
  },
  {
   "cell_type": "code",
   "execution_count": null,
   "metadata": {},
   "outputs": [],
   "source": []
  }
 ],
 "metadata": {
  "kernelspec": {
   "display_name": "Python 3",
   "language": "python",
   "name": "python3"
  },
  "language_info": {
   "codemirror_mode": {
    "name": "ipython",
    "version": 3
   },
   "file_extension": ".py",
   "mimetype": "text/x-python",
   "name": "python",
   "nbconvert_exporter": "python",
   "pygments_lexer": "ipython3",
   "version": "3.7.4"
  }
 },
 "nbformat": 4,
 "nbformat_minor": 4
}
