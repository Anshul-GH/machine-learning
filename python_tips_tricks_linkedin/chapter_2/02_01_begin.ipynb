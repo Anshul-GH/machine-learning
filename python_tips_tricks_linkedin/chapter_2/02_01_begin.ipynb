{
 "cells": [
  {
   "cell_type": "markdown",
   "metadata": {},
   "source": [
    "## NumPy Arrays Essential\n",
    "\n",
    "In this notebook, we'll cover the following fundamental concepts of NumPy."
   ]
  },
  {
   "cell_type": "code",
   "execution_count": 1,
   "metadata": {},
   "outputs": [],
   "source": [
    "import numpy as np"
   ]
  },
  {
   "cell_type": "markdown",
   "metadata": {},
   "source": [
    "### Creating NumPy arrays"
   ]
  },
  {
   "cell_type": "code",
   "execution_count": 2,
   "metadata": {},
   "outputs": [
    {
     "output_type": "execute_result",
     "data": {
      "text/plain": [
       "array([3, 4, 5])"
      ]
     },
     "metadata": {},
     "execution_count": 2
    }
   ],
   "source": [
    "# creating an array using Python lists\n",
    "\n",
    "a_list = [3,4,5]\n",
    "np.array(a_list)"
   ]
  },
  {
   "cell_type": "code",
   "execution_count": 3,
   "metadata": {},
   "outputs": [
    {
     "output_type": "execute_result",
     "data": {
      "text/plain": [
       "array([ 0,  3,  6,  9, 12, 15, 18, 21, 24, 27])"
      ]
     },
     "metadata": {},
     "execution_count": 3
    }
   ],
   "source": [
    "# creating array of linearly-spaced elements\n",
    "# starting with 0, ending at 30 stepping by 3\n",
    "\n",
    "np.arange(0, 30, 3)"
   ]
  },
  {
   "cell_type": "code",
   "execution_count": 4,
   "metadata": {},
   "outputs": [
    {
     "output_type": "execute_result",
     "data": {
      "text/plain": [
       "array([ 0. ,  2.5,  5. ,  7.5, 10. ])"
      ]
     },
     "metadata": {},
     "execution_count": 4
    }
   ],
   "source": [
    "# creating an array by dividing a range into a number of parts\n",
    "# starting with 0 and ending at 10 divided into 5 elements\n",
    "\n",
    "np.linspace(0, 10, 5)"
   ]
  },
  {
   "cell_type": "code",
   "execution_count": 5,
   "metadata": {},
   "outputs": [
    {
     "output_type": "execute_result",
     "data": {
      "text/plain": [
       "array([[-0.06964919, -3.02887372, -1.01702468],\n",
       "       [ 0.72734282,  0.53916189, -0.17533194],\n",
       "       [-1.2041271 ,  1.20514296,  1.62190962]])"
      ]
     },
     "metadata": {},
     "execution_count": 5
    }
   ],
   "source": [
    "# creating a 2D array with normally distributed random values\n",
    "# mean at 0 and standard deviation 1\n",
    "\n",
    "np.random.normal(0,1,(3,3))"
   ]
  },
  {
   "cell_type": "markdown",
   "metadata": {},
   "source": [
    "### Useful array attributes"
   ]
  },
  {
   "cell_type": "code",
   "execution_count": 6,
   "metadata": {},
   "outputs": [],
   "source": [
    "## set a seed value to generate same random values on every run\n",
    "np.random.seed(0)\n",
    "\n",
    "# create 3 arrays(1D, 2D & 3D)\n",
    "arr1 = np.random.randint(10, size=6)\n",
    "arr2 = np.random.randint(10, size=(3,4))\n",
    "arr3 = np.random.randint(10, size =(3,4,5))"
   ]
  },
  {
   "cell_type": "code",
   "execution_count": 7,
   "metadata": {},
   "outputs": [
    {
     "output_type": "stream",
     "name": "stdout",
     "text": [
      "Arr3 ndim:  3\nArr3 shape:  (3, 4, 5)\nArr3 size:  60\nArr3 bytes:  480 bytes\n"
     ]
    }
   ],
   "source": [
    "## printing the dimension, shape, size and bytes of an array\n",
    "print(\"Arr3 ndim: \", arr3.ndim)\n",
    "print(\"Arr3 shape: \", arr3.shape)\n",
    "print(\"Arr3 size: \", arr3.size)\n",
    "print(\"Arr3 bytes: \", arr3.nbytes, \"bytes\")"
   ]
  },
  {
   "cell_type": "markdown",
   "metadata": {},
   "source": [
    "### How to access elements of an array (i.e. indexing and slicing)?"
   ]
  },
  {
   "cell_type": "code",
   "execution_count": 8,
   "metadata": {},
   "outputs": [
    {
     "output_type": "stream",
     "name": "stdout",
     "text": [
      "1D Array: \n [5 0 3 3 7 9]\nFirst element: \n 5\nLast element: \n 9\nFirst 3 elements of the array: \n [5 0 3]\nElements after the 4th index \n [7 9]\nSubarray from 3rd index to 7th: \n [3 7 9]\nAlternate elements: \n [5 3 7]\nReversed array: \n [9 7 3 3 0 5]\n"
     ]
    }
   ],
   "source": [
    "print(\"1D Array: \\n\", arr1)\n",
    "\n",
    "print(\"First element: \\n\", arr1[0])\n",
    "\n",
    "print(\"Last element: \\n\", arr1[-1])\n",
    "\n",
    "print(\"First 3 elements of the array: \\n\", arr1[:3])\n",
    "\n",
    "print(\"Elements after the 4th index \\n\", arr1[4:])\n",
    "\n",
    "print(\"Subarray from 3rd index to 7th: \\n\", arr1[3:8])\n",
    "\n",
    "print(\"Alternate elements: \\n\", arr1[::2])\n",
    "\n",
    "print(\"Reversed array: \\n\", arr1[::-1])"
   ]
  },
  {
   "cell_type": "code",
   "execution_count": 11,
   "metadata": {},
   "outputs": [
    {
     "output_type": "stream",
     "name": "stdout",
     "text": [
      "2D Array: \n [[3 5 2 4]\n [7 6 8 8]\n [1 6 7 7]]\n2nd Element of the 3rd row: \n 6\nSlicing the array to get 2nd and 3rd rows: \n [[7 6 8 8]\n [1 6 7 7]]\nAlternate columns: \n [[3 2]\n [7 8]\n [1 7]]\n"
     ]
    }
   ],
   "source": [
    "print(\"2D Array: \\n\", arr2)\n",
    "\n",
    "print(\"2nd Element of the 3rd row: \\n\", arr2[2, 1])\n",
    "\n",
    "print(\"Slicing the array to get 2nd and 3rd rows: \\n\", arr2[1:,:])\n",
    "\n",
    "print(\"Alternate columns: \\n\", arr2[:,::2])"
   ]
  },
  {
   "cell_type": "code",
   "execution_count": null,
   "metadata": {},
   "outputs": [],
   "source": []
  }
 ],
 "metadata": {
  "kernelspec": {
   "display_name": "Python 3",
   "language": "python",
   "name": "python3"
  },
  "language_info": {
   "codemirror_mode": {
    "name": "ipython",
    "version": 3
   },
   "file_extension": ".py",
   "mimetype": "text/x-python",
   "name": "python",
   "nbconvert_exporter": "python",
   "pygments_lexer": "ipython3",
   "version": "3.8.2-final"
  }
 },
 "nbformat": 4,
 "nbformat_minor": 4
}