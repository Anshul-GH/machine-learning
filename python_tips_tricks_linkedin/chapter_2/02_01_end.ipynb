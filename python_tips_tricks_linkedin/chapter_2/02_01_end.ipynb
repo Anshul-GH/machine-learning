{
 "cells": [
  {
   "cell_type": "markdown",
   "metadata": {},
   "source": [
    "## NumPy Arrays Essential\n",
    "\n",
    "In this notebook, we'll cover the following fundamental concepts of NumPy:\n",
    "\n",
    "1. How to create NumPy arrays.\n",
    "2. How to find out the array's dimension, shape, size and byte size.\n",
    "3. How to access elements using indexing and slicing.\n",
    "4. How to create copies of subarrays.\n",
    "5. How to reshape arrays"
   ]
  },
  {
   "cell_type": "markdown",
   "metadata": {},
   "source": [
    "Import NumPy if you don't have it installed in your environment"
   ]
  },
  {
   "cell_type": "code",
   "execution_count": 1,
   "metadata": {},
   "outputs": [
    {
     "name": "stdout",
     "output_type": "stream",
     "text": [
      "Requirement already satisfied: numpy in /Users/harshit/projects/lil/python_best_practices/lil_env/lib/python3.7/site-packages (1.19.0)\n",
      "\u001b[33mWARNING: You are using pip version 19.2.3, however version 20.1.1 is available.\n",
      "You should consider upgrading via the 'pip install --upgrade pip' command.\u001b[0m\n"
     ]
    }
   ],
   "source": [
    "!pip install numpy"
   ]
  },
  {
   "cell_type": "markdown",
   "metadata": {},
   "source": [
    "I'd recommend NumPy version 1.8 or later."
   ]
  },
  {
   "cell_type": "code",
   "execution_count": 3,
   "metadata": {},
   "outputs": [
    {
     "data": {
      "text/plain": [
       "'1.19.0'"
      ]
     },
     "execution_count": 3,
     "metadata": {},
     "output_type": "execute_result"
    }
   ],
   "source": [
    "import numpy as np\n",
    "\n",
    "numpy.__version__"
   ]
  },
  {
   "cell_type": "markdown",
   "metadata": {},
   "source": [
    "### NumPy arrays\n",
    "\n",
    "NumPy has the ndarray object that not only provides efficient storage of array-based data but also offers useful and efficient operations on the data.\n",
    "\n",
    "Looking at a few methods of creating arrays using NumPy."
   ]
  },
  {
   "cell_type": "code",
   "execution_count": 5,
   "metadata": {},
   "outputs": [
    {
     "data": {
      "text/plain": [
       "array([3., 4., 5.])"
      ]
     },
     "execution_count": 5,
     "metadata": {},
     "output_type": "execute_result"
    }
   ],
   "source": [
    "# creating an array using Python lists\n",
    "a_list = [3.0, 4 ,5]\n",
    "np.array(a_list)"
   ]
  },
  {
   "cell_type": "code",
   "execution_count": 4,
   "metadata": {},
   "outputs": [
    {
     "data": {
      "text/plain": [
       "array([ 0,  3,  6,  9, 12, 15, 18, 21, 24, 27])"
      ]
     },
     "execution_count": 4,
     "metadata": {},
     "output_type": "execute_result"
    }
   ],
   "source": [
    "# creating array of linearly-spaced elements\n",
    "# starting with 0, ending at 30 stepping by 3\n",
    "np.arange(0, 30, 3)"
   ]
  },
  {
   "cell_type": "code",
   "execution_count": 10,
   "metadata": {},
   "outputs": [
    {
     "data": {
      "text/plain": [
       "array([ 0. ,  2.5,  5. ,  7.5, 10. ])"
      ]
     },
     "execution_count": 10,
     "metadata": {},
     "output_type": "execute_result"
    }
   ],
   "source": [
    "# creating an array by dividing a range into a number of parts\n",
    "# starting with 0 and ending at 10 divided into 5 elements\n",
    "np.linspace(0, 10, 5)"
   ]
  },
  {
   "cell_type": "code",
   "execution_count": 11,
   "metadata": {},
   "outputs": [
    {
     "data": {
      "text/plain": [
       "array([[ 0.21151317,  0.73759818, -0.47658339],\n",
       "       [ 0.82534251,  0.26411792,  0.05823502],\n",
       "       [-0.44395852,  1.64524576,  0.69205214]])"
      ]
     },
     "execution_count": 11,
     "metadata": {},
     "output_type": "execute_result"
    }
   ],
   "source": [
    "# creating a 2D array with normally distributed random values\n",
    "# mean at 0 and standard deviation 1\n",
    "np.random.normal(0,1,(3,3))"
   ]
  },
  {
   "cell_type": "markdown",
   "metadata": {},
   "source": [
    "### Useful array attributes"
   ]
  },
  {
   "cell_type": "code",
   "execution_count": 16,
   "metadata": {},
   "outputs": [],
   "source": [
    "## set a seed value to generate same random values on every run\n",
    "np.random.seed(0)\n",
    "\n",
    "# create 3 arrays(1D, 2D & 3D)\n",
    "arr1 = np.random.randint(10, size=6)\n",
    "arr2 = np.random.randint(10, size=(3,4))\n",
    "arr3 = np.random.randint(10, size=(3, 4, 5))"
   ]
  },
  {
   "cell_type": "code",
   "execution_count": 20,
   "metadata": {},
   "outputs": [
    {
     "name": "stdout",
     "output_type": "stream",
     "text": [
      "Arr3 ndim:  3\n",
      "Arr3 shape:  (3, 4, 5)\n",
      "Arr3 size:  60\n",
      "Arr3 bytes:  480 bytes\n"
     ]
    }
   ],
   "source": [
    "## printing the dimension, shape, size and bytes of an array\n",
    "print(\"Arr3 ndim: \", arr3.ndim)\n",
    "print(\"Arr3 shape: \", arr3.shape)\n",
    "print(\"Arr3 size: \", arr3.size)\n",
    "print(\"Arr3 bytes: \", arr3.nbytes, \"bytes\")"
   ]
  },
  {
   "cell_type": "markdown",
   "metadata": {},
   "source": [
    "### How to access elements of an array (i.e. indexing and slicing)?"
   ]
  },
  {
   "cell_type": "code",
   "execution_count": 23,
   "metadata": {},
   "outputs": [
    {
     "name": "stdout",
     "output_type": "stream",
     "text": [
      "[5 0 3 3 7 9]\n",
      "5\n",
      "9\n",
      "[5 0 3]\n",
      "[7 9]\n",
      "[3 7 9]\n",
      "[5 3 7]\n",
      "[9 7 3 3 0 5]\n"
     ]
    }
   ],
   "source": [
    "##printing the 1D array\n",
    "print(arr1)\n",
    "\n",
    "## printing the first element\n",
    "print(arr1[0])\n",
    "\n",
    "## printing the last element, indexing from the end of the array\n",
    "print(arr1[-1])\n",
    "\n",
    "##printing a slice of elements syntax: arr[start : stop : step]\n",
    "##printing the first 3 elements of the array\n",
    "print(arr1[:3])\n",
    "\n",
    "##printing elements after the 4th index\n",
    "print(arr1[4:])\n",
    "\n",
    "##printing middle subarray\n",
    "print(arr1[3:8])\n",
    "\n",
    "##printing every other element\n",
    "print(arr1[::2])\n",
    "\n",
    "##printing the arraye reversed\n",
    "print(arr1[::-1])"
   ]
  },
  {
   "cell_type": "code",
   "execution_count": 27,
   "metadata": {},
   "outputs": [
    {
     "name": "stdout",
     "output_type": "stream",
     "text": [
      "[[3 5 2 4]\n",
      " [7 6 8 8]\n",
      " [1 6 7 7]]\n",
      "6\n",
      "[[7 6 8 8]\n",
      " [1 6 7 7]]\n",
      "[[3 2]\n",
      " [7 8]\n",
      " [1 7]]\n"
     ]
    }
   ],
   "source": [
    "##print the 2D array\n",
    "print(arr2)\n",
    "\n",
    "## print the 2nd element of third row\n",
    "print(arr2[2,1])\n",
    "\n",
    "\n",
    "##print the 2nd and 3rd rows of the array\n",
    "print(arr2[1:, :])\n",
    "\n",
    "\n",
    "##print all rows every other column\n",
    "print(arr2[:3, ::2])"
   ]
  },
  {
   "cell_type": "markdown",
   "metadata": {},
   "source": [
    "### Creating copies of an Array/Subarray\n",
    "\n",
    "Python slicing creates copies but NumPy creates views thus it is always useful to explicitly create copies of arrays using the `copy()` method"
   ]
  },
  {
   "cell_type": "code",
   "execution_count": 30,
   "metadata": {},
   "outputs": [
    {
     "name": "stdout",
     "output_type": "stream",
     "text": [
      "[[3 5 2 4]\n",
      " [7 6 8 8]\n",
      " [1 6 7 7]]\n",
      "[[3 5 2]\n",
      " [7 6 8]\n",
      " [1 6 7]]\n"
     ]
    }
   ],
   "source": [
    "##We can use the copy() method to make copies of an arrays and subarrays\n",
    "print(arr2)\n",
    "\n",
    "arr2_sub_copy = arr2[:3, :3].copy()\n",
    "\n",
    "print(arr2_sub_copy)"
   ]
  },
  {
   "cell_type": "markdown",
   "metadata": {},
   "source": [
    "### Reshaping Arrays"
   ]
  },
  {
   "cell_type": "code",
   "execution_count": 34,
   "metadata": {},
   "outputs": [
    {
     "name": "stdout",
     "output_type": "stream",
     "text": [
      "[[3 5 2 4]\n",
      " [7 6 8 8]\n",
      " [1 6 7 7]]\n",
      "[[3 5 2]\n",
      " [4 7 6]\n",
      " [8 8 1]\n",
      " [6 7 7]]\n"
     ]
    }
   ],
   "source": [
    "# printing arr2 for reference\n",
    "print(arr2)\n",
    "\n",
    "# reshaping the 2D array arr2 from (3,4) to (4,3) using the reshape() method\n",
    "arr2_reshaped = arr2.reshape(4,3)\n",
    "\n",
    "print(arr2_reshaped)"
   ]
  },
  {
   "cell_type": "code",
   "execution_count": 38,
   "metadata": {},
   "outputs": [
    {
     "name": "stdout",
     "output_type": "stream",
     "text": [
      "[1 2 3]\n",
      "[[1 2 3]]\n",
      "[[1 2 3]]\n"
     ]
    }
   ],
   "source": [
    "# converting a 1D array into a 2D array\n",
    "x = np.array([1,2,3])\n",
    "print(x)\n",
    "\n",
    "# creating a row vector using reshape()\n",
    "print(x.reshape((1,3)))\n",
    "\n",
    "# creating a row vector using newaxis\n",
    "print(x[np.newaxis, :])"
   ]
  },
  {
   "cell_type": "code",
   "execution_count": 40,
   "metadata": {},
   "outputs": [
    {
     "name": "stdout",
     "output_type": "stream",
     "text": [
      "[[1]\n",
      " [2]\n",
      " [3]]\n",
      "[[1]\n",
      " [2]\n",
      " [3]]\n"
     ]
    }
   ],
   "source": [
    "# creating a column vector using reshape()\n",
    "print(x.reshape((3,1)))\n",
    "\n",
    "# creating a column vector using newaxis\n",
    "print(x[:, np.newaxis])"
   ]
  }
 ],
 "metadata": {
  "kernelspec": {
   "display_name": "Python 3",
   "language": "python",
   "name": "python3"
  },
  "language_info": {
   "codemirror_mode": {
    "name": "ipython",
    "version": 3
   },
   "file_extension": ".py",
   "mimetype": "text/x-python",
   "name": "python",
   "nbconvert_exporter": "python",
   "pygments_lexer": "ipython3",
   "version": "3.8.2"
  }
 },
 "nbformat": 4,
 "nbformat_minor": 4
}
