{
 "cells": [
  {
   "cell_type": "markdown",
   "metadata": {},
   "source": [
    "## Broadcasting\n",
    "\n",
    "This notebooks explains broadcasting, a widely used operation in data science. \n"
   ]
  },
  {
   "cell_type": "code",
   "execution_count": null,
   "metadata": {},
   "outputs": [],
   "source": [
    "import numpy as np"
   ]
  },
  {
   "cell_type": "markdown",
   "metadata": {},
   "source": [
    "### Broadcasting \n",
    "\n",
    "A functionality that states a set of rules to apply binary universal functions(addition, subtraction, multiplication, etc.) on arrays of varied sizes."
   ]
  },
  {
   "cell_type": "code",
   "execution_count": null,
   "metadata": {},
   "outputs": [],
   "source": [
    "##defining 2 arrays and adding them as vectors\n",
    "\n",
    "\n"
   ]
  },
  {
   "cell_type": "code",
   "execution_count": null,
   "metadata": {},
   "outputs": [],
   "source": [
    "##adding a scalar to an array \n",
    "\n",
    "\n",
    "##interpretation: a + [10,10,10]"
   ]
  },
  {
   "cell_type": "code",
   "execution_count": null,
   "metadata": {},
   "outputs": [],
   "source": [
    "##creating an array of 1s.\n"
   ]
  },
  {
   "cell_type": "code",
   "execution_count": null,
   "metadata": {},
   "outputs": [],
   "source": [
    "##adding a 1D array to a 2D array;\n"
   ]
  },
  {
   "cell_type": "markdown",
   "metadata": {},
   "source": [
    "### Rules of Broadcasting\n",
    "\n",
    "Broadcasting in NumPy follows a strict set of rules to determine the interaction between the two arrays:\n",
    "\n",
    "Rule 1: If the two arrays differ in their number of dimensions, the shape of the one with fewer dimensions is padded with ones on its leading (left) side.\n",
    "\n",
    "Rule 2: If the shape of the two arrays does not match in any dimension, the array with shape equal to 1 in that dimension is stretched to match the other shape.\n",
    "\n",
    "Rule 3: If in any dimension the sizes disagree and neither is equal to 1, an error is raised."
   ]
  },
  {
   "cell_type": "code",
   "execution_count": null,
   "metadata": {},
   "outputs": [],
   "source": [
    "##example of rule 1\n",
    "a = np.ones((2, 3))\n",
    "b = np.arange(3)\n",
    "\n",
    "print(\"a: \\n\", )\n",
    "print(\"b: \\n\", )\n",
    "print(\"a+b: \\n\",)"
   ]
  },
  {
   "cell_type": "markdown",
   "metadata": {},
   "source": [
    "Originally,\n",
    "\n",
    "a.shape = (2, 3)\n",
    "\n",
    "b.shape = (3,)\n",
    "\n",
    "=========After applying rule 1: =========\n",
    "\n",
    "a.shape -> (2, 3)\n",
    "\n",
    "b.shape -> (1, 3)\n",
    "\n",
    "=========After applying rule 2: =========\n",
    "\n",
    "a.shape -> (2, 3)\n",
    "\n",
    "b.shape -> (2, 3)"
   ]
  },
  {
   "cell_type": "code",
   "execution_count": null,
   "metadata": {},
   "outputs": [],
   "source": [
    "##example of rule 2\n",
    "a = np.arange(3).reshape((3,1))\n",
    "b = np.arange(3)\n",
    "a+b"
   ]
  },
  {
   "cell_type": "markdown",
   "metadata": {},
   "source": [
    "Originally,\n",
    "\n",
    "a.shape = (3, 1)\n",
    "\n",
    "b.shape = (3,)\n",
    "\n",
    "=========After applying rule 1: =========\n",
    "\n",
    "a.shape -> (3, 1)\n",
    "\n",
    "b.shape -> (1, 3)\n",
    "\n",
    "=========After applying rule 2: =========\n",
    "\n",
    "a.shape -> (3, 3)\n",
    "\n",
    "b.shape -> (3, 3)"
   ]
  },
  {
   "cell_type": "code",
   "execution_count": null,
   "metadata": {},
   "outputs": [],
   "source": [
    "##example of rule 3\n",
    "a = np.ones((3,2))\n",
    "b = np.arange(3)\n",
    "a + b"
   ]
  },
  {
   "cell_type": "markdown",
   "metadata": {},
   "source": [
    "Originally,\n",
    "\n",
    "a.shape = (3, 2)\n",
    "\n",
    "b.shape = (3,)\n",
    "\n",
    "=========After applying rule 1: =========\n",
    "\n",
    "a.shape -> (3, 2)\n",
    "\n",
    "b.shape -> (1, 3)\n",
    "\n",
    "=========After applying rule 2: =========\n",
    "\n",
    "a.shape -> (3, 2)\n",
    "\n",
    "b.shape -> (3, 3)"
   ]
  },
  {
   "cell_type": "code",
   "execution_count": null,
   "metadata": {},
   "outputs": [],
   "source": []
  }
 ],
 "metadata": {
  "kernelspec": {
   "display_name": "Python 3",
   "language": "python",
   "name": "python3"
  },
  "language_info": {
   "codemirror_mode": {
    "name": "ipython",
    "version": 3
   },
   "file_extension": ".py",
   "mimetype": "text/x-python",
   "name": "python",
   "nbconvert_exporter": "python",
   "pygments_lexer": "ipython3",
   "version": "3.7.4"
  }
 },
 "nbformat": 4,
 "nbformat_minor": 4
}
