{
 "cells": [
  {
   "cell_type": "markdown",
   "metadata": {},
   "source": [
    "## Broadcasting\n",
    "\n",
    "This notebooks explains broadcasting, a widely used operation in data science. \n"
   ]
  },
  {
   "cell_type": "code",
   "execution_count": 1,
   "metadata": {},
   "outputs": [],
   "source": [
    "import numpy as np"
   ]
  },
  {
   "cell_type": "markdown",
   "metadata": {},
   "source": [
    "### Broadcasting \n",
    "\n",
    "A functionality that states a set of rules to apply binary universal functions(addition, subtraction, multiplication, etc.) on arrays of varied sizes."
   ]
  },
  {
   "cell_type": "code",
   "execution_count": 2,
   "metadata": {},
   "outputs": [
    {
     "output_type": "execute_result",
     "data": {
      "text/plain": [
       "array([10, 12, 14])"
      ]
     },
     "metadata": {},
     "execution_count": 2
    }
   ],
   "source": [
    "##defining 2 arrays and adding them as vectors\n",
    "a = np.array([3,4,5])\n",
    "b = np.array([7,8,9])\n",
    "\n",
    "a+b"
   ]
  },
  {
   "cell_type": "code",
   "execution_count": 3,
   "metadata": {},
   "outputs": [
    {
     "output_type": "execute_result",
     "data": {
      "text/plain": [
       "array([13, 14, 15])"
      ]
     },
     "metadata": {},
     "execution_count": 3
    }
   ],
   "source": [
    "##adding a scalar to an array \n",
    "a + 10\n",
    "\n",
    "##interpretation: a + [10,10,10]"
   ]
  },
  {
   "cell_type": "code",
   "execution_count": 4,
   "metadata": {},
   "outputs": [
    {
     "output_type": "execute_result",
     "data": {
      "text/plain": [
       "array([[1., 1., 1.],\n",
       "       [1., 1., 1.],\n",
       "       [1., 1., 1.]])"
      ]
     },
     "metadata": {},
     "execution_count": 4
    }
   ],
   "source": [
    "##creating an array of 1s.\n",
    "ones = np.ones((3,3))\n",
    "ones"
   ]
  },
  {
   "cell_type": "code",
   "execution_count": 5,
   "metadata": {},
   "outputs": [
    {
     "output_type": "execute_result",
     "data": {
      "text/plain": [
       "array([[4., 5., 6.],\n",
       "       [4., 5., 6.],\n",
       "       [4., 5., 6.]])"
      ]
     },
     "metadata": {},
     "execution_count": 5
    }
   ],
   "source": [
    "##adding a 1D array to a 2D array;\n",
    "ones + a"
   ]
  },
  {
   "cell_type": "markdown",
   "metadata": {},
   "source": [
    "### Rules of Broadcasting\n",
    "\n",
    "Broadcasting in NumPy follows a strict set of rules to determine the interaction between the two arrays:\n",
    "\n",
    "Rule 1: If the two arrays differ in their number of dimensions, the shape of the one with fewer dimensions is padded with ones on its leading (left) side.\n",
    "\n",
    "Rule 2: If the shape of the two arrays does not match in any dimension, the array with shape equal to 1 in that dimension is stretched to match the other shape.\n",
    "\n",
    "Rule 3: If in any dimension the sizes disagree and neither is equal to 1, an error is raised."
   ]
  },
  {
   "cell_type": "code",
   "execution_count": 7,
   "metadata": {},
   "outputs": [
    {
     "output_type": "stream",
     "name": "stdout",
     "text": [
      "a: \n [[1. 1. 1.]\n [1. 1. 1.]]\nb: \n [0 1 2]\na+b: \n [[1. 2. 3.]\n [1. 2. 3.]]\n"
     ]
    }
   ],
   "source": [
    "##example of rule 1\n",
    "a = np.ones((2, 3))\n",
    "b = np.arange(3)\n",
    "\n",
    "print(\"a: \\n\", a)\n",
    "print(\"b: \\n\", b)\n",
    "print(\"a+b: \\n\", a+b)"
   ]
  },
  {
   "cell_type": "markdown",
   "metadata": {},
   "source": [
    "Originally,\n",
    "\n",
    "a.shape = (2, 3)\n",
    "\n",
    "b.shape = (3,)\n",
    "\n",
    "=========After applying rule 1: =========\n",
    "\n",
    "a.shape -> (2, 3)\n",
    "\n",
    "b.shape -> (1, 3)\n",
    "\n",
    "=========After applying rule 2: =========\n",
    "\n",
    "a.shape -> (2, 3)\n",
    "\n",
    "b.shape -> (2, 3)"
   ]
  },
  {
   "cell_type": "code",
   "execution_count": 9,
   "metadata": {},
   "outputs": [
    {
     "output_type": "stream",
     "name": "stdout",
     "text": [
      "a: \n [[0]\n [1]\n [2]]\nb: \n [0 1 2]\na+b: \n [[0 1 2]\n [1 2 3]\n [2 3 4]]\n"
     ]
    }
   ],
   "source": [
    "##example of rule 2\n",
    "a = np.arange(3).reshape((3,1))\n",
    "b = np.arange(3)\n",
    "# a+b\n",
    "\n",
    "print(\"a: \\n\", a)\n",
    "print(\"b: \\n\", b)\n",
    "print(\"a+b: \\n\", a+b)"
   ]
  },
  {
   "cell_type": "markdown",
   "metadata": {},
   "source": [
    "Originally,\n",
    "\n",
    "a.shape = (3, 1)\n",
    "\n",
    "b.shape = (3,)\n",
    "\n",
    "=========After applying rule 1: =========\n",
    "\n",
    "a.shape -> (3, 1)\n",
    "\n",
    "b.shape -> (1, 3)\n",
    "\n",
    "=========After applying rule 2: =========\n",
    "\n",
    "a.shape -> (3, 3)\n",
    "\n",
    "b.shape -> (3, 3)"
   ]
  },
  {
   "cell_type": "code",
   "execution_count": 10,
   "metadata": {},
   "outputs": [
    {
     "output_type": "stream",
     "name": "stdout",
     "text": [
      "a: \n [[1. 1.]\n [1. 1.]\n [1. 1.]]\nb: \n [0 1 2]\n"
     ]
    },
    {
     "output_type": "error",
     "ename": "ValueError",
     "evalue": "operands could not be broadcast together with shapes (3,2) (3,) ",
     "traceback": [
      "\u001b[0;31m---------------------------------------------------------------------------\u001b[0m",
      "\u001b[0;31mValueError\u001b[0m                                Traceback (most recent call last)",
      "\u001b[0;32m<ipython-input-10-031751ba6480>\u001b[0m in \u001b[0;36m<module>\u001b[0;34m\u001b[0m\n\u001b[1;32m      6\u001b[0m \u001b[0mprint\u001b[0m\u001b[0;34m(\u001b[0m\u001b[0;34m\"a: \\n\"\u001b[0m\u001b[0;34m,\u001b[0m \u001b[0ma\u001b[0m\u001b[0;34m)\u001b[0m\u001b[0;34m\u001b[0m\u001b[0;34m\u001b[0m\u001b[0m\n\u001b[1;32m      7\u001b[0m \u001b[0mprint\u001b[0m\u001b[0;34m(\u001b[0m\u001b[0;34m\"b: \\n\"\u001b[0m\u001b[0;34m,\u001b[0m \u001b[0mb\u001b[0m\u001b[0;34m)\u001b[0m\u001b[0;34m\u001b[0m\u001b[0;34m\u001b[0m\u001b[0m\n\u001b[0;32m----> 8\u001b[0;31m \u001b[0mprint\u001b[0m\u001b[0;34m(\u001b[0m\u001b[0;34m\"a+b: \\n\"\u001b[0m\u001b[0;34m,\u001b[0m \u001b[0ma\u001b[0m\u001b[0;34m+\u001b[0m\u001b[0mb\u001b[0m\u001b[0;34m)\u001b[0m\u001b[0;34m\u001b[0m\u001b[0;34m\u001b[0m\u001b[0m\n\u001b[0m",
      "\u001b[0;31mValueError\u001b[0m: operands could not be broadcast together with shapes (3,2) (3,) "
     ]
    }
   ],
   "source": [
    "##example of rule 3\n",
    "a = np.ones((3,2))\n",
    "b = np.arange(3)\n",
    "# a + b\n",
    "\n",
    "print(\"a: \\n\", a)\n",
    "print(\"b: \\n\", b)\n",
    "print(\"a+b: \\n\", a+b)"
   ]
  },
  {
   "cell_type": "markdown",
   "metadata": {},
   "source": [
    "Originally,\n",
    "\n",
    "a.shape = (3, 2)\n",
    "\n",
    "b.shape = (3,)\n",
    "\n",
    "=========After applying rule 1: =========\n",
    "\n",
    "a.shape -> (3, 2)\n",
    "\n",
    "b.shape -> (1, 3)\n",
    "\n",
    "=========After applying rule 2: =========\n",
    "\n",
    "a.shape -> (3, 2)\n",
    "\n",
    "b.shape -> (3, 3)"
   ]
  },
  {
   "cell_type": "code",
   "execution_count": null,
   "metadata": {},
   "outputs": [],
   "source": []
  }
 ],
 "metadata": {
  "kernelspec": {
   "display_name": "Python 3",
   "language": "python",
   "name": "python3"
  },
  "language_info": {
   "codemirror_mode": {
    "name": "ipython",
    "version": 3
   },
   "file_extension": ".py",
   "mimetype": "text/x-python",
   "name": "python",
   "nbconvert_exporter": "python",
   "pygments_lexer": "ipython3",
   "version": "3.8.2-final"
  }
 },
 "nbformat": 4,
 "nbformat_minor": 4
}