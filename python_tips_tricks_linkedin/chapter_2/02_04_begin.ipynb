{
 "cells": [
  {
   "cell_type": "markdown",
   "metadata": {},
   "source": [
    "## Pandas Indexing and Subsetting\n",
    "\n",
    "This notebooks focuses on understanding indexing and subsetting in Pandas dataframes.\n",
    "\n",
    "1. How to define a dataframe using a dictionary.\n",
    "2. How to set index and use access attributes of a dataframe.\n",
    "3. How to access specific and slices of rows and columns of a dataframe."
   ]
  },
  {
   "cell_type": "code",
   "execution_count": 1,
   "metadata": {},
   "outputs": [],
   "source": [
    "import numpy as np\n",
    "import pandas as pd\n",
    "import random\n",
    "import string"
   ]
  },
  {
   "cell_type": "code",
   "execution_count": 2,
   "metadata": {},
   "outputs": [
    {
     "output_type": "stream",
     "name": "stdout",
     "text": [
      "{'id': ['K43QX', '20WMM', '2GU05', 'V1ZYB', 'WWNMT', '95UDH', 'S6C1N', '2TQQB', 'OH18E', '2996M', 'MP5CK', 'Y3BIK', 'CAG6L', 'BK3D5', 'O6KJA', 'A19A0', 'LTJFJ', 'FSEC9', 'ED6EN', '2KZZA', 'N1IEN', '3VJ9D', 'R0UHX', '16BSL', 'ZAWP6', '3XLCZ', '1DMW6', 'QXCRK', 'Q6FET', 'Q732V'], 'roll': array([ 1,  2,  3,  4,  5,  6,  7,  8,  9, 10, 11, 12, 13, 14, 15, 16, 17,\n       18, 19, 20, 21, 22, 23, 24, 25, 26, 27, 28, 29, 30]), 'math_scores': array([ 2, 88,  0, 58, 85, 71, 69, 72, 27, 36, 58, 96,  2, 68, 57,  3, 89,\n       54, 20, 10, 35, 93,  0, 66, 80,  4, 62, 48,  7, 43]), 'physics_scores': array([69, 19, 22, 56, 99, 10, 39, 28, 66, 99, 66, 97, 37, 49, 44,  0, 38,\n       53, 56, 25,  3, 68, 45, 31, 49, 42, 84,  9, 40, 31]), 'chemistry_scores': array([89, 23, 52, 55,  5, 13, 29, 26, 47, 89, 64, 66, 68, 96,  1, 88, 64,\n       82, 19, 55, 15, 14, 44, 46,  3,  8, 54, 72, 88, 61])}\n"
     ]
    }
   ],
   "source": [
    "##create a dictionary that stores \n",
    "##students' roll number, math, physics & chem scores.\n",
    "\n",
    "scores_dict = {\n",
    "    'id': [''.join(random.choices(\n",
    "        string.ascii_uppercase + string.digits, k=5)\n",
    "                 ) for _ in range(30)],\n",
    "    'roll': np.arange(30) + 1,\n",
    "    'math_scores': np.random.randint(100, size=(30)),\n",
    "    'physics_scores': np.random.randint(100, size=(30)),\n",
    "    'chemistry_scores': np.random.randint(100, size=(30))\n",
    "}\n",
    "\n",
    "print(scores_dict)"
   ]
  },
  {
   "cell_type": "code",
   "execution_count": 3,
   "metadata": {},
   "outputs": [
    {
     "output_type": "execute_result",
     "data": {
      "text/plain": [
       "      id  roll  math_scores  physics_scores  chemistry_scores\n",
       "0  K43QX     1            2              69                89\n",
       "1  20WMM     2           88              19                23\n",
       "2  2GU05     3            0              22                52\n",
       "3  V1ZYB     4           58              56                55\n",
       "4  WWNMT     5           85              99                 5"
      ],
      "text/html": "<div>\n<style scoped>\n    .dataframe tbody tr th:only-of-type {\n        vertical-align: middle;\n    }\n\n    .dataframe tbody tr th {\n        vertical-align: top;\n    }\n\n    .dataframe thead th {\n        text-align: right;\n    }\n</style>\n<table border=\"1\" class=\"dataframe\">\n  <thead>\n    <tr style=\"text-align: right;\">\n      <th></th>\n      <th>id</th>\n      <th>roll</th>\n      <th>math_scores</th>\n      <th>physics_scores</th>\n      <th>chemistry_scores</th>\n    </tr>\n  </thead>\n  <tbody>\n    <tr>\n      <th>0</th>\n      <td>K43QX</td>\n      <td>1</td>\n      <td>2</td>\n      <td>69</td>\n      <td>89</td>\n    </tr>\n    <tr>\n      <th>1</th>\n      <td>20WMM</td>\n      <td>2</td>\n      <td>88</td>\n      <td>19</td>\n      <td>23</td>\n    </tr>\n    <tr>\n      <th>2</th>\n      <td>2GU05</td>\n      <td>3</td>\n      <td>0</td>\n      <td>22</td>\n      <td>52</td>\n    </tr>\n    <tr>\n      <th>3</th>\n      <td>V1ZYB</td>\n      <td>4</td>\n      <td>58</td>\n      <td>56</td>\n      <td>55</td>\n    </tr>\n    <tr>\n      <th>4</th>\n      <td>WWNMT</td>\n      <td>5</td>\n      <td>85</td>\n      <td>99</td>\n      <td>5</td>\n    </tr>\n  </tbody>\n</table>\n</div>"
     },
     "metadata": {},
     "execution_count": 3
    }
   ],
   "source": [
    "##convert the scores_dict to a pandas dataframe\n",
    "\n",
    "df = pd.DataFrame(scores_dict)\n",
    "df.head()\n"
   ]
  },
  {
   "cell_type": "code",
   "execution_count": 11,
   "metadata": {},
   "outputs": [
    {
     "output_type": "execute_result",
     "data": {
      "text/plain": [
       "       roll  math_scores  physics_scores  chemistry_scores\n",
       "id                                                        \n",
       "K43QX     1            2              69                89\n",
       "20WMM     2           88              19                23\n",
       "2GU05     3            0              22                52\n",
       "V1ZYB     4           58              56                55\n",
       "WWNMT     5           85              99                 5"
      ],
      "text/html": "<div>\n<style scoped>\n    .dataframe tbody tr th:only-of-type {\n        vertical-align: middle;\n    }\n\n    .dataframe tbody tr th {\n        vertical-align: top;\n    }\n\n    .dataframe thead th {\n        text-align: right;\n    }\n</style>\n<table border=\"1\" class=\"dataframe\">\n  <thead>\n    <tr style=\"text-align: right;\">\n      <th></th>\n      <th>roll</th>\n      <th>math_scores</th>\n      <th>physics_scores</th>\n      <th>chemistry_scores</th>\n    </tr>\n    <tr>\n      <th>id</th>\n      <th></th>\n      <th></th>\n      <th></th>\n      <th></th>\n    </tr>\n  </thead>\n  <tbody>\n    <tr>\n      <th>K43QX</th>\n      <td>1</td>\n      <td>2</td>\n      <td>69</td>\n      <td>89</td>\n    </tr>\n    <tr>\n      <th>20WMM</th>\n      <td>2</td>\n      <td>88</td>\n      <td>19</td>\n      <td>23</td>\n    </tr>\n    <tr>\n      <th>2GU05</th>\n      <td>3</td>\n      <td>0</td>\n      <td>22</td>\n      <td>52</td>\n    </tr>\n    <tr>\n      <th>V1ZYB</th>\n      <td>4</td>\n      <td>58</td>\n      <td>56</td>\n      <td>55</td>\n    </tr>\n    <tr>\n      <th>WWNMT</th>\n      <td>5</td>\n      <td>85</td>\n      <td>99</td>\n      <td>5</td>\n    </tr>\n  </tbody>\n</table>\n</div>"
     },
     "metadata": {},
     "execution_count": 11
    }
   ],
   "source": [
    "##make id column the index of the dataframe\n",
    "df = df.set_index('id')\n",
    "df.head()"
   ]
  },
  {
   "cell_type": "code",
   "execution_count": 12,
   "metadata": {},
   "outputs": [
    {
     "output_type": "execute_result",
     "data": {
      "text/plain": [
       "id\n",
       "K43QX     2\n",
       "20WMM    88\n",
       "2GU05     0\n",
       "V1ZYB    58\n",
       "WWNMT    85\n",
       "95UDH    71\n",
       "S6C1N    69\n",
       "2TQQB    72\n",
       "OH18E    27\n",
       "2996M    36\n",
       "MP5CK    58\n",
       "Y3BIK    96\n",
       "CAG6L     2\n",
       "BK3D5    68\n",
       "O6KJA    57\n",
       "A19A0     3\n",
       "LTJFJ    89\n",
       "FSEC9    54\n",
       "ED6EN    20\n",
       "2KZZA    10\n",
       "N1IEN    35\n",
       "3VJ9D    93\n",
       "R0UHX     0\n",
       "16BSL    66\n",
       "ZAWP6    80\n",
       "3XLCZ     4\n",
       "1DMW6    62\n",
       "QXCRK    48\n",
       "Q6FET     7\n",
       "Q732V    43\n",
       "Name: math_scores, dtype: int64"
      ]
     },
     "metadata": {},
     "execution_count": 12
    }
   ],
   "source": [
    "##access individual columns\n",
    "df['math_scores']"
   ]
  },
  {
   "cell_type": "code",
   "execution_count": 13,
   "metadata": {},
   "outputs": [
    {
     "output_type": "execute_result",
     "data": {
      "text/plain": [
       "array([[ 1,  2, 69, 89],\n",
       "       [ 2, 88, 19, 23],\n",
       "       [ 3,  0, 22, 52],\n",
       "       [ 4, 58, 56, 55],\n",
       "       [ 5, 85, 99,  5],\n",
       "       [ 6, 71, 10, 13],\n",
       "       [ 7, 69, 39, 29],\n",
       "       [ 8, 72, 28, 26],\n",
       "       [ 9, 27, 66, 47],\n",
       "       [10, 36, 99, 89],\n",
       "       [11, 58, 66, 64],\n",
       "       [12, 96, 97, 66],\n",
       "       [13,  2, 37, 68],\n",
       "       [14, 68, 49, 96],\n",
       "       [15, 57, 44,  1],\n",
       "       [16,  3,  0, 88],\n",
       "       [17, 89, 38, 64],\n",
       "       [18, 54, 53, 82],\n",
       "       [19, 20, 56, 19],\n",
       "       [20, 10, 25, 55],\n",
       "       [21, 35,  3, 15],\n",
       "       [22, 93, 68, 14],\n",
       "       [23,  0, 45, 44],\n",
       "       [24, 66, 31, 46],\n",
       "       [25, 80, 49,  3],\n",
       "       [26,  4, 42,  8],\n",
       "       [27, 62, 84, 54],\n",
       "       [28, 48,  9, 72],\n",
       "       [29,  7, 40, 88],\n",
       "       [30, 43, 31, 61]])"
      ]
     },
     "metadata": {},
     "execution_count": 13
    }
   ],
   "source": [
    "##dataframe as a 2d array\n",
    "df.values"
   ]
  },
  {
   "cell_type": "markdown",
   "metadata": {},
   "source": [
    "## Indexers in Pandas - iloc and loc"
   ]
  },
  {
   "cell_type": "code",
   "execution_count": 14,
   "metadata": {},
   "outputs": [
    {
     "output_type": "execute_result",
     "data": {
      "text/plain": [
       "roll                11\n",
       "math_scores         58\n",
       "physics_scores      66\n",
       "chemistry_scores    64\n",
       "Name: MP5CK, dtype: int64"
      ]
     },
     "metadata": {},
     "execution_count": 14
    }
   ],
   "source": [
    "##access the 10th row\n",
    "df.iloc[10]"
   ]
  },
  {
   "cell_type": "code",
   "execution_count": 15,
   "metadata": {},
   "outputs": [
    {
     "output_type": "execute_result",
     "data": {
      "text/plain": [
       "58"
      ]
     },
     "metadata": {},
     "execution_count": 15
    }
   ],
   "source": [
    "##access only math scores for the 10th row\n",
    "df.iloc[10, 1]"
   ]
  },
  {
   "cell_type": "code",
   "execution_count": 16,
   "metadata": {},
   "outputs": [
    {
     "output_type": "execute_result",
     "data": {
      "text/plain": [
       "       roll  math_scores\n",
       "id                      \n",
       "K43QX     1            2\n",
       "20WMM     2           88\n",
       "2GU05     3            0\n",
       "V1ZYB     4           58\n",
       "WWNMT     5           85"
      ],
      "text/html": "<div>\n<style scoped>\n    .dataframe tbody tr th:only-of-type {\n        vertical-align: middle;\n    }\n\n    .dataframe tbody tr th {\n        vertical-align: top;\n    }\n\n    .dataframe thead th {\n        text-align: right;\n    }\n</style>\n<table border=\"1\" class=\"dataframe\">\n  <thead>\n    <tr style=\"text-align: right;\">\n      <th></th>\n      <th>roll</th>\n      <th>math_scores</th>\n    </tr>\n    <tr>\n      <th>id</th>\n      <th></th>\n      <th></th>\n    </tr>\n  </thead>\n  <tbody>\n    <tr>\n      <th>K43QX</th>\n      <td>1</td>\n      <td>2</td>\n    </tr>\n    <tr>\n      <th>20WMM</th>\n      <td>2</td>\n      <td>88</td>\n    </tr>\n    <tr>\n      <th>2GU05</th>\n      <td>3</td>\n      <td>0</td>\n    </tr>\n    <tr>\n      <th>V1ZYB</th>\n      <td>4</td>\n      <td>58</td>\n    </tr>\n    <tr>\n      <th>WWNMT</th>\n      <td>5</td>\n      <td>85</td>\n    </tr>\n  </tbody>\n</table>\n</div>"
     },
     "metadata": {},
     "execution_count": 16
    }
   ],
   "source": [
    "##access the first 5 rows of the first 2 columns\n",
    "df.iloc[:5, :2]"
   ]
  },
  {
   "cell_type": "code",
   "execution_count": 18,
   "metadata": {},
   "outputs": [
    {
     "output_type": "execute_result",
     "data": {
      "text/plain": [
       "       roll  math_scores  physics_scores\n",
       "id                                      \n",
       "2GU05     3            0              22\n",
       "V1ZYB     4           58              56\n",
       "WWNMT     5           85              99\n",
       "95UDH     6           71              10\n",
       "S6C1N     7           69              39\n",
       "2TQQB     8           72              28\n",
       "OH18E     9           27              66\n",
       "2996M    10           36              99\n",
       "MP5CK    11           58              66\n",
       "Y3BIK    12           96              97\n",
       "CAG6L    13            2              37\n",
       "BK3D5    14           68              49\n",
       "O6KJA    15           57              44\n",
       "A19A0    16            3               0\n",
       "LTJFJ    17           89              38\n",
       "FSEC9    18           54              53\n",
       "ED6EN    19           20              56\n",
       "2KZZA    20           10              25\n",
       "N1IEN    21           35               3\n",
       "3VJ9D    22           93              68\n",
       "R0UHX    23            0              45\n",
       "16BSL    24           66              31\n",
       "ZAWP6    25           80              49\n",
       "3XLCZ    26            4              42\n",
       "1DMW6    27           62              84\n",
       "QXCRK    28           48               9\n",
       "Q6FET    29            7              40\n",
       "Q732V    30           43              31"
      ],
      "text/html": "<div>\n<style scoped>\n    .dataframe tbody tr th:only-of-type {\n        vertical-align: middle;\n    }\n\n    .dataframe tbody tr th {\n        vertical-align: top;\n    }\n\n    .dataframe thead th {\n        text-align: right;\n    }\n</style>\n<table border=\"1\" class=\"dataframe\">\n  <thead>\n    <tr style=\"text-align: right;\">\n      <th></th>\n      <th>roll</th>\n      <th>math_scores</th>\n      <th>physics_scores</th>\n    </tr>\n    <tr>\n      <th>id</th>\n      <th></th>\n      <th></th>\n      <th></th>\n    </tr>\n  </thead>\n  <tbody>\n    <tr>\n      <th>2GU05</th>\n      <td>3</td>\n      <td>0</td>\n      <td>22</td>\n    </tr>\n    <tr>\n      <th>V1ZYB</th>\n      <td>4</td>\n      <td>58</td>\n      <td>56</td>\n    </tr>\n    <tr>\n      <th>WWNMT</th>\n      <td>5</td>\n      <td>85</td>\n      <td>99</td>\n    </tr>\n    <tr>\n      <th>95UDH</th>\n      <td>6</td>\n      <td>71</td>\n      <td>10</td>\n    </tr>\n    <tr>\n      <th>S6C1N</th>\n      <td>7</td>\n      <td>69</td>\n      <td>39</td>\n    </tr>\n    <tr>\n      <th>2TQQB</th>\n      <td>8</td>\n      <td>72</td>\n      <td>28</td>\n    </tr>\n    <tr>\n      <th>OH18E</th>\n      <td>9</td>\n      <td>27</td>\n      <td>66</td>\n    </tr>\n    <tr>\n      <th>2996M</th>\n      <td>10</td>\n      <td>36</td>\n      <td>99</td>\n    </tr>\n    <tr>\n      <th>MP5CK</th>\n      <td>11</td>\n      <td>58</td>\n      <td>66</td>\n    </tr>\n    <tr>\n      <th>Y3BIK</th>\n      <td>12</td>\n      <td>96</td>\n      <td>97</td>\n    </tr>\n    <tr>\n      <th>CAG6L</th>\n      <td>13</td>\n      <td>2</td>\n      <td>37</td>\n    </tr>\n    <tr>\n      <th>BK3D5</th>\n      <td>14</td>\n      <td>68</td>\n      <td>49</td>\n    </tr>\n    <tr>\n      <th>O6KJA</th>\n      <td>15</td>\n      <td>57</td>\n      <td>44</td>\n    </tr>\n    <tr>\n      <th>A19A0</th>\n      <td>16</td>\n      <td>3</td>\n      <td>0</td>\n    </tr>\n    <tr>\n      <th>LTJFJ</th>\n      <td>17</td>\n      <td>89</td>\n      <td>38</td>\n    </tr>\n    <tr>\n      <th>FSEC9</th>\n      <td>18</td>\n      <td>54</td>\n      <td>53</td>\n    </tr>\n    <tr>\n      <th>ED6EN</th>\n      <td>19</td>\n      <td>20</td>\n      <td>56</td>\n    </tr>\n    <tr>\n      <th>2KZZA</th>\n      <td>20</td>\n      <td>10</td>\n      <td>25</td>\n    </tr>\n    <tr>\n      <th>N1IEN</th>\n      <td>21</td>\n      <td>35</td>\n      <td>3</td>\n    </tr>\n    <tr>\n      <th>3VJ9D</th>\n      <td>22</td>\n      <td>93</td>\n      <td>68</td>\n    </tr>\n    <tr>\n      <th>R0UHX</th>\n      <td>23</td>\n      <td>0</td>\n      <td>45</td>\n    </tr>\n    <tr>\n      <th>16BSL</th>\n      <td>24</td>\n      <td>66</td>\n      <td>31</td>\n    </tr>\n    <tr>\n      <th>ZAWP6</th>\n      <td>25</td>\n      <td>80</td>\n      <td>49</td>\n    </tr>\n    <tr>\n      <th>3XLCZ</th>\n      <td>26</td>\n      <td>4</td>\n      <td>42</td>\n    </tr>\n    <tr>\n      <th>1DMW6</th>\n      <td>27</td>\n      <td>62</td>\n      <td>84</td>\n    </tr>\n    <tr>\n      <th>QXCRK</th>\n      <td>28</td>\n      <td>48</td>\n      <td>9</td>\n    </tr>\n    <tr>\n      <th>Q6FET</th>\n      <td>29</td>\n      <td>7</td>\n      <td>40</td>\n    </tr>\n    <tr>\n      <th>Q732V</th>\n      <td>30</td>\n      <td>43</td>\n      <td>31</td>\n    </tr>\n  </tbody>\n</table>\n</div>"
     },
     "metadata": {},
     "execution_count": 18
    }
   ],
   "source": [
    "##access values using labels\n",
    "df.loc['2GU05':, :'physics_scores']"
   ]
  },
  {
   "cell_type": "code",
   "execution_count": null,
   "metadata": {},
   "outputs": [],
   "source": []
  }
 ],
 "metadata": {
  "kernelspec": {
   "display_name": "Python 3",
   "language": "python",
   "name": "python3"
  },
  "language_info": {
   "codemirror_mode": {
    "name": "ipython",
    "version": 3
   },
   "file_extension": ".py",
   "mimetype": "text/x-python",
   "name": "python",
   "nbconvert_exporter": "python",
   "pygments_lexer": "ipython3",
   "version": "3.8.2-final"
  }
 },
 "nbformat": 4,
 "nbformat_minor": 4
}