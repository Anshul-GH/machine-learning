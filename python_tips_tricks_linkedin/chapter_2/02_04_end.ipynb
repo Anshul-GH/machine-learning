{
 "cells": [
  {
   "cell_type": "markdown",
   "metadata": {},
   "source": [
    "## Pandas Indexing and Subsetting\n",
    "\n",
    "This notebooks focuses on understanding indexing and subsetting in Pandas dataframes.\n",
    "\n",
    "1. How to define a dataframe using a dictionary.\n",
    "2. How to set index and use access attributes of a dataframe.\n",
    "3. How to access specific and slices of rows and columns of a dataframe."
   ]
  },
  {
   "cell_type": "code",
   "execution_count": 2,
   "metadata": {},
   "outputs": [],
   "source": [
    "import numpy as np\n",
    "import pandas as pd\n",
    "import random\n",
    "import string"
   ]
  },
  {
   "cell_type": "code",
   "execution_count": 65,
   "metadata": {},
   "outputs": [
    {
     "name": "stdout",
     "output_type": "stream",
     "text": [
      "{'id': ['37BGI', 'UX8DX', 'LD14M', 'NGL3G', 'VZ3ZI', '7SC9C', '1IGQM', 'UTUUP', 'VRU88', 'NIOYE', 'XGZGC', 'O51X8', '4Q7UB', 'Z5TVI', 'CKDS0', 'D6OHM', '5PXSQ', '9VOL3', 'ZGJFF', 'WRKQN', 'E3FK5', 'NIKDD', '5RQHX', 'RCU65', '20X3L', 'IPJ66', 'Z3COV', '7O66I', 'LACYN', 'OEOHY'], 'roll': array([ 1,  2,  3,  4,  5,  6,  7,  8,  9, 10, 11, 12, 13, 14, 15, 16, 17,\n",
      "       18, 19, 20, 21, 22, 23, 24, 25, 26, 27, 28, 29, 30]), 'math_scores': array([85,  8, 22, 91, 64, 25, 24, 97,  7, 54, 97, 90, 52, 47, 33, 80, 12,\n",
      "        7, 45,  3, 91, 64, 98, 90, 11, 97, 84, 89, 63, 41]), 'physics_scores': array([75, 56, 15, 99, 40, 84, 91, 67, 44, 13, 74, 98, 19, 33,  1, 81, 94,\n",
      "       10, 19, 34, 97,  7, 91, 20, 93, 44, 94, 53, 13, 58]), 'chemistry_scores': array([ 6, 49, 43, 92, 56, 58, 26, 67,  8, 55, 62, 13, 68, 63, 42, 30, 40,\n",
      "        4, 69, 88, 26, 93, 90, 76, 27, 93,  3, 26, 14, 41])}\n"
     ]
    }
   ],
   "source": [
    "##create a dictionary that has stores \n",
    "##students' roll number, math scores, and physics scores.\n",
    "\n",
    "scores_dict = {\n",
    "    'id': [''.join(random.choices(\n",
    "        string.ascii_uppercase + string.digits, k=5)\n",
    "                 ) for _ in range(30)],\n",
    "    'roll': np.arange(30) + 1,\n",
    "    'math_scores': np.random.randint(100, size=(30)),\n",
    "    'physics_scores': np.random.randint(100, size=(30)),\n",
    "    'chemistry_scores': np.random.randint(100, size=(30))\n",
    "}\n",
    "\n",
    "print(scores_dict)"
   ]
  },
  {
   "cell_type": "code",
   "execution_count": 66,
   "metadata": {},
   "outputs": [
    {
     "data": {
      "text/html": [
       "<div>\n",
       "<style scoped>\n",
       "    .dataframe tbody tr th:only-of-type {\n",
       "        vertical-align: middle;\n",
       "    }\n",
       "\n",
       "    .dataframe tbody tr th {\n",
       "        vertical-align: top;\n",
       "    }\n",
       "\n",
       "    .dataframe thead th {\n",
       "        text-align: right;\n",
       "    }\n",
       "</style>\n",
       "<table border=\"1\" class=\"dataframe\">\n",
       "  <thead>\n",
       "    <tr style=\"text-align: right;\">\n",
       "      <th></th>\n",
       "      <th>id</th>\n",
       "      <th>roll</th>\n",
       "      <th>math_scores</th>\n",
       "      <th>physics_scores</th>\n",
       "      <th>chemistry_scores</th>\n",
       "    </tr>\n",
       "  </thead>\n",
       "  <tbody>\n",
       "    <tr>\n",
       "      <th>0</th>\n",
       "      <td>37BGI</td>\n",
       "      <td>1</td>\n",
       "      <td>85</td>\n",
       "      <td>75</td>\n",
       "      <td>6</td>\n",
       "    </tr>\n",
       "    <tr>\n",
       "      <th>1</th>\n",
       "      <td>UX8DX</td>\n",
       "      <td>2</td>\n",
       "      <td>8</td>\n",
       "      <td>56</td>\n",
       "      <td>49</td>\n",
       "    </tr>\n",
       "    <tr>\n",
       "      <th>2</th>\n",
       "      <td>LD14M</td>\n",
       "      <td>3</td>\n",
       "      <td>22</td>\n",
       "      <td>15</td>\n",
       "      <td>43</td>\n",
       "    </tr>\n",
       "    <tr>\n",
       "      <th>3</th>\n",
       "      <td>NGL3G</td>\n",
       "      <td>4</td>\n",
       "      <td>91</td>\n",
       "      <td>99</td>\n",
       "      <td>92</td>\n",
       "    </tr>\n",
       "    <tr>\n",
       "      <th>4</th>\n",
       "      <td>VZ3ZI</td>\n",
       "      <td>5</td>\n",
       "      <td>64</td>\n",
       "      <td>40</td>\n",
       "      <td>56</td>\n",
       "    </tr>\n",
       "    <tr>\n",
       "      <th>5</th>\n",
       "      <td>7SC9C</td>\n",
       "      <td>6</td>\n",
       "      <td>25</td>\n",
       "      <td>84</td>\n",
       "      <td>58</td>\n",
       "    </tr>\n",
       "    <tr>\n",
       "      <th>6</th>\n",
       "      <td>1IGQM</td>\n",
       "      <td>7</td>\n",
       "      <td>24</td>\n",
       "      <td>91</td>\n",
       "      <td>26</td>\n",
       "    </tr>\n",
       "    <tr>\n",
       "      <th>7</th>\n",
       "      <td>UTUUP</td>\n",
       "      <td>8</td>\n",
       "      <td>97</td>\n",
       "      <td>67</td>\n",
       "      <td>67</td>\n",
       "    </tr>\n",
       "    <tr>\n",
       "      <th>8</th>\n",
       "      <td>VRU88</td>\n",
       "      <td>9</td>\n",
       "      <td>7</td>\n",
       "      <td>44</td>\n",
       "      <td>8</td>\n",
       "    </tr>\n",
       "    <tr>\n",
       "      <th>9</th>\n",
       "      <td>NIOYE</td>\n",
       "      <td>10</td>\n",
       "      <td>54</td>\n",
       "      <td>13</td>\n",
       "      <td>55</td>\n",
       "    </tr>\n",
       "  </tbody>\n",
       "</table>\n",
       "</div>"
      ],
      "text/plain": [
       "      id  roll  math_scores  physics_scores  chemistry_scores\n",
       "0  37BGI     1           85              75                 6\n",
       "1  UX8DX     2            8              56                49\n",
       "2  LD14M     3           22              15                43\n",
       "3  NGL3G     4           91              99                92\n",
       "4  VZ3ZI     5           64              40                56\n",
       "5  7SC9C     6           25              84                58\n",
       "6  1IGQM     7           24              91                26\n",
       "7  UTUUP     8           97              67                67\n",
       "8  VRU88     9            7              44                 8\n",
       "9  NIOYE    10           54              13                55"
      ]
     },
     "execution_count": 66,
     "metadata": {},
     "output_type": "execute_result"
    }
   ],
   "source": [
    "##convert the scores_dict to a pandas dataframe\n",
    "\n",
    "df = pd.DataFrame(scores_dict)\n",
    "df.head(10)"
   ]
  },
  {
   "cell_type": "code",
   "execution_count": 67,
   "metadata": {},
   "outputs": [
    {
     "name": "stdout",
     "output_type": "stream",
     "text": [
      "<class 'pandas.core.frame.DataFrame'>\n",
      "Index: 30 entries, 37BGI to OEOHY\n",
      "Data columns (total 4 columns):\n",
      " #   Column            Non-Null Count  Dtype\n",
      "---  ------            --------------  -----\n",
      " 0   roll              30 non-null     int64\n",
      " 1   math_scores       30 non-null     int64\n",
      " 2   physics_scores    30 non-null     int64\n",
      " 3   chemistry_scores  30 non-null     int64\n",
      "dtypes: int64(4)\n",
      "memory usage: 1.2+ KB\n"
     ]
    }
   ],
   "source": [
    "##make id column the index of the dataframe\n",
    "df = df.set_index('id')\n",
    "df.info()"
   ]
  },
  {
   "cell_type": "code",
   "execution_count": 68,
   "metadata": {},
   "outputs": [
    {
     "data": {
      "text/plain": [
       "id\n",
       "37BGI    85\n",
       "UX8DX     8\n",
       "LD14M    22\n",
       "NGL3G    91\n",
       "VZ3ZI    64\n",
       "7SC9C    25\n",
       "1IGQM    24\n",
       "UTUUP    97\n",
       "VRU88     7\n",
       "NIOYE    54\n",
       "XGZGC    97\n",
       "O51X8    90\n",
       "4Q7UB    52\n",
       "Z5TVI    47\n",
       "CKDS0    33\n",
       "D6OHM    80\n",
       "5PXSQ    12\n",
       "9VOL3     7\n",
       "ZGJFF    45\n",
       "WRKQN     3\n",
       "E3FK5    91\n",
       "NIKDD    64\n",
       "5RQHX    98\n",
       "RCU65    90\n",
       "20X3L    11\n",
       "IPJ66    97\n",
       "Z3COV    84\n",
       "7O66I    89\n",
       "LACYN    63\n",
       "OEOHY    41\n",
       "Name: math_scores, dtype: int64"
      ]
     },
     "execution_count": 68,
     "metadata": {},
     "output_type": "execute_result"
    }
   ],
   "source": [
    "##access individual columns\n",
    "df['math_scores'] \n",
    "df.math_scores\n",
    "\n",
    "##which method should we use?"
   ]
  },
  {
   "cell_type": "code",
   "execution_count": 69,
   "metadata": {},
   "outputs": [
    {
     "data": {
      "text/plain": [
       "array([ 1, 85, 75,  6])"
      ]
     },
     "execution_count": 69,
     "metadata": {},
     "output_type": "execute_result"
    }
   ],
   "source": [
    "##dataframe as a 2d array\n",
    "df.values\n",
    "df.values[0]"
   ]
  },
  {
   "cell_type": "markdown",
   "metadata": {},
   "source": [
    "## Indexers in Pandas - iloc and loc"
   ]
  },
  {
   "cell_type": "code",
   "execution_count": 79,
   "metadata": {},
   "outputs": [
    {
     "data": {
      "text/plain": [
       "roll                11\n",
       "math_scores         97\n",
       "physics_scores      74\n",
       "chemistry_scores    62\n",
       "Name: XGZGC, dtype: int64"
      ]
     },
     "execution_count": 79,
     "metadata": {},
     "output_type": "execute_result"
    }
   ],
   "source": [
    "##access the 10th row\n",
    "df.iloc[10]"
   ]
  },
  {
   "cell_type": "code",
   "execution_count": 82,
   "metadata": {},
   "outputs": [
    {
     "data": {
      "text/plain": [
       "97"
      ]
     },
     "execution_count": 82,
     "metadata": {},
     "output_type": "execute_result"
    }
   ],
   "source": [
    "##access only math scores for the 10th row\n",
    "df.iloc[10, 1]"
   ]
  },
  {
   "cell_type": "code",
   "execution_count": 78,
   "metadata": {},
   "outputs": [
    {
     "data": {
      "text/html": [
       "<div>\n",
       "<style scoped>\n",
       "    .dataframe tbody tr th:only-of-type {\n",
       "        vertical-align: middle;\n",
       "    }\n",
       "\n",
       "    .dataframe tbody tr th {\n",
       "        vertical-align: top;\n",
       "    }\n",
       "\n",
       "    .dataframe thead th {\n",
       "        text-align: right;\n",
       "    }\n",
       "</style>\n",
       "<table border=\"1\" class=\"dataframe\">\n",
       "  <thead>\n",
       "    <tr style=\"text-align: right;\">\n",
       "      <th></th>\n",
       "      <th>roll</th>\n",
       "      <th>math_scores</th>\n",
       "    </tr>\n",
       "    <tr>\n",
       "      <th>id</th>\n",
       "      <th></th>\n",
       "      <th></th>\n",
       "    </tr>\n",
       "  </thead>\n",
       "  <tbody>\n",
       "    <tr>\n",
       "      <th>37BGI</th>\n",
       "      <td>1</td>\n",
       "      <td>85</td>\n",
       "    </tr>\n",
       "    <tr>\n",
       "      <th>UX8DX</th>\n",
       "      <td>2</td>\n",
       "      <td>8</td>\n",
       "    </tr>\n",
       "    <tr>\n",
       "      <th>LD14M</th>\n",
       "      <td>3</td>\n",
       "      <td>22</td>\n",
       "    </tr>\n",
       "    <tr>\n",
       "      <th>NGL3G</th>\n",
       "      <td>4</td>\n",
       "      <td>91</td>\n",
       "    </tr>\n",
       "    <tr>\n",
       "      <th>VZ3ZI</th>\n",
       "      <td>5</td>\n",
       "      <td>64</td>\n",
       "    </tr>\n",
       "  </tbody>\n",
       "</table>\n",
       "</div>"
      ],
      "text/plain": [
       "       roll  math_scores\n",
       "id                      \n",
       "37BGI     1           85\n",
       "UX8DX     2            8\n",
       "LD14M     3           22\n",
       "NGL3G     4           91\n",
       "VZ3ZI     5           64"
      ]
     },
     "execution_count": 78,
     "metadata": {},
     "output_type": "execute_result"
    }
   ],
   "source": [
    "##access the first 5 rows of the first 2 columns\n",
    "df.iloc[:5, :2]"
   ]
  },
  {
   "cell_type": "code",
   "execution_count": 76,
   "metadata": {},
   "outputs": [
    {
     "data": {
      "text/html": [
       "<div>\n",
       "<style scoped>\n",
       "    .dataframe tbody tr th:only-of-type {\n",
       "        vertical-align: middle;\n",
       "    }\n",
       "\n",
       "    .dataframe tbody tr th {\n",
       "        vertical-align: top;\n",
       "    }\n",
       "\n",
       "    .dataframe thead th {\n",
       "        text-align: right;\n",
       "    }\n",
       "</style>\n",
       "<table border=\"1\" class=\"dataframe\">\n",
       "  <thead>\n",
       "    <tr style=\"text-align: right;\">\n",
       "      <th></th>\n",
       "      <th>roll</th>\n",
       "      <th>math_scores</th>\n",
       "      <th>physics_scores</th>\n",
       "    </tr>\n",
       "    <tr>\n",
       "      <th>id</th>\n",
       "      <th></th>\n",
       "      <th></th>\n",
       "      <th></th>\n",
       "    </tr>\n",
       "  </thead>\n",
       "  <tbody>\n",
       "    <tr>\n",
       "      <th>XGZGC</th>\n",
       "      <td>11</td>\n",
       "      <td>97</td>\n",
       "      <td>74</td>\n",
       "    </tr>\n",
       "    <tr>\n",
       "      <th>O51X8</th>\n",
       "      <td>12</td>\n",
       "      <td>90</td>\n",
       "      <td>98</td>\n",
       "    </tr>\n",
       "    <tr>\n",
       "      <th>4Q7UB</th>\n",
       "      <td>13</td>\n",
       "      <td>52</td>\n",
       "      <td>19</td>\n",
       "    </tr>\n",
       "    <tr>\n",
       "      <th>Z5TVI</th>\n",
       "      <td>14</td>\n",
       "      <td>47</td>\n",
       "      <td>33</td>\n",
       "    </tr>\n",
       "    <tr>\n",
       "      <th>CKDS0</th>\n",
       "      <td>15</td>\n",
       "      <td>33</td>\n",
       "      <td>1</td>\n",
       "    </tr>\n",
       "    <tr>\n",
       "      <th>D6OHM</th>\n",
       "      <td>16</td>\n",
       "      <td>80</td>\n",
       "      <td>81</td>\n",
       "    </tr>\n",
       "    <tr>\n",
       "      <th>5PXSQ</th>\n",
       "      <td>17</td>\n",
       "      <td>12</td>\n",
       "      <td>94</td>\n",
       "    </tr>\n",
       "    <tr>\n",
       "      <th>9VOL3</th>\n",
       "      <td>18</td>\n",
       "      <td>7</td>\n",
       "      <td>10</td>\n",
       "    </tr>\n",
       "    <tr>\n",
       "      <th>ZGJFF</th>\n",
       "      <td>19</td>\n",
       "      <td>45</td>\n",
       "      <td>19</td>\n",
       "    </tr>\n",
       "    <tr>\n",
       "      <th>WRKQN</th>\n",
       "      <td>20</td>\n",
       "      <td>3</td>\n",
       "      <td>34</td>\n",
       "    </tr>\n",
       "    <tr>\n",
       "      <th>E3FK5</th>\n",
       "      <td>21</td>\n",
       "      <td>91</td>\n",
       "      <td>97</td>\n",
       "    </tr>\n",
       "    <tr>\n",
       "      <th>NIKDD</th>\n",
       "      <td>22</td>\n",
       "      <td>64</td>\n",
       "      <td>7</td>\n",
       "    </tr>\n",
       "    <tr>\n",
       "      <th>5RQHX</th>\n",
       "      <td>23</td>\n",
       "      <td>98</td>\n",
       "      <td>91</td>\n",
       "    </tr>\n",
       "    <tr>\n",
       "      <th>RCU65</th>\n",
       "      <td>24</td>\n",
       "      <td>90</td>\n",
       "      <td>20</td>\n",
       "    </tr>\n",
       "    <tr>\n",
       "      <th>20X3L</th>\n",
       "      <td>25</td>\n",
       "      <td>11</td>\n",
       "      <td>93</td>\n",
       "    </tr>\n",
       "    <tr>\n",
       "      <th>IPJ66</th>\n",
       "      <td>26</td>\n",
       "      <td>97</td>\n",
       "      <td>44</td>\n",
       "    </tr>\n",
       "    <tr>\n",
       "      <th>Z3COV</th>\n",
       "      <td>27</td>\n",
       "      <td>84</td>\n",
       "      <td>94</td>\n",
       "    </tr>\n",
       "    <tr>\n",
       "      <th>7O66I</th>\n",
       "      <td>28</td>\n",
       "      <td>89</td>\n",
       "      <td>53</td>\n",
       "    </tr>\n",
       "    <tr>\n",
       "      <th>LACYN</th>\n",
       "      <td>29</td>\n",
       "      <td>63</td>\n",
       "      <td>13</td>\n",
       "    </tr>\n",
       "    <tr>\n",
       "      <th>OEOHY</th>\n",
       "      <td>30</td>\n",
       "      <td>41</td>\n",
       "      <td>58</td>\n",
       "    </tr>\n",
       "  </tbody>\n",
       "</table>\n",
       "</div>"
      ],
      "text/plain": [
       "       roll  math_scores  physics_scores\n",
       "id                                      \n",
       "XGZGC    11           97              74\n",
       "O51X8    12           90              98\n",
       "4Q7UB    13           52              19\n",
       "Z5TVI    14           47              33\n",
       "CKDS0    15           33               1\n",
       "D6OHM    16           80              81\n",
       "5PXSQ    17           12              94\n",
       "9VOL3    18            7              10\n",
       "ZGJFF    19           45              19\n",
       "WRKQN    20            3              34\n",
       "E3FK5    21           91              97\n",
       "NIKDD    22           64               7\n",
       "5RQHX    23           98              91\n",
       "RCU65    24           90              20\n",
       "20X3L    25           11              93\n",
       "IPJ66    26           97              44\n",
       "Z3COV    27           84              94\n",
       "7O66I    28           89              53\n",
       "LACYN    29           63              13\n",
       "OEOHY    30           41              58"
      ]
     },
     "execution_count": 76,
     "metadata": {},
     "output_type": "execute_result"
    }
   ],
   "source": [
    "##access values using labels\n",
    "df.loc['XGZGC':, :'physics_scores']"
   ]
  }
 ],
 "metadata": {
  "kernelspec": {
   "display_name": "Python 3",
   "language": "python",
   "name": "python3"
  },
  "language_info": {
   "codemirror_mode": {
    "name": "ipython",
    "version": 3
   },
   "file_extension": ".py",
   "mimetype": "text/x-python",
   "name": "python",
   "nbconvert_exporter": "python",
   "pygments_lexer": "ipython3",
   "version": "3.7.7"
  }
 },
 "nbformat": 4,
 "nbformat_minor": 4
}
