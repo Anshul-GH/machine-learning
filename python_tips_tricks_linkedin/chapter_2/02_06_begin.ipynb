{
 "cells": [
  {
   "cell_type": "markdown",
   "metadata": {},
   "source": [
    "## Aggregation and Grouping\n",
    "\n",
    "This notebook covers the essentials of aggregation and grouping in pandas. We are using the planets dataset from seaborn library. Takeaways from this notebook:\n",
    "\n",
    "1. How to summarize large data by computing aggregations like sum(), mean(), median(), etc.\n",
    "2. How to group data and apply aggregate functions on groups.\n",
    "3. How to filter data based on group characteristics."
   ]
  },
  {
   "cell_type": "code",
   "execution_count": null,
   "metadata": {},
   "outputs": [],
   "source": [
    "##loading penguins data from seaborn package\n",
    "import seaborn as sns\n",
    "\n",
    "penguin_df = sns.load_dataset('penguins')\n",
    "\n",
    "##check first few rows"
   ]
  },
  {
   "cell_type": "markdown",
   "metadata": {},
   "source": [
    "### Aggregate functions for a dataframe"
   ]
  },
  {
   "cell_type": "code",
   "execution_count": null,
   "metadata": {},
   "outputs": [],
   "source": [
    "##the aggregate functions like sum(), mean(), etc. return reseults within each column\n"
   ]
  },
  {
   "cell_type": "code",
   "execution_count": null,
   "metadata": {},
   "outputs": [],
   "source": [
    "###describe() - pandas convenience method to compute common aggregates\n",
    "\n"
   ]
  },
  {
   "cell_type": "markdown",
   "metadata": {},
   "source": [
    "### GroupBy"
   ]
  },
  {
   "cell_type": "code",
   "execution_count": null,
   "metadata": {},
   "outputs": [],
   "source": [
    "##grouping penguins by species\n"
   ]
  },
  {
   "cell_type": "code",
   "execution_count": null,
   "metadata": {},
   "outputs": [],
   "source": [
    "##selecting the body_mass_g series group from the original dataframe \n"
   ]
  },
  {
   "cell_type": "code",
   "execution_count": null,
   "metadata": {},
   "outputs": [],
   "source": [
    "##calling the aggregate function to compute the statistic\n"
   ]
  },
  {
   "cell_type": "code",
   "execution_count": null,
   "metadata": {},
   "outputs": [],
   "source": [
    "##iterating over a groupby object\n",
    "for (specie, group) in penguin_df.groupby('species'):\n",
    "            print(\"{0:30s} shape={1}\".format(specie, group.shape))"
   ]
  },
  {
   "cell_type": "code",
   "execution_count": null,
   "metadata": {},
   "outputs": [],
   "source": [
    "##computing summary statistics on groups\n",
    "penguin_df.groupby('species')['body_mass_g']."
   ]
  },
  {
   "cell_type": "code",
   "execution_count": null,
   "metadata": {},
   "outputs": [],
   "source": [
    "##computing different aggregates on different columns using aggregate() method\n",
    "penguin_df.groupby('species').aggregate({\n",
    "    \n",
    "    \n",
    "})"
   ]
  },
  {
   "cell_type": "markdown",
   "metadata": {},
   "source": [
    "### Adding filters on groups"
   ]
  },
  {
   "cell_type": "code",
   "execution_count": null,
   "metadata": {},
   "outputs": [],
   "source": [
    "##printing body_mass average for each specie\n",
    "print(penguin_df.groupby('species')['body_mass_g'].mean())\n",
    "\n",
    "##filtering species with average body mass greater than 3710\n",
    "print(penguin_df.groupby('species').)"
   ]
  },
  {
   "cell_type": "code",
   "execution_count": null,
   "metadata": {},
   "outputs": [],
   "source": []
  }
 ],
 "metadata": {
  "kernelspec": {
   "display_name": "Python 3",
   "language": "python",
   "name": "python3"
  },
  "language_info": {
   "codemirror_mode": {
    "name": "ipython",
    "version": 3
   },
   "file_extension": ".py",
   "mimetype": "text/x-python",
   "name": "python",
   "nbconvert_exporter": "python",
   "pygments_lexer": "ipython3",
   "version": "3.7.4"
  }
 },
 "nbformat": 4,
 "nbformat_minor": 4
}
