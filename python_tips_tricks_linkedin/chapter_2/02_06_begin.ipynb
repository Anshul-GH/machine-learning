{
 "cells": [
  {
   "cell_type": "markdown",
   "metadata": {},
   "source": [
    "## Aggregation and Grouping\n",
    "\n",
    "This notebook covers the essentials of aggregation and grouping in pandas. We are using the planets dataset from seaborn library. Takeaways from this notebook:\n",
    "\n",
    "1. How to summarize large data by computing aggregations like sum(), mean(), median(), etc.\n",
    "2. How to group data and apply aggregate functions on groups.\n",
    "3. How to filter data based on group characteristics."
   ]
  },
  {
   "cell_type": "code",
   "execution_count": 1,
   "metadata": {},
   "outputs": [],
   "source": [
    "##loading penguins data from seaborn package\n",
    "import seaborn as sns\n",
    "\n",
    "penguin_df = sns.load_dataset('penguins')\n",
    "\n",
    "##check first few rows"
   ]
  },
  {
   "cell_type": "code",
   "execution_count": 2,
   "metadata": {},
   "outputs": [
    {
     "output_type": "execute_result",
     "data": {
      "text/plain": [
       "  species     island  bill_length_mm  bill_depth_mm  flipper_length_mm  \\\n",
       "0  Adelie  Torgersen            39.1           18.7              181.0   \n",
       "1  Adelie  Torgersen            39.5           17.4              186.0   \n",
       "2  Adelie  Torgersen            40.3           18.0              195.0   \n",
       "3  Adelie  Torgersen             NaN            NaN                NaN   \n",
       "4  Adelie  Torgersen            36.7           19.3              193.0   \n",
       "\n",
       "   body_mass_g     sex  \n",
       "0       3750.0    MALE  \n",
       "1       3800.0  FEMALE  \n",
       "2       3250.0  FEMALE  \n",
       "3          NaN     NaN  \n",
       "4       3450.0  FEMALE  "
      ],
      "text/html": "<div>\n<style scoped>\n    .dataframe tbody tr th:only-of-type {\n        vertical-align: middle;\n    }\n\n    .dataframe tbody tr th {\n        vertical-align: top;\n    }\n\n    .dataframe thead th {\n        text-align: right;\n    }\n</style>\n<table border=\"1\" class=\"dataframe\">\n  <thead>\n    <tr style=\"text-align: right;\">\n      <th></th>\n      <th>species</th>\n      <th>island</th>\n      <th>bill_length_mm</th>\n      <th>bill_depth_mm</th>\n      <th>flipper_length_mm</th>\n      <th>body_mass_g</th>\n      <th>sex</th>\n    </tr>\n  </thead>\n  <tbody>\n    <tr>\n      <th>0</th>\n      <td>Adelie</td>\n      <td>Torgersen</td>\n      <td>39.1</td>\n      <td>18.7</td>\n      <td>181.0</td>\n      <td>3750.0</td>\n      <td>MALE</td>\n    </tr>\n    <tr>\n      <th>1</th>\n      <td>Adelie</td>\n      <td>Torgersen</td>\n      <td>39.5</td>\n      <td>17.4</td>\n      <td>186.0</td>\n      <td>3800.0</td>\n      <td>FEMALE</td>\n    </tr>\n    <tr>\n      <th>2</th>\n      <td>Adelie</td>\n      <td>Torgersen</td>\n      <td>40.3</td>\n      <td>18.0</td>\n      <td>195.0</td>\n      <td>3250.0</td>\n      <td>FEMALE</td>\n    </tr>\n    <tr>\n      <th>3</th>\n      <td>Adelie</td>\n      <td>Torgersen</td>\n      <td>NaN</td>\n      <td>NaN</td>\n      <td>NaN</td>\n      <td>NaN</td>\n      <td>NaN</td>\n    </tr>\n    <tr>\n      <th>4</th>\n      <td>Adelie</td>\n      <td>Torgersen</td>\n      <td>36.7</td>\n      <td>19.3</td>\n      <td>193.0</td>\n      <td>3450.0</td>\n      <td>FEMALE</td>\n    </tr>\n  </tbody>\n</table>\n</div>"
     },
     "metadata": {},
     "execution_count": 2
    }
   ],
   "source": [
    "penguin_df.head()"
   ]
  },
  {
   "cell_type": "markdown",
   "metadata": {},
   "source": [
    "### Aggregate functions for a dataframe"
   ]
  },
  {
   "cell_type": "code",
   "execution_count": 3,
   "metadata": {},
   "outputs": [
    {
     "output_type": "execute_result",
     "data": {
      "text/plain": [
       "bill_length_mm         43.921930\n",
       "bill_depth_mm          17.151170\n",
       "flipper_length_mm     200.915205\n",
       "body_mass_g          4201.754386\n",
       "dtype: float64"
      ]
     },
     "metadata": {},
     "execution_count": 3
    }
   ],
   "source": [
    "##the aggregate functions like sum(), mean(), etc. return reseults within each column\n",
    "penguin_df.mean()"
   ]
  },
  {
   "cell_type": "code",
   "execution_count": 4,
   "metadata": {},
   "outputs": [
    {
     "output_type": "execute_result",
     "data": {
      "text/plain": [
       "       bill_length_mm  bill_depth_mm  flipper_length_mm  body_mass_g\n",
       "count      342.000000     342.000000         342.000000   342.000000\n",
       "mean        43.921930      17.151170         200.915205  4201.754386\n",
       "std          5.459584       1.974793          14.061714   801.954536\n",
       "min         32.100000      13.100000         172.000000  2700.000000\n",
       "25%         39.225000      15.600000         190.000000  3550.000000\n",
       "50%         44.450000      17.300000         197.000000  4050.000000\n",
       "75%         48.500000      18.700000         213.000000  4750.000000\n",
       "max         59.600000      21.500000         231.000000  6300.000000"
      ],
      "text/html": "<div>\n<style scoped>\n    .dataframe tbody tr th:only-of-type {\n        vertical-align: middle;\n    }\n\n    .dataframe tbody tr th {\n        vertical-align: top;\n    }\n\n    .dataframe thead th {\n        text-align: right;\n    }\n</style>\n<table border=\"1\" class=\"dataframe\">\n  <thead>\n    <tr style=\"text-align: right;\">\n      <th></th>\n      <th>bill_length_mm</th>\n      <th>bill_depth_mm</th>\n      <th>flipper_length_mm</th>\n      <th>body_mass_g</th>\n    </tr>\n  </thead>\n  <tbody>\n    <tr>\n      <th>count</th>\n      <td>342.000000</td>\n      <td>342.000000</td>\n      <td>342.000000</td>\n      <td>342.000000</td>\n    </tr>\n    <tr>\n      <th>mean</th>\n      <td>43.921930</td>\n      <td>17.151170</td>\n      <td>200.915205</td>\n      <td>4201.754386</td>\n    </tr>\n    <tr>\n      <th>std</th>\n      <td>5.459584</td>\n      <td>1.974793</td>\n      <td>14.061714</td>\n      <td>801.954536</td>\n    </tr>\n    <tr>\n      <th>min</th>\n      <td>32.100000</td>\n      <td>13.100000</td>\n      <td>172.000000</td>\n      <td>2700.000000</td>\n    </tr>\n    <tr>\n      <th>25%</th>\n      <td>39.225000</td>\n      <td>15.600000</td>\n      <td>190.000000</td>\n      <td>3550.000000</td>\n    </tr>\n    <tr>\n      <th>50%</th>\n      <td>44.450000</td>\n      <td>17.300000</td>\n      <td>197.000000</td>\n      <td>4050.000000</td>\n    </tr>\n    <tr>\n      <th>75%</th>\n      <td>48.500000</td>\n      <td>18.700000</td>\n      <td>213.000000</td>\n      <td>4750.000000</td>\n    </tr>\n    <tr>\n      <th>max</th>\n      <td>59.600000</td>\n      <td>21.500000</td>\n      <td>231.000000</td>\n      <td>6300.000000</td>\n    </tr>\n  </tbody>\n</table>\n</div>"
     },
     "metadata": {},
     "execution_count": 4
    }
   ],
   "source": [
    "###describe() - pandas convenience method to compute common aggregates\n",
    "penguin_df.describe()"
   ]
  },
  {
   "cell_type": "markdown",
   "metadata": {},
   "source": [
    "### GroupBy"
   ]
  },
  {
   "cell_type": "code",
   "execution_count": 6,
   "metadata": {},
   "outputs": [
    {
     "output_type": "execute_result",
     "data": {
      "text/plain": [
       "<pandas.core.groupby.generic.DataFrameGroupBy object at 0x7f02663a9310>"
      ]
     },
     "metadata": {},
     "execution_count": 6
    }
   ],
   "source": [
    "##grouping penguins by species\n",
    "penguin_df.groupby('species')"
   ]
  },
  {
   "cell_type": "code",
   "execution_count": 7,
   "metadata": {},
   "outputs": [
    {
     "output_type": "execute_result",
     "data": {
      "text/plain": [
       "<pandas.core.groupby.generic.SeriesGroupBy object at 0x7f02663a9130>"
      ]
     },
     "metadata": {},
     "execution_count": 7
    }
   ],
   "source": [
    "##selecting the body_mass_g series group from the original dataframe \n",
    "penguin_df.groupby('species')['body_mass_g']"
   ]
  },
  {
   "cell_type": "code",
   "execution_count": 8,
   "metadata": {},
   "outputs": [
    {
     "output_type": "execute_result",
     "data": {
      "text/plain": [
       "species\n",
       "Adelie       3700.662252\n",
       "Chinstrap    3733.088235\n",
       "Gentoo       5076.016260\n",
       "Name: body_mass_g, dtype: float64"
      ]
     },
     "metadata": {},
     "execution_count": 8
    }
   ],
   "source": [
    "##calling the aggregate function to compute the statistic\n",
    "penguin_df.groupby('species')['body_mass_g'].mean()"
   ]
  },
  {
   "cell_type": "code",
   "execution_count": 9,
   "metadata": {},
   "outputs": [
    {
     "output_type": "stream",
     "name": "stdout",
     "text": [
      "Adelie                         shape=(152, 7)\nChinstrap                      shape=(68, 7)\nGentoo                         shape=(124, 7)\n"
     ]
    }
   ],
   "source": [
    "##iterating over a groupby object\n",
    "for (specie, group) in penguin_df.groupby('species'):\n",
    "            print(\"{0:30s} shape={1}\".format(specie, group.shape))"
   ]
  },
  {
   "cell_type": "code",
   "execution_count": 10,
   "metadata": {},
   "outputs": [
    {
     "output_type": "execute_result",
     "data": {
      "text/plain": [
       "           count         mean         std     min     25%     50%     75%  \\\n",
       "species                                                                     \n",
       "Adelie     151.0  3700.662252  458.566126  2850.0  3350.0  3700.0  4000.0   \n",
       "Chinstrap   68.0  3733.088235  384.335081  2700.0  3487.5  3700.0  3950.0   \n",
       "Gentoo     123.0  5076.016260  504.116237  3950.0  4700.0  5000.0  5500.0   \n",
       "\n",
       "              max  \n",
       "species            \n",
       "Adelie     4775.0  \n",
       "Chinstrap  4800.0  \n",
       "Gentoo     6300.0  "
      ],
      "text/html": "<div>\n<style scoped>\n    .dataframe tbody tr th:only-of-type {\n        vertical-align: middle;\n    }\n\n    .dataframe tbody tr th {\n        vertical-align: top;\n    }\n\n    .dataframe thead th {\n        text-align: right;\n    }\n</style>\n<table border=\"1\" class=\"dataframe\">\n  <thead>\n    <tr style=\"text-align: right;\">\n      <th></th>\n      <th>count</th>\n      <th>mean</th>\n      <th>std</th>\n      <th>min</th>\n      <th>25%</th>\n      <th>50%</th>\n      <th>75%</th>\n      <th>max</th>\n    </tr>\n    <tr>\n      <th>species</th>\n      <th></th>\n      <th></th>\n      <th></th>\n      <th></th>\n      <th></th>\n      <th></th>\n      <th></th>\n      <th></th>\n    </tr>\n  </thead>\n  <tbody>\n    <tr>\n      <th>Adelie</th>\n      <td>151.0</td>\n      <td>3700.662252</td>\n      <td>458.566126</td>\n      <td>2850.0</td>\n      <td>3350.0</td>\n      <td>3700.0</td>\n      <td>4000.0</td>\n      <td>4775.0</td>\n    </tr>\n    <tr>\n      <th>Chinstrap</th>\n      <td>68.0</td>\n      <td>3733.088235</td>\n      <td>384.335081</td>\n      <td>2700.0</td>\n      <td>3487.5</td>\n      <td>3700.0</td>\n      <td>3950.0</td>\n      <td>4800.0</td>\n    </tr>\n    <tr>\n      <th>Gentoo</th>\n      <td>123.0</td>\n      <td>5076.016260</td>\n      <td>504.116237</td>\n      <td>3950.0</td>\n      <td>4700.0</td>\n      <td>5000.0</td>\n      <td>5500.0</td>\n      <td>6300.0</td>\n    </tr>\n  </tbody>\n</table>\n</div>"
     },
     "metadata": {},
     "execution_count": 10
    }
   ],
   "source": [
    "##computing summary statistics on groups\n",
    "penguin_df.groupby('species')['body_mass_g'].describe()"
   ]
  },
  {
   "cell_type": "code",
   "execution_count": 11,
   "metadata": {},
   "outputs": [
    {
     "output_type": "execute_result",
     "data": {
      "text/plain": [
       "           body_mass_g  flipper_length_mm\n",
       "species                                  \n",
       "Adelie     3700.662252              190.0\n",
       "Chinstrap  3733.088235              196.0\n",
       "Gentoo     5076.016260              216.0"
      ],
      "text/html": "<div>\n<style scoped>\n    .dataframe tbody tr th:only-of-type {\n        vertical-align: middle;\n    }\n\n    .dataframe tbody tr th {\n        vertical-align: top;\n    }\n\n    .dataframe thead th {\n        text-align: right;\n    }\n</style>\n<table border=\"1\" class=\"dataframe\">\n  <thead>\n    <tr style=\"text-align: right;\">\n      <th></th>\n      <th>body_mass_g</th>\n      <th>flipper_length_mm</th>\n    </tr>\n    <tr>\n      <th>species</th>\n      <th></th>\n      <th></th>\n    </tr>\n  </thead>\n  <tbody>\n    <tr>\n      <th>Adelie</th>\n      <td>3700.662252</td>\n      <td>190.0</td>\n    </tr>\n    <tr>\n      <th>Chinstrap</th>\n      <td>3733.088235</td>\n      <td>196.0</td>\n    </tr>\n    <tr>\n      <th>Gentoo</th>\n      <td>5076.016260</td>\n      <td>216.0</td>\n    </tr>\n  </tbody>\n</table>\n</div>"
     },
     "metadata": {},
     "execution_count": 11
    }
   ],
   "source": [
    "##computing different aggregates on different columns using aggregate() method\n",
    "penguin_df.groupby('species').aggregate({\n",
    "    'body_mass_g': 'mean',\n",
    "    'flipper_length_mm': 'median'    \n",
    "})"
   ]
  },
  {
   "cell_type": "markdown",
   "metadata": {},
   "source": [
    "### Adding filters on groups"
   ]
  },
  {
   "cell_type": "code",
   "execution_count": 12,
   "metadata": {},
   "outputs": [
    {
     "output_type": "stream",
     "name": "stdout",
     "text": [
      "species\nAdelie       3700.662252\nChinstrap    3733.088235\nGentoo       5076.016260\nName: body_mass_g, dtype: float64\n       species  island  bill_length_mm  bill_depth_mm  flipper_length_mm  \\\n152  Chinstrap   Dream            46.5           17.9              192.0   \n153  Chinstrap   Dream            50.0           19.5              196.0   \n154  Chinstrap   Dream            51.3           19.2              193.0   \n155  Chinstrap   Dream            45.4           18.7              188.0   \n156  Chinstrap   Dream            52.7           19.8              197.0   \n..         ...     ...             ...            ...                ...   \n339     Gentoo  Biscoe             NaN            NaN                NaN   \n340     Gentoo  Biscoe            46.8           14.3              215.0   \n341     Gentoo  Biscoe            50.4           15.7              222.0   \n342     Gentoo  Biscoe            45.2           14.8              212.0   \n343     Gentoo  Biscoe            49.9           16.1              213.0   \n\n     body_mass_g     sex  \n152       3500.0  FEMALE  \n153       3900.0    MALE  \n154       3650.0    MALE  \n155       3525.0  FEMALE  \n156       3725.0    MALE  \n..           ...     ...  \n339          NaN     NaN  \n340       4850.0  FEMALE  \n341       5750.0    MALE  \n342       5200.0  FEMALE  \n343       5400.0    MALE  \n\n[192 rows x 7 columns]\n"
     ]
    }
   ],
   "source": [
    "##printing body_mass average for each specie\n",
    "print(penguin_df.groupby('species')['body_mass_g'].mean())\n",
    "\n",
    "##filtering species with average body mass greater than 3710\n",
    "print(penguin_df.groupby('species').filter(lambda x: x['body_mass_g'].mean() > 3710))"
   ]
  },
  {
   "cell_type": "code",
   "execution_count": null,
   "metadata": {},
   "outputs": [],
   "source": []
  }
 ],
 "metadata": {
  "kernelspec": {
   "display_name": "Python 3",
   "language": "python",
   "name": "python3"
  },
  "language_info": {
   "codemirror_mode": {
    "name": "ipython",
    "version": 3
   },
   "file_extension": ".py",
   "mimetype": "text/x-python",
   "name": "python",
   "nbconvert_exporter": "python",
   "pygments_lexer": "ipython3",
   "version": "3.8.2-final"
  }
 },
 "nbformat": 4,
 "nbformat_minor": 4
}