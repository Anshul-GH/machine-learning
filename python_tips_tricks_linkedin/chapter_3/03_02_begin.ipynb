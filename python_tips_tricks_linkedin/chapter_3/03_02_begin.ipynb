{
 "cells": [
  {
   "cell_type": "markdown",
   "metadata": {},
   "source": [
    "## Adding Text and Annotation\n",
    "\n",
    "This notebooks explains how to annotate and add texts to the plots to make them more informative, we'll be covering the following topics:\n",
    "\n",
    "1. How to add text on bar plots.\n",
    "2. How to annotate plots by adding text using `ax.text()`\n",
    "3. How to add arrows along with text to indicate a specific point on plot."
   ]
  },
  {
   "cell_type": "code",
   "execution_count": null,
   "metadata": {},
   "outputs": [],
   "source": [
    "## abbreviate matplotlib as mpl and pyplot module as plt\n",
    "import matplotlib as mpl\n",
    "import matplotlib.pyplot as plt\n",
    "import seaborn as sns\n",
    "%matplotlib inline\n",
    "\n",
    "import pandas as pd\n",
    "import numpy as np"
   ]
  },
  {
   "cell_type": "markdown",
   "metadata": {},
   "source": [
    "### Bar plot with text highlight"
   ]
  },
  {
   "cell_type": "code",
   "execution_count": null,
   "metadata": {},
   "outputs": [],
   "source": [
    "##use the advertisement data\n",
    "rev_df = pd.read_csv('../data/advertising.csv')\n",
    "rev_df = rev_df.dropna()"
   ]
  },
  {
   "cell_type": "code",
   "execution_count": null,
   "metadata": {},
   "outputs": [],
   "source": [
    "fig = plt.figure(figsize=(12,8))\n",
    "\n",
    "##caculate the average revenue from each media source\n",
    "revenue_mean =\n",
    "\n",
    "##column names\n",
    "mode = \n",
    "\n",
    "##plot the data\n",
    "graph= plt.bar(mode, revenue_mean, color=\"orange\")\n",
    "\n",
    "##add title and labels\n",
    "plt.title('Revenue Generation from Media Sources')\n",
    "plt.xlabel('Medium')\n",
    "plt.ylabel('Revenue (in *100K)')\n",
    "\n",
    "##add avg. revenue on top of respective bars\n",
    "for bar, t in zip(graph,revenue_mean):\n",
    "    plt.text(bar. + bar. + bar.,\n",
    "             '%.2f'%t,\n",
    "             ha='center',\n",
    "             va='bottom')\n",
    "\n",
    "plt.show()"
   ]
  },
  {
   "cell_type": "markdown",
   "metadata": {},
   "source": [
    "### Annotating using `ax.text()`"
   ]
  },
  {
   "cell_type": "code",
   "execution_count": null,
   "metadata": {},
   "outputs": [],
   "source": [
    "##mark months on the graph by adding text on plot\n",
    "fig, ax = plt.subplots(figsize=(14, 8))\n",
    "\n",
    "##plot values for every 5 days\n",
    "rev_df['TV'].iloc[::5].plot(ax=ax)\n",
    "\n",
    "##set size and color of the text\n",
    "style = dict(size=10, color='black')\n",
    "\n",
    "##add month labels here\n",
    "ax.text(30, 50, \"\", **style)\n",
    "ax.text(60, 50, \"\", ha='', **style)\n",
    "ax.text(90, 50, \"\", ha='', **style)\n"
   ]
  },
  {
   "cell_type": "markdown",
   "metadata": {},
   "source": [
    "### Annotating Plots with Arrows using `ax.annotate()`"
   ]
  },
  {
   "cell_type": "code",
   "execution_count": null,
   "metadata": {},
   "outputs": [],
   "source": [
    "##annotate sine graph for local minimum and local maximum\n",
    "\n",
    "fig, ax = plt.subplots()\n",
    "\n",
    "x = np.linspace(0, 20, 1000)\n",
    "ax.plot(x, np.sin(x))\n",
    "ax.axis('equal')\n",
    "\n",
    "##add arrow for local maximum\n",
    "ax.annotate('local maximum', xy=(), xytext=(),\n",
    "           arrowprops=dict(facecolor=, shrink=))\n",
    "\n",
    "##add arrow for local maximum\n",
    "ax.annotate('local minimum', xy=(3.5 * np.pi, -1), xytext=(2, -6),\n",
    "           arrowprops=dict(arrowstyle=\"->\", connectionstyle=\"angle3,angleA=0,angleB=-90\"));"
   ]
  },
  {
   "cell_type": "code",
   "execution_count": null,
   "metadata": {},
   "outputs": [],
   "source": []
  }
 ],
 "metadata": {
  "kernelspec": {
   "display_name": "Python 3",
   "language": "python",
   "name": "python3"
  },
  "language_info": {
   "codemirror_mode": {
    "name": "ipython",
    "version": 3
   },
   "file_extension": ".py",
   "mimetype": "text/x-python",
   "name": "python",
   "nbconvert_exporter": "python",
   "pygments_lexer": "ipython3",
   "version": "3.7.4"
  }
 },
 "nbformat": 4,
 "nbformat_minor": 4
}
