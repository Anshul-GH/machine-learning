{
 "cells": [
  {
   "cell_type": "markdown",
   "metadata": {},
   "source": [
    "## Model Validation and Hyperparameter Tuning\n",
    "\n",
    "This notebook explains the important topics of Model Validation and Hyperparameter Tuning using Scikit-Learn. Following are the topics covered:\n",
    "\n",
    "1. What are the different ways of validating an ML model.\n",
    "2. How to validate Models using holdout sets and cross validation.\n",
    "3. How to tune hyperparameters using GridSearchCV."
   ]
  },
  {
   "cell_type": "markdown",
   "metadata": {},
   "source": [
    "### 1. Validating on training data"
   ]
  },
  {
   "cell_type": "code",
   "execution_count": 1,
   "metadata": {},
   "outputs": [
    {
     "output_type": "execute_result",
     "data": {
      "text/plain": [
       "(150, 4)"
      ]
     },
     "metadata": {},
     "execution_count": 1
    }
   ],
   "source": [
    "##import digits dataset from sklearn\n",
    "from sklearn.datasets import load_iris\n",
    "\n",
    "iris = load_iris()\n",
    "X = iris.data\n",
    "y = iris.target\n",
    "\n",
    "X.shape"
   ]
  },
  {
   "cell_type": "code",
   "execution_count": 2,
   "metadata": {},
   "outputs": [],
   "source": [
    "##using KNN classifier to predict flower species\n",
    "from sklearn.neighbors import KNeighborsClassifier\n",
    "model = KNeighborsClassifier(n_neighbors=1)\n",
    "model.fit(X, y)\n",
    "y_pred = model.predict(X)\n"
   ]
  },
  {
   "cell_type": "code",
   "execution_count": 3,
   "metadata": {},
   "outputs": [
    {
     "output_type": "execute_result",
     "data": {
      "text/plain": [
       "1.0"
      ]
     },
     "metadata": {},
     "execution_count": 3
    }
   ],
   "source": [
    "##checking accuracy\n",
    "from sklearn.metrics import accuracy_score\n",
    "\n",
    "##calculate accuracy score\n",
    "accuracy_score(y, y_pred)"
   ]
  },
  {
   "cell_type": "markdown",
   "metadata": {},
   "source": [
    "Aaccuracy score of 1.0 is an indicator of high overfitting. Our validation method violates the fundamental law of training and testing the model on the same data."
   ]
  },
  {
   "cell_type": "markdown",
   "metadata": {},
   "source": [
    "### 2. Validation on Holdout Sets"
   ]
  },
  {
   "cell_type": "code",
   "execution_count": 4,
   "metadata": {},
   "outputs": [
    {
     "output_type": "execute_result",
     "data": {
      "text/plain": [
       "0.9066666666666666"
      ]
     },
     "metadata": {},
     "execution_count": 4
    }
   ],
   "source": [
    "from sklearn.model_selection import train_test_split\n",
    "##reserving 50% of data for testing/validation\n",
    "X_train, X_test, y_train, y_test = train_test_split(X, y, random_state=0,\n",
    "                                 train_size=0.5)\n",
    "\n",
    "# fit the model on training\n",
    "model.fit(X_train, y_train)\n",
    "\n",
    "# evaluate the model on unseen testing set\n",
    "y_pred = model.predict(X_test)\n",
    "accuracy_score(y_test, y_pred)"
   ]
  },
  {
   "cell_type": "markdown",
   "metadata": {},
   "source": [
    "### 3. Cross-Validation"
   ]
  },
  {
   "cell_type": "code",
   "execution_count": 5,
   "metadata": {},
   "outputs": [
    {
     "output_type": "execute_result",
     "data": {
      "text/plain": [
       "(0.96, 0.9066666666666666)"
      ]
     },
     "metadata": {},
     "execution_count": 5
    }
   ],
   "source": [
    "##train the model on training set and predicting test data\n",
    "y_test_pred = model.fit(X_train, y_train).predict(X_test)\n",
    "\n",
    "##train the model on testing set and predicting training set\n",
    "y_train_pred = model.fit(X_test, y_test).predict(X_train)\n",
    "\n",
    "##evaluate\n",
    "accuracy_score(y_train, y_train_pred), accuracy_score(y_test, y_test_pred)\n"
   ]
  },
  {
   "cell_type": "code",
   "execution_count": 6,
   "metadata": {},
   "outputs": [
    {
     "output_type": "execute_result",
     "data": {
      "text/plain": [
       "array([1.        , 0.93333333, 1.        , 0.93333333, 0.86666667,\n",
       "       1.        , 0.86666667, 1.        , 1.        , 1.        ])"
      ]
     },
     "metadata": {},
     "execution_count": 6
    }
   ],
   "source": [
    "##use the cross_val_score method from sklearn\n",
    "from sklearn.model_selection import cross_val_score\n",
    "\n",
    "##create 10 folds\n",
    "scores = cross_val_score(model, X, y, cv=10)\n",
    "scores"
   ]
  },
  {
   "cell_type": "code",
   "execution_count": 7,
   "metadata": {},
   "outputs": [
    {
     "output_type": "execute_result",
     "data": {
      "text/plain": [
       "0.96"
      ]
     },
     "metadata": {},
     "execution_count": 7
    }
   ],
   "source": [
    "##take an average of this score\n",
    "scores.mean()"
   ]
  },
  {
   "cell_type": "markdown",
   "metadata": {},
   "source": [
    "### Hyperparameter Tuning with GridSearchSV"
   ]
  },
  {
   "cell_type": "code",
   "execution_count": 8,
   "metadata": {},
   "outputs": [],
   "source": [
    "from sklearn.tree import DecisionTreeClassifier\n",
    "from sklearn.model_selection import GridSearchCV\n",
    "\n",
    "##define the parameters that go into a DecisionTreeClassfier\n",
    "criteria = [\"gini\", \"entropy\"]\n",
    "min_sample_split_range = [2,10, 30] \n",
    "max_depth_range = [None, 2, 5, 10]\n",
    "min_samples_leaf_range = [1, 5, 10]\n",
    "min_leaf_nodes_range = [None, 5, 10, 20]"
   ]
  },
  {
   "cell_type": "code",
   "execution_count": 9,
   "metadata": {},
   "outputs": [],
   "source": [
    "##define the parameter grid that are to be tested upon\n",
    "param_grid = {\"criterion\": criteria,\n",
    "              \"min_samples_split\": min_sample_split_range,\n",
    "              \"max_depth\": max_depth_range,\n",
    "              \"min_samples_leaf\": min_samples_leaf_range,\n",
    "              \"max_leaf_nodes\": min_leaf_nodes_range}\n",
    "\n",
    "##set grid with estimator and scoring method\n",
    "grid_model = GridSearchCV(estimator=DecisionTreeClassifier(),\n",
    "                         param_grid=param_grid,\n",
    "                         cv=5,\n",
    "                         scoring='accuracy',\n",
    "                         )"
   ]
  },
  {
   "cell_type": "code",
   "execution_count": 10,
   "metadata": {},
   "outputs": [
    {
     "output_type": "stream",
     "name": "stdout",
     "text": [
      "Accuracy Score of the fine-tuned model: 0.9733\n{'criterion': 'gini', 'max_depth': 5, 'max_leaf_nodes': 5, 'min_samples_leaf': 1, 'min_samples_split': 30}\n"
     ]
    }
   ],
   "source": [
    "##train the model\n",
    "grid_model.fit(iris.data, iris.target)\n",
    "\n",
    "##print best scores and best params\n",
    "print(\"Accuracy Score of the fine-tuned model: %.4f\"%grid_model.best_score_)\n",
    "\n",
    "print(grid_model.best_params_)"
   ]
  },
  {
   "cell_type": "code",
   "execution_count": null,
   "metadata": {},
   "outputs": [],
   "source": []
  }
 ],
 "metadata": {
  "kernelspec": {
   "display_name": "Python 3",
   "language": "python",
   "name": "python3"
  },
  "language_info": {
   "codemirror_mode": {
    "name": "ipython",
    "version": 3
   },
   "file_extension": ".py",
   "mimetype": "text/x-python",
   "name": "python",
   "nbconvert_exporter": "python",
   "pygments_lexer": "ipython3",
   "version": "3.8.3-final"
  }
 },
 "nbformat": 4,
 "nbformat_minor": 4
}