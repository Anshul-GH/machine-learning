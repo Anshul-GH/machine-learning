{
 "cells": [
  {
   "cell_type": "markdown",
   "metadata": {},
   "source": [
    "## Model Validation and Hyperparameter Tuning\n",
    "\n",
    "This notebook explains the important topics of Model Validation and Hyperparameter Tuning using Scikit-Learn. Following are the topics covered:\n",
    "\n",
    "1. What are the different ways of validating an ML model.\n",
    "2. How to validate Models using holdout sets and cross validation.\n",
    "3. How to tune hyperparameters using GridSearchCV."
   ]
  },
  {
   "cell_type": "markdown",
   "metadata": {},
   "source": [
    "### 1. Validating on training data"
   ]
  },
  {
   "cell_type": "code",
   "execution_count": null,
   "metadata": {},
   "outputs": [],
   "source": [
    "##import digits dataset from sklearn\n",
    "from sklearn.datasets import load_iris\n",
    "\n",
    "iris = load_iris()\n",
    "X = iris.\n",
    "y = iris."
   ]
  },
  {
   "cell_type": "code",
   "execution_count": null,
   "metadata": {},
   "outputs": [],
   "source": [
    "##using KNN classifier to predict flower species\n",
    "from sklearn.neighbors import KNeighborsClassifier\n",
    "model = KNeighborsClassifier(n_neighbors=1)\n",
    "model.fit(X, y)\n",
    "y_pred = model.predict()\n"
   ]
  },
  {
   "cell_type": "code",
   "execution_count": null,
   "metadata": {},
   "outputs": [],
   "source": [
    "##checking accuracy\n",
    "from sklearn.metrics import accuracy_score\n",
    "\n",
    "##calculate accuracy score\n",
    "accuracy_score()"
   ]
  },
  {
   "cell_type": "markdown",
   "metadata": {},
   "source": [
    "Aaccuracy score of 1.0 is an indicator of high overfitting. Our validation method violates the fundamental law of training and testing the model on the same data."
   ]
  },
  {
   "cell_type": "markdown",
   "metadata": {},
   "source": [
    "### 2. Validation on Holdout Sets"
   ]
  },
  {
   "cell_type": "code",
   "execution_count": null,
   "metadata": {},
   "outputs": [],
   "source": [
    "from sklearn.model_selection import train_test_split\n",
    "##reserving 50% of data for testing/validation\n",
    "X_train, X_test, y_train, y_test = train_test_split(X, y, random_state=0,\n",
    "                                 train_size=0.5)\n",
    "\n",
    "# fit the model on training\n",
    "model.fit(X_train, y_train)\n",
    "\n",
    "# evaluate the model on unseen testing set\n",
    "y_pred = model.predict()\n",
    "accuracy_score(,)"
   ]
  },
  {
   "cell_type": "markdown",
   "metadata": {},
   "source": [
    "### 3. Cross-Validation"
   ]
  },
  {
   "cell_type": "code",
   "execution_count": null,
   "metadata": {},
   "outputs": [],
   "source": [
    "##train the model on training set and predicting test data\n",
    "y_test_pred = model.fit(X_train, y_train).predict(X_test)\n",
    "\n",
    "##train the model on testing set and predicting training set\n",
    "y_train_pred = model.fit(X_test, y_test).predict(X_train)\n",
    "\n",
    "##evaluate\n",
    "accuracy_score(), accuracy_score()\n"
   ]
  },
  {
   "cell_type": "code",
   "execution_count": null,
   "metadata": {},
   "outputs": [],
   "source": [
    "##use the cross_val_score method from sklearn\n",
    "from sklearn.model_selection import cross_val_score\n",
    "\n",
    "##create 10 folds\n",
    "scores = cross_val_score(model, X, y, cv=10)\n",
    "scores"
   ]
  },
  {
   "cell_type": "code",
   "execution_count": null,
   "metadata": {},
   "outputs": [],
   "source": [
    "##take an average of this score\n"
   ]
  },
  {
   "cell_type": "markdown",
   "metadata": {},
   "source": [
    "### Hyperparameter Tuning with GridSearchSV"
   ]
  },
  {
   "cell_type": "code",
   "execution_count": null,
   "metadata": {},
   "outputs": [],
   "source": [
    "from sklearn.tree import DecisionTreeClassifier\n",
    "from sklearn.model_selection import GridSearchCV\n",
    "\n",
    "##define the parameters that go into a DecisionTreeClassfier\n",
    "criteria = [\"gini\", \"entropy\"]\n",
    "min_sample_split_range = [2,10, 30] \n",
    "max_depth_range = [None, 2, 5, 10]\n",
    "min_samples_leaf_range = [1, 5, 10]\n",
    "min_leaf_nodes_range = [None, 5, 10, 20]"
   ]
  },
  {
   "cell_type": "code",
   "execution_count": null,
   "metadata": {},
   "outputs": [],
   "source": [
    "##define the parameter grid that are to be tested upon\n",
    "param_grid = {\"criterion\": criteria,\n",
    "              \"min_samples_split\": min_sample_split_range,\n",
    "              \"max_depth\": max_depth_range,\n",
    "              \"min_samples_leaf\": min_samples_leaf_range,\n",
    "              \"max_leaf_nodes\": min_leaf_nodes_range}\n",
    "\n",
    "##set grid with estimator and scoring method\n",
    "grid_model = GridSearchCV(estimator=\n",
    "                         param_grid=\n",
    "                         cv=,\n",
    "                         scoring=,\n",
    "                         )"
   ]
  },
  {
   "cell_type": "code",
   "execution_count": null,
   "metadata": {},
   "outputs": [],
   "source": [
    "##train the model\n",
    "grid_model.fit()\n",
    "\n",
    "##print best scores and best params\n",
    "print(\"Accuracy Score of the fine-tuned model: %.4f\"%grid_model.)\n",
    "\n",
    "print(grid_model.)"
   ]
  }
 ],
 "metadata": {
  "kernelspec": {
   "display_name": "Python 3",
   "language": "python",
   "name": "python3"
  },
  "language_info": {
   "codemirror_mode": {
    "name": "ipython",
    "version": 3
   },
   "file_extension": ".py",
   "mimetype": "text/x-python",
   "name": "python",
   "nbconvert_exporter": "python",
   "pygments_lexer": "ipython3",
   "version": "3.7.4"
  }
 },
 "nbformat": 4,
 "nbformat_minor": 4
}
