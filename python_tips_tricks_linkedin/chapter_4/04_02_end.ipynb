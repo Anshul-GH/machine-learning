{
 "cells": [
  {
   "cell_type": "markdown",
   "metadata": {},
   "source": [
    "## Model Validation and Hyperparameter Tuning\n",
    "\n",
    "This notebooks explains the important topics of Model Validation and Hyperparameter Tuning using Scikit-Learn. Following are the topics covered:\n",
    "\n",
    "1. What are the different ways of validating an ML model.\n",
    "2. How to validate Models using holdout sets and cross validation.\n",
    "3. How to tune hyperparameters using GridSearchCV."
   ]
  },
  {
   "cell_type": "markdown",
   "metadata": {},
   "source": [
    "## Ways of Validating Models\n",
    "\n",
    "1. Validating on training data - the wrong way\n",
    "2. Validating on holdout sets - setting aside some training data\n",
    "3. Validaing via cross-validation\n"
   ]
  },
  {
   "cell_type": "markdown",
   "metadata": {},
   "source": [
    "### 1. Validating on training data"
   ]
  },
  {
   "cell_type": "code",
   "execution_count": null,
   "metadata": {},
   "outputs": [],
   "source": [
    "##import digits dataset from sklearn\n",
    "from sklearn.datasets import load_iris\n",
    "iris = load_iris()\n",
    "X = iris.data\n",
    "y = iris.target\n",
    "X.shape"
   ]
  },
  {
   "cell_type": "code",
   "execution_count": null,
   "metadata": {},
   "outputs": [],
   "source": [
    "##use KNN classifier to predict flower species\n",
    "from sklearn.neighbors import KNeighborsClassifier\n",
    "\n",
    "model = KNeighborsClassifier(n_neighbors=1)\n",
    "model.fit(X, y)  # training the model\n",
    "y_pred = model.predict(X)   # making predictions\n"
   ]
  },
  {
   "cell_type": "code",
   "execution_count": null,
   "metadata": {},
   "outputs": [],
   "source": [
    "from sklearn.metrics import accuracy_score\n",
    "\n",
    "accuracy_score(y, y_pred)"
   ]
  },
  {
   "cell_type": "markdown",
   "metadata": {},
   "source": [
    "Aaccuracy score of 1.0 is an indicator of high overfitting. Our validation method violates the fundamental law of training and testing the model on the same data."
   ]
  },
  {
   "cell_type": "markdown",
   "metadata": {},
   "source": [
    "### 2. Validation on Holdout Sets"
   ]
  },
  {
   "cell_type": "code",
   "execution_count": null,
   "metadata": {},
   "outputs": [],
   "source": [
    "from sklearn.model_selection import train_test_split\n",
    "##reserve 20% of data for testing/validation\n",
    "X_train, X_test, y_train, y_test = train_test_split(X, y, random_state=0,\n",
    "                                 train_size=0.5)\n",
    "\n",
    "# fit the model on training\n",
    "model.fit(X_train, y_train)\n",
    "\n",
    "# evaluate the model on unseen testing set\n",
    "y2_model = model.predict(X_test)\n",
    "accuracy_score(y_test, y2_model)"
   ]
  },
  {
   "cell_type": "markdown",
   "metadata": {},
   "source": [
    "### 3. Validation via Cross-Validation"
   ]
  },
  {
   "cell_type": "code",
   "execution_count": null,
   "metadata": {},
   "outputs": [],
   "source": [
    "##train the model on both sets of a 2-split data\n",
    "\n",
    "##train the model on training set and predicting test data\n",
    "y_test_pred = model.fit(X_train, y_train).predict(X_test)\n",
    "\n",
    "##train the model on testing set and predicting training set\n",
    "y_train_pred = model.fit(X_test, y_test).predict(X_train)\n",
    "\n",
    "##evaluate\n",
    "accuracy_score(y_train, y_train_pred), accuracy_score(y_test, y_test_pred)"
   ]
  },
  {
   "cell_type": "markdown",
   "metadata": {},
   "source": [
    "Scikit-Learn’s K-fold cross-validation feature randomly splits the training set into K distinct subsets called folds, then it trains and evaluates the model K times, picking a different fold for evaluation every time and training on the other K-1 folds.\n",
    "\n",
    "The result is an array containing the K evaluation scores:"
   ]
  },
  {
   "cell_type": "code",
   "execution_count": null,
   "metadata": {},
   "outputs": [],
   "source": [
    "##use the cross_val_score method from sklearn\n",
    "from sklearn.model_selection import cross_val_score\n",
    "\n",
    "##create 10 folds\n",
    "scores = cross_val_score(model, X, y, cv=10)\n",
    "scores"
   ]
  },
  {
   "cell_type": "code",
   "execution_count": null,
   "metadata": {},
   "outputs": [],
   "source": [
    "##take an average of this score\n",
    "scores.mean()"
   ]
  },
  {
   "cell_type": "markdown",
   "metadata": {},
   "source": [
    "### Hyperparameter Tuning with GridSearchSV"
   ]
  },
  {
   "cell_type": "code",
   "execution_count": null,
   "metadata": {},
   "outputs": [],
   "source": [
    "from sklearn.tree import DecisionTreeClassifier\n",
    "from sklearn.model_selection import GridSearchCV\n",
    "\n",
    "##define the parameters that go into a DecisionTreeClassfier\n",
    "criteria = [\"gini\", \"entropy\"]\n",
    "min_sample_split_range = [2,10, 30] \n",
    "max_depth_range = [None, 2, 5, 10]\n",
    "min_samples_leaf_range = [1, 5, 10]\n",
    "min_leaf_nodes_range = [None, 5, 10, 20]\n"
   ]
  },
  {
   "cell_type": "code",
   "execution_count": null,
   "metadata": {},
   "outputs": [],
   "source": [
    "##define the parameter grid that are to be tested upon\n",
    "param_grid = {\"criterion\": criteria,\n",
    "              \"min_samples_split\": min_sample_split_range,\n",
    "              \"max_depth\": max_depth_range,\n",
    "              \"min_samples_leaf\": min_samples_leaf_range,\n",
    "              \"max_leaf_nodes\": min_leaf_nodes_range\n",
    "                }\n",
    "\n",
    "##set grid with estimator and scoring method\n",
    "grid_model = GridSearchCV(estimator=DecisionTreeClassifier(), \n",
    "                    param_grid=param_grid, \n",
    "                    cv = 5, \n",
    "                    scoring='accuracy', \n",
    "                    refit=True)     \n",
    "\n"
   ]
  },
  {
   "cell_type": "code",
   "execution_count": null,
   "metadata": {},
   "outputs": [],
   "source": [
    "##train the model\n",
    "grid_model.fit(iris.data, iris.target)\n",
    "\n",
    "print(\"Accuracy of the fine-tuned model: %.4f\" %grid_model.best_score_)\n",
    "print(grid_model.best_params_)"
   ]
  },
  {
   "cell_type": "code",
   "execution_count": null,
   "metadata": {},
   "outputs": [],
   "source": []
  }
 ],
 "metadata": {
  "kernelspec": {
   "display_name": "Python 3",
   "language": "python",
   "name": "python3"
  },
  "language_info": {
   "codemirror_mode": {
    "name": "ipython",
    "version": 3
   },
   "file_extension": ".py",
   "mimetype": "text/x-python",
   "name": "python",
   "nbconvert_exporter": "python",
   "pygments_lexer": "ipython3",
   "version": "3.7.4"
  }
 },
 "nbformat": 4,
 "nbformat_minor": 4
}
