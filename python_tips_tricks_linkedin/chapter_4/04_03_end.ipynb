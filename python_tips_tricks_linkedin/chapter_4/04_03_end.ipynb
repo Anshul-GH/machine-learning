{
 "cells": [
  {
   "cell_type": "markdown",
   "metadata": {},
   "source": [
    "## Feature Engineering\n",
    "\n",
    "This notebooks covers a few very important examples of how to engineer commonly occurring data types. We'll cover:\n",
    "\n",
    "1. What data types are commonly occuring in datasets.\n",
    "2. What are the methods to transform each type of Data."
   ]
  },
  {
   "cell_type": "markdown",
   "metadata": {},
   "source": [
    "### Common Data Types\n",
    "\n",
    "1. Numerical Features\n",
    "2. Textual Features\n",
    "3. Categorical Features"
   ]
  },
  {
   "cell_type": "markdown",
   "metadata": {},
   "source": [
    "### 1. Numerical Features\n",
    "\n",
    "Easiest to work with. Mostly used to derive new features out of the existing ones."
   ]
  },
  {
   "cell_type": "code",
   "execution_count": null,
   "metadata": {},
   "outputs": [],
   "source": [
    "import numpy as np\n",
    "import matplotlib.pyplot as plt\n",
    "\n",
    "##add new features \n",
    "distance = np.array([40, 45, 50, 55, 60])\n",
    "time = np.array([5, 8, 10, 12, 15])\n",
    "\n",
    "##add a new feature of speed using distance and time in a data\n",
    "speed = distance / time\n",
    "speed"
   ]
  },
  {
   "cell_type": "markdown",
   "metadata": {},
   "source": [
    "### 2. Textual Data"
   ]
  },
  {
   "cell_type": "code",
   "execution_count": null,
   "metadata": {},
   "outputs": [],
   "source": [
    "text = ['talk is cheap', 'persistence is the key', 'find the key to happiness']\n",
    "\n",
    "##import countvectorizer to count words\n",
    "from sklearn.feature_extraction.text import CountVectorizer\n",
    "\n",
    "vec = CountVectorizer()\n",
    "X = vec.fit_transform(text)\n",
    "X"
   ]
  },
  {
   "cell_type": "code",
   "execution_count": null,
   "metadata": {},
   "outputs": [],
   "source": [
    "import pandas as pd\n",
    "pd.DataFrame(X.toarray(), columns = vec.get_feature_names())"
   ]
  },
  {
   "cell_type": "markdown",
   "metadata": {},
   "source": [
    "### 3. Categorical Data"
   ]
  },
  {
   "cell_type": "code",
   "execution_count": null,
   "metadata": {},
   "outputs": [],
   "source": [
    "##sales data with a categorical variable - day\n",
    "sales_data = [\n",
    "   {'sales': 850000,  'day': 'Monday'},\n",
    "   {'sales': 700000,  'day': 'Wednesday'},\n",
    "   {'sales': 650000,  'day': 'Thursday'},\n",
    "   {'sales': 600000,  'day': 'Wednesday'}\n",
    "]\n",
    "\n",
    "from sklearn.feature_extraction import DictVectorizer\n",
    "\n",
    "##onehotencode the categorical column\n",
    "vec = DictVectorizer(sparse=False, dtype=int)\n",
    "vec.fit_transform(sales_data)\n",
    "\n"
   ]
  },
  {
   "cell_type": "code",
   "execution_count": null,
   "metadata": {},
   "outputs": [],
   "source": [
    "vec.get_feature_names()"
   ]
  }
 ],
 "metadata": {
  "kernelspec": {
   "display_name": "Python 3",
   "language": "python",
   "name": "python3"
  },
  "language_info": {
   "codemirror_mode": {
    "name": "ipython",
    "version": 3
   },
   "file_extension": ".py",
   "mimetype": "text/x-python",
   "name": "python",
   "nbconvert_exporter": "python",
   "pygments_lexer": "ipython3",
   "version": "3.7.7"
  }
 },
 "nbformat": 4,
 "nbformat_minor": 4
}
