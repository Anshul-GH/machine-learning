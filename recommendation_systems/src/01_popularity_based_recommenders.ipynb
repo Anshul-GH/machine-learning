{
 "metadata": {
  "language_info": {
   "codemirror_mode": {
    "name": "ipython",
    "version": 3
   },
   "file_extension": ".py",
   "mimetype": "text/x-python",
   "name": "python",
   "nbconvert_exporter": "python",
   "pygments_lexer": "ipython3",
   "version": "3.8.5"
  },
  "orig_nbformat": 2,
  "kernelspec": {
   "name": "python385jvsc74a57bd027c864c23e117f40a7a4f2f1a3201837d7329c7e3e4f87e64f2d40e2cb9d4f12",
   "display_name": "Python 3.8.5 64-bit ('base': conda)"
  },
  "metadata": {
   "interpreter": {
    "hash": "27c864c23e117f40a7a4f2f1a3201837d7329c7e3e4f87e64f2d40e2cb9d4f12"
   }
  }
 },
 "nbformat": 4,
 "nbformat_minor": 2,
 "cells": [
  {
   "cell_type": "code",
   "execution_count": 1,
   "metadata": {},
   "outputs": [],
   "source": [
    "import pandas as pd\n",
    "import numpy as np"
   ]
  },
  {
   "cell_type": "code",
   "execution_count": 24,
   "metadata": {},
   "outputs": [],
   "source": [
    "rating_data = r'../src/data/rating_final.csv'\n",
    "cuisine_data = r\"../src/data/chefmozcuisine.csv\""
   ]
  },
  {
   "cell_type": "code",
   "execution_count": 25,
   "metadata": {},
   "outputs": [],
   "source": [
    "frame = pd.read_csv(rating_data)\n",
    "cuisine = pd.read_csv(cuisine_data)"
   ]
  },
  {
   "cell_type": "code",
   "execution_count": 28,
   "metadata": {},
   "outputs": [
    {
     "output_type": "execute_result",
     "data": {
      "text/plain": [
       "  userID  placeID  rating  food_rating  service_rating\n",
       "0  U1077   135085       2            2               2\n",
       "1  U1077   135038       2            2               1\n",
       "2  U1077   132825       2            2               2\n",
       "3  U1077   135060       1            2               2\n",
       "4  U1068   135104       1            1               2"
      ],
      "text/html": "<div>\n<style scoped>\n    .dataframe tbody tr th:only-of-type {\n        vertical-align: middle;\n    }\n\n    .dataframe tbody tr th {\n        vertical-align: top;\n    }\n\n    .dataframe thead th {\n        text-align: right;\n    }\n</style>\n<table border=\"1\" class=\"dataframe\">\n  <thead>\n    <tr style=\"text-align: right;\">\n      <th></th>\n      <th>userID</th>\n      <th>placeID</th>\n      <th>rating</th>\n      <th>food_rating</th>\n      <th>service_rating</th>\n    </tr>\n  </thead>\n  <tbody>\n    <tr>\n      <th>0</th>\n      <td>U1077</td>\n      <td>135085</td>\n      <td>2</td>\n      <td>2</td>\n      <td>2</td>\n    </tr>\n    <tr>\n      <th>1</th>\n      <td>U1077</td>\n      <td>135038</td>\n      <td>2</td>\n      <td>2</td>\n      <td>1</td>\n    </tr>\n    <tr>\n      <th>2</th>\n      <td>U1077</td>\n      <td>132825</td>\n      <td>2</td>\n      <td>2</td>\n      <td>2</td>\n    </tr>\n    <tr>\n      <th>3</th>\n      <td>U1077</td>\n      <td>135060</td>\n      <td>1</td>\n      <td>2</td>\n      <td>2</td>\n    </tr>\n    <tr>\n      <th>4</th>\n      <td>U1068</td>\n      <td>135104</td>\n      <td>1</td>\n      <td>1</td>\n      <td>2</td>\n    </tr>\n  </tbody>\n</table>\n</div>"
     },
     "metadata": {},
     "execution_count": 28
    }
   ],
   "source": [
    "frame.head()"
   ]
  },
  {
   "cell_type": "code",
   "execution_count": 29,
   "metadata": {},
   "outputs": [
    {
     "output_type": "execute_result",
     "data": {
      "text/plain": [
       "   placeID        Rcuisine\n",
       "0   135110         Spanish\n",
       "1   135109         Italian\n",
       "2   135107  Latin_American\n",
       "3   135106         Mexican\n",
       "4   135105       Fast_Food"
      ],
      "text/html": "<div>\n<style scoped>\n    .dataframe tbody tr th:only-of-type {\n        vertical-align: middle;\n    }\n\n    .dataframe tbody tr th {\n        vertical-align: top;\n    }\n\n    .dataframe thead th {\n        text-align: right;\n    }\n</style>\n<table border=\"1\" class=\"dataframe\">\n  <thead>\n    <tr style=\"text-align: right;\">\n      <th></th>\n      <th>placeID</th>\n      <th>Rcuisine</th>\n    </tr>\n  </thead>\n  <tbody>\n    <tr>\n      <th>0</th>\n      <td>135110</td>\n      <td>Spanish</td>\n    </tr>\n    <tr>\n      <th>1</th>\n      <td>135109</td>\n      <td>Italian</td>\n    </tr>\n    <tr>\n      <th>2</th>\n      <td>135107</td>\n      <td>Latin_American</td>\n    </tr>\n    <tr>\n      <th>3</th>\n      <td>135106</td>\n      <td>Mexican</td>\n    </tr>\n    <tr>\n      <th>4</th>\n      <td>135105</td>\n      <td>Fast_Food</td>\n    </tr>\n  </tbody>\n</table>\n</div>"
     },
     "metadata": {},
     "execution_count": 29
    }
   ],
   "source": [
    "cuisine.head()"
   ]
  },
  {
   "source": [
    "## Recommending based on counts alone"
   ],
   "cell_type": "markdown",
   "metadata": {}
  },
  {
   "cell_type": "code",
   "execution_count": 32,
   "metadata": {},
   "outputs": [],
   "source": [
    "rating_count = pd.DataFrame(frame.groupby('placeID')['rating'].count())"
   ]
  },
  {
   "cell_type": "code",
   "execution_count": 35,
   "metadata": {},
   "outputs": [
    {
     "output_type": "execute_result",
     "data": {
      "text/plain": [
       "         rating\n",
       "placeID        \n",
       "135085       36\n",
       "132825       32\n",
       "135032       28\n",
       "135052       25\n",
       "132834       25"
      ],
      "text/html": "<div>\n<style scoped>\n    .dataframe tbody tr th:only-of-type {\n        vertical-align: middle;\n    }\n\n    .dataframe tbody tr th {\n        vertical-align: top;\n    }\n\n    .dataframe thead th {\n        text-align: right;\n    }\n</style>\n<table border=\"1\" class=\"dataframe\">\n  <thead>\n    <tr style=\"text-align: right;\">\n      <th></th>\n      <th>rating</th>\n    </tr>\n    <tr>\n      <th>placeID</th>\n      <th></th>\n    </tr>\n  </thead>\n  <tbody>\n    <tr>\n      <th>135085</th>\n      <td>36</td>\n    </tr>\n    <tr>\n      <th>132825</th>\n      <td>32</td>\n    </tr>\n    <tr>\n      <th>135032</th>\n      <td>28</td>\n    </tr>\n    <tr>\n      <th>135052</th>\n      <td>25</td>\n    </tr>\n    <tr>\n      <th>132834</th>\n      <td>25</td>\n    </tr>\n  </tbody>\n</table>\n</div>"
     },
     "metadata": {},
     "execution_count": 35
    }
   ],
   "source": [
    "rating_count.sort_values('rating', ascending=False).head()"
   ]
  },
  {
   "cell_type": "code",
   "execution_count": 37,
   "metadata": {},
   "outputs": [
    {
     "output_type": "execute_result",
     "data": {
      "text/plain": [
       "[135085, 132825, 135032, 135052, 132834]"
      ]
     },
     "metadata": {},
     "execution_count": 37
    }
   ],
   "source": [
    "# similarity between the cuisine of the top five highly rated places\n",
    "list(rating_count.sort_values('rating', ascending=False).head().index)"
   ]
  },
  {
   "cell_type": "code",
   "execution_count": 38,
   "metadata": {},
   "outputs": [],
   "source": [
    "most_rated_places = pd.DataFrame([135085, 132825, 135032, 135052, 132834], index=np.arange(5), columns=['placeID'])"
   ]
  },
  {
   "cell_type": "code",
   "execution_count": 39,
   "metadata": {},
   "outputs": [
    {
     "output_type": "execute_result",
     "data": {
      "text/plain": [
       "   placeID         Rcuisine\n",
       "0   135085        Fast_Food\n",
       "1   132825          Mexican\n",
       "2   135032        Cafeteria\n",
       "3   135032     Contemporary\n",
       "4   135052              Bar\n",
       "5   135052  Bar_Pub_Brewery\n",
       "6   132834          Mexican"
      ],
      "text/html": "<div>\n<style scoped>\n    .dataframe tbody tr th:only-of-type {\n        vertical-align: middle;\n    }\n\n    .dataframe tbody tr th {\n        vertical-align: top;\n    }\n\n    .dataframe thead th {\n        text-align: right;\n    }\n</style>\n<table border=\"1\" class=\"dataframe\">\n  <thead>\n    <tr style=\"text-align: right;\">\n      <th></th>\n      <th>placeID</th>\n      <th>Rcuisine</th>\n    </tr>\n  </thead>\n  <tbody>\n    <tr>\n      <th>0</th>\n      <td>135085</td>\n      <td>Fast_Food</td>\n    </tr>\n    <tr>\n      <th>1</th>\n      <td>132825</td>\n      <td>Mexican</td>\n    </tr>\n    <tr>\n      <th>2</th>\n      <td>135032</td>\n      <td>Cafeteria</td>\n    </tr>\n    <tr>\n      <th>3</th>\n      <td>135032</td>\n      <td>Contemporary</td>\n    </tr>\n    <tr>\n      <th>4</th>\n      <td>135052</td>\n      <td>Bar</td>\n    </tr>\n    <tr>\n      <th>5</th>\n      <td>135052</td>\n      <td>Bar_Pub_Brewery</td>\n    </tr>\n    <tr>\n      <th>6</th>\n      <td>132834</td>\n      <td>Mexican</td>\n    </tr>\n  </tbody>\n</table>\n</div>"
     },
     "metadata": {},
     "execution_count": 39
    }
   ],
   "source": [
    "pd.merge(most_rated_places, cuisine, on='placeID')"
   ]
  },
  {
   "cell_type": "code",
   "execution_count": 40,
   "metadata": {},
   "outputs": [
    {
     "output_type": "execute_result",
     "data": {
      "text/plain": [
       "count         916\n",
       "unique         59\n",
       "top       Mexican\n",
       "freq          239\n",
       "Name: Rcuisine, dtype: object"
      ]
     },
     "metadata": {},
     "execution_count": 40
    }
   ],
   "source": [
    "cuisine['Rcuisine'].describe()"
   ]
  },
  {
   "cell_type": "code",
   "execution_count": null,
   "metadata": {},
   "outputs": [],
   "source": []
  }
 ]
}